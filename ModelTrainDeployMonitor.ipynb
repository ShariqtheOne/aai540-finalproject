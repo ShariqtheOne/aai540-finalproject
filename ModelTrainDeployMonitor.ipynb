{
 "cells": [
  {
   "cell_type": "code",
   "execution_count": 2,
   "id": "21ee9af6-831e-4fae-974f-86ae3845743a",
   "metadata": {
    "tags": []
   },
   "outputs": [
    {
     "name": "stdout",
     "output_type": "stream",
     "text": [
      "\u001b[33mWARNING: Running pip as the 'root' user can result in broken permissions and conflicting behaviour with the system package manager. It is recommended to use a virtual environment instead: https://pip.pypa.io/warnings/venv\u001b[0m\u001b[33m\n",
      "\u001b[0m"
     ]
    }
   ],
   "source": [
    "!pip -q install xgboost"
   ]
  },
  {
   "cell_type": "code",
   "execution_count": 52,
   "id": "03174be9-454c-4d21-aeed-9307ecfc1ec0",
   "metadata": {
    "tags": []
   },
   "outputs": [
    {
     "name": "stdout",
     "output_type": "stream",
     "text": [
      "sagemaker.config INFO - Not applying SDK defaults from location: /etc/xdg/sagemaker/config.yaml\n",
      "sagemaker.config INFO - Not applying SDK defaults from location: /root/.config/sagemaker/config.yaml\n",
      "sagemaker.config INFO - Not applying SDK defaults from location: /etc/xdg/sagemaker/config.yaml\n",
      "sagemaker.config INFO - Not applying SDK defaults from location: /root/.config/sagemaker/config.yaml\n"
     ]
    }
   ],
   "source": [
    "from time import gmtime, strftime, sleep\n",
    "from datetime import datetime\n",
    "import re\n",
    "from threading import Thread\n",
    "import json\n",
    "import random\n",
    "\n",
    "import numpy as np\n",
    "import pandas as pd\n",
    "import xgboost as xgb\n",
    "from sklearn.model_selection import train_test_split\n",
    "from sklearn.preprocessing import StandardScaler\n",
    "\n",
    "import os\n",
    "import boto3\n",
    "import sagemaker\n",
    "from sagemaker import Session, image_uris\n",
    "from sagemaker.serializers import CSVSerializer\n",
    "from sagemaker.model import Model\n",
    "from sagemaker.model_monitor import(DataCaptureConfig,\n",
    "                                    ModelQualityMonitor,\n",
    "                                    EndpointInput,\n",
    "                                    CronExpressionGenerator)\n",
    "from sagemaker.predictor import Predictor\n",
    "from sagemaker.s3 import S3Downloader, S3Uploader\n",
    "from sagemaker.model_monitor.dataset_format import DatasetFormat\n",
    "\n",
    "role = sagemaker.get_execution_role()\n",
    "sess = sagemaker.Session()\n",
    "region = sess.boto_region_name\n",
    "\n",
    "s3 = boto3.client(\"s3\")\n",
    "bucket = sess.default_bucket()\n",
    "prefix = \"churn-prediction-xgboost\""
   ]
  },
  {
   "cell_type": "code",
   "execution_count": 4,
   "id": "742c6b8a-8169-421a-a28e-c5eef95f55d5",
   "metadata": {
    "tags": []
   },
   "outputs": [
    {
     "name": "stdout",
     "output_type": "stream",
     "text": [
      "Image URI: 156813124566.dkr.ecr.us-east-1.amazonaws.com/sagemaker-model-monitor-analyzer\n",
      "Capture path: s3://sagemaker-us-east-1-075039479415/churn-prediction-xgboost/datacapture\n",
      "Ground truth path: s3://sagemaker-us-east-1-075039479415/churn-prediction-xgboost/ground_truth_data/2024-02-13-01-45-52\n",
      "Report path: s3://sagemaker-us-east-1-075039479415/churn-prediction-xgboost/reports\n"
     ]
    }
   ],
   "source": [
    "# Setup S3 bucket\n",
    "# You can use a different bucket, but make sure the role you chose for this notebook\n",
    "# has the s3:PutObject permissions. This is the bucket into which the data is captured\n",
    "\n",
    "##S3 prefixes\n",
    "data_capture_prefix = f\"{prefix}/datacapture\"\n",
    "s3_capture_upload_path = f\"s3://{bucket}/{data_capture_prefix}\"\n",
    "\n",
    "ground_truth_upload_path = (\n",
    "    f\"s3://{bucket}/{prefix}/ground_truth_data/{datetime.now():%Y-%m-%d-%H-%M-%S}\"\n",
    ")\n",
    "\n",
    "reports_prefix = f\"{prefix}/reports\"\n",
    "s3_report_path = f\"s3://{bucket}/{reports_prefix}\"\n",
    "\n",
    "##Get the model monitor image\n",
    "monitor_image_uri = image_uris.retrieve(framework=\"model-monitor\", region=region)\n",
    "\n",
    "print(\"Image URI:\", monitor_image_uri)\n",
    "print(f\"Capture path: {s3_capture_upload_path}\")\n",
    "print(f\"Ground truth path: {ground_truth_upload_path}\")\n",
    "print(f\"Report path: {s3_report_path}\")"
   ]
  },
  {
   "cell_type": "markdown",
   "id": "5ae37436-1cf3-479e-8f01-c47dc0911f7a",
   "metadata": {},
   "source": [
    "Prepare dataset"
   ]
  },
  {
   "cell_type": "code",
   "execution_count": 5,
   "id": "8f052500-cd60-46c8-8912-b6917650c831",
   "metadata": {
    "tags": []
   },
   "outputs": [
    {
     "data": {
      "text/html": [
       "<div>\n",
       "<style scoped>\n",
       "    .dataframe tbody tr th:only-of-type {\n",
       "        vertical-align: middle;\n",
       "    }\n",
       "\n",
       "    .dataframe tbody tr th {\n",
       "        vertical-align: top;\n",
       "    }\n",
       "\n",
       "    .dataframe thead th {\n",
       "        text-align: right;\n",
       "    }\n",
       "</style>\n",
       "<table border=\"1\" class=\"dataframe\">\n",
       "  <thead>\n",
       "    <tr style=\"text-align: right;\">\n",
       "      <th></th>\n",
       "      <th>CustomerId</th>\n",
       "      <th>CreditScore</th>\n",
       "      <th>Age</th>\n",
       "      <th>Tenure</th>\n",
       "      <th>Balance</th>\n",
       "      <th>NumOfProducts</th>\n",
       "      <th>HasCrCard</th>\n",
       "      <th>IsActiveMember</th>\n",
       "      <th>EstimatedSalary</th>\n",
       "      <th>Exited</th>\n",
       "      <th>Geography_France</th>\n",
       "      <th>Geography_Germany</th>\n",
       "      <th>Geography_Spain</th>\n",
       "      <th>Gender_Female</th>\n",
       "    </tr>\n",
       "  </thead>\n",
       "  <tbody>\n",
       "    <tr>\n",
       "      <th>0</th>\n",
       "      <td>15634602</td>\n",
       "      <td>619</td>\n",
       "      <td>42</td>\n",
       "      <td>2</td>\n",
       "      <td>0.00</td>\n",
       "      <td>1</td>\n",
       "      <td>1</td>\n",
       "      <td>1</td>\n",
       "      <td>101348.88</td>\n",
       "      <td>1</td>\n",
       "      <td>1</td>\n",
       "      <td>0</td>\n",
       "      <td>0</td>\n",
       "      <td>1</td>\n",
       "    </tr>\n",
       "    <tr>\n",
       "      <th>1</th>\n",
       "      <td>15647311</td>\n",
       "      <td>608</td>\n",
       "      <td>41</td>\n",
       "      <td>1</td>\n",
       "      <td>83807.86</td>\n",
       "      <td>1</td>\n",
       "      <td>0</td>\n",
       "      <td>1</td>\n",
       "      <td>112542.58</td>\n",
       "      <td>0</td>\n",
       "      <td>0</td>\n",
       "      <td>0</td>\n",
       "      <td>1</td>\n",
       "      <td>1</td>\n",
       "    </tr>\n",
       "    <tr>\n",
       "      <th>2</th>\n",
       "      <td>15619304</td>\n",
       "      <td>502</td>\n",
       "      <td>42</td>\n",
       "      <td>8</td>\n",
       "      <td>159660.80</td>\n",
       "      <td>3</td>\n",
       "      <td>1</td>\n",
       "      <td>0</td>\n",
       "      <td>113931.57</td>\n",
       "      <td>1</td>\n",
       "      <td>1</td>\n",
       "      <td>0</td>\n",
       "      <td>0</td>\n",
       "      <td>1</td>\n",
       "    </tr>\n",
       "    <tr>\n",
       "      <th>3</th>\n",
       "      <td>15701354</td>\n",
       "      <td>699</td>\n",
       "      <td>39</td>\n",
       "      <td>1</td>\n",
       "      <td>0.00</td>\n",
       "      <td>2</td>\n",
       "      <td>0</td>\n",
       "      <td>0</td>\n",
       "      <td>93826.63</td>\n",
       "      <td>0</td>\n",
       "      <td>1</td>\n",
       "      <td>0</td>\n",
       "      <td>0</td>\n",
       "      <td>1</td>\n",
       "    </tr>\n",
       "    <tr>\n",
       "      <th>4</th>\n",
       "      <td>15737888</td>\n",
       "      <td>850</td>\n",
       "      <td>43</td>\n",
       "      <td>2</td>\n",
       "      <td>125510.82</td>\n",
       "      <td>1</td>\n",
       "      <td>1</td>\n",
       "      <td>1</td>\n",
       "      <td>79084.10</td>\n",
       "      <td>0</td>\n",
       "      <td>0</td>\n",
       "      <td>0</td>\n",
       "      <td>1</td>\n",
       "      <td>1</td>\n",
       "    </tr>\n",
       "    <tr>\n",
       "      <th>...</th>\n",
       "      <td>...</td>\n",
       "      <td>...</td>\n",
       "      <td>...</td>\n",
       "      <td>...</td>\n",
       "      <td>...</td>\n",
       "      <td>...</td>\n",
       "      <td>...</td>\n",
       "      <td>...</td>\n",
       "      <td>...</td>\n",
       "      <td>...</td>\n",
       "      <td>...</td>\n",
       "      <td>...</td>\n",
       "      <td>...</td>\n",
       "      <td>...</td>\n",
       "    </tr>\n",
       "    <tr>\n",
       "      <th>9995</th>\n",
       "      <td>15606229</td>\n",
       "      <td>771</td>\n",
       "      <td>39</td>\n",
       "      <td>5</td>\n",
       "      <td>0.00</td>\n",
       "      <td>2</td>\n",
       "      <td>1</td>\n",
       "      <td>0</td>\n",
       "      <td>96270.64</td>\n",
       "      <td>0</td>\n",
       "      <td>1</td>\n",
       "      <td>0</td>\n",
       "      <td>0</td>\n",
       "      <td>0</td>\n",
       "    </tr>\n",
       "    <tr>\n",
       "      <th>9996</th>\n",
       "      <td>15569892</td>\n",
       "      <td>516</td>\n",
       "      <td>35</td>\n",
       "      <td>10</td>\n",
       "      <td>57369.61</td>\n",
       "      <td>1</td>\n",
       "      <td>1</td>\n",
       "      <td>1</td>\n",
       "      <td>101699.77</td>\n",
       "      <td>0</td>\n",
       "      <td>1</td>\n",
       "      <td>0</td>\n",
       "      <td>0</td>\n",
       "      <td>0</td>\n",
       "    </tr>\n",
       "    <tr>\n",
       "      <th>9997</th>\n",
       "      <td>15584532</td>\n",
       "      <td>709</td>\n",
       "      <td>36</td>\n",
       "      <td>7</td>\n",
       "      <td>0.00</td>\n",
       "      <td>1</td>\n",
       "      <td>0</td>\n",
       "      <td>1</td>\n",
       "      <td>42085.58</td>\n",
       "      <td>1</td>\n",
       "      <td>1</td>\n",
       "      <td>0</td>\n",
       "      <td>0</td>\n",
       "      <td>1</td>\n",
       "    </tr>\n",
       "    <tr>\n",
       "      <th>9998</th>\n",
       "      <td>15682355</td>\n",
       "      <td>772</td>\n",
       "      <td>42</td>\n",
       "      <td>3</td>\n",
       "      <td>75075.31</td>\n",
       "      <td>2</td>\n",
       "      <td>1</td>\n",
       "      <td>0</td>\n",
       "      <td>92888.52</td>\n",
       "      <td>1</td>\n",
       "      <td>0</td>\n",
       "      <td>1</td>\n",
       "      <td>0</td>\n",
       "      <td>0</td>\n",
       "    </tr>\n",
       "    <tr>\n",
       "      <th>9999</th>\n",
       "      <td>15628319</td>\n",
       "      <td>792</td>\n",
       "      <td>28</td>\n",
       "      <td>4</td>\n",
       "      <td>130142.79</td>\n",
       "      <td>1</td>\n",
       "      <td>1</td>\n",
       "      <td>0</td>\n",
       "      <td>38190.78</td>\n",
       "      <td>0</td>\n",
       "      <td>1</td>\n",
       "      <td>0</td>\n",
       "      <td>0</td>\n",
       "      <td>1</td>\n",
       "    </tr>\n",
       "  </tbody>\n",
       "</table>\n",
       "<p>10000 rows × 14 columns</p>\n",
       "</div>"
      ],
      "text/plain": [
       "      CustomerId  CreditScore  Age  Tenure    Balance  NumOfProducts  \\\n",
       "0       15634602          619   42       2       0.00              1   \n",
       "1       15647311          608   41       1   83807.86              1   \n",
       "2       15619304          502   42       8  159660.80              3   \n",
       "3       15701354          699   39       1       0.00              2   \n",
       "4       15737888          850   43       2  125510.82              1   \n",
       "...          ...          ...  ...     ...        ...            ...   \n",
       "9995    15606229          771   39       5       0.00              2   \n",
       "9996    15569892          516   35      10   57369.61              1   \n",
       "9997    15584532          709   36       7       0.00              1   \n",
       "9998    15682355          772   42       3   75075.31              2   \n",
       "9999    15628319          792   28       4  130142.79              1   \n",
       "\n",
       "      HasCrCard  IsActiveMember  EstimatedSalary  Exited  Geography_France  \\\n",
       "0             1               1        101348.88       1                 1   \n",
       "1             0               1        112542.58       0                 0   \n",
       "2             1               0        113931.57       1                 1   \n",
       "3             0               0         93826.63       0                 1   \n",
       "4             1               1         79084.10       0                 0   \n",
       "...         ...             ...              ...     ...               ...   \n",
       "9995          1               0         96270.64       0                 1   \n",
       "9996          1               1        101699.77       0                 1   \n",
       "9997          0               1         42085.58       1                 1   \n",
       "9998          1               0         92888.52       1                 0   \n",
       "9999          1               0         38190.78       0                 1   \n",
       "\n",
       "      Geography_Germany  Geography_Spain  Gender_Female  \n",
       "0                     0                0              1  \n",
       "1                     0                1              1  \n",
       "2                     0                0              1  \n",
       "3                     0                0              1  \n",
       "4                     0                1              1  \n",
       "...                 ...              ...            ...  \n",
       "9995                  0                0              0  \n",
       "9996                  0                0              0  \n",
       "9997                  0                0              1  \n",
       "9998                  1                0              0  \n",
       "9999                  0                0              1  \n",
       "\n",
       "[10000 rows x 14 columns]"
      ]
     },
     "execution_count": 5,
     "metadata": {},
     "output_type": "execute_result"
    }
   ],
   "source": [
    "df = pd.read_csv(\"data/Churn_Modelling.csv\")\n",
    "df.drop(columns=[\"RowNumber\", \"Surname\"], inplace=True)\n",
    "df = pd.get_dummies(df)\n",
    "df.drop(columns=\"Gender_Male\", inplace=True)\n",
    "df"
   ]
  },
  {
   "cell_type": "code",
   "execution_count": 6,
   "id": "032d2b80-9244-416f-911c-736404e8d09f",
   "metadata": {},
   "outputs": [],
   "source": [
    "X = df.drop(columns=\"Exited\")\n",
    "y = df[\"Exited\"]\n",
    "\n",
    "X_train, X_test, y_train, y_test = train_test_split(\n",
    " X, y,\n",
    " test_size=0.2, random_state=1)\n",
    "\n",
    "X_test, X_val, y_test, y_val = train_test_split(\n",
    " X_test, y_test,\n",
    " test_size=0.5, random_state=1)\n",
    "\n",
    "X_train.drop(columns=\"CustomerId\", inplace=True)\n",
    "X_val.drop(columns=\"CustomerId\", inplace=True)"
   ]
  },
  {
   "cell_type": "markdown",
   "id": "254edc61-08b5-415b-bba1-a1da60a24328",
   "metadata": {
    "tags": []
   },
   "source": [
    "Upload to S3"
   ]
  },
  {
   "cell_type": "code",
   "execution_count": 7,
   "id": "ec66888b-f747-44ec-abee-b907f9ba68d3",
   "metadata": {
    "tags": []
   },
   "outputs": [
    {
     "data": {
      "text/plain": [
       "'s3://sagemaker-us-east-1-075039479415/churn-prediction-xgboost/batch/batch_data.csv'"
      ]
     },
     "execution_count": 7,
     "metadata": {},
     "output_type": "execute_result"
    }
   ],
   "source": [
    "train_file = \"data/train_data.csv\"\n",
    "pd.concat([y_train, X_train], axis=1).to_csv(train_file, index=False, header=False)\n",
    "sess.upload_data(train_file, key_prefix=\"{}/train\".format(prefix))\n",
    "\n",
    "validation_file = \"data/validation_data.csv\"\n",
    "pd.concat([y_val, X_val], axis=1).to_csv(validation_file, index=False, header=False)\n",
    "sess.upload_data(validation_file, key_prefix=\"{}/validation\".format(prefix))\n",
    "\n",
    "batch_file = \"data/batch_data.csv\"\n",
    "X_test.to_csv(batch_file, index=False, header=False)\n",
    "sess.upload_data(batch_file, key_prefix=\"{}/batch\".format(prefix))"
   ]
  },
  {
   "cell_type": "code",
   "execution_count": 40,
   "id": "5900dd6b-1d96-4981-acdb-2eab4aa5eced",
   "metadata": {
    "tags": []
   },
   "outputs": [],
   "source": [
    "# save validation data with predictions without the CustomerId column\n",
    "# this will be used for calculating a baseline for monitoring\n",
    "\n",
    "pd.concat([y_test, X_test.iloc[:, 1:]],\n",
    "          axis=1).to_csv(\"data/test_data_noID.csv\",\n",
    "                         index=False, header=False)\n",
    "\n",
    "# save test data without predictions to simulate incoming data for the monitoring job\n",
    "X_test.iloc[:, 1:].to_csv(\"data/test-dataset-input-cols.csv\", index=False, header=False)"
   ]
  },
  {
   "cell_type": "markdown",
   "id": "f5cf3565-4cb0-4e11-aa4c-78e2a5a8ca0f",
   "metadata": {},
   "source": [
    "## Training job and model creation"
   ]
  },
  {
   "cell_type": "markdown",
   "id": "d4672a8b-cd23-4873-af09-6309a7af9c8f",
   "metadata": {},
   "source": [
    "Set values for hyperparameters  \n",
    "Note that we got these values from the experimentation notebook"
   ]
  },
  {
   "cell_type": "code",
   "execution_count": 9,
   "id": "4cdf777e-b391-4561-9982-70420f2c1a32",
   "metadata": {
    "tags": []
   },
   "outputs": [
    {
     "name": "stderr",
     "output_type": "stream",
     "text": [
      "INFO:sagemaker:Creating training-job with name: xgb-2024-02-13-01-45-52\n"
     ]
    },
    {
     "name": "stdout",
     "output_type": "stream",
     "text": [
      "2024-02-13 01:45:53 Starting - Starting the training job...\n",
      "2024-02-13 01:46:08 Starting - Preparing the instances for training.........\n",
      "2024-02-13 01:47:34 Downloading - Downloading input data...\n",
      "2024-02-13 01:48:10 Downloading - Downloading the training image......\n",
      "2024-02-13 01:49:15 Training - Training image download completed. Training in progress..\u001b[34m[2024-02-13 01:49:27.025 ip-10-0-194-64.ec2.internal:7 INFO utils.py:28] RULE_JOB_STOP_SIGNAL_FILENAME: None\u001b[0m\n",
      "\u001b[34m[2024-02-13 01:49:27.049 ip-10-0-194-64.ec2.internal:7 INFO profiler_config_parser.py:111] User has disabled profiler.\u001b[0m\n",
      "\u001b[34m[2024-02-13:01:49:27:INFO] Imported framework sagemaker_xgboost_container.training\u001b[0m\n",
      "\u001b[34m[2024-02-13:01:49:27:INFO] Failed to parse hyperparameter objective value binary:logistic to Json.\u001b[0m\n",
      "\u001b[34mReturning the value itself\u001b[0m\n",
      "\u001b[34m[2024-02-13:01:49:27:INFO] No GPUs detected (normal if no gpus installed)\u001b[0m\n",
      "\u001b[34m[2024-02-13:01:49:27:INFO] Running XGBoost Sagemaker in algorithm mode\u001b[0m\n",
      "\u001b[34m[2024-02-13:01:49:27:INFO] Determined 0 GPU(s) available on the instance.\u001b[0m\n",
      "\u001b[34m[2024-02-13:01:49:27:INFO] Determined delimiter of CSV input is ','\u001b[0m\n",
      "\u001b[34m[2024-02-13:01:49:27:INFO] Determined delimiter of CSV input is ','\u001b[0m\n",
      "\u001b[34m[2024-02-13:01:49:27:INFO] File path /opt/ml/input/data/train of input files\u001b[0m\n",
      "\u001b[34m[2024-02-13:01:49:27:INFO] Making smlinks from folder /opt/ml/input/data/train to folder /tmp/sagemaker_xgboost_input_data\u001b[0m\n",
      "\u001b[34m[2024-02-13:01:49:27:INFO] creating symlink between Path /opt/ml/input/data/train/train_data.csv and destination /tmp/sagemaker_xgboost_input_data/train_data.csv-1349753788142078367\u001b[0m\n",
      "\u001b[34m[2024-02-13:01:49:27:INFO] files path: /tmp/sagemaker_xgboost_input_data\u001b[0m\n",
      "\u001b[34m[2024-02-13:01:49:27:INFO] Determined delimiter of CSV input is ','\u001b[0m\n",
      "\u001b[34m[2024-02-13:01:49:27:INFO] File path /opt/ml/input/data/validation of input files\u001b[0m\n",
      "\u001b[34m[2024-02-13:01:49:27:INFO] Making smlinks from folder /opt/ml/input/data/validation to folder /tmp/sagemaker_xgboost_input_data\u001b[0m\n",
      "\u001b[34m[2024-02-13:01:49:27:INFO] creating symlink between Path /opt/ml/input/data/validation/validation_data.csv and destination /tmp/sagemaker_xgboost_input_data/validation_data.csv-1721536750142117263\u001b[0m\n",
      "\u001b[34m[2024-02-13:01:49:27:INFO] files path: /tmp/sagemaker_xgboost_input_data\u001b[0m\n",
      "\u001b[34m[2024-02-13:01:49:27:INFO] Determined delimiter of CSV input is ','\u001b[0m\n",
      "\u001b[34m[2024-02-13:01:49:27:INFO] Single node training.\u001b[0m\n",
      "\u001b[34m[2024-02-13:01:49:27:INFO] Train matrix has 8000 rows and 12 columns\u001b[0m\n",
      "\u001b[34m[2024-02-13:01:49:27:INFO] Validation matrix has 1000 rows\u001b[0m\n",
      "\u001b[34m[2024-02-13 01:49:27.509 ip-10-0-194-64.ec2.internal:7 INFO json_config.py:92] Creating hook from json_config at /opt/ml/input/config/debughookconfig.json.\u001b[0m\n",
      "\u001b[34m[2024-02-13 01:49:27.510 ip-10-0-194-64.ec2.internal:7 INFO hook.py:206] tensorboard_dir has not been set for the hook. SMDebug will not be exporting tensorboard summaries.\u001b[0m\n",
      "\u001b[34m[2024-02-13 01:49:27.511 ip-10-0-194-64.ec2.internal:7 INFO hook.py:259] Saving to /opt/ml/output/tensors\u001b[0m\n",
      "\u001b[34m[2024-02-13 01:49:27.511 ip-10-0-194-64.ec2.internal:7 INFO state_store.py:77] The checkpoint config file /opt/ml/input/config/checkpointconfig.json does not exist.\u001b[0m\n",
      "\u001b[34m[2024-02-13:01:49:27:INFO] Debug hook created from config\u001b[0m\n",
      "\u001b[34m[0]#011train-logloss:0.68399#011validation-logloss:0.68466\u001b[0m\n",
      "\u001b[34m[2024-02-13 01:49:27.679 ip-10-0-194-64.ec2.internal:7 INFO hook.py:427] Monitoring the collections: metrics\u001b[0m\n",
      "\u001b[34m[2024-02-13 01:49:27.682 ip-10-0-194-64.ec2.internal:7 INFO hook.py:491] Hook is writing from the hook with pid: 7\u001b[0m\n",
      "\u001b[34m[1]#011train-logloss:0.67520#011validation-logloss:0.67654\u001b[0m\n",
      "\u001b[34m[2]#011train-logloss:0.66761#011validation-logloss:0.66952\u001b[0m\n",
      "\u001b[34m[3]#011train-logloss:0.65959#011validation-logloss:0.66201\u001b[0m\n",
      "\u001b[34m[4]#011train-logloss:0.65160#011validation-logloss:0.65454\u001b[0m\n",
      "\u001b[34m[5]#011train-logloss:0.64396#011validation-logloss:0.64737\u001b[0m\n",
      "\u001b[34m[6]#011train-logloss:0.63690#011validation-logloss:0.64087\u001b[0m\n",
      "\u001b[34m[7]#011train-logloss:0.63060#011validation-logloss:0.63512\u001b[0m\n",
      "\u001b[34m[8]#011train-logloss:0.62405#011validation-logloss:0.62903\u001b[0m\n",
      "\u001b[34m[9]#011train-logloss:0.61707#011validation-logloss:0.62265\u001b[0m\n",
      "\u001b[34m[10]#011train-logloss:0.61084#011validation-logloss:0.61693\u001b[0m\n",
      "\u001b[34m[11]#011train-logloss:0.60433#011validation-logloss:0.61084\u001b[0m\n",
      "\u001b[34m[12]#011train-logloss:0.59819#011validation-logloss:0.60514\u001b[0m\n",
      "\u001b[34m[13]#011train-logloss:0.59190#011validation-logloss:0.59931\u001b[0m\n",
      "\u001b[34m[14]#011train-logloss:0.58634#011validation-logloss:0.59427\u001b[0m\n",
      "\u001b[34m[15]#011train-logloss:0.58035#011validation-logloss:0.58878\u001b[0m\n",
      "\u001b[34m[16]#011train-logloss:0.57516#011validation-logloss:0.58406\u001b[0m\n",
      "\u001b[34m[17]#011train-logloss:0.57095#011validation-logloss:0.58033\u001b[0m\n",
      "\u001b[34m[18]#011train-logloss:0.56600#011validation-logloss:0.57591\u001b[0m\n",
      "\u001b[34m[19]#011train-logloss:0.56110#011validation-logloss:0.57142\u001b[0m\n",
      "\u001b[34m[20]#011train-logloss:0.55588#011validation-logloss:0.56668\u001b[0m\n",
      "\u001b[34m[21]#011train-logloss:0.55087#011validation-logloss:0.56211\u001b[0m\n",
      "\u001b[34m[22]#011train-logloss:0.54632#011validation-logloss:0.55808\u001b[0m\n",
      "\u001b[34m[23]#011train-logloss:0.54157#011validation-logloss:0.55365\u001b[0m\n",
      "\u001b[34m[24]#011train-logloss:0.53684#011validation-logloss:0.54936\u001b[0m\n",
      "\u001b[34m[25]#011train-logloss:0.53232#011validation-logloss:0.54518\u001b[0m\n",
      "\u001b[34m[26]#011train-logloss:0.52917#011validation-logloss:0.54251\u001b[0m\n",
      "\u001b[34m[27]#011train-logloss:0.52488#011validation-logloss:0.53854\u001b[0m\n",
      "\u001b[34m[28]#011train-logloss:0.52058#011validation-logloss:0.53465\u001b[0m\n",
      "\u001b[34m[29]#011train-logloss:0.51774#011validation-logloss:0.53222\u001b[0m\n",
      "\u001b[34m[30]#011train-logloss:0.51365#011validation-logloss:0.52843\u001b[0m\n",
      "\u001b[34m[31]#011train-logloss:0.50962#011validation-logloss:0.52464\u001b[0m\n",
      "\u001b[34m[32]#011train-logloss:0.50575#011validation-logloss:0.52102\u001b[0m\n",
      "\u001b[34m[33]#011train-logloss:0.50211#011validation-logloss:0.51765\u001b[0m\n",
      "\u001b[34m[34]#011train-logloss:0.49837#011validation-logloss:0.51428\u001b[0m\n",
      "\u001b[34m[35]#011train-logloss:0.49480#011validation-logloss:0.51093\u001b[0m\n",
      "\u001b[34m[36]#011train-logloss:0.49158#011validation-logloss:0.50807\u001b[0m\n",
      "\u001b[34m[37]#011train-logloss:0.48809#011validation-logloss:0.50493\u001b[0m\n",
      "\u001b[34m[38]#011train-logloss:0.48511#011validation-logloss:0.50230\u001b[0m\n",
      "\u001b[34m[39]#011train-logloss:0.48186#011validation-logloss:0.49926\u001b[0m\n",
      "\u001b[34m[40]#011train-logloss:0.47866#011validation-logloss:0.49638\u001b[0m\n",
      "\u001b[34m[41]#011train-logloss:0.47585#011validation-logloss:0.49401\u001b[0m\n",
      "\u001b[34m[42]#011train-logloss:0.47277#011validation-logloss:0.49126\u001b[0m\n",
      "\u001b[34m[43]#011train-logloss:0.46982#011validation-logloss:0.48852\u001b[0m\n",
      "\u001b[34m[44]#011train-logloss:0.46690#011validation-logloss:0.48597\u001b[0m\n",
      "\u001b[34m[45]#011train-logloss:0.46409#011validation-logloss:0.48344\u001b[0m\n",
      "\u001b[34m[46]#011train-logloss:0.46130#011validation-logloss:0.48089\u001b[0m\n",
      "\u001b[34m[47]#011train-logloss:0.45870#011validation-logloss:0.47853\u001b[0m\n",
      "\u001b[34m[48]#011train-logloss:0.45605#011validation-logloss:0.47617\u001b[0m\n",
      "\u001b[34m[49]#011train-logloss:0.45347#011validation-logloss:0.47387\u001b[0m\n",
      "\u001b[34m[50]#011train-logloss:0.45164#011validation-logloss:0.47236\u001b[0m\n",
      "\u001b[34m[51]#011train-logloss:0.44924#011validation-logloss:0.47025\u001b[0m\n",
      "\u001b[34m[52]#011train-logloss:0.44687#011validation-logloss:0.46803\u001b[0m\n",
      "\u001b[34m[53]#011train-logloss:0.44454#011validation-logloss:0.46592\u001b[0m\n",
      "\u001b[34m[54]#011train-logloss:0.44227#011validation-logloss:0.46384\u001b[0m\n",
      "\u001b[34m[55]#011train-logloss:0.44004#011validation-logloss:0.46180\u001b[0m\n",
      "\u001b[34m[56]#011train-logloss:0.43785#011validation-logloss:0.45980\u001b[0m\n",
      "\u001b[34m[57]#011train-logloss:0.43573#011validation-logloss:0.45798\u001b[0m\n",
      "\u001b[34m[58]#011train-logloss:0.43363#011validation-logloss:0.45612\u001b[0m\n",
      "\u001b[34m[59]#011train-logloss:0.43158#011validation-logloss:0.45426\u001b[0m\n",
      "\u001b[34m[60]#011train-logloss:0.42976#011validation-logloss:0.45267\u001b[0m\n",
      "\u001b[34m[61]#011train-logloss:0.42785#011validation-logloss:0.45096\u001b[0m\n",
      "\u001b[34m[62]#011train-logloss:0.42643#011validation-logloss:0.44986\u001b[0m\n",
      "\u001b[34m[63]#011train-logloss:0.42450#011validation-logloss:0.44816\u001b[0m\n",
      "\u001b[34m[64]#011train-logloss:0.42268#011validation-logloss:0.44662\u001b[0m\n",
      "\u001b[34m[65]#011train-logloss:0.42110#011validation-logloss:0.44523\u001b[0m\n",
      "\u001b[34m[66]#011train-logloss:0.41948#011validation-logloss:0.44384\u001b[0m\n",
      "\u001b[34m[67]#011train-logloss:0.41759#011validation-logloss:0.44209\u001b[0m\n",
      "\u001b[34m[68]#011train-logloss:0.41581#011validation-logloss:0.44050\u001b[0m\n",
      "\u001b[34m[69]#011train-logloss:0.41438#011validation-logloss:0.43931\u001b[0m\n",
      "\u001b[34m[70]#011train-logloss:0.41271#011validation-logloss:0.43789\u001b[0m\n",
      "\u001b[34m[71]#011train-logloss:0.41115#011validation-logloss:0.43646\u001b[0m\n",
      "\u001b[34m[72]#011train-logloss:0.40960#011validation-logloss:0.43514\u001b[0m\n",
      "\u001b[34m[73]#011train-logloss:0.40803#011validation-logloss:0.43382\u001b[0m\n",
      "\u001b[34m[74]#011train-logloss:0.40652#011validation-logloss:0.43246\u001b[0m\n",
      "\u001b[34m[75]#011train-logloss:0.40546#011validation-logloss:0.43164\u001b[0m\n",
      "\u001b[34m[76]#011train-logloss:0.40401#011validation-logloss:0.43029\u001b[0m\n",
      "\u001b[34m[77]#011train-logloss:0.40292#011validation-logloss:0.42946\u001b[0m\n",
      "\u001b[34m[78]#011train-logloss:0.40190#011validation-logloss:0.42875\u001b[0m\n",
      "\u001b[34m[79]#011train-logloss:0.40050#011validation-logloss:0.42757\u001b[0m\n",
      "\u001b[34m[80]#011train-logloss:0.39919#011validation-logloss:0.42635\u001b[0m\n",
      "\u001b[34m[81]#011train-logloss:0.39799#011validation-logloss:0.42534\u001b[0m\n",
      "\u001b[34m[82]#011train-logloss:0.39678#011validation-logloss:0.42432\u001b[0m\n",
      "\u001b[34m[83]#011train-logloss:0.39582#011validation-logloss:0.42357\u001b[0m\n",
      "\u001b[34m[84]#011train-logloss:0.39493#011validation-logloss:0.42294\u001b[0m\n",
      "\u001b[34m[85]#011train-logloss:0.39407#011validation-logloss:0.42229\u001b[0m\n",
      "\u001b[34m[86]#011train-logloss:0.39282#011validation-logloss:0.42126\u001b[0m\n",
      "\u001b[34m[87]#011train-logloss:0.39161#011validation-logloss:0.42029\u001b[0m\n",
      "\u001b[34m[88]#011train-logloss:0.39041#011validation-logloss:0.41919\u001b[0m\n",
      "\u001b[34m[89]#011train-logloss:0.38947#011validation-logloss:0.41842\u001b[0m\n",
      "\u001b[34m[90]#011train-logloss:0.38849#011validation-logloss:0.41761\u001b[0m\n",
      "\u001b[34m[91]#011train-logloss:0.38738#011validation-logloss:0.41668\u001b[0m\n",
      "\u001b[34m[92]#011train-logloss:0.38626#011validation-logloss:0.41571\u001b[0m\n",
      "\u001b[34m[93]#011train-logloss:0.38515#011validation-logloss:0.41475\u001b[0m\n",
      "\u001b[34m[94]#011train-logloss:0.38413#011validation-logloss:0.41385\u001b[0m\n",
      "\u001b[34m[95]#011train-logloss:0.38304#011validation-logloss:0.41284\u001b[0m\n",
      "\u001b[34m[96]#011train-logloss:0.38206#011validation-logloss:0.41195\u001b[0m\n",
      "\u001b[34m[97]#011train-logloss:0.38124#011validation-logloss:0.41125\u001b[0m\n",
      "\u001b[34m[98]#011train-logloss:0.38063#011validation-logloss:0.41085\u001b[0m\n",
      "\u001b[34m[99]#011train-logloss:0.37976#011validation-logloss:0.41013\u001b[0m\n",
      "\u001b[34m[100]#011train-logloss:0.37880#011validation-logloss:0.40933\u001b[0m\n",
      "\u001b[34m[101]#011train-logloss:0.37797#011validation-logloss:0.40861\u001b[0m\n",
      "\u001b[34m[102]#011train-logloss:0.37703#011validation-logloss:0.40782\u001b[0m\n",
      "\u001b[34m[103]#011train-logloss:0.37624#011validation-logloss:0.40721\u001b[0m\n",
      "\u001b[34m[104]#011train-logloss:0.37548#011validation-logloss:0.40655\u001b[0m\n",
      "\u001b[34m[105]#011train-logloss:0.37455#011validation-logloss:0.40578\u001b[0m\n",
      "\u001b[34m[106]#011train-logloss:0.37377#011validation-logloss:0.40512\u001b[0m\n",
      "\u001b[34m[107]#011train-logloss:0.37285#011validation-logloss:0.40418\u001b[0m\n",
      "\u001b[34m[108]#011train-logloss:0.37206#011validation-logloss:0.40353\u001b[0m\n",
      "\u001b[34m[109]#011train-logloss:0.37130#011validation-logloss:0.40290\u001b[0m\n",
      "\u001b[34m[110]#011train-logloss:0.37049#011validation-logloss:0.40224\u001b[0m\n",
      "\u001b[34m[111]#011train-logloss:0.36976#011validation-logloss:0.40162\u001b[0m\n",
      "\u001b[34m[112]#011train-logloss:0.36898#011validation-logloss:0.40094\u001b[0m\n",
      "\u001b[34m[113]#011train-logloss:0.36827#011validation-logloss:0.40025\u001b[0m\n",
      "\u001b[34m[114]#011train-logloss:0.36757#011validation-logloss:0.39968\u001b[0m\n",
      "\u001b[34m[115]#011train-logloss:0.36688#011validation-logloss:0.39901\u001b[0m\n",
      "\u001b[34m[116]#011train-logloss:0.36618#011validation-logloss:0.39843\u001b[0m\n",
      "\u001b[34m[117]#011train-logloss:0.36541#011validation-logloss:0.39765\u001b[0m\n",
      "\u001b[34m[118]#011train-logloss:0.36470#011validation-logloss:0.39706\u001b[0m\n",
      "\u001b[34m[119]#011train-logloss:0.36404#011validation-logloss:0.39663\u001b[0m\n",
      "\u001b[34m[120]#011train-logloss:0.36337#011validation-logloss:0.39609\u001b[0m\n",
      "\u001b[34m[121]#011train-logloss:0.36271#011validation-logloss:0.39555\u001b[0m\n",
      "\u001b[34m[122]#011train-logloss:0.36221#011validation-logloss:0.39520\u001b[0m\n",
      "\u001b[34m[123]#011train-logloss:0.36158#011validation-logloss:0.39464\u001b[0m\n",
      "\u001b[34m[124]#011train-logloss:0.36095#011validation-logloss:0.39408\u001b[0m\n",
      "\u001b[34m[125]#011train-logloss:0.36035#011validation-logloss:0.39352\u001b[0m\n",
      "\u001b[34m[126]#011train-logloss:0.35982#011validation-logloss:0.39304\u001b[0m\n",
      "\u001b[34m[127]#011train-logloss:0.35920#011validation-logloss:0.39246\u001b[0m\n",
      "\u001b[34m[128]#011train-logloss:0.35869#011validation-logloss:0.39206\u001b[0m\n",
      "\u001b[34m[129]#011train-logloss:0.35814#011validation-logloss:0.39153\u001b[0m\n",
      "\u001b[34m[130]#011train-logloss:0.35769#011validation-logloss:0.39116\u001b[0m\n",
      "\u001b[34m[131]#011train-logloss:0.35715#011validation-logloss:0.39071\u001b[0m\n",
      "\u001b[34m[132]#011train-logloss:0.35655#011validation-logloss:0.39029\u001b[0m\n",
      "\u001b[34m[133]#011train-logloss:0.35604#011validation-logloss:0.38990\u001b[0m\n",
      "\u001b[34m[134]#011train-logloss:0.35544#011validation-logloss:0.38934\u001b[0m\n",
      "\u001b[34m[135]#011train-logloss:0.35497#011validation-logloss:0.38896\u001b[0m\n",
      "\u001b[34m[136]#011train-logloss:0.35444#011validation-logloss:0.38843\u001b[0m\n",
      "\u001b[34m[137]#011train-logloss:0.35398#011validation-logloss:0.38811\u001b[0m\n",
      "\u001b[34m[138]#011train-logloss:0.35351#011validation-logloss:0.38780\u001b[0m\n",
      "\u001b[34m[139]#011train-logloss:0.35310#011validation-logloss:0.38754\u001b[0m\n",
      "\u001b[34m[140]#011train-logloss:0.35270#011validation-logloss:0.38719\u001b[0m\n",
      "\u001b[34m[141]#011train-logloss:0.35224#011validation-logloss:0.38683\u001b[0m\n",
      "\u001b[34m[142]#011train-logloss:0.35173#011validation-logloss:0.38639\u001b[0m\n",
      "\u001b[34m[143]#011train-logloss:0.35129#011validation-logloss:0.38607\u001b[0m\n",
      "\u001b[34m[144]#011train-logloss:0.35088#011validation-logloss:0.38578\u001b[0m\n",
      "\u001b[34m[145]#011train-logloss:0.35052#011validation-logloss:0.38547\u001b[0m\n",
      "\u001b[34m[146]#011train-logloss:0.35010#011validation-logloss:0.38508\u001b[0m\n",
      "\u001b[34m[147]#011train-logloss:0.34966#011validation-logloss:0.38463\u001b[0m\n",
      "\u001b[34m[148]#011train-logloss:0.34929#011validation-logloss:0.38439\u001b[0m\n",
      "\u001b[34m[149]#011train-logloss:0.34888#011validation-logloss:0.38409\u001b[0m\n",
      "\u001b[34m[150]#011train-logloss:0.34852#011validation-logloss:0.38374\u001b[0m\n",
      "\u001b[34m[151]#011train-logloss:0.34815#011validation-logloss:0.38345\u001b[0m\n",
      "\u001b[34m[152]#011train-logloss:0.34777#011validation-logloss:0.38313\u001b[0m\n",
      "\u001b[34m[153]#011train-logloss:0.34742#011validation-logloss:0.38284\u001b[0m\n",
      "\u001b[34m[154]#011train-logloss:0.34687#011validation-logloss:0.38239\u001b[0m\n",
      "\u001b[34m[155]#011train-logloss:0.34652#011validation-logloss:0.38209\u001b[0m\n",
      "\u001b[34m[156]#011train-logloss:0.34615#011validation-logloss:0.38179\u001b[0m\n",
      "\u001b[34m[157]#011train-logloss:0.34581#011validation-logloss:0.38153\u001b[0m\n",
      "\u001b[34m[158]#011train-logloss:0.34543#011validation-logloss:0.38115\u001b[0m\n",
      "\u001b[34m[159]#011train-logloss:0.34513#011validation-logloss:0.38093\u001b[0m\n",
      "\u001b[34m[160]#011train-logloss:0.34471#011validation-logloss:0.38055\u001b[0m\n",
      "\u001b[34m[161]#011train-logloss:0.34446#011validation-logloss:0.38049\u001b[0m\n",
      "\u001b[34m[162]#011train-logloss:0.34410#011validation-logloss:0.38021\u001b[0m\n",
      "\u001b[34m[163]#011train-logloss:0.34377#011validation-logloss:0.37988\u001b[0m\n",
      "\u001b[34m[164]#011train-logloss:0.34347#011validation-logloss:0.37965\u001b[0m\n",
      "\u001b[34m[165]#011train-logloss:0.34301#011validation-logloss:0.37927\u001b[0m\n",
      "\u001b[34m[166]#011train-logloss:0.34264#011validation-logloss:0.37896\u001b[0m\n",
      "\u001b[34m[167]#011train-logloss:0.34233#011validation-logloss:0.37878\u001b[0m\n",
      "\u001b[34m[168]#011train-logloss:0.34202#011validation-logloss:0.37859\u001b[0m\n",
      "\u001b[34m[169]#011train-logloss:0.34152#011validation-logloss:0.37820\u001b[0m\n",
      "\u001b[34m[170]#011train-logloss:0.34130#011validation-logloss:0.37806\u001b[0m\n",
      "\u001b[34m[171]#011train-logloss:0.34099#011validation-logloss:0.37784\u001b[0m\n",
      "\u001b[34m[172]#011train-logloss:0.34070#011validation-logloss:0.37765\u001b[0m\n",
      "\u001b[34m[173]#011train-logloss:0.34043#011validation-logloss:0.37742\u001b[0m\n",
      "\u001b[34m[174]#011train-logloss:0.34019#011validation-logloss:0.37730\u001b[0m\n",
      "\u001b[34m[175]#011train-logloss:0.33993#011validation-logloss:0.37713\u001b[0m\n",
      "\u001b[34m[176]#011train-logloss:0.33963#011validation-logloss:0.37689\u001b[0m\n",
      "\u001b[34m[177]#011train-logloss:0.33935#011validation-logloss:0.37663\u001b[0m\n",
      "\u001b[34m[178]#011train-logloss:0.33911#011validation-logloss:0.37638\u001b[0m\n",
      "\u001b[34m[179]#011train-logloss:0.33880#011validation-logloss:0.37609\u001b[0m\n",
      "\u001b[34m[180]#011train-logloss:0.33858#011validation-logloss:0.37587\u001b[0m\n",
      "\u001b[34m[181]#011train-logloss:0.33831#011validation-logloss:0.37561\u001b[0m\n",
      "\u001b[34m[182]#011train-logloss:0.33805#011validation-logloss:0.37539\u001b[0m\n",
      "\u001b[34m[183]#011train-logloss:0.33779#011validation-logloss:0.37518\u001b[0m\n",
      "\u001b[34m[184]#011train-logloss:0.33755#011validation-logloss:0.37507\u001b[0m\n",
      "\u001b[34m[185]#011train-logloss:0.33727#011validation-logloss:0.37481\u001b[0m\n",
      "\u001b[34m[186]#011train-logloss:0.33711#011validation-logloss:0.37473\u001b[0m\n",
      "\u001b[34m[187]#011train-logloss:0.33687#011validation-logloss:0.37454\u001b[0m\n",
      "\u001b[34m[188]#011train-logloss:0.33663#011validation-logloss:0.37438\u001b[0m\n",
      "\u001b[34m[189]#011train-logloss:0.33638#011validation-logloss:0.37423\u001b[0m\n",
      "\u001b[34m[190]#011train-logloss:0.33614#011validation-logloss:0.37397\u001b[0m\n",
      "\u001b[34m[191]#011train-logloss:0.33592#011validation-logloss:0.37381\u001b[0m\n",
      "\u001b[34m[192]#011train-logloss:0.33571#011validation-logloss:0.37370\u001b[0m\n",
      "\u001b[34m[193]#011train-logloss:0.33551#011validation-logloss:0.37353\u001b[0m\n",
      "\u001b[34m[194]#011train-logloss:0.33528#011validation-logloss:0.37340\u001b[0m\n",
      "\u001b[34m[195]#011train-logloss:0.33508#011validation-logloss:0.37332\u001b[0m\n",
      "\u001b[34m[196]#011train-logloss:0.33485#011validation-logloss:0.37323\u001b[0m\n",
      "\u001b[34m[197]#011train-logloss:0.33460#011validation-logloss:0.37305\u001b[0m\n",
      "\u001b[34m[198]#011train-logloss:0.33437#011validation-logloss:0.37283\u001b[0m\n",
      "\u001b[34m[199]#011train-logloss:0.33417#011validation-logloss:0.37261\u001b[0m\n",
      "\u001b[34m[200]#011train-logloss:0.33393#011validation-logloss:0.37243\u001b[0m\n",
      "\u001b[34m[201]#011train-logloss:0.33379#011validation-logloss:0.37242\u001b[0m\n",
      "\u001b[34m[202]#011train-logloss:0.33365#011validation-logloss:0.37237\u001b[0m\n",
      "\u001b[34m[203]#011train-logloss:0.33341#011validation-logloss:0.37215\u001b[0m\n",
      "\u001b[34m[204]#011train-logloss:0.33320#011validation-logloss:0.37201\u001b[0m\n",
      "\u001b[34m[205]#011train-logloss:0.33301#011validation-logloss:0.37193\u001b[0m\n",
      "\u001b[34m[206]#011train-logloss:0.33285#011validation-logloss:0.37180\u001b[0m\n",
      "\u001b[34m[207]#011train-logloss:0.33265#011validation-logloss:0.37164\u001b[0m\n",
      "\u001b[34m[208]#011train-logloss:0.33239#011validation-logloss:0.37143\u001b[0m\n",
      "\u001b[34m[209]#011train-logloss:0.33224#011validation-logloss:0.37130\u001b[0m\n",
      "\u001b[34m[210]#011train-logloss:0.33205#011validation-logloss:0.37117\u001b[0m\n",
      "\u001b[34m[211]#011train-logloss:0.33184#011validation-logloss:0.37107\u001b[0m\n",
      "\u001b[34m[212]#011train-logloss:0.33167#011validation-logloss:0.37105\u001b[0m\n",
      "\u001b[34m[213]#011train-logloss:0.33146#011validation-logloss:0.37100\u001b[0m\n",
      "\n",
      "2024-02-13 01:49:47 Uploading - Uploading generated training model\n",
      "2024-02-13 01:49:47 Completed - Training job completed\n",
      "Training seconds: 132\n",
      "Billable seconds: 132\n",
      "CPU times: user 749 ms, sys: 37.9 ms, total: 787 ms\n",
      "Wall time: 4min 12s\n"
     ]
    }
   ],
   "source": [
    "%%time\n",
    "\n",
    "job_name = \"xgb-\" + strftime(\"%Y-%m-%d-%H-%M-%S\", gmtime())\n",
    "output_location = \"s3://{}/{}/output/{}\".format(bucket, prefix, job_name)\n",
    "image = sagemaker.image_uris.retrieve(\n",
    "    framework=\"xgboost\", region=region, version=\"1.7-1\" # latest version\n",
    ")\n",
    "\n",
    "sm_estimator = sagemaker.estimator.Estimator(\n",
    "    image,\n",
    "    role,\n",
    "    instance_count=1,\n",
    "    instance_type=\"ml.m5.xlarge\",\n",
    "    volume_size=50,\n",
    "    input_mode=\"File\",\n",
    "    output_path=output_location,\n",
    "    sagemaker_session=sess,\n",
    ")\n",
    "\n",
    "sm_estimator.set_hyperparameters(\n",
    "    objective=\"binary:logistic\",\n",
    "    colsample_bytree=0.7956926890881284,\n",
    "    gamma=0.4224376554847273,\n",
    "    eta=0.01698158072074776,\n",
    "    max_depth=4,\n",
    "    num_round=214,\n",
    "    subsample=0.7127419099093599\n",
    ")\n",
    "\n",
    "train_data = sagemaker.inputs.TrainingInput(\n",
    "    \"s3://{}/{}/train\".format(bucket, prefix),\n",
    "    distribution=\"FullyReplicated\",\n",
    "    content_type=\"text/csv\",\n",
    "    s3_data_type=\"S3Prefix\",\n",
    ")\n",
    "validation_data = sagemaker.inputs.TrainingInput(\n",
    "    \"s3://{}/{}/validation\".format(bucket, prefix),\n",
    "    distribution=\"FullyReplicated\",\n",
    "    content_type=\"text/csv\",\n",
    "    s3_data_type=\"S3Prefix\",\n",
    ")\n",
    "data_channels = {\"train\": train_data, \"validation\": validation_data}\n",
    "\n",
    "# Start training by calling the fit method in the estimator\n",
    "sm_estimator.fit(inputs=data_channels, job_name=job_name, logs=True)"
   ]
  },
  {
   "cell_type": "markdown",
   "id": "8a91f555-2b0a-4ac9-93cc-15641fb0b10f",
   "metadata": {},
   "source": [
    "## Use batch transform on our test data. Since the ID column is present, we will update the output filter to keep only ID and prediction"
   ]
  },
  {
   "cell_type": "markdown",
   "id": "197a732c-3f3e-4c8f-b0a7-d47ac2929952",
   "metadata": {},
   "source": [
    "Let's change __output_filter__ to \"$[0,-1]\", indicating that when presenting the output, we only want to keep column 0 (the 'CustomerId') and the last column (the inference result i.e. the probability of customer churn)"
   ]
  },
  {
   "cell_type": "code",
   "execution_count": 10,
   "id": "854792e5-36c1-4f7d-8700-485763dd9b0b",
   "metadata": {
    "tags": []
   },
   "outputs": [
    {
     "name": "stderr",
     "output_type": "stream",
     "text": [
      "INFO:sagemaker:Creating model with name: sagemaker-xgboost-2024-02-13-01-50-05-797\n",
      "INFO:sagemaker:Creating transform job with name: sagemaker-xgboost-2024-02-13-01-50-06-533\n"
     ]
    },
    {
     "name": "stdout",
     "output_type": "stream",
     "text": [
      ".........................................\u001b[34m[2024-02-13:01:56:57:INFO] No GPUs detected (normal if no gpus installed)\u001b[0m\n",
      "\u001b[34m[2024-02-13:01:56:58:INFO] No GPUs detected (normal if no gpus installed)\u001b[0m\n",
      "\u001b[34m[2024-02-13:01:56:58:INFO] nginx config: \u001b[0m\n",
      "\u001b[34mworker_processes auto;\u001b[0m\n",
      "\u001b[34mdaemon off;\u001b[0m\n",
      "\u001b[34mpid /tmp/nginx.pid;\u001b[0m\n",
      "\u001b[34merror_log  /dev/stderr;\u001b[0m\n",
      "\u001b[34mworker_rlimit_nofile 4096;\u001b[0m\n",
      "\u001b[34mevents {\n",
      "  worker_connections 2048;\u001b[0m\n",
      "\u001b[34m}\u001b[0m\n",
      "\u001b[34mhttp {\n",
      "  include /etc/nginx/mime.types;\n",
      "  default_type application/octet-stream;\n",
      "  access_log /dev/stdout combined;\n",
      "  upstream gunicorn {\n",
      "    server unix:/tmp/gunicorn.sock;\n",
      "  }\n",
      "  server {\n",
      "    listen 8080 deferred;\n",
      "    client_max_body_size 0;\n",
      "    keepalive_timeout 3;\n",
      "    location ~ ^/(ping|invocations|execution-parameters) {\n",
      "      proxy_set_header X-Forwarded-For $proxy_add_x_forwarded_for;\n",
      "      proxy_set_header Host $http_host;\n",
      "      proxy_redirect off;\n",
      "      proxy_read_timeout 60s;\n",
      "      proxy_pass http://gunicorn;\n",
      "    }\n",
      "    location / {\n",
      "      return 404 \"{}\";\n",
      "    }\n",
      "  }\u001b[0m\n",
      "\u001b[34m}\u001b[0m\n",
      "\u001b[34m[2024-02-13 01:56:58 +0000] [19] [INFO] Starting gunicorn 19.10.0\u001b[0m\n",
      "\u001b[34m[2024-02-13 01:56:58 +0000] [19] [INFO] Listening at: unix:/tmp/gunicorn.sock (19)\u001b[0m\n",
      "\u001b[34m[2024-02-13 01:56:58 +0000] [19] [INFO] Using worker: gevent\u001b[0m\n",
      "\u001b[34m/miniconda3/lib/python3.8/os.py:1023: RuntimeWarning: line buffering (buffering=1) isn't supported in binary mode, the default buffer size will be used\n",
      "  return io.open(fd, *args, **kwargs)\u001b[0m\n",
      "\u001b[34m[2024-02-13 01:56:58 +0000] [25] [INFO] Booting worker with pid: 25\u001b[0m\n",
      "\u001b[34m[2024-02-13 01:56:58 +0000] [26] [INFO] Booting worker with pid: 26\u001b[0m\n",
      "\u001b[34m[2024-02-13 01:56:58 +0000] [27] [INFO] Booting worker with pid: 27\u001b[0m\n",
      "\u001b[34m[2024-02-13 01:56:58 +0000] [28] [INFO] Booting worker with pid: 28\u001b[0m\n",
      "\u001b[34m[2024-02-13:01:57:00:INFO] No GPUs detected (normal if no gpus installed)\u001b[0m\n",
      "\u001b[34m[2024-02-13:01:57:00:INFO] Loading the model from /opt/ml/model/xgboost-model\u001b[0m\n",
      "\u001b[34m[2024-02-13:01:57:00:INFO] Model objective : binary:logistic\u001b[0m\n",
      "\u001b[34m[2024-02-13:01:57:00:INFO] No GPUs detected (normal if no gpus installed)\u001b[0m\n",
      "\u001b[34m[2024-02-13:01:57:00:INFO] Loading the model from /opt/ml/model/xgboost-model\u001b[0m\n",
      "\u001b[34m[2024-02-13:01:57:00:INFO] Model objective : binary:logistic\u001b[0m\n",
      "\u001b[34m[2024-02-13:01:57:00:INFO] No GPUs detected (normal if no gpus installed)\u001b[0m\n",
      "\u001b[34m[2024-02-13:01:57:00:INFO] Loading the model from /opt/ml/model/xgboost-model\u001b[0m\n",
      "\u001b[34m[2024-02-13:01:57:00:INFO] No GPUs detected (normal if no gpus installed)\u001b[0m\n",
      "\u001b[34m[2024-02-13:01:57:00:INFO] Loading the model from /opt/ml/model/xgboost-model\u001b[0m\n",
      "\u001b[34m[2024-02-13:01:57:00:INFO] Model objective : binary:logistic\u001b[0m\n",
      "\u001b[34m[2024-02-13:01:57:00:INFO] Model objective : binary:logistic\u001b[0m\n",
      "\u001b[34m[2024-02-13:01:57:04:INFO] No GPUs detected (normal if no gpus installed)\u001b[0m\n",
      "\u001b[34m169.254.255.130 - - [13/Feb/2024:01:57:04 +0000] \"GET /ping HTTP/1.1\" 200 0 \"-\" \"Go-http-client/1.1\"\u001b[0m\n",
      "\u001b[34m[2024-02-13:01:57:04:INFO] No GPUs detected (normal if no gpus installed)\u001b[0m\n",
      "\u001b[34m169.254.255.130 - - [13/Feb/2024:01:57:04 +0000] \"GET /execution-parameters HTTP/1.1\" 200 84 \"-\" \"Go-http-client/1.1\"\u001b[0m\n",
      "\u001b[34m[2024-02-13:01:57:04:INFO] No GPUs detected (normal if no gpus installed)\u001b[0m\n",
      "\u001b[34m[2024-02-13:01:57:04:INFO] Determined delimiter of CSV input is ','\u001b[0m\n",
      "\u001b[34m/miniconda3/lib/python3.8/site-packages/xgboost/core.py:122: UserWarning: ntree_limit is deprecated, use `iteration_range` or model slicing instead.\n",
      "  warnings.warn(\u001b[0m\n",
      "\u001b[34m169.254.255.130 - - [13/Feb/2024:01:57:04 +0000] \"POST /invocations HTTP/1.1\" 200 19720 \"-\" \"Go-http-client/1.1\"\u001b[0m\n",
      "\n",
      "\u001b[32m2024-02-13T01:57:04.556:[sagemaker logs]: MaxConcurrentTransforms=4, MaxPayloadInMB=6, BatchStrategy=MULTI_RECORD\u001b[0m\n",
      "\u001b[34m[2024-02-13:01:56:57:INFO] No GPUs detected (normal if no gpus installed)\u001b[0m\n",
      "\u001b[34m[2024-02-13:01:56:58:INFO] No GPUs detected (normal if no gpus installed)\u001b[0m\n",
      "\u001b[34m[2024-02-13:01:56:58:INFO] nginx config: \u001b[0m\n",
      "\u001b[35m[2024-02-13:01:56:57:INFO] No GPUs detected (normal if no gpus installed)\u001b[0m\n",
      "\u001b[35m[2024-02-13:01:56:58:INFO] No GPUs detected (normal if no gpus installed)\u001b[0m\n",
      "\u001b[35m[2024-02-13:01:56:58:INFO] nginx config: \u001b[0m\n",
      "\u001b[34mworker_processes auto;\u001b[0m\n",
      "\u001b[34mdaemon off;\u001b[0m\n",
      "\u001b[34mpid /tmp/nginx.pid;\u001b[0m\n",
      "\u001b[34merror_log  /dev/stderr;\u001b[0m\n",
      "\u001b[34mworker_rlimit_nofile 4096;\u001b[0m\n",
      "\u001b[34mevents {\n",
      "  worker_connections 2048;\u001b[0m\n",
      "\u001b[34m}\u001b[0m\n",
      "\u001b[34mhttp {\n",
      "  include /etc/nginx/mime.types;\n",
      "  default_type application/octet-stream;\n",
      "  access_log /dev/stdout combined;\n",
      "  upstream gunicorn {\n",
      "    server unix:/tmp/gunicorn.sock;\n",
      "  }\n",
      "  server {\n",
      "    listen 8080 deferred;\n",
      "    client_max_body_size 0;\n",
      "    keepalive_timeout 3;\n",
      "    location ~ ^/(ping|invocations|execution-parameters) {\n",
      "      proxy_set_header X-Forwarded-For $proxy_add_x_forwarded_for;\n",
      "      proxy_set_header Host $http_host;\n",
      "      proxy_redirect off;\n",
      "      proxy_read_timeout 60s;\n",
      "      proxy_pass http://gunicorn;\n",
      "    }\n",
      "    location / {\n",
      "      return 404 \"{}\";\n",
      "    }\n",
      "  }\u001b[0m\n",
      "\u001b[34m}\u001b[0m\n",
      "\u001b[34m[2024-02-13 01:56:58 +0000] [19] [INFO] Starting gunicorn 19.10.0\u001b[0m\n",
      "\u001b[34m[2024-02-13 01:56:58 +0000] [19] [INFO] Listening at: unix:/tmp/gunicorn.sock (19)\u001b[0m\n",
      "\u001b[34m[2024-02-13 01:56:58 +0000] [19] [INFO] Using worker: gevent\u001b[0m\n",
      "\u001b[34m/miniconda3/lib/python3.8/os.py:1023: RuntimeWarning: line buffering (buffering=1) isn't supported in binary mode, the default buffer size will be used\n",
      "  return io.open(fd, *args, **kwargs)\u001b[0m\n",
      "\u001b[34m[2024-02-13 01:56:58 +0000] [25] [INFO] Booting worker with pid: 25\u001b[0m\n",
      "\u001b[35mworker_processes auto;\u001b[0m\n",
      "\u001b[35mdaemon off;\u001b[0m\n",
      "\u001b[35mpid /tmp/nginx.pid;\u001b[0m\n",
      "\u001b[35merror_log  /dev/stderr;\u001b[0m\n",
      "\u001b[35mworker_rlimit_nofile 4096;\u001b[0m\n",
      "\u001b[35mevents {\n",
      "  worker_connections 2048;\u001b[0m\n",
      "\u001b[35m}\u001b[0m\n",
      "\u001b[35mhttp {\n",
      "  include /etc/nginx/mime.types;\n",
      "  default_type application/octet-stream;\n",
      "  access_log /dev/stdout combined;\n",
      "  upstream gunicorn {\n",
      "    server unix:/tmp/gunicorn.sock;\n",
      "  }\n",
      "  server {\n",
      "    listen 8080 deferred;\n",
      "    client_max_body_size 0;\n",
      "    keepalive_timeout 3;\n",
      "    location ~ ^/(ping|invocations|execution-parameters) {\n",
      "      proxy_set_header X-Forwarded-For $proxy_add_x_forwarded_for;\n",
      "      proxy_set_header Host $http_host;\n",
      "      proxy_redirect off;\n",
      "      proxy_read_timeout 60s;\n",
      "      proxy_pass http://gunicorn;\n",
      "    }\n",
      "    location / {\n",
      "      return 404 \"{}\";\n",
      "    }\n",
      "  }\u001b[0m\n",
      "\u001b[35m}\u001b[0m\n",
      "\u001b[35m[2024-02-13 01:56:58 +0000] [19] [INFO] Starting gunicorn 19.10.0\u001b[0m\n",
      "\u001b[35m[2024-02-13 01:56:58 +0000] [19] [INFO] Listening at: unix:/tmp/gunicorn.sock (19)\u001b[0m\n",
      "\u001b[35m[2024-02-13 01:56:58 +0000] [19] [INFO] Using worker: gevent\u001b[0m\n",
      "\u001b[35m/miniconda3/lib/python3.8/os.py:1023: RuntimeWarning: line buffering (buffering=1) isn't supported in binary mode, the default buffer size will be used\n",
      "  return io.open(fd, *args, **kwargs)\u001b[0m\n",
      "\u001b[35m[2024-02-13 01:56:58 +0000] [25] [INFO] Booting worker with pid: 25\u001b[0m\n",
      "\u001b[34m[2024-02-13 01:56:58 +0000] [26] [INFO] Booting worker with pid: 26\u001b[0m\n",
      "\u001b[34m[2024-02-13 01:56:58 +0000] [27] [INFO] Booting worker with pid: 27\u001b[0m\n",
      "\u001b[34m[2024-02-13 01:56:58 +0000] [28] [INFO] Booting worker with pid: 28\u001b[0m\n",
      "\u001b[34m[2024-02-13:01:57:00:INFO] No GPUs detected (normal if no gpus installed)\u001b[0m\n",
      "\u001b[34m[2024-02-13:01:57:00:INFO] Loading the model from /opt/ml/model/xgboost-model\u001b[0m\n",
      "\u001b[34m[2024-02-13:01:57:00:INFO] Model objective : binary:logistic\u001b[0m\n",
      "\u001b[34m[2024-02-13:01:57:00:INFO] No GPUs detected (normal if no gpus installed)\u001b[0m\n",
      "\u001b[34m[2024-02-13:01:57:00:INFO] Loading the model from /opt/ml/model/xgboost-model\u001b[0m\n",
      "\u001b[34m[2024-02-13:01:57:00:INFO] Model objective : binary:logistic\u001b[0m\n",
      "\u001b[34m[2024-02-13:01:57:00:INFO] No GPUs detected (normal if no gpus installed)\u001b[0m\n",
      "\u001b[34m[2024-02-13:01:57:00:INFO] Loading the model from /opt/ml/model/xgboost-model\u001b[0m\n",
      "\u001b[34m[2024-02-13:01:57:00:INFO] No GPUs detected (normal if no gpus installed)\u001b[0m\n",
      "\u001b[34m[2024-02-13:01:57:00:INFO] Loading the model from /opt/ml/model/xgboost-model\u001b[0m\n",
      "\u001b[34m[2024-02-13:01:57:00:INFO] Model objective : binary:logistic\u001b[0m\n",
      "\u001b[34m[2024-02-13:01:57:00:INFO] Model objective : binary:logistic\u001b[0m\n",
      "\u001b[35m[2024-02-13 01:56:58 +0000] [26] [INFO] Booting worker with pid: 26\u001b[0m\n",
      "\u001b[35m[2024-02-13 01:56:58 +0000] [27] [INFO] Booting worker with pid: 27\u001b[0m\n",
      "\u001b[35m[2024-02-13 01:56:58 +0000] [28] [INFO] Booting worker with pid: 28\u001b[0m\n",
      "\u001b[35m[2024-02-13:01:57:00:INFO] No GPUs detected (normal if no gpus installed)\u001b[0m\n",
      "\u001b[35m[2024-02-13:01:57:00:INFO] Loading the model from /opt/ml/model/xgboost-model\u001b[0m\n",
      "\u001b[35m[2024-02-13:01:57:00:INFO] Model objective : binary:logistic\u001b[0m\n",
      "\u001b[35m[2024-02-13:01:57:00:INFO] No GPUs detected (normal if no gpus installed)\u001b[0m\n",
      "\u001b[35m[2024-02-13:01:57:00:INFO] Loading the model from /opt/ml/model/xgboost-model\u001b[0m\n",
      "\u001b[35m[2024-02-13:01:57:00:INFO] Model objective : binary:logistic\u001b[0m\n",
      "\u001b[35m[2024-02-13:01:57:00:INFO] No GPUs detected (normal if no gpus installed)\u001b[0m\n",
      "\u001b[35m[2024-02-13:01:57:00:INFO] Loading the model from /opt/ml/model/xgboost-model\u001b[0m\n",
      "\u001b[35m[2024-02-13:01:57:00:INFO] No GPUs detected (normal if no gpus installed)\u001b[0m\n",
      "\u001b[35m[2024-02-13:01:57:00:INFO] Loading the model from /opt/ml/model/xgboost-model\u001b[0m\n",
      "\u001b[35m[2024-02-13:01:57:00:INFO] Model objective : binary:logistic\u001b[0m\n",
      "\u001b[35m[2024-02-13:01:57:00:INFO] Model objective : binary:logistic\u001b[0m\n",
      "\u001b[34m[2024-02-13:01:57:04:INFO] No GPUs detected (normal if no gpus installed)\u001b[0m\n",
      "\u001b[35m[2024-02-13:01:57:04:INFO] No GPUs detected (normal if no gpus installed)\u001b[0m\n",
      "\u001b[34m169.254.255.130 - - [13/Feb/2024:01:57:04 +0000] \"GET /ping HTTP/1.1\" 200 0 \"-\" \"Go-http-client/1.1\"\u001b[0m\n",
      "\u001b[34m[2024-02-13:01:57:04:INFO] No GPUs detected (normal if no gpus installed)\u001b[0m\n",
      "\u001b[34m169.254.255.130 - - [13/Feb/2024:01:57:04 +0000] \"GET /execution-parameters HTTP/1.1\" 200 84 \"-\" \"Go-http-client/1.1\"\u001b[0m\n",
      "\u001b[34m[2024-02-13:01:57:04:INFO] No GPUs detected (normal if no gpus installed)\u001b[0m\n",
      "\u001b[34m[2024-02-13:01:57:04:INFO] Determined delimiter of CSV input is ','\u001b[0m\n",
      "\u001b[34m/miniconda3/lib/python3.8/site-packages/xgboost/core.py:122: UserWarning: ntree_limit is deprecated, use `iteration_range` or model slicing instead.\n",
      "  warnings.warn(\u001b[0m\n",
      "\u001b[34m169.254.255.130 - - [13/Feb/2024:01:57:04 +0000] \"POST /invocations HTTP/1.1\" 200 19720 \"-\" \"Go-http-client/1.1\"\u001b[0m\n",
      "\u001b[35m169.254.255.130 - - [13/Feb/2024:01:57:04 +0000] \"GET /ping HTTP/1.1\" 200 0 \"-\" \"Go-http-client/1.1\"\u001b[0m\n",
      "\u001b[35m[2024-02-13:01:57:04:INFO] No GPUs detected (normal if no gpus installed)\u001b[0m\n",
      "\u001b[35m169.254.255.130 - - [13/Feb/2024:01:57:04 +0000] \"GET /execution-parameters HTTP/1.1\" 200 84 \"-\" \"Go-http-client/1.1\"\u001b[0m\n",
      "\u001b[35m[2024-02-13:01:57:04:INFO] No GPUs detected (normal if no gpus installed)\u001b[0m\n",
      "\u001b[35m[2024-02-13:01:57:04:INFO] Determined delimiter of CSV input is ','\u001b[0m\n",
      "\u001b[35m/miniconda3/lib/python3.8/site-packages/xgboost/core.py:122: UserWarning: ntree_limit is deprecated, use `iteration_range` or model slicing instead.\n",
      "  warnings.warn(\u001b[0m\n",
      "\u001b[35m169.254.255.130 - - [13/Feb/2024:01:57:04 +0000] \"POST /invocations HTTP/1.1\" 200 19720 \"-\" \"Go-http-client/1.1\"\u001b[0m\n",
      "\u001b[32m2024-02-13T01:57:04.556:[sagemaker logs]: MaxConcurrentTransforms=4, MaxPayloadInMB=6, BatchStrategy=MULTI_RECORD\u001b[0m\n"
     ]
    }
   ],
   "source": [
    "sm_transformer = sm_estimator.transformer(1, \"ml.m4.xlarge\")\n",
    "\n",
    "sm_transformer.assemble_with = \"Line\"\n",
    "sm_transformer.accept = \"text/csv\"\n",
    "\n",
    "batch_file = \"batch_data.csv\"\n",
    "# start a transform job\n",
    "input_location = \"s3://{}/{}/batch/{}\".format(\n",
    "    bucket, prefix, batch_file\n",
    ")\n",
    "\n",
    "sm_transformer.transform(\n",
    "    input_location,\n",
    "    split_type=\"Line\",\n",
    "    content_type=\"text/csv\",\n",
    "    input_filter=\"$[1:]\", # input_filter will filter out CustomerId\n",
    "    join_source=\"Input\",\n",
    "    output_filter=\"$[0,-1]\",\n",
    ")\n",
    "sm_transformer.wait()"
   ]
  },
  {
   "cell_type": "markdown",
   "id": "4c4e15bc-402b-4df5-abdb-2655e235445f",
   "metadata": {},
   "source": [
    "Let's display the output"
   ]
  },
  {
   "cell_type": "code",
   "execution_count": 11,
   "id": "4c5c6b83-9ec2-4c78-80ef-64997e760b40",
   "metadata": {
    "tags": []
   },
   "outputs": [
    {
     "data": {
      "text/html": [
       "<div>\n",
       "<style scoped>\n",
       "    .dataframe tbody tr th:only-of-type {\n",
       "        vertical-align: middle;\n",
       "    }\n",
       "\n",
       "    .dataframe tbody tr th {\n",
       "        vertical-align: top;\n",
       "    }\n",
       "\n",
       "    .dataframe thead th {\n",
       "        text-align: right;\n",
       "    }\n",
       "</style>\n",
       "<table border=\"1\" class=\"dataframe\">\n",
       "  <thead>\n",
       "    <tr style=\"text-align: right;\">\n",
       "      <th></th>\n",
       "      <th>0</th>\n",
       "      <th>1</th>\n",
       "    </tr>\n",
       "  </thead>\n",
       "  <tbody>\n",
       "    <tr>\n",
       "      <th>0</th>\n",
       "      <td>15731026</td>\n",
       "      <td>0.148549</td>\n",
       "    </tr>\n",
       "    <tr>\n",
       "      <th>1</th>\n",
       "      <td>15792565</td>\n",
       "      <td>0.132313</td>\n",
       "    </tr>\n",
       "    <tr>\n",
       "      <th>2</th>\n",
       "      <td>15710316</td>\n",
       "      <td>0.355720</td>\n",
       "    </tr>\n",
       "    <tr>\n",
       "      <th>3</th>\n",
       "      <td>15781347</td>\n",
       "      <td>0.071115</td>\n",
       "    </tr>\n",
       "    <tr>\n",
       "      <th>4</th>\n",
       "      <td>15694859</td>\n",
       "      <td>0.098018</td>\n",
       "    </tr>\n",
       "    <tr>\n",
       "      <th>5</th>\n",
       "      <td>15739194</td>\n",
       "      <td>0.132254</td>\n",
       "    </tr>\n",
       "    <tr>\n",
       "      <th>6</th>\n",
       "      <td>15723894</td>\n",
       "      <td>0.413681</td>\n",
       "    </tr>\n",
       "    <tr>\n",
       "      <th>7</th>\n",
       "      <td>15652527</td>\n",
       "      <td>0.212699</td>\n",
       "    </tr>\n",
       "  </tbody>\n",
       "</table>\n",
       "</div>"
      ],
      "text/plain": [
       "          0         1\n",
       "0  15731026  0.148549\n",
       "1  15792565  0.132313\n",
       "2  15710316  0.355720\n",
       "3  15781347  0.071115\n",
       "4  15694859  0.098018\n",
       "5  15739194  0.132254\n",
       "6  15723894  0.413681\n",
       "7  15652527  0.212699"
      ]
     },
     "execution_count": 11,
     "metadata": {},
     "output_type": "execute_result"
    }
   ],
   "source": [
    "def get_csv_output_from_s3(s3uri, batch_file):\n",
    "    file_name = \"{}.out\".format(batch_file)\n",
    "    match = re.match(\"s3://([^/]+)/(.*)\", \"{}/{}\".format(s3uri, file_name))\n",
    "    output_bucket, output_prefix = match.group(1), match.group(2)\n",
    "    s3.download_file(output_bucket, output_prefix, file_name)\n",
    "    return pd.read_csv(file_name, sep=\",\", header=None)\n",
    "\n",
    "output_df = get_csv_output_from_s3(sm_transformer.output_path, batch_file)\n",
    "output_df.head(8)"
   ]
  },
  {
   "cell_type": "markdown",
   "id": "eb19718f-4844-4018-8c71-67cc746a8958",
   "metadata": {},
   "source": [
    "Create model entity"
   ]
  },
  {
   "cell_type": "code",
   "execution_count": 12,
   "id": "b6807f2b-a7e9-4205-bbcd-5d35cff3fa4f",
   "metadata": {
    "tags": []
   },
   "outputs": [],
   "source": [
    "model_name = f\"final-project-xgb-churn-pred-model-monitor-{datetime.utcnow():%Y-%m-%d-%H%M}\"\n",
    "\n",
    "image_uri = image\n",
    "model_data = sm_estimator.model_data\n",
    "\n",
    "model = Model(image_uri=image_uri, model_data=model_data, role=role, sagemaker_session=sess)"
   ]
  },
  {
   "cell_type": "markdown",
   "id": "0f518453-e320-4c27-9210-9a98e68f8e1c",
   "metadata": {},
   "source": [
    "Deploy the model with data capture enabled"
   ]
  },
  {
   "cell_type": "code",
   "execution_count": 13,
   "id": "c5f440f5-2f14-48c4-842a-474fec74bb02",
   "metadata": {
    "tags": []
   },
   "outputs": [
    {
     "name": "stdout",
     "output_type": "stream",
     "text": [
      "EndpointName = final-project-xgboost-v1-wquality-monitor-2024-02-13-0157\n",
      "sagemaker.config INFO - Not applying SDK defaults from location: /etc/xdg/sagemaker/config.yaml\n",
      "sagemaker.config INFO - Not applying SDK defaults from location: /root/.config/sagemaker/config.yaml\n"
     ]
    },
    {
     "name": "stderr",
     "output_type": "stream",
     "text": [
      "INFO:sagemaker:Creating model with name: sagemaker-xgboost-2024-02-13-01-57-41-016\n",
      "INFO:sagemaker:Creating endpoint-config with name final-project-xgboost-v1-wquality-monitor-2024-02-13-0157\n",
      "INFO:sagemaker:Creating endpoint with name final-project-xgboost-v1-wquality-monitor-2024-02-13-0157\n"
     ]
    },
    {
     "name": "stdout",
     "output_type": "stream",
     "text": [
      "------!"
     ]
    }
   ],
   "source": [
    "endpoint_name = f\"final-project-xgboost-v1-wquality-monitor-{datetime.utcnow():%Y-%m-%d-%H%M}\"\n",
    "print(\"EndpointName =\", endpoint_name)\n",
    "\n",
    "data_capture_config = DataCaptureConfig(\n",
    "    enable_capture=True, sampling_percentage=100, destination_s3_uri=s3_capture_upload_path\n",
    ")\n",
    "\n",
    "model.deploy(\n",
    "    initial_instance_count=1,\n",
    "    instance_type=\"ml.m4.xlarge\",\n",
    "    endpoint_name=endpoint_name,\n",
    "    data_capture_config=data_capture_config,\n",
    ")"
   ]
  },
  {
   "cell_type": "markdown",
   "id": "9d613d00-fdf8-4785-9969-0d7ec4b62af7",
   "metadata": {},
   "source": [
    "Use predictor to invoke the model"
   ]
  },
  {
   "cell_type": "code",
   "execution_count": 15,
   "id": "a69e8a98-21e1-4435-890f-b356bd5019a3",
   "metadata": {
    "tags": []
   },
   "outputs": [],
   "source": [
    "predictor = Predictor(\n",
    "    endpoint_name=endpoint_name, sagemaker_session=sess, serializer=CSVSerializer()\n",
    ")"
   ]
  },
  {
   "cell_type": "markdown",
   "id": "66a8d4a2-7707-4a51-9b29-f1919af982d5",
   "metadata": {},
   "source": [
    "Generate a baseline for model quality performance"
   ]
  },
  {
   "cell_type": "code",
   "execution_count": 16,
   "id": "1966545f-e76f-47da-9813-080183a305e8",
   "metadata": {
    "tags": []
   },
   "outputs": [
    {
     "name": "stdout",
     "output_type": "stream",
     "text": [
      "........................................................................................................................................................................................................\n",
      "Done!\n"
     ]
    }
   ],
   "source": [
    "churn_cutoff = 0.5\n",
    "validate_dataset = \"validation_with_predictions.csv\"\n",
    "\n",
    "limit = 200  # Need at least 200 samples to compute standard deviations\n",
    "i = 0\n",
    "with open(f\"data/{validate_dataset}\", \"w\") as baseline_file:\n",
    "    baseline_file.write(\"probability,prediction,label\\n\")  # our header\n",
    "    with open(\"data/test_data_noID.csv\", \"r\") as f:\n",
    "        for row in f:\n",
    "            (label, input_cols) = row.split(\",\", 1)\n",
    "            probability = float(predictor.predict(input_cols))\n",
    "            prediction = \"1\" if probability > churn_cutoff else \"0\"\n",
    "            baseline_file.write(f\"{probability},{prediction},{label}\\n\")\n",
    "            i += 1\n",
    "            if i > limit:\n",
    "                break\n",
    "            print(\".\", end=\"\", flush=True)\n",
    "            sleep(0.5)\n",
    "print()\n",
    "print(\"Done!\")"
   ]
  },
  {
   "cell_type": "markdown",
   "id": "847a40e0-3c39-45e8-94ff-4e13a9d4c0fe",
   "metadata": {},
   "source": [
    "examine the file we just created"
   ]
  },
  {
   "cell_type": "code",
   "execution_count": 17,
   "id": "f18b4d7b-3198-4ed1-9908-2f41a022f943",
   "metadata": {
    "tags": []
   },
   "outputs": [
    {
     "name": "stdout",
     "output_type": "stream",
     "text": [
      "probability,prediction,label\n",
      "0.1485494077205658,0,0\n",
      "0.1323130875825882,0,0\n",
      "0.35571980476379395,0,0\n",
      "0.07111486047506332,0,0\n",
      "0.09801846742630005,0,0\n",
      "0.1322542130947113,0,0\n",
      "0.4136806130409241,0,0\n",
      "0.21269924938678741,0,0\n",
      "0.08133785426616669,0,0\n"
     ]
    }
   ],
   "source": [
    "!head data/validation_with_predictions.csv"
   ]
  },
  {
   "cell_type": "markdown",
   "id": "3350557e-5e2c-48e5-bbad-f576cc9094d2",
   "metadata": {},
   "source": [
    "Upload the baseline data to s3"
   ]
  },
  {
   "cell_type": "code",
   "execution_count": 18,
   "id": "64102d08-1909-4c9e-a53e-510c247e638b",
   "metadata": {
    "tags": []
   },
   "outputs": [
    {
     "name": "stdout",
     "output_type": "stream",
     "text": [
      "Baseline data uri: s3://sagemaker-us-east-1-075039479415/churn-prediction-xgboost/baselining/data\n",
      "Baseline results uri: s3://sagemaker-us-east-1-075039479415/churn-prediction-xgboost/baselining/results\n"
     ]
    }
   ],
   "source": [
    "baseline_prefix = prefix + \"/baselining\"\n",
    "baseline_data_prefix = baseline_prefix + \"/data\"\n",
    "baseline_results_prefix = baseline_prefix + \"/results\"\n",
    "\n",
    "baseline_data_uri = f\"s3://{bucket}/{baseline_data_prefix}\"\n",
    "baseline_results_uri = f\"s3://{bucket}/{baseline_results_prefix}\"\n",
    "print(f\"Baseline data uri: {baseline_data_uri}\")\n",
    "print(f\"Baseline results uri: {baseline_results_uri}\")"
   ]
  },
  {
   "cell_type": "code",
   "execution_count": 19,
   "id": "cea2023c-3c74-4af1-9349-762fd0409c1b",
   "metadata": {
    "tags": []
   },
   "outputs": [
    {
     "name": "stdout",
     "output_type": "stream",
     "text": [
      "sagemaker.config INFO - Not applying SDK defaults from location: /etc/xdg/sagemaker/config.yaml\n",
      "sagemaker.config INFO - Not applying SDK defaults from location: /root/.config/sagemaker/config.yaml\n"
     ]
    },
    {
     "data": {
      "text/plain": [
       "'s3://sagemaker-us-east-1-075039479415/churn-prediction-xgboost/baselining/data/validation_with_predictions.csv'"
      ]
     },
     "execution_count": 19,
     "metadata": {},
     "output_type": "execute_result"
    }
   ],
   "source": [
    "baseline_dataset_uri = S3Uploader.upload(f\"data/{validate_dataset}\", baseline_data_uri)\n",
    "baseline_dataset_uri"
   ]
  },
  {
   "cell_type": "markdown",
   "id": "e89ea171-5342-4d3b-bf50-c76a60cb7f6a",
   "metadata": {},
   "source": [
    "#### Create a baselining job with validation dataset predictions\n",
    "\n",
    "Define the model quality monitoring object and execute the model quality monitoring baseline job. Model monitor will automatically generate baseline statistics and constraints based on the validation dataset provided."
   ]
  },
  {
   "cell_type": "code",
   "execution_count": 21,
   "id": "3a435b54-827e-4f10-8e09-4f103028efa7",
   "metadata": {
    "tags": []
   },
   "outputs": [
    {
     "name": "stderr",
     "output_type": "stream",
     "text": [
      "INFO:sagemaker.image_uris:Defaulting to the only supported framework/algorithm version: .\n",
      "INFO:sagemaker.image_uris:Ignoring unnecessary instance type: None.\n"
     ]
    }
   ],
   "source": [
    "# Create the model quality monitoring object\n",
    "churn_model_quality_monitor = ModelQualityMonitor(\n",
    "    role=role,\n",
    "    instance_count=1,\n",
    "    instance_type=\"ml.m5.xlarge\",\n",
    "    volume_size_in_gb=20,\n",
    "    max_runtime_in_seconds=1800,\n",
    "    sagemaker_session=sess,\n",
    ")"
   ]
  },
  {
   "cell_type": "code",
   "execution_count": 22,
   "id": "2ceb0c6d-cdb5-486a-b1a5-04bfa0a6394f",
   "metadata": {
    "tags": []
   },
   "outputs": [],
   "source": [
    "# Name of the model quality baseline job\n",
    "baseline_job_name = f\"final-project-xgb-baseline-job-{datetime.utcnow():%Y-%m-%d-%H%M}\""
   ]
  },
  {
   "cell_type": "code",
   "execution_count": 23,
   "id": "398137b0-f0af-4166-989f-c91072212284",
   "metadata": {
    "tags": []
   },
   "outputs": [
    {
     "name": "stderr",
     "output_type": "stream",
     "text": [
      "INFO:sagemaker:Creating processing-job with name final-project-xgb-baseline-job-2024-02-13-0217\n"
     ]
    },
    {
     "name": "stdout",
     "output_type": "stream",
     "text": [
      ".................................................................................!"
     ]
    }
   ],
   "source": [
    "# Execute the baseline suggestion job.\n",
    "job = churn_model_quality_monitor.suggest_baseline(\n",
    "    job_name=baseline_job_name,\n",
    "    baseline_dataset=baseline_dataset_uri,\n",
    "    dataset_format=DatasetFormat.csv(header=True),\n",
    "    output_s3_uri=baseline_results_uri,\n",
    "    problem_type=\"BinaryClassification\",\n",
    "    inference_attribute=\"prediction\",\n",
    "    probability_attribute=\"probability\",\n",
    "    ground_truth_attribute=\"label\",\n",
    ")\n",
    "job.wait(logs=False)"
   ]
  },
  {
   "cell_type": "markdown",
   "id": "0c21c53b-b7e9-48b0-8b6b-0287b0512892",
   "metadata": {},
   "source": [
    "explore the results of the baseline job"
   ]
  },
  {
   "cell_type": "code",
   "execution_count": 24,
   "id": "91fb070e-670c-4388-8530-f214d309dab2",
   "metadata": {
    "tags": []
   },
   "outputs": [
    {
     "data": {
      "text/html": [
       "<div>\n",
       "<style scoped>\n",
       "    .dataframe tbody tr th:only-of-type {\n",
       "        vertical-align: middle;\n",
       "    }\n",
       "\n",
       "    .dataframe tbody tr th {\n",
       "        vertical-align: top;\n",
       "    }\n",
       "\n",
       "    .dataframe thead th {\n",
       "        text-align: right;\n",
       "    }\n",
       "</style>\n",
       "<table border=\"1\" class=\"dataframe\">\n",
       "  <thead>\n",
       "    <tr style=\"text-align: right;\">\n",
       "      <th></th>\n",
       "      <th>0</th>\n",
       "    </tr>\n",
       "  </thead>\n",
       "  <tbody>\n",
       "    <tr>\n",
       "      <th>confusion_matrix.0.0</th>\n",
       "      <td>154</td>\n",
       "    </tr>\n",
       "    <tr>\n",
       "      <th>confusion_matrix.0.1</th>\n",
       "      <td>4</td>\n",
       "    </tr>\n",
       "    <tr>\n",
       "      <th>confusion_matrix.1.0</th>\n",
       "      <td>27</td>\n",
       "    </tr>\n",
       "    <tr>\n",
       "      <th>confusion_matrix.1.1</th>\n",
       "      <td>16</td>\n",
       "    </tr>\n",
       "    <tr>\n",
       "      <th>recall.value</th>\n",
       "      <td>0.372093</td>\n",
       "    </tr>\n",
       "    <tr>\n",
       "      <th>recall.standard_deviation</th>\n",
       "      <td>0.023344</td>\n",
       "    </tr>\n",
       "    <tr>\n",
       "      <th>precision.value</th>\n",
       "      <td>0.8</td>\n",
       "    </tr>\n",
       "    <tr>\n",
       "      <th>precision.standard_deviation</th>\n",
       "      <td>0.045735</td>\n",
       "    </tr>\n",
       "    <tr>\n",
       "      <th>accuracy.value</th>\n",
       "      <td>0.845771</td>\n",
       "    </tr>\n",
       "    <tr>\n",
       "      <th>accuracy.standard_deviation</th>\n",
       "      <td>0.010845</td>\n",
       "    </tr>\n",
       "    <tr>\n",
       "      <th>recall_best_constant_classifier.value</th>\n",
       "      <td>0.0</td>\n",
       "    </tr>\n",
       "    <tr>\n",
       "      <th>recall_best_constant_classifier.standard_deviation</th>\n",
       "      <td>0.0</td>\n",
       "    </tr>\n",
       "    <tr>\n",
       "      <th>precision_best_constant_classifier.value</th>\n",
       "      <td>0.0</td>\n",
       "    </tr>\n",
       "    <tr>\n",
       "      <th>precision_best_constant_classifier.standard_deviation</th>\n",
       "      <td>0.0</td>\n",
       "    </tr>\n",
       "    <tr>\n",
       "      <th>accuracy_best_constant_classifier.value</th>\n",
       "      <td>0.78607</td>\n",
       "    </tr>\n",
       "    <tr>\n",
       "      <th>accuracy_best_constant_classifier.standard_deviation</th>\n",
       "      <td>0.016927</td>\n",
       "    </tr>\n",
       "    <tr>\n",
       "      <th>true_positive_rate.value</th>\n",
       "      <td>0.372093</td>\n",
       "    </tr>\n",
       "    <tr>\n",
       "      <th>true_positive_rate.standard_deviation</th>\n",
       "      <td>0.023344</td>\n",
       "    </tr>\n",
       "    <tr>\n",
       "      <th>true_negative_rate.value</th>\n",
       "      <td>0.974684</td>\n",
       "    </tr>\n",
       "    <tr>\n",
       "      <th>true_negative_rate.standard_deviation</th>\n",
       "      <td>0.005244</td>\n",
       "    </tr>\n",
       "    <tr>\n",
       "      <th>false_positive_rate.value</th>\n",
       "      <td>0.025316</td>\n",
       "    </tr>\n",
       "    <tr>\n",
       "      <th>false_positive_rate.standard_deviation</th>\n",
       "      <td>0.005244</td>\n",
       "    </tr>\n",
       "    <tr>\n",
       "      <th>false_negative_rate.value</th>\n",
       "      <td>0.627907</td>\n",
       "    </tr>\n",
       "    <tr>\n",
       "      <th>false_negative_rate.standard_deviation</th>\n",
       "      <td>0.023344</td>\n",
       "    </tr>\n",
       "    <tr>\n",
       "      <th>receiver_operating_characteristic_curve.false_positive_rates</th>\n",
       "      <td>[0.0, 0.0, 0.0, 0.0, 0.0, 0.0, 0.0, 0.0, 0.0, ...</td>\n",
       "    </tr>\n",
       "    <tr>\n",
       "      <th>receiver_operating_characteristic_curve.true_positive_rates</th>\n",
       "      <td>[0.0, 0.023255813953488372, 0.0465116279069767...</td>\n",
       "    </tr>\n",
       "    <tr>\n",
       "      <th>precision_recall_curve.precisions</th>\n",
       "      <td>[1.0, 1.0, 1.0, 1.0, 1.0, 1.0, 1.0, 1.0, 1.0, ...</td>\n",
       "    </tr>\n",
       "    <tr>\n",
       "      <th>precision_recall_curve.recalls</th>\n",
       "      <td>[0.0, 0.023255813953488372, 0.0465116279069767...</td>\n",
       "    </tr>\n",
       "    <tr>\n",
       "      <th>auc.value</th>\n",
       "      <td>0.888137</td>\n",
       "    </tr>\n",
       "    <tr>\n",
       "      <th>auc.standard_deviation</th>\n",
       "      <td>0.006282</td>\n",
       "    </tr>\n",
       "    <tr>\n",
       "      <th>au_prc.value</th>\n",
       "      <td>0.709931</td>\n",
       "    </tr>\n",
       "    <tr>\n",
       "      <th>au_prc.standard_deviation</th>\n",
       "      <td>0.026282</td>\n",
       "    </tr>\n",
       "    <tr>\n",
       "      <th>f0_5.value</th>\n",
       "      <td>0.650407</td>\n",
       "    </tr>\n",
       "    <tr>\n",
       "      <th>f0_5.standard_deviation</th>\n",
       "      <td>0.033545</td>\n",
       "    </tr>\n",
       "    <tr>\n",
       "      <th>f1.value</th>\n",
       "      <td>0.507937</td>\n",
       "    </tr>\n",
       "    <tr>\n",
       "      <th>f1.standard_deviation</th>\n",
       "      <td>0.027429</td>\n",
       "    </tr>\n",
       "    <tr>\n",
       "      <th>f2.value</th>\n",
       "      <td>0.416667</td>\n",
       "    </tr>\n",
       "    <tr>\n",
       "      <th>f2.standard_deviation</th>\n",
       "      <td>0.024706</td>\n",
       "    </tr>\n",
       "    <tr>\n",
       "      <th>f0_5_best_constant_classifier.value</th>\n",
       "      <td>0.0</td>\n",
       "    </tr>\n",
       "    <tr>\n",
       "      <th>f0_5_best_constant_classifier.standard_deviation</th>\n",
       "      <td>0.0</td>\n",
       "    </tr>\n",
       "    <tr>\n",
       "      <th>f1_best_constant_classifier.value</th>\n",
       "      <td>0.0</td>\n",
       "    </tr>\n",
       "    <tr>\n",
       "      <th>f1_best_constant_classifier.standard_deviation</th>\n",
       "      <td>0.0</td>\n",
       "    </tr>\n",
       "    <tr>\n",
       "      <th>f2_best_constant_classifier.value</th>\n",
       "      <td>0.0</td>\n",
       "    </tr>\n",
       "    <tr>\n",
       "      <th>f2_best_constant_classifier.standard_deviation</th>\n",
       "      <td>0.0</td>\n",
       "    </tr>\n",
       "  </tbody>\n",
       "</table>\n",
       "</div>"
      ],
      "text/plain": [
       "                                                                                                    0\n",
       "confusion_matrix.0.0                                                                              154\n",
       "confusion_matrix.0.1                                                                                4\n",
       "confusion_matrix.1.0                                                                               27\n",
       "confusion_matrix.1.1                                                                               16\n",
       "recall.value                                                                                 0.372093\n",
       "recall.standard_deviation                                                                    0.023344\n",
       "precision.value                                                                                   0.8\n",
       "precision.standard_deviation                                                                 0.045735\n",
       "accuracy.value                                                                               0.845771\n",
       "accuracy.standard_deviation                                                                  0.010845\n",
       "recall_best_constant_classifier.value                                                             0.0\n",
       "recall_best_constant_classifier.standard_deviation                                                0.0\n",
       "precision_best_constant_classifier.value                                                          0.0\n",
       "precision_best_constant_classifier.standard_dev...                                                0.0\n",
       "accuracy_best_constant_classifier.value                                                       0.78607\n",
       "accuracy_best_constant_classifier.standard_devi...                                           0.016927\n",
       "true_positive_rate.value                                                                     0.372093\n",
       "true_positive_rate.standard_deviation                                                        0.023344\n",
       "true_negative_rate.value                                                                     0.974684\n",
       "true_negative_rate.standard_deviation                                                        0.005244\n",
       "false_positive_rate.value                                                                    0.025316\n",
       "false_positive_rate.standard_deviation                                                       0.005244\n",
       "false_negative_rate.value                                                                    0.627907\n",
       "false_negative_rate.standard_deviation                                                       0.023344\n",
       "receiver_operating_characteristic_curve.false_p...  [0.0, 0.0, 0.0, 0.0, 0.0, 0.0, 0.0, 0.0, 0.0, ...\n",
       "receiver_operating_characteristic_curve.true_po...  [0.0, 0.023255813953488372, 0.0465116279069767...\n",
       "precision_recall_curve.precisions                   [1.0, 1.0, 1.0, 1.0, 1.0, 1.0, 1.0, 1.0, 1.0, ...\n",
       "precision_recall_curve.recalls                      [0.0, 0.023255813953488372, 0.0465116279069767...\n",
       "auc.value                                                                                    0.888137\n",
       "auc.standard_deviation                                                                       0.006282\n",
       "au_prc.value                                                                                 0.709931\n",
       "au_prc.standard_deviation                                                                    0.026282\n",
       "f0_5.value                                                                                   0.650407\n",
       "f0_5.standard_deviation                                                                      0.033545\n",
       "f1.value                                                                                     0.507937\n",
       "f1.standard_deviation                                                                        0.027429\n",
       "f2.value                                                                                     0.416667\n",
       "f2.standard_deviation                                                                        0.024706\n",
       "f0_5_best_constant_classifier.value                                                               0.0\n",
       "f0_5_best_constant_classifier.standard_deviation                                                  0.0\n",
       "f1_best_constant_classifier.value                                                                 0.0\n",
       "f1_best_constant_classifier.standard_deviation                                                    0.0\n",
       "f2_best_constant_classifier.value                                                                 0.0\n",
       "f2_best_constant_classifier.standard_deviation                                                    0.0"
      ]
     },
     "execution_count": 24,
     "metadata": {},
     "output_type": "execute_result"
    }
   ],
   "source": [
    "baseline_job = churn_model_quality_monitor.latest_baselining_job\n",
    "\n",
    "binary_metrics = baseline_job.baseline_statistics().body_dict[\"binary_classification_metrics\"]\n",
    "pd.json_normalize(binary_metrics).T"
   ]
  },
  {
   "cell_type": "code",
   "execution_count": 25,
   "id": "02cf634a-e1c7-4908-a53e-7f75338695be",
   "metadata": {
    "tags": []
   },
   "outputs": [
    {
     "data": {
      "text/html": [
       "<div>\n",
       "<style scoped>\n",
       "    .dataframe tbody tr th:only-of-type {\n",
       "        vertical-align: middle;\n",
       "    }\n",
       "\n",
       "    .dataframe tbody tr th {\n",
       "        vertical-align: top;\n",
       "    }\n",
       "\n",
       "    .dataframe thead th {\n",
       "        text-align: right;\n",
       "    }\n",
       "</style>\n",
       "<table border=\"1\" class=\"dataframe\">\n",
       "  <thead>\n",
       "    <tr style=\"text-align: right;\">\n",
       "      <th></th>\n",
       "      <th>threshold</th>\n",
       "      <th>comparison_operator</th>\n",
       "    </tr>\n",
       "  </thead>\n",
       "  <tbody>\n",
       "    <tr>\n",
       "      <th>recall</th>\n",
       "      <td>0.372093</td>\n",
       "      <td>LessThanThreshold</td>\n",
       "    </tr>\n",
       "    <tr>\n",
       "      <th>precision</th>\n",
       "      <td>0.8</td>\n",
       "      <td>LessThanThreshold</td>\n",
       "    </tr>\n",
       "    <tr>\n",
       "      <th>accuracy</th>\n",
       "      <td>0.845771</td>\n",
       "      <td>LessThanThreshold</td>\n",
       "    </tr>\n",
       "    <tr>\n",
       "      <th>true_positive_rate</th>\n",
       "      <td>0.372093</td>\n",
       "      <td>LessThanThreshold</td>\n",
       "    </tr>\n",
       "    <tr>\n",
       "      <th>true_negative_rate</th>\n",
       "      <td>0.974684</td>\n",
       "      <td>LessThanThreshold</td>\n",
       "    </tr>\n",
       "    <tr>\n",
       "      <th>false_positive_rate</th>\n",
       "      <td>0.025316</td>\n",
       "      <td>GreaterThanThreshold</td>\n",
       "    </tr>\n",
       "    <tr>\n",
       "      <th>false_negative_rate</th>\n",
       "      <td>0.627907</td>\n",
       "      <td>GreaterThanThreshold</td>\n",
       "    </tr>\n",
       "    <tr>\n",
       "      <th>auc</th>\n",
       "      <td>0.888137</td>\n",
       "      <td>LessThanThreshold</td>\n",
       "    </tr>\n",
       "    <tr>\n",
       "      <th>f0_5</th>\n",
       "      <td>0.650407</td>\n",
       "      <td>LessThanThreshold</td>\n",
       "    </tr>\n",
       "    <tr>\n",
       "      <th>f1</th>\n",
       "      <td>0.507937</td>\n",
       "      <td>LessThanThreshold</td>\n",
       "    </tr>\n",
       "    <tr>\n",
       "      <th>f2</th>\n",
       "      <td>0.416667</td>\n",
       "      <td>LessThanThreshold</td>\n",
       "    </tr>\n",
       "  </tbody>\n",
       "</table>\n",
       "</div>"
      ],
      "text/plain": [
       "                    threshold   comparison_operator\n",
       "recall               0.372093     LessThanThreshold\n",
       "precision                 0.8     LessThanThreshold\n",
       "accuracy             0.845771     LessThanThreshold\n",
       "true_positive_rate   0.372093     LessThanThreshold\n",
       "true_negative_rate   0.974684     LessThanThreshold\n",
       "false_positive_rate  0.025316  GreaterThanThreshold\n",
       "false_negative_rate  0.627907  GreaterThanThreshold\n",
       "auc                  0.888137     LessThanThreshold\n",
       "f0_5                 0.650407     LessThanThreshold\n",
       "f1                   0.507937     LessThanThreshold\n",
       "f2                   0.416667     LessThanThreshold"
      ]
     },
     "execution_count": 25,
     "metadata": {},
     "output_type": "execute_result"
    }
   ],
   "source": [
    "pd.DataFrame(baseline_job.suggested_constraints().body_dict[\"binary_classification_constraints\"]).T"
   ]
  },
  {
   "cell_type": "markdown",
   "id": "6ffd214f-481d-4e31-b3ee-2081caf8a3cb",
   "metadata": {},
   "source": [
    "#### Generate prediction data for Model Quality  Monitoring\n",
    "\n",
    "Start generating some artificial traffic.  The cell below starts a thread to send some traffic to the endpoint. Note that you need to stop the kernel to terminate this thread. If there is no traffic, the monitoring jobs are marked as `Failed` since there is no data to process."
   ]
  },
  {
   "cell_type": "code",
   "execution_count": 41,
   "id": "4cbb6fa0-127d-4ece-839d-acf125ce8ed5",
   "metadata": {
    "tags": []
   },
   "outputs": [],
   "source": [
    "def invoke_endpoint(ep_name, file_name):\n",
    "    with open(file_name, \"r\") as f:\n",
    "        i = 0\n",
    "        for row in f:\n",
    "            payload = row.rstrip(\"\\n\")\n",
    "            response = sess.sagemaker_runtime_client.invoke_endpoint(\n",
    "                EndpointName=endpoint_name,\n",
    "                ContentType=\"text/csv\",\n",
    "                Body=payload,\n",
    "                InferenceId=str(i),  # unique ID per row\n",
    "            )[\"Body\"].read()\n",
    "            i += 1\n",
    "            sleep(1)\n",
    "\n",
    "\n",
    "def invoke_endpoint_forever():\n",
    "    while True:\n",
    "        try:\n",
    "            invoke_endpoint(endpoint_name, \"data/test-dataset-input-cols.csv\")\n",
    "        except sess.sagemaker_runtime_client.exceptions.ValidationError:\n",
    "            pass\n",
    "\n",
    "\n",
    "thread = Thread(target=invoke_endpoint_forever)\n",
    "thread.start()"
   ]
  },
  {
   "cell_type": "markdown",
   "id": "6a2e2d63-13e3-4881-89da-ea453f24a110",
   "metadata": {},
   "source": [
    "Now list the data capture files stored in Amazon S3. You should expect to see different files from different time periods organized based on the hour in which the invocation occurred. The format of the Amazon S3 path is:\n",
    "\n",
    "`s3://{destination-bucket-prefix}/{endpoint-name}/{variant-name}/yyyy/mm/dd/hh/filename.jsonl`"
   ]
  },
  {
   "cell_type": "code",
   "execution_count": 44,
   "id": "e25be990-7164-49b6-99b7-07b85b87f0ab",
   "metadata": {},
   "outputs": [
    {
     "name": "stdout",
     "output_type": "stream",
     "text": [
      "Waiting for captures to show upsagemaker.config INFO - Not applying SDK defaults from location: /etc/xdg/sagemaker/config.yaml\n",
      "sagemaker.config INFO - Not applying SDK defaults from location: /root/.config/sagemaker/config.yaml\n",
      "sagemaker.config INFO - Not applying SDK defaults from location: /etc/xdg/sagemaker/config.yaml\n",
      "sagemaker.config INFO - Not applying SDK defaults from location: /root/.config/sagemaker/config.yaml\n",
      "\n",
      "Found Capture Files:\n",
      "s3://sagemaker-us-east-1-075039479415/churn-prediction-xgboost/datacapture/final-project-xgboost-v1-wquality-monitor-2024-02-13-0157/AllTraffic/2024/02/13/02/52-09-001-4abf934b-c893-4c53-8c87-c1070ec37182.jsonl\n",
      " s3://sagemaker-us-east-1-075039479415/churn-prediction-xgboost/datacapture/final-project-xgboost-v1-wquality-monitor-2024-02-13-0157/AllTraffic/2024/02/13/02/53-09-865-7e443c05-953a-464b-9724-505fa4b69158.jsonl\n",
      " s3://sagemaker-us-east-1-075039479415/churn-prediction-xgboost/datacapture/final-project-xgboost-v1-wquality-monitor-2024-02-13-0157/AllTraffic/2024/02/13/02/54-10-708-91ed6e38-cc1d-4124-aebc-7bdbcab36077.jsonl\n"
     ]
    }
   ],
   "source": [
    "print(\"Waiting for captures to show up\", end=\"\")\n",
    "for _ in range(120):\n",
    "    capture_files = sorted(S3Downloader.list(f\"{s3_capture_upload_path}/{endpoint_name}\"))\n",
    "    if capture_files:\n",
    "        capture_file = S3Downloader.read_file(capture_files[-1]).split(\"\\n\")\n",
    "        capture_record = json.loads(capture_file[0])\n",
    "        if \"inferenceId\" in capture_record[\"eventMetadata\"]:\n",
    "            break\n",
    "    print(\".\", end=\"\", flush=True)\n",
    "    sleep(1)\n",
    "print()\n",
    "print(\"Found Capture Files:\")\n",
    "print(\"\\n \".join(capture_files[-3:]))"
   ]
  },
  {
   "cell_type": "markdown",
   "id": "d2c172c5-b27f-473b-abd2-332510805c9e",
   "metadata": {},
   "source": [
    "Let's observe one of the lines"
   ]
  },
  {
   "cell_type": "code",
   "execution_count": 46,
   "id": "677b00fd-f89e-4b33-9374-ea73f7d025ad",
   "metadata": {},
   "outputs": [
    {
     "name": "stdout",
     "output_type": "stream",
     "text": [
      "{\n",
      "  \"captureData\": {\n",
      "    \"endpointInput\": {\n",
      "      \"observedContentType\": \"text/csv\",\n",
      "      \"mode\": \"INPUT\",\n",
      "      \"data\": \"534,52,1,0.0,3,1,1,104035.41,1,0,0,0\",\n",
      "      \"encoding\": \"CSV\"\n",
      "    },\n",
      "    \"endpointOutput\": {\n",
      "      \"observedContentType\": \"text/csv; charset=utf-8\",\n",
      "      \"mode\": \"OUTPUT\",\n",
      "      \"data\": \"0.8094968795776367\\n\",\n",
      "      \"encoding\": \"CSV\"\n",
      "    }\n",
      "  },\n",
      "  \"eventMetadata\": {\n",
      "    \"eventId\": \"f56e8349-801f-44df-82cc-2c88fd1a4317\",\n",
      "    \"inferenceId\": \"131\",\n",
      "    \"inferenceTime\": \"2024-02-13T02:54:10Z\"\n",
      "  },\n",
      "  \"eventVersion\": \"0\"\n",
      "}\n"
     ]
    }
   ],
   "source": [
    "print(json.dumps(capture_record, indent=2))"
   ]
  },
  {
   "cell_type": "markdown",
   "id": "18bc2b93-2d85-4ea2-a2e0-fb0f66e9a55b",
   "metadata": {},
   "source": [
    "#### 4.3 Generate synthetic ground truth"
   ]
  },
  {
   "cell_type": "code",
   "execution_count": 49,
   "id": "76077ebb-c57b-4d0f-a48c-20eae3d43275",
   "metadata": {
    "tags": []
   },
   "outputs": [],
   "source": [
    "def ground_truth_with_id(inference_id):\n",
    "    random.seed(inference_id)  # to get consistent results\n",
    "    rand = random.random()\n",
    "    return {\n",
    "        \"groundTruthData\": {\n",
    "            \"data\": \"1\" if rand < 0.7 else \"0\",  # randomly generate positive labels 70% of the time\n",
    "            \"encoding\": \"CSV\",\n",
    "        },\n",
    "        \"eventMetadata\": {\n",
    "            \"eventId\": str(inference_id),\n",
    "        },\n",
    "        \"eventVersion\": \"0\",\n",
    "    }\n",
    "\n",
    "\n",
    "def upload_ground_truth(records, upload_time):\n",
    "    fake_records = [json.dumps(r) for r in records]\n",
    "    data_to_upload = \"\\n\".join(fake_records)\n",
    "    target_s3_uri = f\"{ground_truth_upload_path}/{upload_time:%Y/%m/%d/%H/%M%S}.jsonl\"\n",
    "    print(f\"Uploading {len(fake_records)} records to\", target_s3_uri)\n",
    "    S3Uploader.upload_string_as_file_body(data_to_upload, target_s3_uri)"
   ]
  },
  {
   "cell_type": "code",
   "execution_count": 51,
   "id": "3a15f7b1-4b7b-4ffa-b9f4-7100811c5eb5",
   "metadata": {
    "tags": []
   },
   "outputs": [
    {
     "name": "stdout",
     "output_type": "stream",
     "text": [
      "Uploading 1000 records to s3://sagemaker-us-east-1-075039479415/churn-prediction-xgboost/ground_truth_data/2024-02-13-01-45-52/2024/02/13/03/0601.jsonl\n",
      "sagemaker.config INFO - Not applying SDK defaults from location: /etc/xdg/sagemaker/config.yaml\n",
      "sagemaker.config INFO - Not applying SDK defaults from location: /root/.config/sagemaker/config.yaml\n",
      "Uploading 1000 records to s3://sagemaker-us-east-1-075039479415/churn-prediction-xgboost/ground_truth_data/2024-02-13-01-45-52/2024/02/13/04/0602.jsonl\n",
      "sagemaker.config INFO - Not applying SDK defaults from location: /etc/xdg/sagemaker/config.yaml\n",
      "sagemaker.config INFO - Not applying SDK defaults from location: /root/.config/sagemaker/config.yaml\n",
      "Uploading 1000 records to s3://sagemaker-us-east-1-075039479415/churn-prediction-xgboost/ground_truth_data/2024-02-13-01-45-52/2024/02/13/05/0602.jsonl\n",
      "sagemaker.config INFO - Not applying SDK defaults from location: /etc/xdg/sagemaker/config.yaml\n",
      "sagemaker.config INFO - Not applying SDK defaults from location: /root/.config/sagemaker/config.yaml\n"
     ]
    }
   ],
   "source": [
    "NUM_GROUND_TRUTH_RECORDS = len(X_test)  # the number of rows in data we're sending for inference\n",
    "\n",
    "\n",
    "def generate_fake_ground_truth_forever():\n",
    "    j = 0\n",
    "    while True:\n",
    "        fake_records = [ground_truth_with_id(i) for i in range(NUM_GROUND_TRUTH_RECORDS)]\n",
    "        upload_ground_truth(fake_records, datetime.utcnow())\n",
    "        j = (j + 1) % 5\n",
    "        sleep(60 * 60)  # do this once an hour\n",
    "\n",
    "\n",
    "gt_thread = Thread(target=generate_fake_ground_truth_forever)\n",
    "gt_thread.start()"
   ]
  },
  {
   "cell_type": "markdown",
   "id": "19ff9794-413c-447b-9ee3-8e29a2050597",
   "metadata": {},
   "source": [
    "#### Create a monitoring schedule"
   ]
  },
  {
   "cell_type": "code",
   "execution_count": 54,
   "id": "d190cd1f-5f4d-4701-8a8c-8636f5ada5fd",
   "metadata": {
    "tags": []
   },
   "outputs": [],
   "source": [
    "##Monitoring schedule name\n",
    "churn_monitor_schedule_name = (\n",
    "    f\"final-project-xgb-monitoring-schedule-{datetime.utcnow():%Y-%m-%d-%H%M}\"\n",
    ")"
   ]
  },
  {
   "cell_type": "code",
   "execution_count": 55,
   "id": "1f4d671e-edec-4047-8120-361a24789aa3",
   "metadata": {
    "tags": []
   },
   "outputs": [
    {
     "name": "stderr",
     "output_type": "stream",
     "text": [
      "INFO:sagemaker.model_monitor.model_monitoring:Creating Monitoring Schedule with name: final-project-xgb-monitoring-schedule-2024-02-13-0310\n"
     ]
    }
   ],
   "source": [
    "# Create an enpointInput\n",
    "endpointInput = EndpointInput(\n",
    "    endpoint_name=predictor.endpoint_name,\n",
    "    probability_attribute=\"0\",\n",
    "    probability_threshold_attribute=0.5,\n",
    "    destination=\"/opt/ml/processing/input_data\",\n",
    ")\n",
    "\n",
    "# Create the monitoring schedule to execute every hour.\n",
    "response = churn_model_quality_monitor.create_monitoring_schedule(\n",
    "    monitor_schedule_name=churn_monitor_schedule_name,\n",
    "    endpoint_input=endpointInput,\n",
    "    output_s3_uri=baseline_results_uri,\n",
    "    problem_type=\"BinaryClassification\",\n",
    "    ground_truth_input=ground_truth_upload_path,\n",
    "    constraints=baseline_job.suggested_constraints(),\n",
    "    schedule_cron_expression=CronExpressionGenerator.hourly(),\n",
    "    enable_cloudwatch_metrics=True,\n",
    ")"
   ]
  },
  {
   "cell_type": "code",
   "execution_count": 56,
   "id": "aa75c6de-6d6e-4143-a52e-c0df3ecf2b78",
   "metadata": {
    "tags": []
   },
   "outputs": [
    {
     "data": {
      "text/plain": [
       "{'MonitoringScheduleArn': 'arn:aws:sagemaker:us-east-1:075039479415:monitoring-schedule/final-project-xgb-monitoring-schedule-2024-02-13-0310',\n",
       " 'MonitoringScheduleName': 'final-project-xgb-monitoring-schedule-2024-02-13-0310',\n",
       " 'MonitoringScheduleStatus': 'Scheduled',\n",
       " 'MonitoringType': 'ModelQuality',\n",
       " 'CreationTime': datetime.datetime(2024, 2, 13, 3, 11, 0, 405000, tzinfo=tzlocal()),\n",
       " 'LastModifiedTime': datetime.datetime(2024, 2, 13, 3, 11, 6, 141000, tzinfo=tzlocal()),\n",
       " 'MonitoringScheduleConfig': {'ScheduleConfig': {'ScheduleExpression': 'cron(0 * ? * * *)'},\n",
       "  'MonitoringJobDefinitionName': 'model-quality-job-definition-2024-02-13-03-10-59-855',\n",
       "  'MonitoringType': 'ModelQuality'},\n",
       " 'EndpointName': 'final-project-xgboost-v1-wquality-monitor-2024-02-13-0157',\n",
       " 'ResponseMetadata': {'RequestId': '5e0603a8-8f6e-4efa-92bf-a6f03c9b3034',\n",
       "  'HTTPStatusCode': 200,\n",
       "  'HTTPHeaders': {'x-amzn-requestid': '5e0603a8-8f6e-4efa-92bf-a6f03c9b3034',\n",
       "   'content-type': 'application/x-amz-json-1.1',\n",
       "   'content-length': '643',\n",
       "   'date': 'Tue, 13 Feb 2024 03:14:48 GMT'},\n",
       "  'RetryAttempts': 0}}"
      ]
     },
     "execution_count": 56,
     "metadata": {},
     "output_type": "execute_result"
    }
   ],
   "source": [
    "# notice that the status of the schedule below is scheduled\n",
    "churn_model_quality_monitor.describe_schedule()"
   ]
  },
  {
   "cell_type": "code",
   "execution_count": 57,
   "id": "a1101bca-4cb0-49d4-8c21-598e2f9e94c8",
   "metadata": {
    "tags": []
   },
   "outputs": [
    {
     "name": "stdout",
     "output_type": "stream",
     "text": [
      "No executions found for schedule. monitoring_schedule_name: final-project-xgb-monitoring-schedule-2024-02-13-0310\n"
     ]
    },
    {
     "data": {
      "text/plain": [
       "[]"
      ]
     },
     "execution_count": 57,
     "metadata": {},
     "output_type": "execute_result"
    }
   ],
   "source": [
    "# Initially there will be no executions since the first execution happens at the top of the hour\n",
    "# Note that it is common for the execution to luanch upto 20 min after the hour.\n",
    "executions = churn_model_quality_monitor.list_executions()\n",
    "executions"
   ]
  },
  {
   "cell_type": "code",
   "execution_count": 58,
   "id": "0009527b-c654-4c3e-ae25-7405f99773bf",
   "metadata": {
    "tags": []
   },
   "outputs": [
    {
     "name": "stdout",
     "output_type": "stream",
     "text": [
      "Waiting for first execution...................................................................................................................................................................................................................................................................................\n",
      "Execution found!\n"
     ]
    }
   ],
   "source": [
    "# Wait for the first execution of the monitoring_schedule\n",
    "print(\"Waiting for first execution\", end=\"\")\n",
    "while True:\n",
    "    execution = churn_model_quality_monitor.describe_schedule().get(\n",
    "        \"LastMonitoringExecutionSummary\"\n",
    "    )\n",
    "    if execution:\n",
    "        break\n",
    "    print(\".\", end=\"\", flush=True)\n",
    "    sleep(10)\n",
    "print()\n",
    "print(\"Execution found!\")"
   ]
  },
  {
   "cell_type": "code",
   "execution_count": 59,
   "id": "f4577bb8-66df-47fa-bccc-af0f45e248bd",
   "metadata": {
    "tags": []
   },
   "outputs": [
    {
     "name": "stdout",
     "output_type": "stream",
     "text": [
      ".................."
     ]
    },
    {
     "data": {
      "text/plain": [
       "{'ProcessingInputs': [{'InputName': 'groundtruth_input_1',\n",
       "   'AppManaged': False,\n",
       "   'S3Input': {'S3Uri': 's3://sagemaker-us-east-1-075039479415/churn-prediction-xgboost/ground_truth_data/2024-02-13-01-45-52/2024/02/13/03',\n",
       "    'LocalPath': '/opt/ml/processing/groundtruth/2024/02/13/03',\n",
       "    'S3DataType': 'S3Prefix',\n",
       "    'S3InputMode': 'File',\n",
       "    'S3DataDistributionType': 'FullyReplicated',\n",
       "    'S3CompressionType': 'None'}},\n",
       "  {'InputName': 'endpoint_input_1',\n",
       "   'AppManaged': False,\n",
       "   'S3Input': {'S3Uri': 's3://sagemaker-us-east-1-075039479415/churn-prediction-xgboost/datacapture/final-project-xgboost-v1-wquality-monitor-2024-02-13-0157/AllTraffic/2024/02/13/03',\n",
       "    'LocalPath': '/opt/ml/processing/input_data/final-project-xgboost-v1-wquality-monitor-2024-02-13-0157/AllTraffic/2024/02/13/03',\n",
       "    'S3DataType': 'S3Prefix',\n",
       "    'S3InputMode': 'File',\n",
       "    'S3DataDistributionType': 'FullyReplicated',\n",
       "    'S3CompressionType': 'None'}}],\n",
       " 'ProcessingOutputConfig': {'Outputs': [{'OutputName': 'result',\n",
       "    'S3Output': {'S3Uri': 's3://sagemaker-us-east-1-075039479415/churn-prediction-xgboost/baselining/results/merge',\n",
       "     'LocalPath': '/opt/ml/processing/output',\n",
       "     'S3UploadMode': 'EndOfJob'},\n",
       "    'AppManaged': False}]},\n",
       " 'ProcessingJobName': 'groundtruth-merge-202402130400-db0d7669f505b5fc1b76c060',\n",
       " 'ProcessingResources': {'ClusterConfig': {'InstanceCount': 1,\n",
       "   'InstanceType': 'ml.m5.xlarge',\n",
       "   'VolumeSizeInGB': 20}},\n",
       " 'StoppingCondition': {'MaxRuntimeInSeconds': 1800},\n",
       " 'AppSpecification': {'ImageUri': '156813124566.dkr.ecr.us-east-1.amazonaws.com/sagemaker-model-monitor-groundtruth-merger'},\n",
       " 'Environment': {'dataset_format': '{\"sagemakerCaptureJson\":{\"captureIndexNames\":null}}',\n",
       "  'dataset_source': '/opt/ml/processing/input_data',\n",
       "  'end_time': '2024-02-13T04:00:00Z',\n",
       "  'ground_truth_source': '/opt/ml/processing/groundtruth',\n",
       "  'monitoring_input_type': 'ENDPOINT_INPUT',\n",
       "  'output_path': '/opt/ml/processing/output',\n",
       "  'start_time': '2024-02-13T03:00:00Z'},\n",
       " 'RoleArn': 'arn:aws:iam::075039479415:role/LabRole',\n",
       " 'ProcessingJobArn': 'arn:aws:sagemaker:us-east-1:075039479415:processing-job/groundtruth-merge-202402130400-db0d7669f505b5fc1b76c060',\n",
       " 'ProcessingJobStatus': 'InProgress',\n",
       " 'LastModifiedTime': datetime.datetime(2024, 2, 13, 4, 5, 41, 548000, tzinfo=tzlocal()),\n",
       " 'CreationTime': datetime.datetime(2024, 2, 13, 4, 5, 40, 933000, tzinfo=tzlocal()),\n",
       " 'MonitoringScheduleArn': 'arn:aws:sagemaker:us-east-1:075039479415:monitoring-schedule/final-project-xgb-monitoring-schedule-2024-02-13-0310',\n",
       " 'ResponseMetadata': {'RequestId': '24920c98-2f08-42e8-b1d5-4fad85fef070',\n",
       "  'HTTPStatusCode': 200,\n",
       "  'HTTPHeaders': {'x-amzn-requestid': '24920c98-2f08-42e8-b1d5-4fad85fef070',\n",
       "   'content-type': 'application/x-amz-json-1.1',\n",
       "   'content-length': '2256',\n",
       "   'date': 'Tue, 13 Feb 2024 04:05:54 GMT'},\n",
       "  'RetryAttempts': 0}}"
      ]
     },
     "execution_count": 59,
     "metadata": {},
     "output_type": "execute_result"
    }
   ],
   "source": [
    "while not executions:\n",
    "    executions = churn_model_quality_monitor.list_executions()\n",
    "    print(\".\", end=\"\", flush=True)\n",
    "    sleep(10)\n",
    "latest_execution = executions[-1]\n",
    "latest_execution.describe()"
   ]
  },
  {
   "cell_type": "markdown",
   "id": "c938da1e-bf8a-4c63-8570-065b4561b09c",
   "metadata": {},
   "source": [
    "##### Inspect a specific execution (latest execution)\n",
    "In the previous cell, you picked up the latest completed or failed scheduled execution. Here are the possible terminal states and what each of them mean: \n",
    "* Completed - This means the monitoring execution completed and no issues were found in the violations report.\n",
    "* CompletedWithViolations - This means the execution completed, but constraint violations were detected.\n",
    "* Failed - The monitoring execution failed, maybe due to client error (perhaps incorrect role permissions) or infrastructure issues. Further examination of FailureReason and ExitMessage is necessary to identify what exactly happened.\n",
    "* Stopped - job exceeded max runtime or was manually stopped."
   ]
  },
  {
   "cell_type": "code",
   "execution_count": 60,
   "id": "f95f0d3a-7774-4899-a8d3-d697af77d6f8",
   "metadata": {
    "tags": []
   },
   "outputs": [
    {
     "name": "stdout",
     "output_type": "stream",
     "text": [
      "Waiting for execution to finish!\n",
      "groundtruth-merge-202402130400-db0d7669f505b5fc1b76c060 job status: Completed\n",
      "groundtruth-merge-202402130400-db0d7669f505b5fc1b76c060 job exit message, if any: None\n",
      "groundtruth-merge-202402130400-db0d7669f505b5fc1b76c060 job failure reason, if any: None\n",
      "Execution status is: CompletedWithViolations\n",
      "{'MonitoringScheduleName': 'final-project-xgb-monitoring-schedule-2024-02-13-0310', 'ScheduledTime': datetime.datetime(2024, 2, 13, 4, 0, tzinfo=tzlocal()), 'CreationTime': datetime.datetime(2024, 2, 13, 4, 2, 48, 278000, tzinfo=tzlocal()), 'LastModifiedTime': datetime.datetime(2024, 2, 13, 4, 18, 30, 777000, tzinfo=tzlocal()), 'MonitoringExecutionStatus': 'CompletedWithViolations', 'ProcessingJobArn': 'arn:aws:sagemaker:us-east-1:075039479415:processing-job/model-quality-monitoring-202402130400-db0d7669f505b5fc1b76c060', 'EndpointName': 'final-project-xgboost-v1-wquality-monitor-2024-02-13-0157'}\n",
      "====STOP==== \n",
      " No completed executions to inspect further. Please wait till an execution completes or investigate previously reported failures.\n"
     ]
    }
   ],
   "source": [
    "status = execution[\"MonitoringExecutionStatus\"]\n",
    "\n",
    "while status in [\"Pending\", \"InProgress\"]:\n",
    "    print(\"Waiting for execution to finish\", end=\"\")\n",
    "    latest_execution.wait(logs=False)\n",
    "    latest_job = latest_execution.describe()\n",
    "    print()\n",
    "    print(f\"{latest_job['ProcessingJobName']} job status:\", latest_job[\"ProcessingJobStatus\"])\n",
    "    print(\n",
    "        f\"{latest_job['ProcessingJobName']} job exit message, if any:\",\n",
    "        latest_job.get(\"ExitMessage\"),\n",
    "    )\n",
    "    print(\n",
    "        f\"{latest_job['ProcessingJobName']} job failure reason, if any:\",\n",
    "        latest_job.get(\"FailureReason\"),\n",
    "    )\n",
    "    sleep(\n",
    "        30\n",
    "    )  # model quality executions consist of two Processing jobs, wait for second job to start\n",
    "    latest_execution = churn_model_quality_monitor.list_executions()[-1]\n",
    "    execution = churn_model_quality_monitor.describe_schedule()[\"LastMonitoringExecutionSummary\"]\n",
    "    status = execution[\"MonitoringExecutionStatus\"]\n",
    "\n",
    "print(\"Execution status is:\", status)\n",
    "\n",
    "if status != \"Completed\":\n",
    "    print(execution)\n",
    "    print(\n",
    "        \"====STOP==== \\n No completed executions to inspect further. Please wait till an execution completes or investigate previously reported failures.\"\n",
    "    )"
   ]
  },
  {
   "cell_type": "markdown",
   "id": "4d039cf7-31c9-497d-9df3-0ae4782e8226",
   "metadata": {},
   "source": [
    "We can see that we did encounter violations in the monitoring job."
   ]
  },
  {
   "cell_type": "code",
   "execution_count": 61,
   "id": "893a446d-b580-430a-bc41-b64a8915a28a",
   "metadata": {
    "tags": []
   },
   "outputs": [
    {
     "name": "stdout",
     "output_type": "stream",
     "text": [
      "Report Uri: s3://sagemaker-us-east-1-075039479415/churn-prediction-xgboost/baselining/results/final-project-xgboost-v1-wquality-monitor-2024-02-13-0157/final-project-xgb-monitoring-schedule-2024-02-13-0310/2024/02/13/04\n"
     ]
    }
   ],
   "source": [
    "latest_execution = churn_model_quality_monitor.list_executions()[-1]\n",
    "report_uri = latest_execution.describe()[\"ProcessingOutputConfig\"][\"Outputs\"][0][\"S3Output\"][\n",
    "    \"S3Uri\"\n",
    "]\n",
    "print(\"Report Uri:\", report_uri)"
   ]
  },
  {
   "cell_type": "markdown",
   "id": "4d1b5270-10aa-463e-ba37-367ebbd336cc",
   "metadata": {},
   "source": [
    "The report can be found in S3 in the path above. Let's examine the violations."
   ]
  },
  {
   "cell_type": "code",
   "execution_count": 64,
   "id": "576c8bf1-8d8d-4408-b841-b559ad45e22f",
   "metadata": {
    "tags": []
   },
   "outputs": [
    {
     "data": {
      "text/html": [
       "<div>\n",
       "<style scoped>\n",
       "    .dataframe tbody tr th:only-of-type {\n",
       "        vertical-align: middle;\n",
       "    }\n",
       "\n",
       "    .dataframe tbody tr th {\n",
       "        vertical-align: top;\n",
       "    }\n",
       "\n",
       "    .dataframe thead th {\n",
       "        text-align: right;\n",
       "    }\n",
       "</style>\n",
       "<table border=\"1\" class=\"dataframe\">\n",
       "  <thead>\n",
       "    <tr style=\"text-align: right;\">\n",
       "      <th></th>\n",
       "      <th>metric_name</th>\n",
       "      <th>description</th>\n",
       "      <th>constraint_check_type</th>\n",
       "    </tr>\n",
       "  </thead>\n",
       "  <tbody>\n",
       "    <tr>\n",
       "      <th>0</th>\n",
       "      <td>auc</td>\n",
       "      <td>Metric auc with 0.5112923189568007 +/- 0.006474879084456501 was LessThanThreshold '0.8881365911098029'</td>\n",
       "      <td>LessThanThreshold</td>\n",
       "    </tr>\n",
       "    <tr>\n",
       "      <th>1</th>\n",
       "      <td>precision</td>\n",
       "      <td>Metric precision with 0.7350427350427351 +/- 0.0035355949570934327 was LessThanThreshold '0.8'</td>\n",
       "      <td>LessThanThreshold</td>\n",
       "    </tr>\n",
       "    <tr>\n",
       "      <th>2</th>\n",
       "      <td>truePositiveRate</td>\n",
       "      <td>Metric truePositiveRate with 0.10109717868338558 +/- 0.002418294805042171 was LessThanThreshold '0.37209302325581395'</td>\n",
       "      <td>LessThanThreshold</td>\n",
       "    </tr>\n",
       "    <tr>\n",
       "      <th>3</th>\n",
       "      <td>f1</td>\n",
       "      <td>Metric f1 with 0.1777471581122976 +/- 0.003686149131763027 was LessThanThreshold '0.5079365079365079'</td>\n",
       "      <td>LessThanThreshold</td>\n",
       "    </tr>\n",
       "    <tr>\n",
       "      <th>4</th>\n",
       "      <td>accuracy</td>\n",
       "      <td>Metric accuracy with 0.3258966393674103 +/- 0.001473544573075026 was LessThanThreshold '0.845771144278607'</td>\n",
       "      <td>LessThanThreshold</td>\n",
       "    </tr>\n",
       "    <tr>\n",
       "      <th>5</th>\n",
       "      <td>falsePositiveRate</td>\n",
       "      <td>Metric falsePositiveRate with 0.09403437815975733 +/- 0.004185996257195273 was GreaterThanThreshold '0.02531645569620253'</td>\n",
       "      <td>GreaterThanThreshold</td>\n",
       "    </tr>\n",
       "    <tr>\n",
       "      <th>6</th>\n",
       "      <td>trueNegativeRate</td>\n",
       "      <td>Metric trueNegativeRate with 0.9059656218402427 +/- 0.0041859962571952425 was LessThanThreshold '0.9746835443037974'</td>\n",
       "      <td>LessThanThreshold</td>\n",
       "    </tr>\n",
       "    <tr>\n",
       "      <th>7</th>\n",
       "      <td>falseNegativeRate</td>\n",
       "      <td>Metric falseNegativeRate with 0.8989028213166144 +/- 0.002418294805042183 was GreaterThanThreshold '0.627906976744186'</td>\n",
       "      <td>GreaterThanThreshold</td>\n",
       "    </tr>\n",
       "    <tr>\n",
       "      <th>8</th>\n",
       "      <td>recall</td>\n",
       "      <td>Metric recall with 0.10109717868338558 +/- 0.002418294805042171 was LessThanThreshold '0.37209302325581395'</td>\n",
       "      <td>LessThanThreshold</td>\n",
       "    </tr>\n",
       "    <tr>\n",
       "      <th>9</th>\n",
       "      <td>f2</td>\n",
       "      <td>Metric f2 with 0.1221706601003883 +/- 0.0028152369842135636 was LessThanThreshold '0.4166666666666667'</td>\n",
       "      <td>LessThanThreshold</td>\n",
       "    </tr>\n",
       "  </tbody>\n",
       "</table>\n",
       "</div>"
      ],
      "text/plain": [
       "         metric_name  \\\n",
       "0                auc   \n",
       "1          precision   \n",
       "2   truePositiveRate   \n",
       "3                 f1   \n",
       "4           accuracy   \n",
       "5  falsePositiveRate   \n",
       "6   trueNegativeRate   \n",
       "7  falseNegativeRate   \n",
       "8             recall   \n",
       "9                 f2   \n",
       "\n",
       "                                                                                                                 description  \\\n",
       "0                     Metric auc with 0.5112923189568007 +/- 0.006474879084456501 was LessThanThreshold '0.8881365911098029'   \n",
       "1                             Metric precision with 0.7350427350427351 +/- 0.0035355949570934327 was LessThanThreshold '0.8'   \n",
       "2      Metric truePositiveRate with 0.10109717868338558 +/- 0.002418294805042171 was LessThanThreshold '0.37209302325581395'   \n",
       "3                      Metric f1 with 0.1777471581122976 +/- 0.003686149131763027 was LessThanThreshold '0.5079365079365079'   \n",
       "4                 Metric accuracy with 0.3258966393674103 +/- 0.001473544573075026 was LessThanThreshold '0.845771144278607'   \n",
       "5  Metric falsePositiveRate with 0.09403437815975733 +/- 0.004185996257195273 was GreaterThanThreshold '0.02531645569620253'   \n",
       "6       Metric trueNegativeRate with 0.9059656218402427 +/- 0.0041859962571952425 was LessThanThreshold '0.9746835443037974'   \n",
       "7     Metric falseNegativeRate with 0.8989028213166144 +/- 0.002418294805042183 was GreaterThanThreshold '0.627906976744186'   \n",
       "8                Metric recall with 0.10109717868338558 +/- 0.002418294805042171 was LessThanThreshold '0.37209302325581395'   \n",
       "9                     Metric f2 with 0.1221706601003883 +/- 0.0028152369842135636 was LessThanThreshold '0.4166666666666667'   \n",
       "\n",
       "  constraint_check_type  \n",
       "0     LessThanThreshold  \n",
       "1     LessThanThreshold  \n",
       "2     LessThanThreshold  \n",
       "3     LessThanThreshold  \n",
       "4     LessThanThreshold  \n",
       "5  GreaterThanThreshold  \n",
       "6     LessThanThreshold  \n",
       "7  GreaterThanThreshold  \n",
       "8     LessThanThreshold  \n",
       "9     LessThanThreshold  "
      ]
     },
     "execution_count": 64,
     "metadata": {},
     "output_type": "execute_result"
    }
   ],
   "source": [
    "pd.options.display.max_colwidth = None\n",
    "violations = latest_execution.constraint_violations().body_dict[\"violations\"]\n",
    "violations_df = pd.json_normalize(violations)\n",
    "violations_df.head(10).iloc[:, ::-1]"
   ]
  },
  {
   "cell_type": "markdown",
   "id": "f43bfec0-baeb-4185-a78a-e86fbdc4210e",
   "metadata": {},
   "source": [
    "We can tell that the performance violated several metrics like accuracy, recall, f1 score, etc."
   ]
  },
  {
   "cell_type": "markdown",
   "id": "eba34ee2-2d02-4332-9fe2-1fde5312bcbf",
   "metadata": {},
   "source": [
    "## Analyze model quality CloudWatch metrics <a id='analyze-cloudwatch-metrics'></a> "
   ]
  },
  {
   "cell_type": "code",
   "execution_count": 66,
   "id": "66f2ec6c-c656-441c-bf9b-1d58bb9a9ec9",
   "metadata": {
    "tags": []
   },
   "outputs": [],
   "source": [
    "# Create CloudWatch client\n",
    "cw_client = boto3.Session().client(\"cloudwatch\")\n",
    "\n",
    "namespace = \"aws/sagemaker/Endpoints/model-metrics\"\n",
    "\n",
    "cw_dimensions = [\n",
    "    {\"Name\": \"Endpoint\", \"Value\": endpoint_name},\n",
    "    {\"Name\": \"MonitoringSchedule\", \"Value\": churn_monitor_schedule_name},\n",
    "]"
   ]
  },
  {
   "cell_type": "code",
   "execution_count": 67,
   "id": "e9dd7cf6-ee71-49ca-99d5-c734513ba241",
   "metadata": {
    "tags": []
   },
   "outputs": [
    {
     "name": "stdout",
     "output_type": "stream",
     "text": [
      "recall_best_constant_classifier\n",
      "f2\n",
      "recall\n",
      "true_negative_rate\n",
      "f0_5\n",
      "false_negative_rate\n",
      "precision_best_constant_classifier\n",
      "false_positive_rate\n",
      "f1\n",
      "true_positive_rate\n",
      "au_prc\n",
      "accuracy\n",
      "total_number_of_violations\n",
      "accuracy_best_constant_classifier\n",
      "f2_best_constant_classifier\n",
      "precision\n",
      "f1_best_constant_classifier\n",
      "f0_5_best_constant_classifier\n",
      "auc\n"
     ]
    }
   ],
   "source": [
    "# List metrics through the pagination interface\n",
    "paginator = cw_client.get_paginator(\"list_metrics\")\n",
    "\n",
    "for response in paginator.paginate(Dimensions=cw_dimensions, Namespace=namespace):\n",
    "    model_quality_metrics = response[\"Metrics\"]\n",
    "    for metric in model_quality_metrics:\n",
    "        print(metric[\"MetricName\"])"
   ]
  },
  {
   "cell_type": "markdown",
   "id": "029bc70b-c161-4df7-9ffb-96f48f8d1ee6",
   "metadata": {},
   "source": [
    "Let's create an alarm for when the monitoring job sees a dip bellow accepted f1 score"
   ]
  },
  {
   "cell_type": "code",
   "execution_count": 68,
   "id": "3397594e-e9f7-4e31-835f-b53f86e8a66c",
   "metadata": {
    "tags": []
   },
   "outputs": [
    {
     "data": {
      "text/plain": [
       "{'ResponseMetadata': {'RequestId': '0f4403a1-1339-4b7d-9a7b-ed5f3fdd4145',\n",
       "  'HTTPStatusCode': 200,\n",
       "  'HTTPHeaders': {'x-amzn-requestid': '0f4403a1-1339-4b7d-9a7b-ed5f3fdd4145',\n",
       "   'content-type': 'text/xml',\n",
       "   'content-length': '214',\n",
       "   'date': 'Tue, 13 Feb 2024 04:58:15 GMT'},\n",
       "  'RetryAttempts': 0}}"
      ]
     },
     "execution_count": 68,
     "metadata": {},
     "output_type": "execute_result"
    }
   ],
   "source": [
    "alarm_name = \"MODEL_QUALITY_F1_SCORE\"\n",
    "alarm_desc = (\n",
    "    \"Trigger an CloudWatch alarm when the f1 score drifts away from the baseline constraints\"\n",
    ")\n",
    "mdoel_quality_f1_drift_threshold = (\n",
    "    0.9 # set high to trigger the alarm easily\n",
    ")\n",
    "metric_name = \"f1\"\n",
    "namespace = \"aws/sagemaker/Endpoints/model-metrics\"\n",
    "\n",
    "cw_client.put_metric_alarm(\n",
    "    AlarmName=alarm_name,\n",
    "    AlarmDescription=alarm_desc,\n",
    "    ActionsEnabled=True,\n",
    "    MetricName=metric_name,\n",
    "    Namespace=namespace,\n",
    "    Statistic=\"Average\",\n",
    "    Dimensions=[\n",
    "        {\"Name\": \"Endpoint\", \"Value\": endpoint_name},\n",
    "        {\"Name\": \"MonitoringSchedule\", \"Value\": churn_monitor_schedule_name},\n",
    "    ],\n",
    "    Period=600,\n",
    "    EvaluationPeriods=1,\n",
    "    DatapointsToAlarm=1,\n",
    "    Threshold=mdoel_quality_f1_drift_threshold,\n",
    "    ComparisonOperator=\"LessThanOrEqualToThreshold\",\n",
    "    TreatMissingData=\"breaching\",\n",
    ")"
   ]
  },
  {
   "cell_type": "markdown",
   "id": "469e6a09-d79c-49ab-8dc3-c10056dba832",
   "metadata": {},
   "source": [
    "<img src=\"./pictures/violated cloudwatch alarm.png\" style=\"height:300px\" />"
   ]
  },
  {
   "cell_type": "markdown",
   "id": "df8ab5d0-8fb6-4969-ad37-24acec946edf",
   "metadata": {},
   "source": [
    "To shut down all resources and clean up:"
   ]
  },
  {
   "cell_type": "code",
   "execution_count": 69,
   "id": "fd64f74c-6bb6-47cb-8996-de64281dcc78",
   "metadata": {
    "tags": []
   },
   "outputs": [],
   "source": [
    "# churn_model_quality_monitor.delete_monitoring_schedule()\n",
    "# sleep(60)  # actually wait for the deletion\n",
    "\n",
    "# predictor.delete_model()\n",
    "# predictor.delete_endpoint()"
   ]
  },
  {
   "cell_type": "code",
   "execution_count": null,
   "id": "46f03dee-a636-4dd1-a5d1-ed97d7ff9d23",
   "metadata": {},
   "outputs": [],
   "source": []
  }
 ],
 "metadata": {
  "availableInstances": [
   {
    "_defaultOrder": 0,
    "_isFastLaunch": true,
    "category": "General purpose",
    "gpuNum": 0,
    "hideHardwareSpecs": false,
    "memoryGiB": 4,
    "name": "ml.t3.medium",
    "vcpuNum": 2
   },
   {
    "_defaultOrder": 1,
    "_isFastLaunch": false,
    "category": "General purpose",
    "gpuNum": 0,
    "hideHardwareSpecs": false,
    "memoryGiB": 8,
    "name": "ml.t3.large",
    "vcpuNum": 2
   },
   {
    "_defaultOrder": 2,
    "_isFastLaunch": false,
    "category": "General purpose",
    "gpuNum": 0,
    "hideHardwareSpecs": false,
    "memoryGiB": 16,
    "name": "ml.t3.xlarge",
    "vcpuNum": 4
   },
   {
    "_defaultOrder": 3,
    "_isFastLaunch": false,
    "category": "General purpose",
    "gpuNum": 0,
    "hideHardwareSpecs": false,
    "memoryGiB": 32,
    "name": "ml.t3.2xlarge",
    "vcpuNum": 8
   },
   {
    "_defaultOrder": 4,
    "_isFastLaunch": true,
    "category": "General purpose",
    "gpuNum": 0,
    "hideHardwareSpecs": false,
    "memoryGiB": 8,
    "name": "ml.m5.large",
    "vcpuNum": 2
   },
   {
    "_defaultOrder": 5,
    "_isFastLaunch": false,
    "category": "General purpose",
    "gpuNum": 0,
    "hideHardwareSpecs": false,
    "memoryGiB": 16,
    "name": "ml.m5.xlarge",
    "vcpuNum": 4
   },
   {
    "_defaultOrder": 6,
    "_isFastLaunch": false,
    "category": "General purpose",
    "gpuNum": 0,
    "hideHardwareSpecs": false,
    "memoryGiB": 32,
    "name": "ml.m5.2xlarge",
    "vcpuNum": 8
   },
   {
    "_defaultOrder": 7,
    "_isFastLaunch": false,
    "category": "General purpose",
    "gpuNum": 0,
    "hideHardwareSpecs": false,
    "memoryGiB": 64,
    "name": "ml.m5.4xlarge",
    "vcpuNum": 16
   },
   {
    "_defaultOrder": 8,
    "_isFastLaunch": false,
    "category": "General purpose",
    "gpuNum": 0,
    "hideHardwareSpecs": false,
    "memoryGiB": 128,
    "name": "ml.m5.8xlarge",
    "vcpuNum": 32
   },
   {
    "_defaultOrder": 9,
    "_isFastLaunch": false,
    "category": "General purpose",
    "gpuNum": 0,
    "hideHardwareSpecs": false,
    "memoryGiB": 192,
    "name": "ml.m5.12xlarge",
    "vcpuNum": 48
   },
   {
    "_defaultOrder": 10,
    "_isFastLaunch": false,
    "category": "General purpose",
    "gpuNum": 0,
    "hideHardwareSpecs": false,
    "memoryGiB": 256,
    "name": "ml.m5.16xlarge",
    "vcpuNum": 64
   },
   {
    "_defaultOrder": 11,
    "_isFastLaunch": false,
    "category": "General purpose",
    "gpuNum": 0,
    "hideHardwareSpecs": false,
    "memoryGiB": 384,
    "name": "ml.m5.24xlarge",
    "vcpuNum": 96
   },
   {
    "_defaultOrder": 12,
    "_isFastLaunch": false,
    "category": "General purpose",
    "gpuNum": 0,
    "hideHardwareSpecs": false,
    "memoryGiB": 8,
    "name": "ml.m5d.large",
    "vcpuNum": 2
   },
   {
    "_defaultOrder": 13,
    "_isFastLaunch": false,
    "category": "General purpose",
    "gpuNum": 0,
    "hideHardwareSpecs": false,
    "memoryGiB": 16,
    "name": "ml.m5d.xlarge",
    "vcpuNum": 4
   },
   {
    "_defaultOrder": 14,
    "_isFastLaunch": false,
    "category": "General purpose",
    "gpuNum": 0,
    "hideHardwareSpecs": false,
    "memoryGiB": 32,
    "name": "ml.m5d.2xlarge",
    "vcpuNum": 8
   },
   {
    "_defaultOrder": 15,
    "_isFastLaunch": false,
    "category": "General purpose",
    "gpuNum": 0,
    "hideHardwareSpecs": false,
    "memoryGiB": 64,
    "name": "ml.m5d.4xlarge",
    "vcpuNum": 16
   },
   {
    "_defaultOrder": 16,
    "_isFastLaunch": false,
    "category": "General purpose",
    "gpuNum": 0,
    "hideHardwareSpecs": false,
    "memoryGiB": 128,
    "name": "ml.m5d.8xlarge",
    "vcpuNum": 32
   },
   {
    "_defaultOrder": 17,
    "_isFastLaunch": false,
    "category": "General purpose",
    "gpuNum": 0,
    "hideHardwareSpecs": false,
    "memoryGiB": 192,
    "name": "ml.m5d.12xlarge",
    "vcpuNum": 48
   },
   {
    "_defaultOrder": 18,
    "_isFastLaunch": false,
    "category": "General purpose",
    "gpuNum": 0,
    "hideHardwareSpecs": false,
    "memoryGiB": 256,
    "name": "ml.m5d.16xlarge",
    "vcpuNum": 64
   },
   {
    "_defaultOrder": 19,
    "_isFastLaunch": false,
    "category": "General purpose",
    "gpuNum": 0,
    "hideHardwareSpecs": false,
    "memoryGiB": 384,
    "name": "ml.m5d.24xlarge",
    "vcpuNum": 96
   },
   {
    "_defaultOrder": 20,
    "_isFastLaunch": false,
    "category": "General purpose",
    "gpuNum": 0,
    "hideHardwareSpecs": true,
    "memoryGiB": 0,
    "name": "ml.geospatial.interactive",
    "supportedImageNames": [
     "sagemaker-geospatial-v1-0"
    ],
    "vcpuNum": 0
   },
   {
    "_defaultOrder": 21,
    "_isFastLaunch": true,
    "category": "Compute optimized",
    "gpuNum": 0,
    "hideHardwareSpecs": false,
    "memoryGiB": 4,
    "name": "ml.c5.large",
    "vcpuNum": 2
   },
   {
    "_defaultOrder": 22,
    "_isFastLaunch": false,
    "category": "Compute optimized",
    "gpuNum": 0,
    "hideHardwareSpecs": false,
    "memoryGiB": 8,
    "name": "ml.c5.xlarge",
    "vcpuNum": 4
   },
   {
    "_defaultOrder": 23,
    "_isFastLaunch": false,
    "category": "Compute optimized",
    "gpuNum": 0,
    "hideHardwareSpecs": false,
    "memoryGiB": 16,
    "name": "ml.c5.2xlarge",
    "vcpuNum": 8
   },
   {
    "_defaultOrder": 24,
    "_isFastLaunch": false,
    "category": "Compute optimized",
    "gpuNum": 0,
    "hideHardwareSpecs": false,
    "memoryGiB": 32,
    "name": "ml.c5.4xlarge",
    "vcpuNum": 16
   },
   {
    "_defaultOrder": 25,
    "_isFastLaunch": false,
    "category": "Compute optimized",
    "gpuNum": 0,
    "hideHardwareSpecs": false,
    "memoryGiB": 72,
    "name": "ml.c5.9xlarge",
    "vcpuNum": 36
   },
   {
    "_defaultOrder": 26,
    "_isFastLaunch": false,
    "category": "Compute optimized",
    "gpuNum": 0,
    "hideHardwareSpecs": false,
    "memoryGiB": 96,
    "name": "ml.c5.12xlarge",
    "vcpuNum": 48
   },
   {
    "_defaultOrder": 27,
    "_isFastLaunch": false,
    "category": "Compute optimized",
    "gpuNum": 0,
    "hideHardwareSpecs": false,
    "memoryGiB": 144,
    "name": "ml.c5.18xlarge",
    "vcpuNum": 72
   },
   {
    "_defaultOrder": 28,
    "_isFastLaunch": false,
    "category": "Compute optimized",
    "gpuNum": 0,
    "hideHardwareSpecs": false,
    "memoryGiB": 192,
    "name": "ml.c5.24xlarge",
    "vcpuNum": 96
   },
   {
    "_defaultOrder": 29,
    "_isFastLaunch": true,
    "category": "Accelerated computing",
    "gpuNum": 1,
    "hideHardwareSpecs": false,
    "memoryGiB": 16,
    "name": "ml.g4dn.xlarge",
    "vcpuNum": 4
   },
   {
    "_defaultOrder": 30,
    "_isFastLaunch": false,
    "category": "Accelerated computing",
    "gpuNum": 1,
    "hideHardwareSpecs": false,
    "memoryGiB": 32,
    "name": "ml.g4dn.2xlarge",
    "vcpuNum": 8
   },
   {
    "_defaultOrder": 31,
    "_isFastLaunch": false,
    "category": "Accelerated computing",
    "gpuNum": 1,
    "hideHardwareSpecs": false,
    "memoryGiB": 64,
    "name": "ml.g4dn.4xlarge",
    "vcpuNum": 16
   },
   {
    "_defaultOrder": 32,
    "_isFastLaunch": false,
    "category": "Accelerated computing",
    "gpuNum": 1,
    "hideHardwareSpecs": false,
    "memoryGiB": 128,
    "name": "ml.g4dn.8xlarge",
    "vcpuNum": 32
   },
   {
    "_defaultOrder": 33,
    "_isFastLaunch": false,
    "category": "Accelerated computing",
    "gpuNum": 4,
    "hideHardwareSpecs": false,
    "memoryGiB": 192,
    "name": "ml.g4dn.12xlarge",
    "vcpuNum": 48
   },
   {
    "_defaultOrder": 34,
    "_isFastLaunch": false,
    "category": "Accelerated computing",
    "gpuNum": 1,
    "hideHardwareSpecs": false,
    "memoryGiB": 256,
    "name": "ml.g4dn.16xlarge",
    "vcpuNum": 64
   },
   {
    "_defaultOrder": 35,
    "_isFastLaunch": false,
    "category": "Accelerated computing",
    "gpuNum": 1,
    "hideHardwareSpecs": false,
    "memoryGiB": 61,
    "name": "ml.p3.2xlarge",
    "vcpuNum": 8
   },
   {
    "_defaultOrder": 36,
    "_isFastLaunch": false,
    "category": "Accelerated computing",
    "gpuNum": 4,
    "hideHardwareSpecs": false,
    "memoryGiB": 244,
    "name": "ml.p3.8xlarge",
    "vcpuNum": 32
   },
   {
    "_defaultOrder": 37,
    "_isFastLaunch": false,
    "category": "Accelerated computing",
    "gpuNum": 8,
    "hideHardwareSpecs": false,
    "memoryGiB": 488,
    "name": "ml.p3.16xlarge",
    "vcpuNum": 64
   },
   {
    "_defaultOrder": 38,
    "_isFastLaunch": false,
    "category": "Accelerated computing",
    "gpuNum": 8,
    "hideHardwareSpecs": false,
    "memoryGiB": 768,
    "name": "ml.p3dn.24xlarge",
    "vcpuNum": 96
   },
   {
    "_defaultOrder": 39,
    "_isFastLaunch": false,
    "category": "Memory Optimized",
    "gpuNum": 0,
    "hideHardwareSpecs": false,
    "memoryGiB": 16,
    "name": "ml.r5.large",
    "vcpuNum": 2
   },
   {
    "_defaultOrder": 40,
    "_isFastLaunch": false,
    "category": "Memory Optimized",
    "gpuNum": 0,
    "hideHardwareSpecs": false,
    "memoryGiB": 32,
    "name": "ml.r5.xlarge",
    "vcpuNum": 4
   },
   {
    "_defaultOrder": 41,
    "_isFastLaunch": false,
    "category": "Memory Optimized",
    "gpuNum": 0,
    "hideHardwareSpecs": false,
    "memoryGiB": 64,
    "name": "ml.r5.2xlarge",
    "vcpuNum": 8
   },
   {
    "_defaultOrder": 42,
    "_isFastLaunch": false,
    "category": "Memory Optimized",
    "gpuNum": 0,
    "hideHardwareSpecs": false,
    "memoryGiB": 128,
    "name": "ml.r5.4xlarge",
    "vcpuNum": 16
   },
   {
    "_defaultOrder": 43,
    "_isFastLaunch": false,
    "category": "Memory Optimized",
    "gpuNum": 0,
    "hideHardwareSpecs": false,
    "memoryGiB": 256,
    "name": "ml.r5.8xlarge",
    "vcpuNum": 32
   },
   {
    "_defaultOrder": 44,
    "_isFastLaunch": false,
    "category": "Memory Optimized",
    "gpuNum": 0,
    "hideHardwareSpecs": false,
    "memoryGiB": 384,
    "name": "ml.r5.12xlarge",
    "vcpuNum": 48
   },
   {
    "_defaultOrder": 45,
    "_isFastLaunch": false,
    "category": "Memory Optimized",
    "gpuNum": 0,
    "hideHardwareSpecs": false,
    "memoryGiB": 512,
    "name": "ml.r5.16xlarge",
    "vcpuNum": 64
   },
   {
    "_defaultOrder": 46,
    "_isFastLaunch": false,
    "category": "Memory Optimized",
    "gpuNum": 0,
    "hideHardwareSpecs": false,
    "memoryGiB": 768,
    "name": "ml.r5.24xlarge",
    "vcpuNum": 96
   },
   {
    "_defaultOrder": 47,
    "_isFastLaunch": false,
    "category": "Accelerated computing",
    "gpuNum": 1,
    "hideHardwareSpecs": false,
    "memoryGiB": 16,
    "name": "ml.g5.xlarge",
    "vcpuNum": 4
   },
   {
    "_defaultOrder": 48,
    "_isFastLaunch": false,
    "category": "Accelerated computing",
    "gpuNum": 1,
    "hideHardwareSpecs": false,
    "memoryGiB": 32,
    "name": "ml.g5.2xlarge",
    "vcpuNum": 8
   },
   {
    "_defaultOrder": 49,
    "_isFastLaunch": false,
    "category": "Accelerated computing",
    "gpuNum": 1,
    "hideHardwareSpecs": false,
    "memoryGiB": 64,
    "name": "ml.g5.4xlarge",
    "vcpuNum": 16
   },
   {
    "_defaultOrder": 50,
    "_isFastLaunch": false,
    "category": "Accelerated computing",
    "gpuNum": 1,
    "hideHardwareSpecs": false,
    "memoryGiB": 128,
    "name": "ml.g5.8xlarge",
    "vcpuNum": 32
   },
   {
    "_defaultOrder": 51,
    "_isFastLaunch": false,
    "category": "Accelerated computing",
    "gpuNum": 1,
    "hideHardwareSpecs": false,
    "memoryGiB": 256,
    "name": "ml.g5.16xlarge",
    "vcpuNum": 64
   },
   {
    "_defaultOrder": 52,
    "_isFastLaunch": false,
    "category": "Accelerated computing",
    "gpuNum": 4,
    "hideHardwareSpecs": false,
    "memoryGiB": 192,
    "name": "ml.g5.12xlarge",
    "vcpuNum": 48
   },
   {
    "_defaultOrder": 53,
    "_isFastLaunch": false,
    "category": "Accelerated computing",
    "gpuNum": 4,
    "hideHardwareSpecs": false,
    "memoryGiB": 384,
    "name": "ml.g5.24xlarge",
    "vcpuNum": 96
   },
   {
    "_defaultOrder": 54,
    "_isFastLaunch": false,
    "category": "Accelerated computing",
    "gpuNum": 8,
    "hideHardwareSpecs": false,
    "memoryGiB": 768,
    "name": "ml.g5.48xlarge",
    "vcpuNum": 192
   },
   {
    "_defaultOrder": 55,
    "_isFastLaunch": false,
    "category": "Accelerated computing",
    "gpuNum": 8,
    "hideHardwareSpecs": false,
    "memoryGiB": 1152,
    "name": "ml.p4d.24xlarge",
    "vcpuNum": 96
   },
   {
    "_defaultOrder": 56,
    "_isFastLaunch": false,
    "category": "Accelerated computing",
    "gpuNum": 8,
    "hideHardwareSpecs": false,
    "memoryGiB": 1152,
    "name": "ml.p4de.24xlarge",
    "vcpuNum": 96
   },
   {
    "_defaultOrder": 57,
    "_isFastLaunch": false,
    "category": "Accelerated computing",
    "gpuNum": 0,
    "hideHardwareSpecs": false,
    "memoryGiB": 32,
    "name": "ml.trn1.2xlarge",
    "vcpuNum": 8
   },
   {
    "_defaultOrder": 58,
    "_isFastLaunch": false,
    "category": "Accelerated computing",
    "gpuNum": 0,
    "hideHardwareSpecs": false,
    "memoryGiB": 512,
    "name": "ml.trn1.32xlarge",
    "vcpuNum": 128
   },
   {
    "_defaultOrder": 59,
    "_isFastLaunch": false,
    "category": "Accelerated computing",
    "gpuNum": 0,
    "hideHardwareSpecs": false,
    "memoryGiB": 512,
    "name": "ml.trn1n.32xlarge",
    "vcpuNum": 128
   }
  ],
  "instance_type": "ml.t3.medium",
  "kernelspec": {
   "display_name": "Python 3 (Data Science 3.0)",
   "language": "python",
   "name": "python3__SAGEMAKER_INTERNAL__arn:aws:sagemaker:us-east-1:081325390199:image/sagemaker-data-science-310-v1"
  },
  "language_info": {
   "codemirror_mode": {
    "name": "ipython",
    "version": 3
   },
   "file_extension": ".py",
   "mimetype": "text/x-python",
   "name": "python",
   "nbconvert_exporter": "python",
   "pygments_lexer": "ipython3",
   "version": "3.10.6"
  }
 },
 "nbformat": 4,
 "nbformat_minor": 5
}
