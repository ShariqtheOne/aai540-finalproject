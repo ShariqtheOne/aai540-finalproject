{
 "cells": [
  {
   "cell_type": "code",
   "execution_count": 2,
   "id": "21ee9af6-831e-4fae-974f-86ae3845743a",
   "metadata": {
    "tags": []
   },
   "outputs": [
    {
     "name": "stdout",
     "output_type": "stream",
     "text": [
      "\u001b[33mWARNING: Running pip as the 'root' user can result in broken permissions and conflicting behaviour with the system package manager. It is recommended to use a virtual environment instead: https://pip.pypa.io/warnings/venv\u001b[0m\u001b[33m\n",
      "\u001b[0m\n",
      "\u001b[1m[\u001b[0m\u001b[34;49mnotice\u001b[0m\u001b[1;39;49m]\u001b[0m\u001b[39;49m A new release of pip is available: \u001b[0m\u001b[31;49m23.3.1\u001b[0m\u001b[39;49m -> \u001b[0m\u001b[32;49m24.0\u001b[0m\n",
      "\u001b[1m[\u001b[0m\u001b[34;49mnotice\u001b[0m\u001b[1;39;49m]\u001b[0m\u001b[39;49m To update, run: \u001b[0m\u001b[32;49mpip install --upgrade pip\u001b[0m\n"
     ]
    }
   ],
   "source": [
    "!pip install -q xgboost"
   ]
  },
  {
   "cell_type": "code",
   "execution_count": 3,
   "id": "03174be9-454c-4d21-aeed-9307ecfc1ec0",
   "metadata": {
    "tags": []
   },
   "outputs": [
    {
     "name": "stdout",
     "output_type": "stream",
     "text": [
      "sagemaker.config INFO - Not applying SDK defaults from location: /etc/xdg/sagemaker/config.yaml\n",
      "sagemaker.config INFO - Not applying SDK defaults from location: /root/.config/sagemaker/config.yaml\n",
      "sagemaker.config INFO - Not applying SDK defaults from location: /etc/xdg/sagemaker/config.yaml\n",
      "sagemaker.config INFO - Not applying SDK defaults from location: /root/.config/sagemaker/config.yaml\n",
      "sagemaker.config INFO - Not applying SDK defaults from location: /etc/xdg/sagemaker/config.yaml\n",
      "sagemaker.config INFO - Not applying SDK defaults from location: /root/.config/sagemaker/config.yaml\n"
     ]
    }
   ],
   "source": [
    "from time import gmtime, strftime, sleep\n",
    "from datetime import datetime\n",
    "import re\n",
    "from threading import Thread\n",
    "import json\n",
    "import random\n",
    "\n",
    "import numpy as np\n",
    "import pandas as pd\n",
    "import xgboost as xgb\n",
    "from sklearn.model_selection import train_test_split\n",
    "from sklearn.preprocessing import StandardScaler\n",
    "\n",
    "import os\n",
    "import boto3\n",
    "import sagemaker\n",
    "from sagemaker import Session, image_uris\n",
    "from sagemaker.serializers import CSVSerializer\n",
    "from sagemaker.model import Model\n",
    "from sagemaker.model_monitor import(DataCaptureConfig,\n",
    "                                    ModelQualityMonitor,\n",
    "                                    EndpointInput,\n",
    "                                    CronExpressionGenerator)\n",
    "from sagemaker.predictor import Predictor\n",
    "from sagemaker.s3 import S3Downloader, S3Uploader\n",
    "from sagemaker.model_monitor.dataset_format import DatasetFormat\n",
    "\n",
    "sm_client = boto3.client(\"sagemaker\")\n",
    "role = sagemaker.get_execution_role()\n",
    "sess = sagemaker.Session()\n",
    "region = sess.boto_region_name\n",
    "\n",
    "s3 = boto3.client(\"s3\")\n",
    "bucket = sess.default_bucket()\n",
    "prefix = \"churn-prediction-xgboost\""
   ]
  },
  {
   "cell_type": "code",
   "execution_count": 4,
   "id": "742c6b8a-8169-421a-a28e-c5eef95f55d5",
   "metadata": {
    "tags": []
   },
   "outputs": [
    {
     "name": "stdout",
     "output_type": "stream",
     "text": [
      "Image URI: 156813124566.dkr.ecr.us-east-1.amazonaws.com/sagemaker-model-monitor-analyzer\n",
      "Capture path: s3://sagemaker-us-east-1-075039479415/churn-prediction-xgboost/datacapture\n",
      "Ground truth path: s3://sagemaker-us-east-1-075039479415/churn-prediction-xgboost/ground_truth_data/2024-02-17-08-17-47\n",
      "Report path: s3://sagemaker-us-east-1-075039479415/churn-prediction-xgboost/reports\n"
     ]
    }
   ],
   "source": [
    "# Setup S3 bucket\n",
    "# You can use a different bucket, but make sure the role you chose for this notebook\n",
    "# has the s3:PutObject permissions. This is the bucket into which the data is captured\n",
    "\n",
    "##S3 prefixes\n",
    "data_capture_prefix = f\"{prefix}/datacapture\"\n",
    "s3_capture_upload_path = f\"s3://{bucket}/{data_capture_prefix}\"\n",
    "\n",
    "ground_truth_upload_path = (\n",
    "    f\"s3://{bucket}/{prefix}/ground_truth_data/{datetime.now():%Y-%m-%d-%H-%M-%S}\"\n",
    ")\n",
    "\n",
    "reports_prefix = f\"{prefix}/reports\"\n",
    "s3_report_path = f\"s3://{bucket}/{reports_prefix}\"\n",
    "\n",
    "##Get the model monitor image\n",
    "monitor_image_uri = image_uris.retrieve(framework=\"model-monitor\", region=region)\n",
    "\n",
    "print(\"Image URI:\", monitor_image_uri)\n",
    "print(f\"Capture path: {s3_capture_upload_path}\")\n",
    "print(f\"Ground truth path: {ground_truth_upload_path}\")\n",
    "print(f\"Report path: {s3_report_path}\")"
   ]
  },
  {
   "cell_type": "markdown",
   "id": "5ae37436-1cf3-479e-8f01-c47dc0911f7a",
   "metadata": {},
   "source": [
    "Prepare dataset"
   ]
  },
  {
   "cell_type": "code",
   "execution_count": 5,
   "id": "8f052500-cd60-46c8-8912-b6917650c831",
   "metadata": {
    "tags": []
   },
   "outputs": [
    {
     "data": {
      "text/html": [
       "<div>\n",
       "<style scoped>\n",
       "    .dataframe tbody tr th:only-of-type {\n",
       "        vertical-align: middle;\n",
       "    }\n",
       "\n",
       "    .dataframe tbody tr th {\n",
       "        vertical-align: top;\n",
       "    }\n",
       "\n",
       "    .dataframe thead th {\n",
       "        text-align: right;\n",
       "    }\n",
       "</style>\n",
       "<table border=\"1\" class=\"dataframe\">\n",
       "  <thead>\n",
       "    <tr style=\"text-align: right;\">\n",
       "      <th></th>\n",
       "      <th>CustomerId</th>\n",
       "      <th>CreditScore</th>\n",
       "      <th>Age</th>\n",
       "      <th>Tenure</th>\n",
       "      <th>Balance</th>\n",
       "      <th>NumOfProducts</th>\n",
       "      <th>HasCrCard</th>\n",
       "      <th>IsActiveMember</th>\n",
       "      <th>EstimatedSalary</th>\n",
       "      <th>Exited</th>\n",
       "      <th>Geography_France</th>\n",
       "      <th>Geography_Germany</th>\n",
       "      <th>Geography_Spain</th>\n",
       "      <th>Gender_Female</th>\n",
       "    </tr>\n",
       "  </thead>\n",
       "  <tbody>\n",
       "    <tr>\n",
       "      <th>0</th>\n",
       "      <td>15634602</td>\n",
       "      <td>619</td>\n",
       "      <td>42</td>\n",
       "      <td>2</td>\n",
       "      <td>0.00</td>\n",
       "      <td>1</td>\n",
       "      <td>1</td>\n",
       "      <td>1</td>\n",
       "      <td>101348.88</td>\n",
       "      <td>1</td>\n",
       "      <td>True</td>\n",
       "      <td>False</td>\n",
       "      <td>False</td>\n",
       "      <td>True</td>\n",
       "    </tr>\n",
       "    <tr>\n",
       "      <th>1</th>\n",
       "      <td>15647311</td>\n",
       "      <td>608</td>\n",
       "      <td>41</td>\n",
       "      <td>1</td>\n",
       "      <td>83807.86</td>\n",
       "      <td>1</td>\n",
       "      <td>0</td>\n",
       "      <td>1</td>\n",
       "      <td>112542.58</td>\n",
       "      <td>0</td>\n",
       "      <td>False</td>\n",
       "      <td>False</td>\n",
       "      <td>True</td>\n",
       "      <td>True</td>\n",
       "    </tr>\n",
       "    <tr>\n",
       "      <th>2</th>\n",
       "      <td>15619304</td>\n",
       "      <td>502</td>\n",
       "      <td>42</td>\n",
       "      <td>8</td>\n",
       "      <td>159660.80</td>\n",
       "      <td>3</td>\n",
       "      <td>1</td>\n",
       "      <td>0</td>\n",
       "      <td>113931.57</td>\n",
       "      <td>1</td>\n",
       "      <td>True</td>\n",
       "      <td>False</td>\n",
       "      <td>False</td>\n",
       "      <td>True</td>\n",
       "    </tr>\n",
       "    <tr>\n",
       "      <th>3</th>\n",
       "      <td>15701354</td>\n",
       "      <td>699</td>\n",
       "      <td>39</td>\n",
       "      <td>1</td>\n",
       "      <td>0.00</td>\n",
       "      <td>2</td>\n",
       "      <td>0</td>\n",
       "      <td>0</td>\n",
       "      <td>93826.63</td>\n",
       "      <td>0</td>\n",
       "      <td>True</td>\n",
       "      <td>False</td>\n",
       "      <td>False</td>\n",
       "      <td>True</td>\n",
       "    </tr>\n",
       "    <tr>\n",
       "      <th>4</th>\n",
       "      <td>15737888</td>\n",
       "      <td>850</td>\n",
       "      <td>43</td>\n",
       "      <td>2</td>\n",
       "      <td>125510.82</td>\n",
       "      <td>1</td>\n",
       "      <td>1</td>\n",
       "      <td>1</td>\n",
       "      <td>79084.10</td>\n",
       "      <td>0</td>\n",
       "      <td>False</td>\n",
       "      <td>False</td>\n",
       "      <td>True</td>\n",
       "      <td>True</td>\n",
       "    </tr>\n",
       "    <tr>\n",
       "      <th>...</th>\n",
       "      <td>...</td>\n",
       "      <td>...</td>\n",
       "      <td>...</td>\n",
       "      <td>...</td>\n",
       "      <td>...</td>\n",
       "      <td>...</td>\n",
       "      <td>...</td>\n",
       "      <td>...</td>\n",
       "      <td>...</td>\n",
       "      <td>...</td>\n",
       "      <td>...</td>\n",
       "      <td>...</td>\n",
       "      <td>...</td>\n",
       "      <td>...</td>\n",
       "    </tr>\n",
       "    <tr>\n",
       "      <th>9995</th>\n",
       "      <td>15606229</td>\n",
       "      <td>771</td>\n",
       "      <td>39</td>\n",
       "      <td>5</td>\n",
       "      <td>0.00</td>\n",
       "      <td>2</td>\n",
       "      <td>1</td>\n",
       "      <td>0</td>\n",
       "      <td>96270.64</td>\n",
       "      <td>0</td>\n",
       "      <td>True</td>\n",
       "      <td>False</td>\n",
       "      <td>False</td>\n",
       "      <td>False</td>\n",
       "    </tr>\n",
       "    <tr>\n",
       "      <th>9996</th>\n",
       "      <td>15569892</td>\n",
       "      <td>516</td>\n",
       "      <td>35</td>\n",
       "      <td>10</td>\n",
       "      <td>57369.61</td>\n",
       "      <td>1</td>\n",
       "      <td>1</td>\n",
       "      <td>1</td>\n",
       "      <td>101699.77</td>\n",
       "      <td>0</td>\n",
       "      <td>True</td>\n",
       "      <td>False</td>\n",
       "      <td>False</td>\n",
       "      <td>False</td>\n",
       "    </tr>\n",
       "    <tr>\n",
       "      <th>9997</th>\n",
       "      <td>15584532</td>\n",
       "      <td>709</td>\n",
       "      <td>36</td>\n",
       "      <td>7</td>\n",
       "      <td>0.00</td>\n",
       "      <td>1</td>\n",
       "      <td>0</td>\n",
       "      <td>1</td>\n",
       "      <td>42085.58</td>\n",
       "      <td>1</td>\n",
       "      <td>True</td>\n",
       "      <td>False</td>\n",
       "      <td>False</td>\n",
       "      <td>True</td>\n",
       "    </tr>\n",
       "    <tr>\n",
       "      <th>9998</th>\n",
       "      <td>15682355</td>\n",
       "      <td>772</td>\n",
       "      <td>42</td>\n",
       "      <td>3</td>\n",
       "      <td>75075.31</td>\n",
       "      <td>2</td>\n",
       "      <td>1</td>\n",
       "      <td>0</td>\n",
       "      <td>92888.52</td>\n",
       "      <td>1</td>\n",
       "      <td>False</td>\n",
       "      <td>True</td>\n",
       "      <td>False</td>\n",
       "      <td>False</td>\n",
       "    </tr>\n",
       "    <tr>\n",
       "      <th>9999</th>\n",
       "      <td>15628319</td>\n",
       "      <td>792</td>\n",
       "      <td>28</td>\n",
       "      <td>4</td>\n",
       "      <td>130142.79</td>\n",
       "      <td>1</td>\n",
       "      <td>1</td>\n",
       "      <td>0</td>\n",
       "      <td>38190.78</td>\n",
       "      <td>0</td>\n",
       "      <td>True</td>\n",
       "      <td>False</td>\n",
       "      <td>False</td>\n",
       "      <td>True</td>\n",
       "    </tr>\n",
       "  </tbody>\n",
       "</table>\n",
       "<p>10000 rows × 14 columns</p>\n",
       "</div>"
      ],
      "text/plain": [
       "      CustomerId  CreditScore  Age  Tenure    Balance  NumOfProducts  \\\n",
       "0       15634602          619   42       2       0.00              1   \n",
       "1       15647311          608   41       1   83807.86              1   \n",
       "2       15619304          502   42       8  159660.80              3   \n",
       "3       15701354          699   39       1       0.00              2   \n",
       "4       15737888          850   43       2  125510.82              1   \n",
       "...          ...          ...  ...     ...        ...            ...   \n",
       "9995    15606229          771   39       5       0.00              2   \n",
       "9996    15569892          516   35      10   57369.61              1   \n",
       "9997    15584532          709   36       7       0.00              1   \n",
       "9998    15682355          772   42       3   75075.31              2   \n",
       "9999    15628319          792   28       4  130142.79              1   \n",
       "\n",
       "      HasCrCard  IsActiveMember  EstimatedSalary  Exited  Geography_France  \\\n",
       "0             1               1        101348.88       1              True   \n",
       "1             0               1        112542.58       0             False   \n",
       "2             1               0        113931.57       1              True   \n",
       "3             0               0         93826.63       0              True   \n",
       "4             1               1         79084.10       0             False   \n",
       "...         ...             ...              ...     ...               ...   \n",
       "9995          1               0         96270.64       0              True   \n",
       "9996          1               1        101699.77       0              True   \n",
       "9997          0               1         42085.58       1              True   \n",
       "9998          1               0         92888.52       1             False   \n",
       "9999          1               0         38190.78       0              True   \n",
       "\n",
       "      Geography_Germany  Geography_Spain  Gender_Female  \n",
       "0                 False            False           True  \n",
       "1                 False             True           True  \n",
       "2                 False            False           True  \n",
       "3                 False            False           True  \n",
       "4                 False             True           True  \n",
       "...                 ...              ...            ...  \n",
       "9995              False            False          False  \n",
       "9996              False            False          False  \n",
       "9997              False            False           True  \n",
       "9998               True            False          False  \n",
       "9999              False            False           True  \n",
       "\n",
       "[10000 rows x 14 columns]"
      ]
     },
     "execution_count": 5,
     "metadata": {},
     "output_type": "execute_result"
    }
   ],
   "source": [
    "df = pd.read_csv(\"data/Churn_Modelling.csv\")\n",
    "df.drop(columns=[\"RowNumber\", \"Surname\"], inplace=True)\n",
    "df = pd.get_dummies(df)\n",
    "df.drop(columns=\"Gender_Male\", inplace=True)\n",
    "df"
   ]
  },
  {
   "cell_type": "markdown",
   "id": "b3cc6618-fee2-40ab-bce4-0cf329439d07",
   "metadata": {},
   "source": [
    "Change boolean types to int as is supported by SageMaker."
   ]
  },
  {
   "cell_type": "code",
   "execution_count": 6,
   "id": "5fc44f3e-144f-43fe-8a1a-eab5b8043247",
   "metadata": {
    "tags": []
   },
   "outputs": [],
   "source": [
    "for col in df.columns:\n",
    "    if df[col].dtype == \"bool\":\n",
    "        df[col] = df[col].astype(int)"
   ]
  },
  {
   "cell_type": "markdown",
   "id": "7250c4f6-8ce1-4343-acb0-38c9900d82f5",
   "metadata": {},
   "source": [
    "Split into train, test, and validation sets"
   ]
  },
  {
   "cell_type": "code",
   "execution_count": 7,
   "id": "032d2b80-9244-416f-911c-736404e8d09f",
   "metadata": {},
   "outputs": [],
   "source": [
    "X = df.drop(columns=\"Exited\")\n",
    "y = df[\"Exited\"]\n",
    "\n",
    "X_train, X_test, y_train, y_test = train_test_split(\n",
    " X, y,\n",
    " test_size=0.2, random_state=1)\n",
    "\n",
    "X_test, X_val, y_test, y_val = train_test_split(\n",
    " X_test, y_test,\n",
    " test_size=0.5, random_state=1)\n",
    "\n",
    "X_train.drop(columns=\"CustomerId\", inplace=True)\n",
    "X_val.drop(columns=\"CustomerId\", inplace=True)"
   ]
  },
  {
   "cell_type": "markdown",
   "id": "254edc61-08b5-415b-bba1-a1da60a24328",
   "metadata": {
    "tags": []
   },
   "source": [
    "Upload to S3"
   ]
  },
  {
   "cell_type": "code",
   "execution_count": 8,
   "id": "ec66888b-f747-44ec-abee-b907f9ba68d3",
   "metadata": {
    "tags": []
   },
   "outputs": [
    {
     "data": {
      "text/plain": [
       "'s3://sagemaker-us-east-1-075039479415/churn-prediction-xgboost/batch/batch_data.csv'"
      ]
     },
     "execution_count": 8,
     "metadata": {},
     "output_type": "execute_result"
    }
   ],
   "source": [
    "train_file = \"data/train_data.csv\"\n",
    "pd.concat([y_train, X_train], axis=1).to_csv(train_file, index=False, header=False)\n",
    "sess.upload_data(train_file, key_prefix=\"{}/train\".format(prefix))\n",
    "\n",
    "validation_file = \"data/validation_data.csv\"\n",
    "pd.concat([y_val, X_val], axis=1).to_csv(validation_file, index=False, header=False)\n",
    "sess.upload_data(validation_file, key_prefix=\"{}/validation\".format(prefix))\n",
    "\n",
    "batch_file = \"data/batch_data.csv\"\n",
    "X_test.to_csv(batch_file, index=False, header=False)\n",
    "sess.upload_data(batch_file, key_prefix=\"{}/batch\".format(prefix))"
   ]
  },
  {
   "cell_type": "code",
   "execution_count": 9,
   "id": "5900dd6b-1d96-4981-acdb-2eab4aa5eced",
   "metadata": {
    "tags": []
   },
   "outputs": [],
   "source": [
    "# save validation data with predictions without the CustomerId column\n",
    "# this will be used for calculating a baseline for monitoring\n",
    "\n",
    "pd.concat([y_test, X_test.iloc[:, 1:]],\n",
    "          axis=1).to_csv(\"data/test_data_noID.csv\",\n",
    "                         index=False, header=False)\n",
    "\n",
    "# save test data without predictions to simulate incoming data for the monitoring job\n",
    "X_test.iloc[:, 1:].to_csv(\"data/test-dataset-input-cols.csv\", index=False, header=False)"
   ]
  },
  {
   "cell_type": "markdown",
   "id": "f5cf3565-4cb0-4e11-aa4c-78e2a5a8ca0f",
   "metadata": {},
   "source": [
    "## Training job and model creation"
   ]
  },
  {
   "cell_type": "markdown",
   "id": "d4672a8b-cd23-4873-af09-6309a7af9c8f",
   "metadata": {},
   "source": [
    "Set values for hyperparameters  \n",
    "Note that we got these values from the experimentation notebook"
   ]
  },
  {
   "cell_type": "code",
   "execution_count": 10,
   "id": "4cdf777e-b391-4561-9982-70420f2c1a32",
   "metadata": {
    "tags": []
   },
   "outputs": [
    {
     "name": "stderr",
     "output_type": "stream",
     "text": [
      "INFO:sagemaker:Creating training-job with name: xgb-2024-02-17-08-17-48\n"
     ]
    },
    {
     "name": "stdout",
     "output_type": "stream",
     "text": [
      "2024-02-17 08:17:48 Starting - Starting the training job...\n",
      "2024-02-17 08:18:06 Starting - Preparing the instances for training......\n",
      "2024-02-17 08:19:17 Downloading - Downloading input data...\n",
      "2024-02-17 08:19:46 Downloading - Downloading the training image......\n",
      "2024-02-17 08:20:42 Training - Training image download completed. Training in progress...\u001b[34m[2024-02-17 08:20:51.777 ip-10-0-148-104.ec2.internal:7 INFO utils.py:28] RULE_JOB_STOP_SIGNAL_FILENAME: None\u001b[0m\n",
      "\u001b[34m[2024-02-17 08:20:51.800 ip-10-0-148-104.ec2.internal:7 INFO profiler_config_parser.py:111] User has disabled profiler.\u001b[0m\n",
      "\u001b[34m[2024-02-17:08:20:52:INFO] Imported framework sagemaker_xgboost_container.training\u001b[0m\n",
      "\u001b[34m[2024-02-17:08:20:52:INFO] Failed to parse hyperparameter objective value binary:logistic to Json.\u001b[0m\n",
      "\u001b[34mReturning the value itself\u001b[0m\n",
      "\u001b[34m[2024-02-17:08:20:52:INFO] No GPUs detected (normal if no gpus installed)\u001b[0m\n",
      "\u001b[34m[2024-02-17:08:20:52:INFO] Running XGBoost Sagemaker in algorithm mode\u001b[0m\n",
      "\u001b[34m[2024-02-17:08:20:52:INFO] Determined 0 GPU(s) available on the instance.\u001b[0m\n",
      "\u001b[34m[2024-02-17:08:20:52:INFO] Determined delimiter of CSV input is ','\u001b[0m\n",
      "\u001b[34m[2024-02-17:08:20:52:INFO] Determined delimiter of CSV input is ','\u001b[0m\n",
      "\u001b[34m[2024-02-17:08:20:52:INFO] File path /opt/ml/input/data/train of input files\u001b[0m\n",
      "\u001b[34m[2024-02-17:08:20:52:INFO] Making smlinks from folder /opt/ml/input/data/train to folder /tmp/sagemaker_xgboost_input_data\u001b[0m\n",
      "\u001b[34m[2024-02-17:08:20:52:INFO] creating symlink between Path /opt/ml/input/data/train/train_data.csv and destination /tmp/sagemaker_xgboost_input_data/train_data.csv-431560648443056234\u001b[0m\n",
      "\u001b[34m[2024-02-17:08:20:52:INFO] files path: /tmp/sagemaker_xgboost_input_data\u001b[0m\n",
      "\u001b[34m[2024-02-17:08:20:52:INFO] Determined delimiter of CSV input is ','\u001b[0m\n",
      "\u001b[34m[2024-02-17:08:20:52:INFO] File path /opt/ml/input/data/validation of input files\u001b[0m\n",
      "\u001b[34m[2024-02-17:08:20:52:INFO] Making smlinks from folder /opt/ml/input/data/validation to folder /tmp/sagemaker_xgboost_input_data\u001b[0m\n",
      "\u001b[34m[2024-02-17:08:20:52:INFO] creating symlink between Path /opt/ml/input/data/validation/validation_data.csv and destination /tmp/sagemaker_xgboost_input_data/validation_data.csv7506654842516170265\u001b[0m\n",
      "\u001b[34m[2024-02-17:08:20:52:INFO] files path: /tmp/sagemaker_xgboost_input_data\u001b[0m\n",
      "\u001b[34m[2024-02-17:08:20:52:INFO] Determined delimiter of CSV input is ','\u001b[0m\n",
      "\u001b[34m[2024-02-17:08:20:52:INFO] Single node training.\u001b[0m\n",
      "\u001b[34m[2024-02-17:08:20:52:INFO] Train matrix has 8000 rows and 12 columns\u001b[0m\n",
      "\u001b[34m[2024-02-17:08:20:52:INFO] Validation matrix has 1000 rows\u001b[0m\n",
      "\u001b[34m[2024-02-17 08:20:52.258 ip-10-0-148-104.ec2.internal:7 INFO json_config.py:92] Creating hook from json_config at /opt/ml/input/config/debughookconfig.json.\u001b[0m\n",
      "\u001b[34m[2024-02-17 08:20:52.258 ip-10-0-148-104.ec2.internal:7 INFO hook.py:206] tensorboard_dir has not been set for the hook. SMDebug will not be exporting tensorboard summaries.\u001b[0m\n",
      "\u001b[34m[2024-02-17 08:20:52.259 ip-10-0-148-104.ec2.internal:7 INFO hook.py:259] Saving to /opt/ml/output/tensors\u001b[0m\n",
      "\u001b[34m[2024-02-17 08:20:52.259 ip-10-0-148-104.ec2.internal:7 INFO state_store.py:77] The checkpoint config file /opt/ml/input/config/checkpointconfig.json does not exist.\u001b[0m\n",
      "\u001b[34m[2024-02-17:08:20:52:INFO] Debug hook created from config\u001b[0m\n",
      "\u001b[34m[2024-02-17 08:20:52.272 ip-10-0-148-104.ec2.internal:7 INFO hook.py:427] Monitoring the collections: metrics\u001b[0m\n",
      "\u001b[34m[2024-02-17 08:20:52.275 ip-10-0-148-104.ec2.internal:7 INFO hook.py:491] Hook is writing from the hook with pid: 7\u001b[0m\n",
      "\u001b[34m[0]#011train-logloss:0.67786#011validation-logloss:0.67900\u001b[0m\n",
      "\u001b[34m[1]#011train-logloss:0.66355#011validation-logloss:0.66569\u001b[0m\n",
      "\u001b[34m[2]#011train-logloss:0.65136#011validation-logloss:0.65451\u001b[0m\n",
      "\u001b[34m[3]#011train-logloss:0.64024#011validation-logloss:0.64417\u001b[0m\n",
      "\u001b[34m[4]#011train-logloss:0.62802#011validation-logloss:0.63272\u001b[0m\n",
      "\u001b[34m[5]#011train-logloss:0.61649#011validation-logloss:0.62198\u001b[0m\n",
      "\u001b[34m[6]#011train-logloss:0.60613#011validation-logloss:0.61246\u001b[0m\n",
      "\u001b[34m[7]#011train-logloss:0.59722#011validation-logloss:0.60434\u001b[0m\n",
      "\u001b[34m[8]#011train-logloss:0.58789#011validation-logloss:0.59571\u001b[0m\n",
      "\u001b[34m[9]#011train-logloss:0.57837#011validation-logloss:0.58697\u001b[0m\n",
      "\u001b[34m[10]#011train-logloss:0.56986#011validation-logloss:0.57916\u001b[0m\n",
      "\u001b[34m[11]#011train-logloss:0.56249#011validation-logloss:0.57238\u001b[0m\n",
      "\u001b[34m[12]#011train-logloss:0.55426#011validation-logloss:0.56483\u001b[0m\n",
      "\u001b[34m[13]#011train-logloss:0.54618#011validation-logloss:0.55741\u001b[0m\n",
      "\u001b[34m[14]#011train-logloss:0.53910#011validation-logloss:0.55098\u001b[0m\n",
      "\u001b[34m[15]#011train-logloss:0.53174#011validation-logloss:0.54439\u001b[0m\n",
      "\u001b[34m[16]#011train-logloss:0.52525#011validation-logloss:0.53858\u001b[0m\n",
      "\u001b[34m[17]#011train-logloss:0.52058#011validation-logloss:0.53464\u001b[0m\n",
      "\u001b[34m[18]#011train-logloss:0.51530#011validation-logloss:0.52985\u001b[0m\n",
      "\u001b[34m[19]#011train-logloss:0.50959#011validation-logloss:0.52465\u001b[0m\n",
      "\u001b[34m[20]#011train-logloss:0.50364#011validation-logloss:0.51938\u001b[0m\n",
      "\u001b[34m[21]#011train-logloss:0.49842#011validation-logloss:0.51470\u001b[0m\n",
      "\u001b[34m[22]#011train-logloss:0.49327#011validation-logloss:0.51012\u001b[0m\n",
      "\u001b[34m[23]#011train-logloss:0.48829#011validation-logloss:0.50558\u001b[0m\n",
      "\u001b[34m[24]#011train-logloss:0.48315#011validation-logloss:0.50088\u001b[0m\n",
      "\u001b[34m[25]#011train-logloss:0.47811#011validation-logloss:0.49615\u001b[0m\n",
      "\u001b[34m[26]#011train-logloss:0.47503#011validation-logloss:0.49367\u001b[0m\n",
      "\u001b[34m[27]#011train-logloss:0.47044#011validation-logloss:0.48932\u001b[0m\n",
      "\u001b[34m[28]#011train-logloss:0.46631#011validation-logloss:0.48563\u001b[0m\n",
      "\u001b[34m[29]#011train-logloss:0.46358#011validation-logloss:0.48343\u001b[0m\n",
      "\u001b[34m[30]#011train-logloss:0.45948#011validation-logloss:0.47974\u001b[0m\n",
      "\u001b[34m[31]#011train-logloss:0.45549#011validation-logloss:0.47599\u001b[0m\n",
      "\u001b[34m[32]#011train-logloss:0.45186#011validation-logloss:0.47272\u001b[0m\n",
      "\u001b[34m[33]#011train-logloss:0.44864#011validation-logloss:0.46987\u001b[0m\n",
      "\u001b[34m[34]#011train-logloss:0.44511#011validation-logloss:0.46670\u001b[0m\n",
      "\u001b[34m[35]#011train-logloss:0.44172#011validation-logloss:0.46360\u001b[0m\n",
      "\u001b[34m[36]#011train-logloss:0.43867#011validation-logloss:0.46093\u001b[0m\n",
      "\u001b[34m[37]#011train-logloss:0.43567#011validation-logloss:0.45820\u001b[0m\n",
      "\u001b[34m[38]#011train-logloss:0.43290#011validation-logloss:0.45576\u001b[0m\n",
      "\u001b[34m[39]#011train-logloss:0.43003#011validation-logloss:0.45295\u001b[0m\n",
      "\u001b[34m[40]#011train-logloss:0.42734#011validation-logloss:0.45055\u001b[0m\n",
      "\u001b[34m[41]#011train-logloss:0.42499#011validation-logloss:0.44850\u001b[0m\n",
      "\u001b[34m[42]#011train-logloss:0.42248#011validation-logloss:0.44626\u001b[0m\n",
      "\u001b[34m[43]#011train-logloss:0.42007#011validation-logloss:0.44411\u001b[0m\n",
      "\u001b[34m[44]#011train-logloss:0.41769#011validation-logloss:0.44200\u001b[0m\n",
      "\u001b[34m[45]#011train-logloss:0.41552#011validation-logloss:0.43989\u001b[0m\n",
      "\u001b[34m[46]#011train-logloss:0.41321#011validation-logloss:0.43771\u001b[0m\n",
      "\u001b[34m[47]#011train-logloss:0.41111#011validation-logloss:0.43580\u001b[0m\n",
      "\u001b[34m[48]#011train-logloss:0.40902#011validation-logloss:0.43378\u001b[0m\n",
      "\u001b[34m[49]#011train-logloss:0.40686#011validation-logloss:0.43164\u001b[0m\n",
      "\u001b[34m[50]#011train-logloss:0.40570#011validation-logloss:0.43079\u001b[0m\n",
      "\u001b[34m[51]#011train-logloss:0.40387#011validation-logloss:0.42920\u001b[0m\n",
      "\u001b[34m[52]#011train-logloss:0.40227#011validation-logloss:0.42772\u001b[0m\n",
      "\u001b[34m[53]#011train-logloss:0.40064#011validation-logloss:0.42633\u001b[0m\n",
      "\u001b[34m[54]#011train-logloss:0.39913#011validation-logloss:0.42500\u001b[0m\n",
      "\u001b[34m[55]#011train-logloss:0.39758#011validation-logloss:0.42353\u001b[0m\n",
      "\u001b[34m[56]#011train-logloss:0.39598#011validation-logloss:0.42205\u001b[0m\n",
      "\u001b[34m[57]#011train-logloss:0.39470#011validation-logloss:0.42115\u001b[0m\n",
      "\u001b[34m[58]#011train-logloss:0.39318#011validation-logloss:0.41980\u001b[0m\n",
      "\u001b[34m[59]#011train-logloss:0.39179#011validation-logloss:0.41854\u001b[0m\n",
      "\u001b[34m[60]#011train-logloss:0.39051#011validation-logloss:0.41757\u001b[0m\n",
      "\u001b[34m[61]#011train-logloss:0.38919#011validation-logloss:0.41635\u001b[0m\n",
      "\u001b[34m[62]#011train-logloss:0.38832#011validation-logloss:0.41575\u001b[0m\n",
      "\u001b[34m[63]#011train-logloss:0.38694#011validation-logloss:0.41447\u001b[0m\n",
      "\u001b[34m[64]#011train-logloss:0.38536#011validation-logloss:0.41304\u001b[0m\n",
      "\u001b[34m[65]#011train-logloss:0.38419#011validation-logloss:0.41195\u001b[0m\n",
      "\u001b[34m[66]#011train-logloss:0.38320#011validation-logloss:0.41107\u001b[0m\n",
      "\u001b[34m[67]#011train-logloss:0.38210#011validation-logloss:0.41005\u001b[0m\n",
      "\u001b[34m[68]#011train-logloss:0.38124#011validation-logloss:0.40930\u001b[0m\n",
      "\u001b[34m[69]#011train-logloss:0.38042#011validation-logloss:0.40856\u001b[0m\n",
      "\u001b[34m[70]#011train-logloss:0.37944#011validation-logloss:0.40769\u001b[0m\n",
      "\u001b[34m[71]#011train-logloss:0.37872#011validation-logloss:0.40706\u001b[0m\n",
      "\u001b[34m[72]#011train-logloss:0.37781#011validation-logloss:0.40650\u001b[0m\n",
      "\u001b[34m[73]#011train-logloss:0.37679#011validation-logloss:0.40558\u001b[0m\n",
      "\u001b[34m[74]#011train-logloss:0.37604#011validation-logloss:0.40486\u001b[0m\n",
      "\u001b[34m[75]#011train-logloss:0.37539#011validation-logloss:0.40438\u001b[0m\n",
      "\u001b[34m[76]#011train-logloss:0.37444#011validation-logloss:0.40351\u001b[0m\n",
      "\u001b[34m[77]#011train-logloss:0.37411#011validation-logloss:0.40334\u001b[0m\n",
      "\u001b[34m[78]#011train-logloss:0.37373#011validation-logloss:0.40306\u001b[0m\n",
      "\u001b[34m[79]#011train-logloss:0.37296#011validation-logloss:0.40236\u001b[0m\n",
      "\u001b[34m[80]#011train-logloss:0.37240#011validation-logloss:0.40186\u001b[0m\n",
      "\u001b[34m[81]#011train-logloss:0.37171#011validation-logloss:0.40126\u001b[0m\n",
      "\u001b[34m[82]#011train-logloss:0.37089#011validation-logloss:0.40062\u001b[0m\n",
      "\u001b[34m[83]#011train-logloss:0.37053#011validation-logloss:0.40036\u001b[0m\n",
      "\u001b[34m[84]#011train-logloss:0.37000#011validation-logloss:0.39994\u001b[0m\n",
      "\u001b[34m[85]#011train-logloss:0.36964#011validation-logloss:0.39963\u001b[0m\n",
      "\u001b[34m[86]#011train-logloss:0.36865#011validation-logloss:0.39867\u001b[0m\n",
      "\u001b[34m[87]#011train-logloss:0.36810#011validation-logloss:0.39815\u001b[0m\n",
      "\u001b[34m[88]#011train-logloss:0.36743#011validation-logloss:0.39739\u001b[0m\n",
      "\u001b[34m[89]#011train-logloss:0.36696#011validation-logloss:0.39700\u001b[0m\n",
      "\u001b[34m[90]#011train-logloss:0.36657#011validation-logloss:0.39665\u001b[0m\n",
      "\u001b[34m[91]#011train-logloss:0.36581#011validation-logloss:0.39593\u001b[0m\n",
      "\u001b[34m[92]#011train-logloss:0.36550#011validation-logloss:0.39573\u001b[0m\n",
      "\u001b[34m[93]#011train-logloss:0.36448#011validation-logloss:0.39478\u001b[0m\n",
      "\u001b[34m[94]#011train-logloss:0.36389#011validation-logloss:0.39416\u001b[0m\n",
      "\u001b[34m[95]#011train-logloss:0.36343#011validation-logloss:0.39366\u001b[0m\n",
      "\u001b[34m[96]#011train-logloss:0.36276#011validation-logloss:0.39293\u001b[0m\n",
      "\u001b[34m[97]#011train-logloss:0.36231#011validation-logloss:0.39247\u001b[0m\n",
      "\u001b[34m[98]#011train-logloss:0.36210#011validation-logloss:0.39231\u001b[0m\n",
      "\u001b[34m[99]#011train-logloss:0.36163#011validation-logloss:0.39186\u001b[0m\n",
      "\u001b[34m[100]#011train-logloss:0.36105#011validation-logloss:0.39130\u001b[0m\n",
      "\u001b[34m[101]#011train-logloss:0.36064#011validation-logloss:0.39094\u001b[0m\n",
      "\u001b[34m[102]#011train-logloss:0.36016#011validation-logloss:0.39044\u001b[0m\n",
      "\u001b[34m[103]#011train-logloss:0.36001#011validation-logloss:0.39039\u001b[0m\n",
      "\u001b[34m[104]#011train-logloss:0.35952#011validation-logloss:0.38989\u001b[0m\n",
      "\u001b[34m[105]#011train-logloss:0.35893#011validation-logloss:0.38931\u001b[0m\n",
      "\u001b[34m[106]#011train-logloss:0.35853#011validation-logloss:0.38900\u001b[0m\n",
      "\u001b[34m[107]#011train-logloss:0.35811#011validation-logloss:0.38840\u001b[0m\n",
      "\u001b[34m[108]#011train-logloss:0.35776#011validation-logloss:0.38807\u001b[0m\n",
      "\u001b[34m[109]#011train-logloss:0.35758#011validation-logloss:0.38797\u001b[0m\n",
      "\u001b[34m[110]#011train-logloss:0.35714#011validation-logloss:0.38752\u001b[0m\n",
      "\u001b[34m[111]#011train-logloss:0.35682#011validation-logloss:0.38733\u001b[0m\n",
      "\u001b[34m[112]#011train-logloss:0.35648#011validation-logloss:0.38699\u001b[0m\n",
      "\u001b[34m[113]#011train-logloss:0.35626#011validation-logloss:0.38673\u001b[0m\n",
      "\u001b[34m[114]#011train-logloss:0.35607#011validation-logloss:0.38652\u001b[0m\n",
      "\u001b[34m[115]#011train-logloss:0.35575#011validation-logloss:0.38619\u001b[0m\n",
      "\u001b[34m[116]#011train-logloss:0.35537#011validation-logloss:0.38579\u001b[0m\n",
      "\u001b[34m[117]#011train-logloss:0.35500#011validation-logloss:0.38535\u001b[0m\n",
      "\u001b[34m[118]#011train-logloss:0.35465#011validation-logloss:0.38493\u001b[0m\n",
      "\u001b[34m[119]#011train-logloss:0.35428#011validation-logloss:0.38456\u001b[0m\n",
      "\u001b[34m[120]#011train-logloss:0.35403#011validation-logloss:0.38427\u001b[0m\n",
      "\u001b[34m[121]#011train-logloss:0.35377#011validation-logloss:0.38409\u001b[0m\n",
      "\u001b[34m[122]#011train-logloss:0.35330#011validation-logloss:0.38382\u001b[0m\n",
      "\u001b[34m[123]#011train-logloss:0.35293#011validation-logloss:0.38340\u001b[0m\n",
      "\u001b[34m[124]#011train-logloss:0.35244#011validation-logloss:0.38291\u001b[0m\n",
      "\u001b[34m[125]#011train-logloss:0.35223#011validation-logloss:0.38273\u001b[0m\n",
      "\u001b[34m[126]#011train-logloss:0.35203#011validation-logloss:0.38259\u001b[0m\n",
      "\u001b[34m[127]#011train-logloss:0.35194#011validation-logloss:0.38249\u001b[0m\n",
      "\u001b[34m[128]#011train-logloss:0.35184#011validation-logloss:0.38245\u001b[0m\n",
      "\u001b[34m[129]#011train-logloss:0.35153#011validation-logloss:0.38219\u001b[0m\n",
      "\u001b[34m[130]#011train-logloss:0.35143#011validation-logloss:0.38211\u001b[0m\n",
      "\u001b[34m[131]#011train-logloss:0.35129#011validation-logloss:0.38200\u001b[0m\n",
      "\u001b[34m[132]#011train-logloss:0.35119#011validation-logloss:0.38187\u001b[0m\n",
      "\u001b[34m[133]#011train-logloss:0.35073#011validation-logloss:0.38137\u001b[0m\n",
      "\u001b[34m[134]#011train-logloss:0.35016#011validation-logloss:0.38072\u001b[0m\n",
      "\u001b[34m[135]#011train-logloss:0.35002#011validation-logloss:0.38058\u001b[0m\n",
      "\u001b[34m[136]#011train-logloss:0.34962#011validation-logloss:0.38019\u001b[0m\n",
      "\u001b[34m[137]#011train-logloss:0.34949#011validation-logloss:0.38005\u001b[0m\n",
      "\u001b[34m[138]#011train-logloss:0.34929#011validation-logloss:0.37985\u001b[0m\n",
      "\u001b[34m[139]#011train-logloss:0.34921#011validation-logloss:0.37973\u001b[0m\n",
      "\u001b[34m[140]#011train-logloss:0.34896#011validation-logloss:0.37943\u001b[0m\n",
      "\u001b[34m[141]#011train-logloss:0.34880#011validation-logloss:0.37928\u001b[0m\n",
      "\u001b[34m[142]#011train-logloss:0.34844#011validation-logloss:0.37909\u001b[0m\n",
      "\u001b[34m[143]#011train-logloss:0.34830#011validation-logloss:0.37898\u001b[0m\n",
      "\u001b[34m[144]#011train-logloss:0.34815#011validation-logloss:0.37886\u001b[0m\n",
      "\u001b[34m[145]#011train-logloss:0.34808#011validation-logloss:0.37880\u001b[0m\n",
      "\u001b[34m[146]#011train-logloss:0.34801#011validation-logloss:0.37873\u001b[0m\n",
      "\u001b[34m[147]#011train-logloss:0.34793#011validation-logloss:0.37860\u001b[0m\n",
      "\u001b[34m[148]#011train-logloss:0.34786#011validation-logloss:0.37852\u001b[0m\n",
      "\u001b[34m[149]#011train-logloss:0.34763#011validation-logloss:0.37826\u001b[0m\n",
      "\u001b[34m[150]#011train-logloss:0.34742#011validation-logloss:0.37804\u001b[0m\n",
      "\u001b[34m[151]#011train-logloss:0.34726#011validation-logloss:0.37798\u001b[0m\n",
      "\u001b[34m[152]#011train-logloss:0.34713#011validation-logloss:0.37790\u001b[0m\n",
      "\u001b[34m[153]#011train-logloss:0.34706#011validation-logloss:0.37785\u001b[0m\n",
      "\u001b[34m[154]#011train-logloss:0.34649#011validation-logloss:0.37730\u001b[0m\n",
      "\u001b[34m[155]#011train-logloss:0.34626#011validation-logloss:0.37702\u001b[0m\n",
      "\u001b[34m[156]#011train-logloss:0.34590#011validation-logloss:0.37682\u001b[0m\n",
      "\u001b[34m[157]#011train-logloss:0.34584#011validation-logloss:0.37672\u001b[0m\n",
      "\u001b[34m[158]#011train-logloss:0.34572#011validation-logloss:0.37661\u001b[0m\n",
      "\u001b[34m[159]#011train-logloss:0.34566#011validation-logloss:0.37657\u001b[0m\n",
      "\u001b[34m[160]#011train-logloss:0.34559#011validation-logloss:0.37650\u001b[0m\n",
      "\u001b[34m[161]#011train-logloss:0.34558#011validation-logloss:0.37653\u001b[0m\n",
      "\u001b[34m[162]#011train-logloss:0.34531#011validation-logloss:0.37644\u001b[0m\n",
      "\u001b[34m[163]#011train-logloss:0.34526#011validation-logloss:0.37635\u001b[0m\n",
      "\u001b[34m[164]#011train-logloss:0.34520#011validation-logloss:0.37627\u001b[0m\n",
      "\u001b[34m[165]#011train-logloss:0.34486#011validation-logloss:0.37587\u001b[0m\n",
      "\u001b[34m[166]#011train-logloss:0.34478#011validation-logloss:0.37581\u001b[0m\n",
      "\u001b[34m[167]#011train-logloss:0.34467#011validation-logloss:0.37575\u001b[0m\n",
      "\u001b[34m[168]#011train-logloss:0.34454#011validation-logloss:0.37559\u001b[0m\n",
      "\u001b[34m[169]#011train-logloss:0.34402#011validation-logloss:0.37500\u001b[0m\n",
      "\u001b[34m[170]#011train-logloss:0.34392#011validation-logloss:0.37491\u001b[0m\n",
      "\u001b[34m[171]#011train-logloss:0.34391#011validation-logloss:0.37494\u001b[0m\n",
      "\u001b[34m[172]#011train-logloss:0.34380#011validation-logloss:0.37487\u001b[0m\n",
      "\u001b[34m[173]#011train-logloss:0.34379#011validation-logloss:0.37490\u001b[0m\n",
      "\u001b[34m[174]#011train-logloss:0.34365#011validation-logloss:0.37475\u001b[0m\n",
      "\u001b[34m[175]#011train-logloss:0.34337#011validation-logloss:0.37456\u001b[0m\n",
      "\u001b[34m[176]#011train-logloss:0.34337#011validation-logloss:0.37458\u001b[0m\n",
      "\u001b[34m[177]#011train-logloss:0.34325#011validation-logloss:0.37446\u001b[0m\n",
      "\u001b[34m[178]#011train-logloss:0.34321#011validation-logloss:0.37437\u001b[0m\n",
      "\u001b[34m[179]#011train-logloss:0.34298#011validation-logloss:0.37418\u001b[0m\n",
      "\u001b[34m[180]#011train-logloss:0.34285#011validation-logloss:0.37398\u001b[0m\n",
      "\u001b[34m[181]#011train-logloss:0.34281#011validation-logloss:0.37395\u001b[0m\n",
      "\u001b[34m[182]#011train-logloss:0.34257#011validation-logloss:0.37386\u001b[0m\n",
      "\u001b[34m[183]#011train-logloss:0.34251#011validation-logloss:0.37383\u001b[0m\n",
      "\u001b[34m[184]#011train-logloss:0.34242#011validation-logloss:0.37374\u001b[0m\n",
      "\u001b[34m[185]#011train-logloss:0.34210#011validation-logloss:0.37337\u001b[0m\n",
      "\u001b[34m[186]#011train-logloss:0.34210#011validation-logloss:0.37338\u001b[0m\n",
      "\u001b[34m[187]#011train-logloss:0.34206#011validation-logloss:0.37333\u001b[0m\n",
      "\u001b[34m[188]#011train-logloss:0.34201#011validation-logloss:0.37330\u001b[0m\n",
      "\u001b[34m[189]#011train-logloss:0.34186#011validation-logloss:0.37318\u001b[0m\n",
      "\u001b[34m[190]#011train-logloss:0.34186#011validation-logloss:0.37319\u001b[0m\n",
      "\u001b[34m[191]#011train-logloss:0.34173#011validation-logloss:0.37320\u001b[0m\n",
      "\u001b[34m[192]#011train-logloss:0.34143#011validation-logloss:0.37289\u001b[0m\n",
      "\u001b[34m[193]#011train-logloss:0.34138#011validation-logloss:0.37282\u001b[0m\n",
      "\u001b[34m[194]#011train-logloss:0.34133#011validation-logloss:0.37275\u001b[0m\n",
      "\u001b[34m[195]#011train-logloss:0.34133#011validation-logloss:0.37275\u001b[0m\n",
      "\u001b[34m[196]#011train-logloss:0.34124#011validation-logloss:0.37277\u001b[0m\n",
      "\u001b[34m[197]#011train-logloss:0.34107#011validation-logloss:0.37272\u001b[0m\n",
      "\u001b[34m[198]#011train-logloss:0.34094#011validation-logloss:0.37254\u001b[0m\n",
      "\u001b[34m[199]#011train-logloss:0.34084#011validation-logloss:0.37239\u001b[0m\n",
      "\u001b[34m[200]#011train-logloss:0.34084#011validation-logloss:0.37239\u001b[0m\n",
      "\u001b[34m[201]#011train-logloss:0.34084#011validation-logloss:0.37241\u001b[0m\n",
      "\u001b[34m[202]#011train-logloss:0.34084#011validation-logloss:0.37240\u001b[0m\n",
      "\u001b[34m[203]#011train-logloss:0.34084#011validation-logloss:0.37238\u001b[0m\n",
      "\u001b[34m[204]#011train-logloss:0.34084#011validation-logloss:0.37238\u001b[0m\n",
      "\u001b[34m[205]#011train-logloss:0.34073#011validation-logloss:0.37224\u001b[0m\n",
      "\u001b[34m[206]#011train-logloss:0.34073#011validation-logloss:0.37226\u001b[0m\n",
      "\u001b[34m[207]#011train-logloss:0.34059#011validation-logloss:0.37213\u001b[0m\n",
      "\u001b[34m[208]#011train-logloss:0.34059#011validation-logloss:0.37213\u001b[0m\n",
      "\u001b[34m[209]#011train-logloss:0.34059#011validation-logloss:0.37212\u001b[0m\n",
      "\u001b[34m[210]#011train-logloss:0.34059#011validation-logloss:0.37212\u001b[0m\n",
      "\u001b[34m[211]#011train-logloss:0.34048#011validation-logloss:0.37204\u001b[0m\n",
      "\u001b[34m[212]#011train-logloss:0.34048#011validation-logloss:0.37204\u001b[0m\n",
      "\u001b[34m[213]#011train-logloss:0.34043#011validation-logloss:0.37197\u001b[0m\n",
      "\u001b[34m[214]#011train-logloss:0.34022#011validation-logloss:0.37185\u001b[0m\n",
      "\n",
      "2024-02-17 08:21:09 Uploading - Uploading generated training model\n",
      "2024-02-17 08:21:09 Completed - Training job completed\n",
      "Training seconds: 112\n",
      "Billable seconds: 112\n",
      "CPU times: user 383 ms, sys: 35.4 ms, total: 418 ms\n",
      "Wall time: 3min 42s\n"
     ]
    }
   ],
   "source": [
    "%%time\n",
    "\n",
    "job_name = \"xgb-\" + strftime(\"%Y-%m-%d-%H-%M-%S\", gmtime())\n",
    "output_location = \"s3://{}/{}/output/{}\".format(bucket, prefix, job_name)\n",
    "image = sagemaker.image_uris.retrieve(\n",
    "    framework=\"xgboost\", region=region, version=\"1.7-1\" # latest version\n",
    ")\n",
    "\n",
    "sm_estimator = sagemaker.estimator.Estimator(\n",
    "    image,\n",
    "    role,\n",
    "    instance_count=1,\n",
    "    instance_type=\"ml.m5.xlarge\",\n",
    "    volume_size=50,\n",
    "    input_mode=\"File\",\n",
    "    output_path=output_location,\n",
    "    sagemaker_session=sess,\n",
    ")\n",
    "\n",
    "sm_estimator.set_hyperparameters(\n",
    "    objective=\"binary:logistic\",\n",
    "    colsample_bytree=0.7,\n",
    "    gamma=10.0,\n",
    "    eta=0.03,\n",
    "    max_depth=3,\n",
    "    num_round=215,\n",
    "    subsample=0.7,\n",
    "    alpha=2,\n",
    "    reg_lambda=2.0,\n",
    ")\n",
    "\n",
    "train_data = sagemaker.inputs.TrainingInput(\n",
    "    \"s3://{}/{}/train\".format(bucket, prefix),\n",
    "    distribution=\"FullyReplicated\",\n",
    "    content_type=\"text/csv\",\n",
    "    s3_data_type=\"S3Prefix\",\n",
    ")\n",
    "validation_data = sagemaker.inputs.TrainingInput(\n",
    "    \"s3://{}/{}/validation\".format(bucket, prefix),\n",
    "    distribution=\"FullyReplicated\",\n",
    "    content_type=\"text/csv\",\n",
    "    s3_data_type=\"S3Prefix\",\n",
    ")\n",
    "data_channels = {\"train\": train_data, \"validation\": validation_data}\n",
    "\n",
    "# Start training by calling the fit method in the estimator\n",
    "sm_estimator.fit(inputs=data_channels, job_name=job_name, logs=True)"
   ]
  },
  {
   "cell_type": "markdown",
   "id": "8a91f555-2b0a-4ac9-93cc-15641fb0b10f",
   "metadata": {},
   "source": [
    "## Use batch transform on our test data. Since the ID column is present, we will update the output filter to keep only ID and prediction"
   ]
  },
  {
   "cell_type": "markdown",
   "id": "197a732c-3f3e-4c8f-b0a7-d47ac2929952",
   "metadata": {},
   "source": [
    "Let's set __output_filter__ to \"$[0,-1]\", indicating that when presenting the output, we only want to keep column 0 (the 'CustomerId') and the last column (the inference result i.e. the probability of customer churn)"
   ]
  },
  {
   "cell_type": "code",
   "execution_count": 11,
   "id": "854792e5-36c1-4f7d-8700-485763dd9b0b",
   "metadata": {
    "tags": []
   },
   "outputs": [
    {
     "name": "stderr",
     "output_type": "stream",
     "text": [
      "INFO:sagemaker:Creating model with name: sagemaker-xgboost-2024-02-17-08-21-30-876\n",
      "INFO:sagemaker:Creating transform job with name: sagemaker-xgboost-2024-02-17-08-21-31-566\n"
     ]
    },
    {
     "name": "stdout",
     "output_type": "stream",
     "text": [
      ".........................................\u001b[34m[2024-02-17:08:28:18:INFO] No GPUs detected (normal if no gpus installed)\u001b[0m\n",
      "\u001b[34m[2024-02-17:08:28:18:INFO] No GPUs detected (normal if no gpus installed)\u001b[0m\n",
      "\u001b[34m[2024-02-17:08:28:18:INFO] nginx config: \u001b[0m\n",
      "\u001b[34mworker_processes auto;\u001b[0m\n",
      "\u001b[34mdaemon off;\u001b[0m\n",
      "\u001b[34mpid /tmp/nginx.pid;\u001b[0m\n",
      "\u001b[34merror_log  /dev/stderr;\u001b[0m\n",
      "\u001b[34mworker_rlimit_nofile 4096;\u001b[0m\n",
      "\u001b[34mevents {\n",
      "  worker_connections 2048;\u001b[0m\n",
      "\u001b[34m}\u001b[0m\n",
      "\u001b[35m[2024-02-17:08:28:18:INFO] No GPUs detected (normal if no gpus installed)\u001b[0m\n",
      "\u001b[35m[2024-02-17:08:28:18:INFO] No GPUs detected (normal if no gpus installed)\u001b[0m\n",
      "\u001b[35m[2024-02-17:08:28:18:INFO] nginx config: \u001b[0m\n",
      "\u001b[35mworker_processes auto;\u001b[0m\n",
      "\u001b[35mdaemon off;\u001b[0m\n",
      "\u001b[35mpid /tmp/nginx.pid;\u001b[0m\n",
      "\u001b[35merror_log  /dev/stderr;\u001b[0m\n",
      "\u001b[35mworker_rlimit_nofile 4096;\u001b[0m\n",
      "\u001b[35mevents {\n",
      "  worker_connections 2048;\u001b[0m\n",
      "\u001b[35m}\u001b[0m\n",
      "\u001b[34mhttp {\n",
      "  include /etc/nginx/mime.types;\n",
      "  default_type application/octet-stream;\n",
      "  access_log /dev/stdout combined;\n",
      "  upstream gunicorn {\n",
      "    server unix:/tmp/gunicorn.sock;\n",
      "  }\n",
      "  server {\n",
      "    listen 8080 deferred;\n",
      "    client_max_body_size 0;\n",
      "    keepalive_timeout 3;\n",
      "    location ~ ^/(ping|invocations|execution-parameters) {\n",
      "      proxy_set_header X-Forwarded-For $proxy_add_x_forwarded_for;\n",
      "      proxy_set_header Host $http_host;\n",
      "      proxy_redirect off;\n",
      "      proxy_read_timeout 60s;\n",
      "      proxy_pass http://gunicorn;\n",
      "    }\n",
      "    location / {\n",
      "      return 404 \"{}\";\n",
      "    }\n",
      "  }\u001b[0m\n",
      "\u001b[34m}\u001b[0m\n",
      "\u001b[34m[2024-02-17 08:28:18 +0000] [19] [INFO] Starting gunicorn 19.10.0\u001b[0m\n",
      "\u001b[34m[2024-02-17 08:28:18 +0000] [19] [INFO] Listening at: unix:/tmp/gunicorn.sock (19)\u001b[0m\n",
      "\u001b[34m[2024-02-17 08:28:18 +0000] [19] [INFO] Using worker: gevent\u001b[0m\n",
      "\u001b[34m/miniconda3/lib/python3.8/os.py:1023: RuntimeWarning: line buffering (buffering=1) isn't supported in binary mode, the default buffer size will be used\n",
      "  return io.open(fd, *args, **kwargs)\u001b[0m\n",
      "\u001b[34m[2024-02-17 08:28:18 +0000] [25] [INFO] Booting worker with pid: 25\u001b[0m\n",
      "\u001b[34m[2024-02-17 08:28:18 +0000] [26] [INFO] Booting worker with pid: 26\u001b[0m\n",
      "\u001b[34m[2024-02-17 08:28:18 +0000] [27] [INFO] Booting worker with pid: 27\u001b[0m\n",
      "\u001b[35mhttp {\n",
      "  include /etc/nginx/mime.types;\n",
      "  default_type application/octet-stream;\n",
      "  access_log /dev/stdout combined;\n",
      "  upstream gunicorn {\n",
      "    server unix:/tmp/gunicorn.sock;\n",
      "  }\n",
      "  server {\n",
      "    listen 8080 deferred;\n",
      "    client_max_body_size 0;\n",
      "    keepalive_timeout 3;\n",
      "    location ~ ^/(ping|invocations|execution-parameters) {\n",
      "      proxy_set_header X-Forwarded-For $proxy_add_x_forwarded_for;\n",
      "      proxy_set_header Host $http_host;\n",
      "      proxy_redirect off;\n",
      "      proxy_read_timeout 60s;\n",
      "      proxy_pass http://gunicorn;\n",
      "    }\n",
      "    location / {\n",
      "      return 404 \"{}\";\n",
      "    }\n",
      "  }\u001b[0m\n",
      "\u001b[35m}\u001b[0m\n",
      "\u001b[35m[2024-02-17 08:28:18 +0000] [19] [INFO] Starting gunicorn 19.10.0\u001b[0m\n",
      "\u001b[35m[2024-02-17 08:28:18 +0000] [19] [INFO] Listening at: unix:/tmp/gunicorn.sock (19)\u001b[0m\n",
      "\u001b[35m[2024-02-17 08:28:18 +0000] [19] [INFO] Using worker: gevent\u001b[0m\n",
      "\u001b[35m/miniconda3/lib/python3.8/os.py:1023: RuntimeWarning: line buffering (buffering=1) isn't supported in binary mode, the default buffer size will be used\n",
      "  return io.open(fd, *args, **kwargs)\u001b[0m\n",
      "\u001b[35m[2024-02-17 08:28:18 +0000] [25] [INFO] Booting worker with pid: 25\u001b[0m\n",
      "\u001b[35m[2024-02-17 08:28:18 +0000] [26] [INFO] Booting worker with pid: 26\u001b[0m\n",
      "\u001b[35m[2024-02-17 08:28:18 +0000] [27] [INFO] Booting worker with pid: 27\u001b[0m\n",
      "\u001b[34m[2024-02-17 08:28:18 +0000] [28] [INFO] Booting worker with pid: 28\u001b[0m\n",
      "\u001b[34m[2024-02-17:08:28:20:INFO] No GPUs detected (normal if no gpus installed)\u001b[0m\n",
      "\u001b[34m[2024-02-17:08:28:20:INFO] Loading the model from /opt/ml/model/xgboost-model\u001b[0m\n",
      "\u001b[34m[2024-02-17:08:28:20:INFO] Model objective : binary:logistic\u001b[0m\n",
      "\u001b[34m[2024-02-17:08:28:21:INFO] No GPUs detected (normal if no gpus installed)\u001b[0m\n",
      "\u001b[34m[2024-02-17:08:28:21:INFO] Loading the model from /opt/ml/model/xgboost-model\u001b[0m\n",
      "\u001b[34m[2024-02-17:08:28:21:INFO] Model objective : binary:logistic\u001b[0m\n",
      "\u001b[34m[2024-02-17:08:28:21:INFO] No GPUs detected (normal if no gpus installed)\u001b[0m\n",
      "\u001b[34m[2024-02-17:08:28:21:INFO] Loading the model from /opt/ml/model/xgboost-model\u001b[0m\n",
      "\u001b[34m[2024-02-17:08:28:21:INFO] Model objective : binary:logistic\u001b[0m\n",
      "\u001b[34m[2024-02-17:08:28:21:INFO] No GPUs detected (normal if no gpus installed)\u001b[0m\n",
      "\u001b[34m[2024-02-17:08:28:21:INFO] Loading the model from /opt/ml/model/xgboost-model\u001b[0m\n",
      "\u001b[34m[2024-02-17:08:28:21:INFO] Model objective : binary:logistic\u001b[0m\n",
      "\u001b[35m[2024-02-17 08:28:18 +0000] [28] [INFO] Booting worker with pid: 28\u001b[0m\n",
      "\u001b[35m[2024-02-17:08:28:20:INFO] No GPUs detected (normal if no gpus installed)\u001b[0m\n",
      "\u001b[35m[2024-02-17:08:28:20:INFO] Loading the model from /opt/ml/model/xgboost-model\u001b[0m\n",
      "\u001b[35m[2024-02-17:08:28:20:INFO] Model objective : binary:logistic\u001b[0m\n",
      "\u001b[35m[2024-02-17:08:28:21:INFO] No GPUs detected (normal if no gpus installed)\u001b[0m\n",
      "\u001b[35m[2024-02-17:08:28:21:INFO] Loading the model from /opt/ml/model/xgboost-model\u001b[0m\n",
      "\u001b[35m[2024-02-17:08:28:21:INFO] Model objective : binary:logistic\u001b[0m\n",
      "\u001b[35m[2024-02-17:08:28:21:INFO] No GPUs detected (normal if no gpus installed)\u001b[0m\n",
      "\u001b[35m[2024-02-17:08:28:21:INFO] Loading the model from /opt/ml/model/xgboost-model\u001b[0m\n",
      "\u001b[35m[2024-02-17:08:28:21:INFO] Model objective : binary:logistic\u001b[0m\n",
      "\u001b[35m[2024-02-17:08:28:21:INFO] No GPUs detected (normal if no gpus installed)\u001b[0m\n",
      "\u001b[35m[2024-02-17:08:28:21:INFO] Loading the model from /opt/ml/model/xgboost-model\u001b[0m\n",
      "\u001b[35m[2024-02-17:08:28:21:INFO] Model objective : binary:logistic\u001b[0m\n",
      "\u001b[34m[2024-02-17:08:28:25:INFO] No GPUs detected (normal if no gpus installed)\u001b[0m\n",
      "\u001b[34m169.254.255.130 - - [17/Feb/2024:08:28:25 +0000] \"GET /ping HTTP/1.1\" 200 0 \"-\" \"Go-http-client/1.1\"\u001b[0m\n",
      "\u001b[34m[2024-02-17:08:28:25:INFO] No GPUs detected (normal if no gpus installed)\u001b[0m\n",
      "\u001b[34m169.254.255.130 - - [17/Feb/2024:08:28:25 +0000] \"GET /execution-parameters HTTP/1.1\" 200 84 \"-\" \"Go-http-client/1.1\"\u001b[0m\n",
      "\u001b[35m[2024-02-17:08:28:25:INFO] No GPUs detected (normal if no gpus installed)\u001b[0m\n",
      "\u001b[35m169.254.255.130 - - [17/Feb/2024:08:28:25 +0000] \"GET /ping HTTP/1.1\" 200 0 \"-\" \"Go-http-client/1.1\"\u001b[0m\n",
      "\u001b[35m[2024-02-17:08:28:25:INFO] No GPUs detected (normal if no gpus installed)\u001b[0m\n",
      "\u001b[35m169.254.255.130 - - [17/Feb/2024:08:28:25 +0000] \"GET /execution-parameters HTTP/1.1\" 200 84 \"-\" \"Go-http-client/1.1\"\u001b[0m\n",
      "\u001b[34m[2024-02-17:08:28:25:INFO] Determined delimiter of CSV input is ','\u001b[0m\n",
      "\u001b[34m/miniconda3/lib/python3.8/site-packages/xgboost/core.py:122: UserWarning: ntree_limit is deprecated, use `iteration_range` or model slicing instead.\n",
      "  warnings.warn(\u001b[0m\n",
      "\u001b[34m169.254.255.130 - - [17/Feb/2024:08:28:25 +0000] \"POST /invocations HTTP/1.1\" 200 19734 \"-\" \"Go-http-client/1.1\"\u001b[0m\n",
      "\u001b[35m[2024-02-17:08:28:25:INFO] Determined delimiter of CSV input is ','\u001b[0m\n",
      "\u001b[35m/miniconda3/lib/python3.8/site-packages/xgboost/core.py:122: UserWarning: ntree_limit is deprecated, use `iteration_range` or model slicing instead.\n",
      "  warnings.warn(\u001b[0m\n",
      "\u001b[35m169.254.255.130 - - [17/Feb/2024:08:28:25 +0000] \"POST /invocations HTTP/1.1\" 200 19734 \"-\" \"Go-http-client/1.1\"\u001b[0m\n",
      "\u001b[32m2024-02-17T08:28:25.089:[sagemaker logs]: MaxConcurrentTransforms=4, MaxPayloadInMB=6, BatchStrategy=MULTI_RECORD\u001b[0m\n",
      "\n",
      "\u001b[34m[2024-02-17:08:28:18:INFO] No GPUs detected (normal if no gpus installed)\u001b[0m\n",
      "\u001b[34m[2024-02-17:08:28:18:INFO] No GPUs detected (normal if no gpus installed)\u001b[0m\n",
      "\u001b[34m[2024-02-17:08:28:18:INFO] nginx config: \u001b[0m\n",
      "\u001b[34mworker_processes auto;\u001b[0m\n",
      "\u001b[34mdaemon off;\u001b[0m\n",
      "\u001b[34mpid /tmp/nginx.pid;\u001b[0m\n",
      "\u001b[34merror_log  /dev/stderr;\u001b[0m\n",
      "\u001b[34mworker_rlimit_nofile 4096;\u001b[0m\n",
      "\u001b[34mevents {\n",
      "  worker_connections 2048;\u001b[0m\n",
      "\u001b[34m}\u001b[0m\n",
      "\u001b[35m[2024-02-17:08:28:18:INFO] No GPUs detected (normal if no gpus installed)\u001b[0m\n",
      "\u001b[35m[2024-02-17:08:28:18:INFO] No GPUs detected (normal if no gpus installed)\u001b[0m\n",
      "\u001b[35m[2024-02-17:08:28:18:INFO] nginx config: \u001b[0m\n",
      "\u001b[35mworker_processes auto;\u001b[0m\n",
      "\u001b[35mdaemon off;\u001b[0m\n",
      "\u001b[35mpid /tmp/nginx.pid;\u001b[0m\n",
      "\u001b[35merror_log  /dev/stderr;\u001b[0m\n",
      "\u001b[35mworker_rlimit_nofile 4096;\u001b[0m\n",
      "\u001b[35mevents {\n",
      "  worker_connections 2048;\u001b[0m\n",
      "\u001b[35m}\u001b[0m\n",
      "\u001b[34mhttp {\n",
      "  include /etc/nginx/mime.types;\n",
      "  default_type application/octet-stream;\n",
      "  access_log /dev/stdout combined;\n",
      "  upstream gunicorn {\n",
      "    server unix:/tmp/gunicorn.sock;\n",
      "  }\n",
      "  server {\n",
      "    listen 8080 deferred;\n",
      "    client_max_body_size 0;\n",
      "    keepalive_timeout 3;\n",
      "    location ~ ^/(ping|invocations|execution-parameters) {\n",
      "      proxy_set_header X-Forwarded-For $proxy_add_x_forwarded_for;\n",
      "      proxy_set_header Host $http_host;\n",
      "      proxy_redirect off;\n",
      "      proxy_read_timeout 60s;\n",
      "      proxy_pass http://gunicorn;\n",
      "    }\n",
      "    location / {\n",
      "      return 404 \"{}\";\n",
      "    }\n",
      "  }\u001b[0m\n",
      "\u001b[34m}\u001b[0m\n",
      "\u001b[34m[2024-02-17 08:28:18 +0000] [19] [INFO] Starting gunicorn 19.10.0\u001b[0m\n",
      "\u001b[34m[2024-02-17 08:28:18 +0000] [19] [INFO] Listening at: unix:/tmp/gunicorn.sock (19)\u001b[0m\n",
      "\u001b[34m[2024-02-17 08:28:18 +0000] [19] [INFO] Using worker: gevent\u001b[0m\n",
      "\u001b[34m/miniconda3/lib/python3.8/os.py:1023: RuntimeWarning: line buffering (buffering=1) isn't supported in binary mode, the default buffer size will be used\n",
      "  return io.open(fd, *args, **kwargs)\u001b[0m\n",
      "\u001b[34m[2024-02-17 08:28:18 +0000] [25] [INFO] Booting worker with pid: 25\u001b[0m\n",
      "\u001b[34m[2024-02-17 08:28:18 +0000] [26] [INFO] Booting worker with pid: 26\u001b[0m\n",
      "\u001b[34m[2024-02-17 08:28:18 +0000] [27] [INFO] Booting worker with pid: 27\u001b[0m\n",
      "\u001b[35mhttp {\n",
      "  include /etc/nginx/mime.types;\n",
      "  default_type application/octet-stream;\n",
      "  access_log /dev/stdout combined;\n",
      "  upstream gunicorn {\n",
      "    server unix:/tmp/gunicorn.sock;\n",
      "  }\n",
      "  server {\n",
      "    listen 8080 deferred;\n",
      "    client_max_body_size 0;\n",
      "    keepalive_timeout 3;\n",
      "    location ~ ^/(ping|invocations|execution-parameters) {\n",
      "      proxy_set_header X-Forwarded-For $proxy_add_x_forwarded_for;\n",
      "      proxy_set_header Host $http_host;\n",
      "      proxy_redirect off;\n",
      "      proxy_read_timeout 60s;\n",
      "      proxy_pass http://gunicorn;\n",
      "    }\n",
      "    location / {\n",
      "      return 404 \"{}\";\n",
      "    }\n",
      "  }\u001b[0m\n",
      "\u001b[35m}\u001b[0m\n",
      "\u001b[35m[2024-02-17 08:28:18 +0000] [19] [INFO] Starting gunicorn 19.10.0\u001b[0m\n",
      "\u001b[35m[2024-02-17 08:28:18 +0000] [19] [INFO] Listening at: unix:/tmp/gunicorn.sock (19)\u001b[0m\n",
      "\u001b[35m[2024-02-17 08:28:18 +0000] [19] [INFO] Using worker: gevent\u001b[0m\n",
      "\u001b[35m/miniconda3/lib/python3.8/os.py:1023: RuntimeWarning: line buffering (buffering=1) isn't supported in binary mode, the default buffer size will be used\n",
      "  return io.open(fd, *args, **kwargs)\u001b[0m\n",
      "\u001b[35m[2024-02-17 08:28:18 +0000] [25] [INFO] Booting worker with pid: 25\u001b[0m\n",
      "\u001b[35m[2024-02-17 08:28:18 +0000] [26] [INFO] Booting worker with pid: 26\u001b[0m\n",
      "\u001b[35m[2024-02-17 08:28:18 +0000] [27] [INFO] Booting worker with pid: 27\u001b[0m\n",
      "\u001b[34m[2024-02-17 08:28:18 +0000] [28] [INFO] Booting worker with pid: 28\u001b[0m\n",
      "\u001b[34m[2024-02-17:08:28:20:INFO] No GPUs detected (normal if no gpus installed)\u001b[0m\n",
      "\u001b[34m[2024-02-17:08:28:20:INFO] Loading the model from /opt/ml/model/xgboost-model\u001b[0m\n",
      "\u001b[34m[2024-02-17:08:28:20:INFO] Model objective : binary:logistic\u001b[0m\n",
      "\u001b[34m[2024-02-17:08:28:21:INFO] No GPUs detected (normal if no gpus installed)\u001b[0m\n",
      "\u001b[34m[2024-02-17:08:28:21:INFO] Loading the model from /opt/ml/model/xgboost-model\u001b[0m\n",
      "\u001b[34m[2024-02-17:08:28:21:INFO] Model objective : binary:logistic\u001b[0m\n",
      "\u001b[34m[2024-02-17:08:28:21:INFO] No GPUs detected (normal if no gpus installed)\u001b[0m\n",
      "\u001b[34m[2024-02-17:08:28:21:INFO] Loading the model from /opt/ml/model/xgboost-model\u001b[0m\n",
      "\u001b[34m[2024-02-17:08:28:21:INFO] Model objective : binary:logistic\u001b[0m\n",
      "\u001b[34m[2024-02-17:08:28:21:INFO] No GPUs detected (normal if no gpus installed)\u001b[0m\n",
      "\u001b[34m[2024-02-17:08:28:21:INFO] Loading the model from /opt/ml/model/xgboost-model\u001b[0m\n",
      "\u001b[34m[2024-02-17:08:28:21:INFO] Model objective : binary:logistic\u001b[0m\n",
      "\u001b[35m[2024-02-17 08:28:18 +0000] [28] [INFO] Booting worker with pid: 28\u001b[0m\n",
      "\u001b[35m[2024-02-17:08:28:20:INFO] No GPUs detected (normal if no gpus installed)\u001b[0m\n",
      "\u001b[35m[2024-02-17:08:28:20:INFO] Loading the model from /opt/ml/model/xgboost-model\u001b[0m\n",
      "\u001b[35m[2024-02-17:08:28:20:INFO] Model objective : binary:logistic\u001b[0m\n",
      "\u001b[35m[2024-02-17:08:28:21:INFO] No GPUs detected (normal if no gpus installed)\u001b[0m\n",
      "\u001b[35m[2024-02-17:08:28:21:INFO] Loading the model from /opt/ml/model/xgboost-model\u001b[0m\n",
      "\u001b[35m[2024-02-17:08:28:21:INFO] Model objective : binary:logistic\u001b[0m\n",
      "\u001b[35m[2024-02-17:08:28:21:INFO] No GPUs detected (normal if no gpus installed)\u001b[0m\n",
      "\u001b[35m[2024-02-17:08:28:21:INFO] Loading the model from /opt/ml/model/xgboost-model\u001b[0m\n",
      "\u001b[35m[2024-02-17:08:28:21:INFO] Model objective : binary:logistic\u001b[0m\n",
      "\u001b[35m[2024-02-17:08:28:21:INFO] No GPUs detected (normal if no gpus installed)\u001b[0m\n",
      "\u001b[35m[2024-02-17:08:28:21:INFO] Loading the model from /opt/ml/model/xgboost-model\u001b[0m\n",
      "\u001b[35m[2024-02-17:08:28:21:INFO] Model objective : binary:logistic\u001b[0m\n",
      "\u001b[34m[2024-02-17:08:28:25:INFO] No GPUs detected (normal if no gpus installed)\u001b[0m\n",
      "\u001b[34m169.254.255.130 - - [17/Feb/2024:08:28:25 +0000] \"GET /ping HTTP/1.1\" 200 0 \"-\" \"Go-http-client/1.1\"\u001b[0m\n",
      "\u001b[34m[2024-02-17:08:28:25:INFO] No GPUs detected (normal if no gpus installed)\u001b[0m\n",
      "\u001b[34m169.254.255.130 - - [17/Feb/2024:08:28:25 +0000] \"GET /execution-parameters HTTP/1.1\" 200 84 \"-\" \"Go-http-client/1.1\"\u001b[0m\n",
      "\u001b[35m[2024-02-17:08:28:25:INFO] No GPUs detected (normal if no gpus installed)\u001b[0m\n",
      "\u001b[35m169.254.255.130 - - [17/Feb/2024:08:28:25 +0000] \"GET /ping HTTP/1.1\" 200 0 \"-\" \"Go-http-client/1.1\"\u001b[0m\n",
      "\u001b[35m[2024-02-17:08:28:25:INFO] No GPUs detected (normal if no gpus installed)\u001b[0m\n",
      "\u001b[35m169.254.255.130 - - [17/Feb/2024:08:28:25 +0000] \"GET /execution-parameters HTTP/1.1\" 200 84 \"-\" \"Go-http-client/1.1\"\u001b[0m\n",
      "\u001b[34m[2024-02-17:08:28:25:INFO] Determined delimiter of CSV input is ','\u001b[0m\n",
      "\u001b[34m/miniconda3/lib/python3.8/site-packages/xgboost/core.py:122: UserWarning: ntree_limit is deprecated, use `iteration_range` or model slicing instead.\n",
      "  warnings.warn(\u001b[0m\n",
      "\u001b[34m169.254.255.130 - - [17/Feb/2024:08:28:25 +0000] \"POST /invocations HTTP/1.1\" 200 19734 \"-\" \"Go-http-client/1.1\"\u001b[0m\n",
      "\u001b[35m[2024-02-17:08:28:25:INFO] Determined delimiter of CSV input is ','\u001b[0m\n",
      "\u001b[35m/miniconda3/lib/python3.8/site-packages/xgboost/core.py:122: UserWarning: ntree_limit is deprecated, use `iteration_range` or model slicing instead.\n",
      "  warnings.warn(\u001b[0m\n",
      "\u001b[35m169.254.255.130 - - [17/Feb/2024:08:28:25 +0000] \"POST /invocations HTTP/1.1\" 200 19734 \"-\" \"Go-http-client/1.1\"\u001b[0m\n",
      "\u001b[32m2024-02-17T08:28:25.089:[sagemaker logs]: MaxConcurrentTransforms=4, MaxPayloadInMB=6, BatchStrategy=MULTI_RECORD\u001b[0m\n"
     ]
    }
   ],
   "source": [
    "sm_transformer = sm_estimator.transformer(1, \"ml.m4.xlarge\")\n",
    "\n",
    "sm_transformer.assemble_with = \"Line\"\n",
    "sm_transformer.accept = \"text/csv\"\n",
    "\n",
    "batch_file = \"batch_data.csv\"\n",
    "# start a transform job\n",
    "input_location = \"s3://{}/{}/batch/{}\".format(\n",
    "    bucket, prefix, batch_file\n",
    ")\n",
    "\n",
    "sm_transformer.transform(\n",
    "    input_location,\n",
    "    split_type=\"Line\",\n",
    "    content_type=\"text/csv\",\n",
    "    input_filter=\"$[1:]\", # input_filter will filter out CustomerId\n",
    "    join_source=\"Input\",\n",
    "    output_filter=\"$[0,-1]\",\n",
    ")\n",
    "sm_transformer.wait()"
   ]
  },
  {
   "cell_type": "markdown",
   "id": "4c4e15bc-402b-4df5-abdb-2655e235445f",
   "metadata": {},
   "source": [
    "Let's display the output"
   ]
  },
  {
   "cell_type": "code",
   "execution_count": 12,
   "id": "4c5c6b83-9ec2-4c78-80ef-64997e760b40",
   "metadata": {
    "tags": []
   },
   "outputs": [
    {
     "data": {
      "text/html": [
       "<div>\n",
       "<style scoped>\n",
       "    .dataframe tbody tr th:only-of-type {\n",
       "        vertical-align: middle;\n",
       "    }\n",
       "\n",
       "    .dataframe tbody tr th {\n",
       "        vertical-align: top;\n",
       "    }\n",
       "\n",
       "    .dataframe thead th {\n",
       "        text-align: right;\n",
       "    }\n",
       "</style>\n",
       "<table border=\"1\" class=\"dataframe\">\n",
       "  <thead>\n",
       "    <tr style=\"text-align: right;\">\n",
       "      <th></th>\n",
       "      <th>0</th>\n",
       "      <th>1</th>\n",
       "    </tr>\n",
       "  </thead>\n",
       "  <tbody>\n",
       "    <tr>\n",
       "      <th>0</th>\n",
       "      <td>15731026</td>\n",
       "      <td>0.163935</td>\n",
       "    </tr>\n",
       "    <tr>\n",
       "      <th>1</th>\n",
       "      <td>15792565</td>\n",
       "      <td>0.130133</td>\n",
       "    </tr>\n",
       "    <tr>\n",
       "      <th>2</th>\n",
       "      <td>15710316</td>\n",
       "      <td>0.340440</td>\n",
       "    </tr>\n",
       "    <tr>\n",
       "      <th>3</th>\n",
       "      <td>15781347</td>\n",
       "      <td>0.062452</td>\n",
       "    </tr>\n",
       "    <tr>\n",
       "      <th>4</th>\n",
       "      <td>15694859</td>\n",
       "      <td>0.083239</td>\n",
       "    </tr>\n",
       "    <tr>\n",
       "      <th>5</th>\n",
       "      <td>15739194</td>\n",
       "      <td>0.098661</td>\n",
       "    </tr>\n",
       "    <tr>\n",
       "      <th>6</th>\n",
       "      <td>15723894</td>\n",
       "      <td>0.418821</td>\n",
       "    </tr>\n",
       "    <tr>\n",
       "      <th>7</th>\n",
       "      <td>15652527</td>\n",
       "      <td>0.190420</td>\n",
       "    </tr>\n",
       "  </tbody>\n",
       "</table>\n",
       "</div>"
      ],
      "text/plain": [
       "          0         1\n",
       "0  15731026  0.163935\n",
       "1  15792565  0.130133\n",
       "2  15710316  0.340440\n",
       "3  15781347  0.062452\n",
       "4  15694859  0.083239\n",
       "5  15739194  0.098661\n",
       "6  15723894  0.418821\n",
       "7  15652527  0.190420"
      ]
     },
     "execution_count": 12,
     "metadata": {},
     "output_type": "execute_result"
    }
   ],
   "source": [
    "def get_csv_output_from_s3(s3uri, batch_file):\n",
    "    file_name = \"{}.out\".format(batch_file)\n",
    "    match = re.match(\"s3://([^/]+)/(.*)\", \"{}/{}\".format(s3uri, file_name))\n",
    "    output_bucket, output_prefix = match.group(1), match.group(2)\n",
    "    s3.download_file(output_bucket, output_prefix, file_name)\n",
    "    return pd.read_csv(file_name, sep=\",\", header=None)\n",
    "\n",
    "output_df = get_csv_output_from_s3(sm_transformer.output_path, batch_file)\n",
    "output_df.head(8)"
   ]
  },
  {
   "cell_type": "markdown",
   "id": "390199b2-dc43-4380-bf52-64414c48826b",
   "metadata": {},
   "source": [
    "## Register the model"
   ]
  },
  {
   "cell_type": "markdown",
   "id": "eb19718f-4844-4018-8c71-67cc746a8958",
   "metadata": {},
   "source": [
    "Create model entity"
   ]
  },
  {
   "cell_type": "code",
   "execution_count": 13,
   "id": "b6807f2b-a7e9-4205-bbcd-5d35cff3fa4f",
   "metadata": {
    "tags": []
   },
   "outputs": [],
   "source": [
    "model_name = f\"final-project-xgb-churn-pred-model-monitor-{datetime.utcnow():%Y-%m-%d-%H%M}\"\n",
    "\n",
    "image_uri = image\n",
    "model_data = sm_estimator.model_data\n",
    "\n",
    "model = Model(image_uri=image_uri, model_data=model_data, role=role, sagemaker_session=sess)"
   ]
  },
  {
   "cell_type": "markdown",
   "id": "262f05c5-21a8-43cc-b862-69411ed363f8",
   "metadata": {},
   "source": [
    "Register the model in SageMaker Models"
   ]
  },
  {
   "cell_type": "code",
   "execution_count": 14,
   "id": "27a2cd9c-e4b4-4dbe-80e3-15e95eb3204b",
   "metadata": {
    "tags": []
   },
   "outputs": [
    {
     "name": "stdout",
     "output_type": "stream",
     "text": [
      "model name: final-project-xgb-churn-pred-model-monitor-2024-02-17-0829\n",
      "arn:aws:sagemaker:us-east-1:075039479415:model/final-project-xgb-churn-pred-model-monitor-2024-02-17-0829\n"
     ]
    }
   ],
   "source": [
    "print(\"model name:\", model_name)\n",
    "primary_container = {\"Image\": image, \"ModelDataUrl\": model_data}\n",
    "\n",
    "# Save our model to the Sagemaker Model Registry\n",
    "create_model_response = sm_client.create_model(\n",
    "    ModelName=model_name, ExecutionRoleArn=role, PrimaryContainer=primary_container\n",
    ")\n",
    "\n",
    "print(create_model_response[\"ModelArn\"])"
   ]
  },
  {
   "cell_type": "markdown",
   "id": "f9059d59-c1a5-49b5-9f0f-17c2e964bb8d",
   "metadata": {},
   "source": [
    "Register the model in Model Registry"
   ]
  },
  {
   "cell_type": "code",
   "execution_count": 15,
   "id": "d0fed933-634b-4e17-9871-c1fa5484c4d9",
   "metadata": {
    "tags": []
   },
   "outputs": [
    {
     "name": "stdout",
     "output_type": "stream",
     "text": [
      "ModelPackageGroup Arn : arn:aws:sagemaker:us-east-1:075039479415:model-package-group/final-project-churn-prediction\n"
     ]
    }
   ],
   "source": [
    "# create model package group to register the model in\n",
    "\n",
    "model_package_group_name = \"final-project-churn-prediction\"\n",
    "model_package_group_input_dict = {\n",
    " \"ModelPackageGroupName\" : model_package_group_name,\n",
    " \"ModelPackageGroupDescription\" : \"Customer churn prediction model package group\"\n",
    "}\n",
    "\n",
    "create_model_pacakge_group_response = sm_client.create_model_package_group(**model_package_group_input_dict)\n",
    "print('ModelPackageGroup Arn : {}'.format(create_model_pacakge_group_response['ModelPackageGroupArn']))"
   ]
  },
  {
   "cell_type": "code",
   "execution_count": 16,
   "id": "1b7f6f48-4ff0-49e7-a2b1-253b8c0a26a6",
   "metadata": {
    "tags": []
   },
   "outputs": [],
   "source": [
    "# Specify the model source\n",
    "model_url = model_data\n",
    "model_package_group_name = \"final-project-churn-prediction\"\n",
    "\n",
    "modelpackage_inference_specification =  {\n",
    "    \"InferenceSpecification\": {\n",
    "      \"Containers\": [\n",
    "         {\n",
    "            \"Image\": image_uri,\n",
    "\t    \"ModelDataUrl\": model_url\n",
    "         }\n",
    "      ],\n",
    "      \"SupportedContentTypes\": [ \"text/csv\" ],\n",
    "      \"SupportedResponseMIMETypes\": [ \"text/csv\" ],\n",
    "   }\n",
    " }\n",
    "\n",
    "create_model_package_input_dict = {\n",
    "    \"ModelPackageGroupName\" : model_package_group_name,\n",
    "    \"ModelPackageDescription\" : \"Predict customer churn\",\n",
    "    \"ModelApprovalStatus\" : \"PendingManualApproval\" # must be approved manually!\n",
    "}\n",
    "\n",
    "create_model_package_input_dict.update(modelpackage_inference_specification)"
   ]
  },
  {
   "cell_type": "code",
   "execution_count": 17,
   "id": "d2581330-b38a-45d6-b734-05f3e992cce6",
   "metadata": {
    "tags": []
   },
   "outputs": [
    {
     "name": "stdout",
     "output_type": "stream",
     "text": [
      "ModelPackage Version ARN : arn:aws:sagemaker:us-east-1:075039479415:model-package/final-project-churn-prediction/1\n"
     ]
    }
   ],
   "source": [
    "create_model_package_response = sm_client.create_model_package(**create_model_package_input_dict)\n",
    "model_package_arn = create_model_package_response[\"ModelPackageArn\"]\n",
    "print('ModelPackage Version ARN : {}'.format(model_package_arn))"
   ]
  },
  {
   "cell_type": "markdown",
   "id": "0f518453-e320-4c27-9210-9a98e68f8e1c",
   "metadata": {},
   "source": [
    "Deploy the model with data capture enabled"
   ]
  },
  {
   "cell_type": "code",
   "execution_count": 18,
   "id": "c5f440f5-2f14-48c4-842a-474fec74bb02",
   "metadata": {
    "tags": []
   },
   "outputs": [
    {
     "name": "stdout",
     "output_type": "stream",
     "text": [
      "EndpointName = final-project-xgboost-v1-wquality-monitor-2024-02-17-0829\n",
      "sagemaker.config INFO - Not applying SDK defaults from location: /etc/xdg/sagemaker/config.yaml\n",
      "sagemaker.config INFO - Not applying SDK defaults from location: /root/.config/sagemaker/config.yaml\n"
     ]
    },
    {
     "name": "stderr",
     "output_type": "stream",
     "text": [
      "INFO:sagemaker:Creating model with name: sagemaker-xgboost-2024-02-17-08-29-07-160\n",
      "INFO:sagemaker:Creating endpoint-config with name final-project-xgboost-v1-wquality-monitor-2024-02-17-0829\n",
      "INFO:sagemaker:Creating endpoint with name final-project-xgboost-v1-wquality-monitor-2024-02-17-0829\n"
     ]
    },
    {
     "name": "stdout",
     "output_type": "stream",
     "text": [
      "------!"
     ]
    }
   ],
   "source": [
    "endpoint_name = f\"final-project-xgboost-v1-wquality-monitor-{datetime.utcnow():%Y-%m-%d-%H%M}\"\n",
    "print(\"EndpointName =\", endpoint_name)\n",
    "\n",
    "data_capture_config = DataCaptureConfig(\n",
    "    enable_capture=True, sampling_percentage=100, destination_s3_uri=s3_capture_upload_path\n",
    ")\n",
    "\n",
    "model.deploy(\n",
    "    initial_instance_count=1,\n",
    "    instance_type=\"ml.m4.xlarge\",\n",
    "    endpoint_name=endpoint_name,\n",
    "    data_capture_config=data_capture_config,\n",
    ")"
   ]
  },
  {
   "cell_type": "markdown",
   "id": "9d613d00-fdf8-4785-9969-0d7ec4b62af7",
   "metadata": {},
   "source": [
    "Use predictor to invoke the model"
   ]
  },
  {
   "cell_type": "code",
   "execution_count": 19,
   "id": "a69e8a98-21e1-4435-890f-b356bd5019a3",
   "metadata": {
    "tags": []
   },
   "outputs": [],
   "source": [
    "predictor = Predictor(\n",
    "    endpoint_name=endpoint_name, sagemaker_session=sess, serializer=CSVSerializer()\n",
    ")"
   ]
  },
  {
   "cell_type": "markdown",
   "id": "66a8d4a2-7707-4a51-9b29-f1919af982d5",
   "metadata": {},
   "source": [
    "Generate a baseline for model quality performance"
   ]
  },
  {
   "cell_type": "code",
   "execution_count": 20,
   "id": "1966545f-e76f-47da-9813-080183a305e8",
   "metadata": {
    "tags": []
   },
   "outputs": [
    {
     "name": "stdout",
     "output_type": "stream",
     "text": [
      "........................................................................................................................................................................................................\n",
      "Done!\n"
     ]
    }
   ],
   "source": [
    "churn_cutoff = 0.5\n",
    "validate_dataset = \"validation_with_predictions.csv\"\n",
    "\n",
    "limit = 200  # Need at least 200 samples to compute standard deviations\n",
    "i = 0\n",
    "with open(f\"data/{validate_dataset}\", \"w\") as baseline_file:\n",
    "    baseline_file.write(\"probability,prediction,label\\n\")  # our header\n",
    "    with open(\"data/test_data_noID.csv\", \"r\") as f:\n",
    "        for row in f:\n",
    "            (label, input_cols) = row.split(\",\", 1)\n",
    "            probability = float(predictor.predict(input_cols))\n",
    "            prediction = \"1\" if probability > churn_cutoff else \"0\"\n",
    "            baseline_file.write(f\"{probability},{prediction},{label}\\n\")\n",
    "            i += 1\n",
    "            if i > limit:\n",
    "                break\n",
    "            print(\".\", end=\"\", flush=True)\n",
    "            sleep(0.5)\n",
    "print()\n",
    "print(\"Done!\")"
   ]
  },
  {
   "cell_type": "markdown",
   "id": "847a40e0-3c39-45e8-94ff-4e13a9d4c0fe",
   "metadata": {},
   "source": [
    "examine the file we just created"
   ]
  },
  {
   "cell_type": "code",
   "execution_count": 21,
   "id": "f18b4d7b-3198-4ed1-9908-2f41a022f943",
   "metadata": {
    "tags": []
   },
   "outputs": [
    {
     "name": "stdout",
     "output_type": "stream",
     "text": [
      "probability,prediction,label\n",
      "0.16393506526947021,0,0\n",
      "0.13013315200805664,0,0\n",
      "0.34044021368026733,0,0\n",
      "0.06245207041501999,0,0\n",
      "0.08323916792869568,0,0\n",
      "0.09866088628768921,0,0\n",
      "0.41882139444351196,0,0\n",
      "0.19041965901851654,0,0\n",
      "0.05520108714699745,0,0\n"
     ]
    }
   ],
   "source": [
    "!head data/validation_with_predictions.csv"
   ]
  },
  {
   "cell_type": "markdown",
   "id": "3350557e-5e2c-48e5-bbad-f576cc9094d2",
   "metadata": {},
   "source": [
    "Upload the baseline data to s3"
   ]
  },
  {
   "cell_type": "code",
   "execution_count": 22,
   "id": "64102d08-1909-4c9e-a53e-510c247e638b",
   "metadata": {
    "tags": []
   },
   "outputs": [
    {
     "name": "stdout",
     "output_type": "stream",
     "text": [
      "Baseline data uri: s3://sagemaker-us-east-1-075039479415/churn-prediction-xgboost/baselining/data\n",
      "Baseline results uri: s3://sagemaker-us-east-1-075039479415/churn-prediction-xgboost/baselining/results\n"
     ]
    }
   ],
   "source": [
    "baseline_prefix = prefix + \"/baselining\"\n",
    "baseline_data_prefix = baseline_prefix + \"/data\"\n",
    "baseline_results_prefix = baseline_prefix + \"/results\"\n",
    "\n",
    "baseline_data_uri = f\"s3://{bucket}/{baseline_data_prefix}\"\n",
    "baseline_results_uri = f\"s3://{bucket}/{baseline_results_prefix}\"\n",
    "print(f\"Baseline data uri: {baseline_data_uri}\")\n",
    "print(f\"Baseline results uri: {baseline_results_uri}\")"
   ]
  },
  {
   "cell_type": "code",
   "execution_count": 23,
   "id": "cea2023c-3c74-4af1-9349-762fd0409c1b",
   "metadata": {
    "tags": []
   },
   "outputs": [
    {
     "name": "stdout",
     "output_type": "stream",
     "text": [
      "sagemaker.config INFO - Not applying SDK defaults from location: /etc/xdg/sagemaker/config.yaml\n",
      "sagemaker.config INFO - Not applying SDK defaults from location: /root/.config/sagemaker/config.yaml\n"
     ]
    },
    {
     "data": {
      "text/plain": [
       "'s3://sagemaker-us-east-1-075039479415/churn-prediction-xgboost/baselining/data/validation_with_predictions.csv'"
      ]
     },
     "execution_count": 23,
     "metadata": {},
     "output_type": "execute_result"
    }
   ],
   "source": [
    "baseline_dataset_uri = S3Uploader.upload(f\"data/{validate_dataset}\", baseline_data_uri)\n",
    "baseline_dataset_uri"
   ]
  },
  {
   "cell_type": "markdown",
   "id": "e89ea171-5342-4d3b-bf50-c76a60cb7f6a",
   "metadata": {},
   "source": [
    "#### Create a baselining job with validation dataset predictions\n",
    "\n",
    "Define the model quality monitoring object and execute the model quality monitoring baseline job. Model monitor will automatically generate baseline statistics and constraints based on the validation dataset provided."
   ]
  },
  {
   "cell_type": "code",
   "execution_count": 24,
   "id": "3a435b54-827e-4f10-8e09-4f103028efa7",
   "metadata": {
    "tags": []
   },
   "outputs": [
    {
     "name": "stderr",
     "output_type": "stream",
     "text": [
      "INFO:sagemaker.image_uris:Defaulting to the only supported framework/algorithm version: .\n",
      "INFO:sagemaker.image_uris:Ignoring unnecessary instance type: None.\n"
     ]
    }
   ],
   "source": [
    "# Create the model quality monitoring object\n",
    "churn_model_quality_monitor = ModelQualityMonitor(\n",
    "    role=role,\n",
    "    instance_count=1,\n",
    "    instance_type=\"ml.m5.xlarge\",\n",
    "    volume_size_in_gb=20,\n",
    "    max_runtime_in_seconds=1800,\n",
    "    sagemaker_session=sess,\n",
    ")"
   ]
  },
  {
   "cell_type": "code",
   "execution_count": 25,
   "id": "2ceb0c6d-cdb5-486a-b1a5-04bfa0a6394f",
   "metadata": {
    "tags": []
   },
   "outputs": [],
   "source": [
    "# Name of the model quality baseline job\n",
    "baseline_job_name = f\"final-project-xgb-baseline-job-{datetime.utcnow():%Y-%m-%d-%H%M}\""
   ]
  },
  {
   "cell_type": "code",
   "execution_count": 26,
   "id": "398137b0-f0af-4166-989f-c91072212284",
   "metadata": {
    "tags": []
   },
   "outputs": [
    {
     "name": "stderr",
     "output_type": "stream",
     "text": [
      "INFO:sagemaker:Creating processing-job with name final-project-xgb-baseline-job-2024-02-17-0834\n"
     ]
    },
    {
     "name": "stdout",
     "output_type": "stream",
     "text": [
      "........................................................................!"
     ]
    }
   ],
   "source": [
    "# Execute the baseline suggestion job.\n",
    "job = churn_model_quality_monitor.suggest_baseline(\n",
    "    job_name=baseline_job_name,\n",
    "    baseline_dataset=baseline_dataset_uri,\n",
    "    dataset_format=DatasetFormat.csv(header=True),\n",
    "    output_s3_uri=baseline_results_uri,\n",
    "    problem_type=\"BinaryClassification\",\n",
    "    inference_attribute=\"prediction\",\n",
    "    probability_attribute=\"probability\",\n",
    "    ground_truth_attribute=\"label\",\n",
    ")\n",
    "job.wait(logs=False)"
   ]
  },
  {
   "cell_type": "markdown",
   "id": "0c21c53b-b7e9-48b0-8b6b-0287b0512892",
   "metadata": {},
   "source": [
    "explore the results of the baseline job"
   ]
  },
  {
   "cell_type": "code",
   "execution_count": 27,
   "id": "91fb070e-670c-4388-8530-f214d309dab2",
   "metadata": {
    "tags": []
   },
   "outputs": [
    {
     "data": {
      "text/html": [
       "<div>\n",
       "<style scoped>\n",
       "    .dataframe tbody tr th:only-of-type {\n",
       "        vertical-align: middle;\n",
       "    }\n",
       "\n",
       "    .dataframe tbody tr th {\n",
       "        vertical-align: top;\n",
       "    }\n",
       "\n",
       "    .dataframe thead th {\n",
       "        text-align: right;\n",
       "    }\n",
       "</style>\n",
       "<table border=\"1\" class=\"dataframe\">\n",
       "  <thead>\n",
       "    <tr style=\"text-align: right;\">\n",
       "      <th></th>\n",
       "      <th>0</th>\n",
       "    </tr>\n",
       "  </thead>\n",
       "  <tbody>\n",
       "    <tr>\n",
       "      <th>confusion_matrix.0.0</th>\n",
       "      <td>154</td>\n",
       "    </tr>\n",
       "    <tr>\n",
       "      <th>confusion_matrix.0.1</th>\n",
       "      <td>4</td>\n",
       "    </tr>\n",
       "    <tr>\n",
       "      <th>confusion_matrix.1.0</th>\n",
       "      <td>27</td>\n",
       "    </tr>\n",
       "    <tr>\n",
       "      <th>confusion_matrix.1.1</th>\n",
       "      <td>16</td>\n",
       "    </tr>\n",
       "    <tr>\n",
       "      <th>recall.value</th>\n",
       "      <td>0.372093</td>\n",
       "    </tr>\n",
       "    <tr>\n",
       "      <th>recall.standard_deviation</th>\n",
       "      <td>0.036713</td>\n",
       "    </tr>\n",
       "    <tr>\n",
       "      <th>precision.value</th>\n",
       "      <td>0.8</td>\n",
       "    </tr>\n",
       "    <tr>\n",
       "      <th>precision.standard_deviation</th>\n",
       "      <td>0.062784</td>\n",
       "    </tr>\n",
       "    <tr>\n",
       "      <th>accuracy.value</th>\n",
       "      <td>0.845771</td>\n",
       "    </tr>\n",
       "    <tr>\n",
       "      <th>accuracy.standard_deviation</th>\n",
       "      <td>0.008664</td>\n",
       "    </tr>\n",
       "    <tr>\n",
       "      <th>recall_best_constant_classifier.value</th>\n",
       "      <td>0.0</td>\n",
       "    </tr>\n",
       "    <tr>\n",
       "      <th>recall_best_constant_classifier.standard_deviation</th>\n",
       "      <td>0.0</td>\n",
       "    </tr>\n",
       "    <tr>\n",
       "      <th>precision_best_constant_classifier.value</th>\n",
       "      <td>0.0</td>\n",
       "    </tr>\n",
       "    <tr>\n",
       "      <th>precision_best_constant_classifier.standard_deviation</th>\n",
       "      <td>0.0</td>\n",
       "    </tr>\n",
       "    <tr>\n",
       "      <th>accuracy_best_constant_classifier.value</th>\n",
       "      <td>0.78607</td>\n",
       "    </tr>\n",
       "    <tr>\n",
       "      <th>accuracy_best_constant_classifier.standard_deviation</th>\n",
       "      <td>0.01638</td>\n",
       "    </tr>\n",
       "    <tr>\n",
       "      <th>true_positive_rate.value</th>\n",
       "      <td>0.372093</td>\n",
       "    </tr>\n",
       "    <tr>\n",
       "      <th>true_positive_rate.standard_deviation</th>\n",
       "      <td>0.036713</td>\n",
       "    </tr>\n",
       "    <tr>\n",
       "      <th>true_negative_rate.value</th>\n",
       "      <td>0.974684</td>\n",
       "    </tr>\n",
       "    <tr>\n",
       "      <th>true_negative_rate.standard_deviation</th>\n",
       "      <td>0.006828</td>\n",
       "    </tr>\n",
       "    <tr>\n",
       "      <th>false_positive_rate.value</th>\n",
       "      <td>0.025316</td>\n",
       "    </tr>\n",
       "    <tr>\n",
       "      <th>false_positive_rate.standard_deviation</th>\n",
       "      <td>0.006828</td>\n",
       "    </tr>\n",
       "    <tr>\n",
       "      <th>false_negative_rate.value</th>\n",
       "      <td>0.627907</td>\n",
       "    </tr>\n",
       "    <tr>\n",
       "      <th>false_negative_rate.standard_deviation</th>\n",
       "      <td>0.036713</td>\n",
       "    </tr>\n",
       "    <tr>\n",
       "      <th>receiver_operating_characteristic_curve.false_positive_rates</th>\n",
       "      <td>[0.0, 0.0, 0.0, 0.0, 0.0, 0.0, 0.0, 0.0, 0.0, ...</td>\n",
       "    </tr>\n",
       "    <tr>\n",
       "      <th>receiver_operating_characteristic_curve.true_positive_rates</th>\n",
       "      <td>[0.0, 0.023255813953488372, 0.0465116279069767...</td>\n",
       "    </tr>\n",
       "    <tr>\n",
       "      <th>precision_recall_curve.precisions</th>\n",
       "      <td>[1.0, 1.0, 1.0, 1.0, 1.0, 1.0, 1.0, 1.0, 1.0, ...</td>\n",
       "    </tr>\n",
       "    <tr>\n",
       "      <th>precision_recall_curve.recalls</th>\n",
       "      <td>[0.0, 0.023255813953488372, 0.0465116279069767...</td>\n",
       "    </tr>\n",
       "    <tr>\n",
       "      <th>auc.value</th>\n",
       "      <td>0.891448</td>\n",
       "    </tr>\n",
       "    <tr>\n",
       "      <th>auc.standard_deviation</th>\n",
       "      <td>0.015786</td>\n",
       "    </tr>\n",
       "    <tr>\n",
       "      <th>au_prc.value</th>\n",
       "      <td>0.699589</td>\n",
       "    </tr>\n",
       "    <tr>\n",
       "      <th>au_prc.standard_deviation</th>\n",
       "      <td>0.043246</td>\n",
       "    </tr>\n",
       "    <tr>\n",
       "      <th>f0_5.value</th>\n",
       "      <td>0.650407</td>\n",
       "    </tr>\n",
       "    <tr>\n",
       "      <th>f0_5.standard_deviation</th>\n",
       "      <td>0.052791</td>\n",
       "    </tr>\n",
       "    <tr>\n",
       "      <th>f1.value</th>\n",
       "      <td>0.507937</td>\n",
       "    </tr>\n",
       "    <tr>\n",
       "      <th>f1.standard_deviation</th>\n",
       "      <td>0.044855</td>\n",
       "    </tr>\n",
       "    <tr>\n",
       "      <th>f2.value</th>\n",
       "      <td>0.416667</td>\n",
       "    </tr>\n",
       "    <tr>\n",
       "      <th>f2.standard_deviation</th>\n",
       "      <td>0.039554</td>\n",
       "    </tr>\n",
       "    <tr>\n",
       "      <th>f0_5_best_constant_classifier.value</th>\n",
       "      <td>0.0</td>\n",
       "    </tr>\n",
       "    <tr>\n",
       "      <th>f0_5_best_constant_classifier.standard_deviation</th>\n",
       "      <td>0.0</td>\n",
       "    </tr>\n",
       "    <tr>\n",
       "      <th>f1_best_constant_classifier.value</th>\n",
       "      <td>0.0</td>\n",
       "    </tr>\n",
       "    <tr>\n",
       "      <th>f1_best_constant_classifier.standard_deviation</th>\n",
       "      <td>0.0</td>\n",
       "    </tr>\n",
       "    <tr>\n",
       "      <th>f2_best_constant_classifier.value</th>\n",
       "      <td>0.0</td>\n",
       "    </tr>\n",
       "    <tr>\n",
       "      <th>f2_best_constant_classifier.standard_deviation</th>\n",
       "      <td>0.0</td>\n",
       "    </tr>\n",
       "  </tbody>\n",
       "</table>\n",
       "</div>"
      ],
      "text/plain": [
       "                                                                                                    0\n",
       "confusion_matrix.0.0                                                                              154\n",
       "confusion_matrix.0.1                                                                                4\n",
       "confusion_matrix.1.0                                                                               27\n",
       "confusion_matrix.1.1                                                                               16\n",
       "recall.value                                                                                 0.372093\n",
       "recall.standard_deviation                                                                    0.036713\n",
       "precision.value                                                                                   0.8\n",
       "precision.standard_deviation                                                                 0.062784\n",
       "accuracy.value                                                                               0.845771\n",
       "accuracy.standard_deviation                                                                  0.008664\n",
       "recall_best_constant_classifier.value                                                             0.0\n",
       "recall_best_constant_classifier.standard_deviation                                                0.0\n",
       "precision_best_constant_classifier.value                                                          0.0\n",
       "precision_best_constant_classifier.standard_dev...                                                0.0\n",
       "accuracy_best_constant_classifier.value                                                       0.78607\n",
       "accuracy_best_constant_classifier.standard_devi...                                            0.01638\n",
       "true_positive_rate.value                                                                     0.372093\n",
       "true_positive_rate.standard_deviation                                                        0.036713\n",
       "true_negative_rate.value                                                                     0.974684\n",
       "true_negative_rate.standard_deviation                                                        0.006828\n",
       "false_positive_rate.value                                                                    0.025316\n",
       "false_positive_rate.standard_deviation                                                       0.006828\n",
       "false_negative_rate.value                                                                    0.627907\n",
       "false_negative_rate.standard_deviation                                                       0.036713\n",
       "receiver_operating_characteristic_curve.false_p...  [0.0, 0.0, 0.0, 0.0, 0.0, 0.0, 0.0, 0.0, 0.0, ...\n",
       "receiver_operating_characteristic_curve.true_po...  [0.0, 0.023255813953488372, 0.0465116279069767...\n",
       "precision_recall_curve.precisions                   [1.0, 1.0, 1.0, 1.0, 1.0, 1.0, 1.0, 1.0, 1.0, ...\n",
       "precision_recall_curve.recalls                      [0.0, 0.023255813953488372, 0.0465116279069767...\n",
       "auc.value                                                                                    0.891448\n",
       "auc.standard_deviation                                                                       0.015786\n",
       "au_prc.value                                                                                 0.699589\n",
       "au_prc.standard_deviation                                                                    0.043246\n",
       "f0_5.value                                                                                   0.650407\n",
       "f0_5.standard_deviation                                                                      0.052791\n",
       "f1.value                                                                                     0.507937\n",
       "f1.standard_deviation                                                                        0.044855\n",
       "f2.value                                                                                     0.416667\n",
       "f2.standard_deviation                                                                        0.039554\n",
       "f0_5_best_constant_classifier.value                                                               0.0\n",
       "f0_5_best_constant_classifier.standard_deviation                                                  0.0\n",
       "f1_best_constant_classifier.value                                                                 0.0\n",
       "f1_best_constant_classifier.standard_deviation                                                    0.0\n",
       "f2_best_constant_classifier.value                                                                 0.0\n",
       "f2_best_constant_classifier.standard_deviation                                                    0.0"
      ]
     },
     "execution_count": 27,
     "metadata": {},
     "output_type": "execute_result"
    }
   ],
   "source": [
    "baseline_job = churn_model_quality_monitor.latest_baselining_job\n",
    "\n",
    "binary_metrics = baseline_job.baseline_statistics().body_dict[\"binary_classification_metrics\"]\n",
    "pd.json_normalize(binary_metrics).T"
   ]
  },
  {
   "cell_type": "code",
   "execution_count": 28,
   "id": "02cf634a-e1c7-4908-a53e-7f75338695be",
   "metadata": {
    "tags": []
   },
   "outputs": [
    {
     "data": {
      "text/html": [
       "<div>\n",
       "<style scoped>\n",
       "    .dataframe tbody tr th:only-of-type {\n",
       "        vertical-align: middle;\n",
       "    }\n",
       "\n",
       "    .dataframe tbody tr th {\n",
       "        vertical-align: top;\n",
       "    }\n",
       "\n",
       "    .dataframe thead th {\n",
       "        text-align: right;\n",
       "    }\n",
       "</style>\n",
       "<table border=\"1\" class=\"dataframe\">\n",
       "  <thead>\n",
       "    <tr style=\"text-align: right;\">\n",
       "      <th></th>\n",
       "      <th>threshold</th>\n",
       "      <th>comparison_operator</th>\n",
       "    </tr>\n",
       "  </thead>\n",
       "  <tbody>\n",
       "    <tr>\n",
       "      <th>recall</th>\n",
       "      <td>0.372093</td>\n",
       "      <td>LessThanThreshold</td>\n",
       "    </tr>\n",
       "    <tr>\n",
       "      <th>precision</th>\n",
       "      <td>0.8</td>\n",
       "      <td>LessThanThreshold</td>\n",
       "    </tr>\n",
       "    <tr>\n",
       "      <th>accuracy</th>\n",
       "      <td>0.845771</td>\n",
       "      <td>LessThanThreshold</td>\n",
       "    </tr>\n",
       "    <tr>\n",
       "      <th>true_positive_rate</th>\n",
       "      <td>0.372093</td>\n",
       "      <td>LessThanThreshold</td>\n",
       "    </tr>\n",
       "    <tr>\n",
       "      <th>true_negative_rate</th>\n",
       "      <td>0.974684</td>\n",
       "      <td>LessThanThreshold</td>\n",
       "    </tr>\n",
       "    <tr>\n",
       "      <th>false_positive_rate</th>\n",
       "      <td>0.025316</td>\n",
       "      <td>GreaterThanThreshold</td>\n",
       "    </tr>\n",
       "    <tr>\n",
       "      <th>false_negative_rate</th>\n",
       "      <td>0.627907</td>\n",
       "      <td>GreaterThanThreshold</td>\n",
       "    </tr>\n",
       "    <tr>\n",
       "      <th>auc</th>\n",
       "      <td>0.891448</td>\n",
       "      <td>LessThanThreshold</td>\n",
       "    </tr>\n",
       "    <tr>\n",
       "      <th>f0_5</th>\n",
       "      <td>0.650407</td>\n",
       "      <td>LessThanThreshold</td>\n",
       "    </tr>\n",
       "    <tr>\n",
       "      <th>f1</th>\n",
       "      <td>0.507937</td>\n",
       "      <td>LessThanThreshold</td>\n",
       "    </tr>\n",
       "    <tr>\n",
       "      <th>f2</th>\n",
       "      <td>0.416667</td>\n",
       "      <td>LessThanThreshold</td>\n",
       "    </tr>\n",
       "  </tbody>\n",
       "</table>\n",
       "</div>"
      ],
      "text/plain": [
       "                    threshold   comparison_operator\n",
       "recall               0.372093     LessThanThreshold\n",
       "precision                 0.8     LessThanThreshold\n",
       "accuracy             0.845771     LessThanThreshold\n",
       "true_positive_rate   0.372093     LessThanThreshold\n",
       "true_negative_rate   0.974684     LessThanThreshold\n",
       "false_positive_rate  0.025316  GreaterThanThreshold\n",
       "false_negative_rate  0.627907  GreaterThanThreshold\n",
       "auc                  0.891448     LessThanThreshold\n",
       "f0_5                 0.650407     LessThanThreshold\n",
       "f1                   0.507937     LessThanThreshold\n",
       "f2                   0.416667     LessThanThreshold"
      ]
     },
     "execution_count": 28,
     "metadata": {},
     "output_type": "execute_result"
    }
   ],
   "source": [
    "pd.DataFrame(baseline_job.suggested_constraints().body_dict[\"binary_classification_constraints\"]).T"
   ]
  },
  {
   "cell_type": "markdown",
   "id": "6ffd214f-481d-4e31-b3ee-2081caf8a3cb",
   "metadata": {},
   "source": [
    "#### Generate prediction data for Model Quality  Monitoring\n",
    "\n",
    "Start generating some artificial traffic.  The cell below starts a thread to send some traffic to the endpoint. Note that you need to stop the kernel to terminate this thread. If there is no traffic, the monitoring jobs are marked as `Failed` since there is no data to process."
   ]
  },
  {
   "cell_type": "code",
   "execution_count": 29,
   "id": "4cbb6fa0-127d-4ece-839d-acf125ce8ed5",
   "metadata": {
    "tags": []
   },
   "outputs": [],
   "source": [
    "def invoke_endpoint(ep_name, file_name):\n",
    "    with open(file_name, \"r\") as f:\n",
    "        i = 0\n",
    "        for row in f:\n",
    "            payload = row.rstrip(\"\\n\")\n",
    "            response = sess.sagemaker_runtime_client.invoke_endpoint(\n",
    "                EndpointName=endpoint_name,\n",
    "                ContentType=\"text/csv\",\n",
    "                Body=payload,\n",
    "                InferenceId=str(i),  # unique ID per row\n",
    "            )[\"Body\"].read()\n",
    "            i += 1\n",
    "            sleep(1)\n",
    "\n",
    "\n",
    "def invoke_endpoint_forever():\n",
    "    while True:\n",
    "        try:\n",
    "            invoke_endpoint(endpoint_name, \"data/test-dataset-input-cols.csv\")\n",
    "        except sess.sagemaker_runtime_client.exceptions.ValidationError:\n",
    "            pass\n",
    "\n",
    "\n",
    "thread = Thread(target=invoke_endpoint_forever)\n",
    "thread.start()"
   ]
  },
  {
   "cell_type": "markdown",
   "id": "6a2e2d63-13e3-4881-89da-ea453f24a110",
   "metadata": {},
   "source": [
    "Now list the data capture files stored in Amazon S3. You should expect to see different files from different time periods organized based on the hour in which the invocation occurred. The format of the Amazon S3 path is:\n",
    "\n",
    "`s3://{destination-bucket-prefix}/{endpoint-name}/{variant-name}/yyyy/mm/dd/hh/filename.jsonl`"
   ]
  },
  {
   "cell_type": "code",
   "execution_count": 30,
   "id": "e25be990-7164-49b6-99b7-07b85b87f0ab",
   "metadata": {},
   "outputs": [
    {
     "name": "stdout",
     "output_type": "stream",
     "text": [
      "Waiting for captures to show upsagemaker.config INFO - Not applying SDK defaults from location: /etc/xdg/sagemaker/config.yaml\n",
      "sagemaker.config INFO - Not applying SDK defaults from location: /root/.config/sagemaker/config.yaml\n",
      "sagemaker.config INFO - Not applying SDK defaults from location: /etc/xdg/sagemaker/config.yaml\n",
      "sagemaker.config INFO - Not applying SDK defaults from location: /root/.config/sagemaker/config.yaml\n",
      ".sagemaker.config INFO - Not applying SDK defaults from location: /etc/xdg/sagemaker/config.yaml\n",
      "sagemaker.config INFO - Not applying SDK defaults from location: /root/.config/sagemaker/config.yaml\n",
      "sagemaker.config INFO - Not applying SDK defaults from location: /etc/xdg/sagemaker/config.yaml\n",
      "sagemaker.config INFO - Not applying SDK defaults from location: /root/.config/sagemaker/config.yaml\n",
      ".sagemaker.config INFO - Not applying SDK defaults from location: /etc/xdg/sagemaker/config.yaml\n",
      "sagemaker.config INFO - Not applying SDK defaults from location: /root/.config/sagemaker/config.yaml\n",
      "sagemaker.config INFO - Not applying SDK defaults from location: /etc/xdg/sagemaker/config.yaml\n",
      "sagemaker.config INFO - Not applying SDK defaults from location: /root/.config/sagemaker/config.yaml\n",
      ".sagemaker.config INFO - Not applying SDK defaults from location: /etc/xdg/sagemaker/config.yaml\n",
      "sagemaker.config INFO - Not applying SDK defaults from location: /root/.config/sagemaker/config.yaml\n",
      "sagemaker.config INFO - Not applying SDK defaults from location: /etc/xdg/sagemaker/config.yaml\n",
      "sagemaker.config INFO - Not applying SDK defaults from location: /root/.config/sagemaker/config.yaml\n",
      ".sagemaker.config INFO - Not applying SDK defaults from location: /etc/xdg/sagemaker/config.yaml\n",
      "sagemaker.config INFO - Not applying SDK defaults from location: /root/.config/sagemaker/config.yaml\n",
      "sagemaker.config INFO - Not applying SDK defaults from location: /etc/xdg/sagemaker/config.yaml\n",
      "sagemaker.config INFO - Not applying SDK defaults from location: /root/.config/sagemaker/config.yaml\n",
      ".sagemaker.config INFO - Not applying SDK defaults from location: /etc/xdg/sagemaker/config.yaml\n",
      "sagemaker.config INFO - Not applying SDK defaults from location: /root/.config/sagemaker/config.yaml\n",
      "sagemaker.config INFO - Not applying SDK defaults from location: /etc/xdg/sagemaker/config.yaml\n",
      "sagemaker.config INFO - Not applying SDK defaults from location: /root/.config/sagemaker/config.yaml\n",
      ".sagemaker.config INFO - Not applying SDK defaults from location: /etc/xdg/sagemaker/config.yaml\n",
      "sagemaker.config INFO - Not applying SDK defaults from location: /root/.config/sagemaker/config.yaml\n",
      "sagemaker.config INFO - Not applying SDK defaults from location: /etc/xdg/sagemaker/config.yaml\n",
      "sagemaker.config INFO - Not applying SDK defaults from location: /root/.config/sagemaker/config.yaml\n",
      ".sagemaker.config INFO - Not applying SDK defaults from location: /etc/xdg/sagemaker/config.yaml\n",
      "sagemaker.config INFO - Not applying SDK defaults from location: /root/.config/sagemaker/config.yaml\n",
      "sagemaker.config INFO - Not applying SDK defaults from location: /etc/xdg/sagemaker/config.yaml\n",
      "sagemaker.config INFO - Not applying SDK defaults from location: /root/.config/sagemaker/config.yaml\n",
      ".sagemaker.config INFO - Not applying SDK defaults from location: /etc/xdg/sagemaker/config.yaml\n",
      "sagemaker.config INFO - Not applying SDK defaults from location: /root/.config/sagemaker/config.yaml\n",
      "sagemaker.config INFO - Not applying SDK defaults from location: /etc/xdg/sagemaker/config.yaml\n",
      "sagemaker.config INFO - Not applying SDK defaults from location: /root/.config/sagemaker/config.yaml\n",
      ".sagemaker.config INFO - Not applying SDK defaults from location: /etc/xdg/sagemaker/config.yaml\n",
      "sagemaker.config INFO - Not applying SDK defaults from location: /root/.config/sagemaker/config.yaml\n",
      "sagemaker.config INFO - Not applying SDK defaults from location: /etc/xdg/sagemaker/config.yaml\n",
      "sagemaker.config INFO - Not applying SDK defaults from location: /root/.config/sagemaker/config.yaml\n",
      ".sagemaker.config INFO - Not applying SDK defaults from location: /etc/xdg/sagemaker/config.yaml\n",
      "sagemaker.config INFO - Not applying SDK defaults from location: /root/.config/sagemaker/config.yaml\n",
      "sagemaker.config INFO - Not applying SDK defaults from location: /etc/xdg/sagemaker/config.yaml\n",
      "sagemaker.config INFO - Not applying SDK defaults from location: /root/.config/sagemaker/config.yaml\n",
      ".sagemaker.config INFO - Not applying SDK defaults from location: /etc/xdg/sagemaker/config.yaml\n",
      "sagemaker.config INFO - Not applying SDK defaults from location: /root/.config/sagemaker/config.yaml\n",
      "sagemaker.config INFO - Not applying SDK defaults from location: /etc/xdg/sagemaker/config.yaml\n",
      "sagemaker.config INFO - Not applying SDK defaults from location: /root/.config/sagemaker/config.yaml\n",
      ".sagemaker.config INFO - Not applying SDK defaults from location: /etc/xdg/sagemaker/config.yaml\n",
      "sagemaker.config INFO - Not applying SDK defaults from location: /root/.config/sagemaker/config.yaml\n",
      "sagemaker.config INFO - Not applying SDK defaults from location: /etc/xdg/sagemaker/config.yaml\n",
      "sagemaker.config INFO - Not applying SDK defaults from location: /root/.config/sagemaker/config.yaml\n",
      ".sagemaker.config INFO - Not applying SDK defaults from location: /etc/xdg/sagemaker/config.yaml\n",
      "sagemaker.config INFO - Not applying SDK defaults from location: /root/.config/sagemaker/config.yaml\n",
      "sagemaker.config INFO - Not applying SDK defaults from location: /etc/xdg/sagemaker/config.yaml\n",
      "sagemaker.config INFO - Not applying SDK defaults from location: /root/.config/sagemaker/config.yaml\n",
      ".sagemaker.config INFO - Not applying SDK defaults from location: /etc/xdg/sagemaker/config.yaml\n",
      "sagemaker.config INFO - Not applying SDK defaults from location: /root/.config/sagemaker/config.yaml\n",
      "sagemaker.config INFO - Not applying SDK defaults from location: /etc/xdg/sagemaker/config.yaml\n",
      "sagemaker.config INFO - Not applying SDK defaults from location: /root/.config/sagemaker/config.yaml\n",
      ".sagemaker.config INFO - Not applying SDK defaults from location: /etc/xdg/sagemaker/config.yaml\n",
      "sagemaker.config INFO - Not applying SDK defaults from location: /root/.config/sagemaker/config.yaml\n",
      "sagemaker.config INFO - Not applying SDK defaults from location: /etc/xdg/sagemaker/config.yaml\n",
      "sagemaker.config INFO - Not applying SDK defaults from location: /root/.config/sagemaker/config.yaml\n",
      ".sagemaker.config INFO - Not applying SDK defaults from location: /etc/xdg/sagemaker/config.yaml\n",
      "sagemaker.config INFO - Not applying SDK defaults from location: /root/.config/sagemaker/config.yaml\n",
      "sagemaker.config INFO - Not applying SDK defaults from location: /etc/xdg/sagemaker/config.yaml\n",
      "sagemaker.config INFO - Not applying SDK defaults from location: /root/.config/sagemaker/config.yaml\n",
      ".sagemaker.config INFO - Not applying SDK defaults from location: /etc/xdg/sagemaker/config.yaml\n",
      "sagemaker.config INFO - Not applying SDK defaults from location: /root/.config/sagemaker/config.yaml\n",
      "sagemaker.config INFO - Not applying SDK defaults from location: /etc/xdg/sagemaker/config.yaml\n",
      "sagemaker.config INFO - Not applying SDK defaults from location: /root/.config/sagemaker/config.yaml\n",
      ".sagemaker.config INFO - Not applying SDK defaults from location: /etc/xdg/sagemaker/config.yaml\n",
      "sagemaker.config INFO - Not applying SDK defaults from location: /root/.config/sagemaker/config.yaml\n",
      "sagemaker.config INFO - Not applying SDK defaults from location: /etc/xdg/sagemaker/config.yaml\n",
      "sagemaker.config INFO - Not applying SDK defaults from location: /root/.config/sagemaker/config.yaml\n",
      ".sagemaker.config INFO - Not applying SDK defaults from location: /etc/xdg/sagemaker/config.yaml\n",
      "sagemaker.config INFO - Not applying SDK defaults from location: /root/.config/sagemaker/config.yaml\n",
      "sagemaker.config INFO - Not applying SDK defaults from location: /etc/xdg/sagemaker/config.yaml\n",
      "sagemaker.config INFO - Not applying SDK defaults from location: /root/.config/sagemaker/config.yaml\n",
      ".sagemaker.config INFO - Not applying SDK defaults from location: /etc/xdg/sagemaker/config.yaml\n",
      "sagemaker.config INFO - Not applying SDK defaults from location: /root/.config/sagemaker/config.yaml\n",
      "sagemaker.config INFO - Not applying SDK defaults from location: /etc/xdg/sagemaker/config.yaml\n",
      "sagemaker.config INFO - Not applying SDK defaults from location: /root/.config/sagemaker/config.yaml\n",
      ".sagemaker.config INFO - Not applying SDK defaults from location: /etc/xdg/sagemaker/config.yaml\n",
      "sagemaker.config INFO - Not applying SDK defaults from location: /root/.config/sagemaker/config.yaml\n",
      "sagemaker.config INFO - Not applying SDK defaults from location: /etc/xdg/sagemaker/config.yaml\n",
      "sagemaker.config INFO - Not applying SDK defaults from location: /root/.config/sagemaker/config.yaml\n",
      ".sagemaker.config INFO - Not applying SDK defaults from location: /etc/xdg/sagemaker/config.yaml\n",
      "sagemaker.config INFO - Not applying SDK defaults from location: /root/.config/sagemaker/config.yaml\n",
      "sagemaker.config INFO - Not applying SDK defaults from location: /etc/xdg/sagemaker/config.yaml\n",
      "sagemaker.config INFO - Not applying SDK defaults from location: /root/.config/sagemaker/config.yaml\n",
      ".sagemaker.config INFO - Not applying SDK defaults from location: /etc/xdg/sagemaker/config.yaml\n",
      "sagemaker.config INFO - Not applying SDK defaults from location: /root/.config/sagemaker/config.yaml\n",
      "sagemaker.config INFO - Not applying SDK defaults from location: /etc/xdg/sagemaker/config.yaml\n",
      "sagemaker.config INFO - Not applying SDK defaults from location: /root/.config/sagemaker/config.yaml\n",
      ".sagemaker.config INFO - Not applying SDK defaults from location: /etc/xdg/sagemaker/config.yaml\n",
      "sagemaker.config INFO - Not applying SDK defaults from location: /root/.config/sagemaker/config.yaml\n",
      "sagemaker.config INFO - Not applying SDK defaults from location: /etc/xdg/sagemaker/config.yaml\n",
      "sagemaker.config INFO - Not applying SDK defaults from location: /root/.config/sagemaker/config.yaml\n",
      ".sagemaker.config INFO - Not applying SDK defaults from location: /etc/xdg/sagemaker/config.yaml\n",
      "sagemaker.config INFO - Not applying SDK defaults from location: /root/.config/sagemaker/config.yaml\n",
      "sagemaker.config INFO - Not applying SDK defaults from location: /etc/xdg/sagemaker/config.yaml\n",
      "sagemaker.config INFO - Not applying SDK defaults from location: /root/.config/sagemaker/config.yaml\n",
      ".sagemaker.config INFO - Not applying SDK defaults from location: /etc/xdg/sagemaker/config.yaml\n",
      "sagemaker.config INFO - Not applying SDK defaults from location: /root/.config/sagemaker/config.yaml\n",
      "sagemaker.config INFO - Not applying SDK defaults from location: /etc/xdg/sagemaker/config.yaml\n",
      "sagemaker.config INFO - Not applying SDK defaults from location: /root/.config/sagemaker/config.yaml\n",
      ".sagemaker.config INFO - Not applying SDK defaults from location: /etc/xdg/sagemaker/config.yaml\n",
      "sagemaker.config INFO - Not applying SDK defaults from location: /root/.config/sagemaker/config.yaml\n",
      "sagemaker.config INFO - Not applying SDK defaults from location: /etc/xdg/sagemaker/config.yaml\n",
      "sagemaker.config INFO - Not applying SDK defaults from location: /root/.config/sagemaker/config.yaml\n",
      ".sagemaker.config INFO - Not applying SDK defaults from location: /etc/xdg/sagemaker/config.yaml\n",
      "sagemaker.config INFO - Not applying SDK defaults from location: /root/.config/sagemaker/config.yaml\n",
      "sagemaker.config INFO - Not applying SDK defaults from location: /etc/xdg/sagemaker/config.yaml\n",
      "sagemaker.config INFO - Not applying SDK defaults from location: /root/.config/sagemaker/config.yaml\n",
      ".sagemaker.config INFO - Not applying SDK defaults from location: /etc/xdg/sagemaker/config.yaml\n",
      "sagemaker.config INFO - Not applying SDK defaults from location: /root/.config/sagemaker/config.yaml\n",
      "sagemaker.config INFO - Not applying SDK defaults from location: /etc/xdg/sagemaker/config.yaml\n",
      "sagemaker.config INFO - Not applying SDK defaults from location: /root/.config/sagemaker/config.yaml\n",
      ".sagemaker.config INFO - Not applying SDK defaults from location: /etc/xdg/sagemaker/config.yaml\n",
      "sagemaker.config INFO - Not applying SDK defaults from location: /root/.config/sagemaker/config.yaml\n",
      "sagemaker.config INFO - Not applying SDK defaults from location: /etc/xdg/sagemaker/config.yaml\n",
      "sagemaker.config INFO - Not applying SDK defaults from location: /root/.config/sagemaker/config.yaml\n",
      ".sagemaker.config INFO - Not applying SDK defaults from location: /etc/xdg/sagemaker/config.yaml\n",
      "sagemaker.config INFO - Not applying SDK defaults from location: /root/.config/sagemaker/config.yaml\n",
      "sagemaker.config INFO - Not applying SDK defaults from location: /etc/xdg/sagemaker/config.yaml\n",
      "sagemaker.config INFO - Not applying SDK defaults from location: /root/.config/sagemaker/config.yaml\n",
      ".sagemaker.config INFO - Not applying SDK defaults from location: /etc/xdg/sagemaker/config.yaml\n",
      "sagemaker.config INFO - Not applying SDK defaults from location: /root/.config/sagemaker/config.yaml\n",
      "sagemaker.config INFO - Not applying SDK defaults from location: /etc/xdg/sagemaker/config.yaml\n",
      "sagemaker.config INFO - Not applying SDK defaults from location: /root/.config/sagemaker/config.yaml\n",
      ".sagemaker.config INFO - Not applying SDK defaults from location: /etc/xdg/sagemaker/config.yaml\n",
      "sagemaker.config INFO - Not applying SDK defaults from location: /root/.config/sagemaker/config.yaml\n",
      "sagemaker.config INFO - Not applying SDK defaults from location: /etc/xdg/sagemaker/config.yaml\n",
      "sagemaker.config INFO - Not applying SDK defaults from location: /root/.config/sagemaker/config.yaml\n",
      ".sagemaker.config INFO - Not applying SDK defaults from location: /etc/xdg/sagemaker/config.yaml\n",
      "sagemaker.config INFO - Not applying SDK defaults from location: /root/.config/sagemaker/config.yaml\n",
      "sagemaker.config INFO - Not applying SDK defaults from location: /etc/xdg/sagemaker/config.yaml\n",
      "sagemaker.config INFO - Not applying SDK defaults from location: /root/.config/sagemaker/config.yaml\n",
      ".sagemaker.config INFO - Not applying SDK defaults from location: /etc/xdg/sagemaker/config.yaml\n",
      "sagemaker.config INFO - Not applying SDK defaults from location: /root/.config/sagemaker/config.yaml\n",
      "sagemaker.config INFO - Not applying SDK defaults from location: /etc/xdg/sagemaker/config.yaml\n",
      "sagemaker.config INFO - Not applying SDK defaults from location: /root/.config/sagemaker/config.yaml\n",
      ".sagemaker.config INFO - Not applying SDK defaults from location: /etc/xdg/sagemaker/config.yaml\n",
      "sagemaker.config INFO - Not applying SDK defaults from location: /root/.config/sagemaker/config.yaml\n",
      "sagemaker.config INFO - Not applying SDK defaults from location: /etc/xdg/sagemaker/config.yaml\n",
      "sagemaker.config INFO - Not applying SDK defaults from location: /root/.config/sagemaker/config.yaml\n",
      ".sagemaker.config INFO - Not applying SDK defaults from location: /etc/xdg/sagemaker/config.yaml\n",
      "sagemaker.config INFO - Not applying SDK defaults from location: /root/.config/sagemaker/config.yaml\n",
      "sagemaker.config INFO - Not applying SDK defaults from location: /etc/xdg/sagemaker/config.yaml\n",
      "sagemaker.config INFO - Not applying SDK defaults from location: /root/.config/sagemaker/config.yaml\n",
      ".sagemaker.config INFO - Not applying SDK defaults from location: /etc/xdg/sagemaker/config.yaml\n",
      "sagemaker.config INFO - Not applying SDK defaults from location: /root/.config/sagemaker/config.yaml\n",
      "sagemaker.config INFO - Not applying SDK defaults from location: /etc/xdg/sagemaker/config.yaml\n",
      "sagemaker.config INFO - Not applying SDK defaults from location: /root/.config/sagemaker/config.yaml\n",
      ".sagemaker.config INFO - Not applying SDK defaults from location: /etc/xdg/sagemaker/config.yaml\n",
      "sagemaker.config INFO - Not applying SDK defaults from location: /root/.config/sagemaker/config.yaml\n",
      "sagemaker.config INFO - Not applying SDK defaults from location: /etc/xdg/sagemaker/config.yaml\n",
      "sagemaker.config INFO - Not applying SDK defaults from location: /root/.config/sagemaker/config.yaml\n",
      ".sagemaker.config INFO - Not applying SDK defaults from location: /etc/xdg/sagemaker/config.yaml\n",
      "sagemaker.config INFO - Not applying SDK defaults from location: /root/.config/sagemaker/config.yaml\n",
      "sagemaker.config INFO - Not applying SDK defaults from location: /etc/xdg/sagemaker/config.yaml\n",
      "sagemaker.config INFO - Not applying SDK defaults from location: /root/.config/sagemaker/config.yaml\n",
      ".sagemaker.config INFO - Not applying SDK defaults from location: /etc/xdg/sagemaker/config.yaml\n",
      "sagemaker.config INFO - Not applying SDK defaults from location: /root/.config/sagemaker/config.yaml\n",
      "sagemaker.config INFO - Not applying SDK defaults from location: /etc/xdg/sagemaker/config.yaml\n",
      "sagemaker.config INFO - Not applying SDK defaults from location: /root/.config/sagemaker/config.yaml\n",
      ".sagemaker.config INFO - Not applying SDK defaults from location: /etc/xdg/sagemaker/config.yaml\n",
      "sagemaker.config INFO - Not applying SDK defaults from location: /root/.config/sagemaker/config.yaml\n",
      "sagemaker.config INFO - Not applying SDK defaults from location: /etc/xdg/sagemaker/config.yaml\n",
      "sagemaker.config INFO - Not applying SDK defaults from location: /root/.config/sagemaker/config.yaml\n",
      ".sagemaker.config INFO - Not applying SDK defaults from location: /etc/xdg/sagemaker/config.yaml\n",
      "sagemaker.config INFO - Not applying SDK defaults from location: /root/.config/sagemaker/config.yaml\n",
      "sagemaker.config INFO - Not applying SDK defaults from location: /etc/xdg/sagemaker/config.yaml\n",
      "sagemaker.config INFO - Not applying SDK defaults from location: /root/.config/sagemaker/config.yaml\n",
      ".sagemaker.config INFO - Not applying SDK defaults from location: /etc/xdg/sagemaker/config.yaml\n",
      "sagemaker.config INFO - Not applying SDK defaults from location: /root/.config/sagemaker/config.yaml\n",
      "sagemaker.config INFO - Not applying SDK defaults from location: /etc/xdg/sagemaker/config.yaml\n",
      "sagemaker.config INFO - Not applying SDK defaults from location: /root/.config/sagemaker/config.yaml\n",
      ".sagemaker.config INFO - Not applying SDK defaults from location: /etc/xdg/sagemaker/config.yaml\n",
      "sagemaker.config INFO - Not applying SDK defaults from location: /root/.config/sagemaker/config.yaml\n",
      "sagemaker.config INFO - Not applying SDK defaults from location: /etc/xdg/sagemaker/config.yaml\n",
      "sagemaker.config INFO - Not applying SDK defaults from location: /root/.config/sagemaker/config.yaml\n",
      ".sagemaker.config INFO - Not applying SDK defaults from location: /etc/xdg/sagemaker/config.yaml\n",
      "sagemaker.config INFO - Not applying SDK defaults from location: /root/.config/sagemaker/config.yaml\n",
      "sagemaker.config INFO - Not applying SDK defaults from location: /etc/xdg/sagemaker/config.yaml\n",
      "sagemaker.config INFO - Not applying SDK defaults from location: /root/.config/sagemaker/config.yaml\n",
      ".sagemaker.config INFO - Not applying SDK defaults from location: /etc/xdg/sagemaker/config.yaml\n",
      "sagemaker.config INFO - Not applying SDK defaults from location: /root/.config/sagemaker/config.yaml\n",
      "sagemaker.config INFO - Not applying SDK defaults from location: /etc/xdg/sagemaker/config.yaml\n",
      "sagemaker.config INFO - Not applying SDK defaults from location: /root/.config/sagemaker/config.yaml\n",
      ".sagemaker.config INFO - Not applying SDK defaults from location: /etc/xdg/sagemaker/config.yaml\n",
      "sagemaker.config INFO - Not applying SDK defaults from location: /root/.config/sagemaker/config.yaml\n",
      "sagemaker.config INFO - Not applying SDK defaults from location: /etc/xdg/sagemaker/config.yaml\n",
      "sagemaker.config INFO - Not applying SDK defaults from location: /root/.config/sagemaker/config.yaml\n",
      ".sagemaker.config INFO - Not applying SDK defaults from location: /etc/xdg/sagemaker/config.yaml\n",
      "sagemaker.config INFO - Not applying SDK defaults from location: /root/.config/sagemaker/config.yaml\n",
      "sagemaker.config INFO - Not applying SDK defaults from location: /etc/xdg/sagemaker/config.yaml\n",
      "sagemaker.config INFO - Not applying SDK defaults from location: /root/.config/sagemaker/config.yaml\n",
      ".sagemaker.config INFO - Not applying SDK defaults from location: /etc/xdg/sagemaker/config.yaml\n",
      "sagemaker.config INFO - Not applying SDK defaults from location: /root/.config/sagemaker/config.yaml\n",
      "sagemaker.config INFO - Not applying SDK defaults from location: /etc/xdg/sagemaker/config.yaml\n",
      "sagemaker.config INFO - Not applying SDK defaults from location: /root/.config/sagemaker/config.yaml\n",
      ".sagemaker.config INFO - Not applying SDK defaults from location: /etc/xdg/sagemaker/config.yaml\n",
      "sagemaker.config INFO - Not applying SDK defaults from location: /root/.config/sagemaker/config.yaml\n",
      "sagemaker.config INFO - Not applying SDK defaults from location: /etc/xdg/sagemaker/config.yaml\n",
      "sagemaker.config INFO - Not applying SDK defaults from location: /root/.config/sagemaker/config.yaml\n",
      ".sagemaker.config INFO - Not applying SDK defaults from location: /etc/xdg/sagemaker/config.yaml\n",
      "sagemaker.config INFO - Not applying SDK defaults from location: /root/.config/sagemaker/config.yaml\n",
      "sagemaker.config INFO - Not applying SDK defaults from location: /etc/xdg/sagemaker/config.yaml\n",
      "sagemaker.config INFO - Not applying SDK defaults from location: /root/.config/sagemaker/config.yaml\n",
      ".sagemaker.config INFO - Not applying SDK defaults from location: /etc/xdg/sagemaker/config.yaml\n",
      "sagemaker.config INFO - Not applying SDK defaults from location: /root/.config/sagemaker/config.yaml\n",
      "sagemaker.config INFO - Not applying SDK defaults from location: /etc/xdg/sagemaker/config.yaml\n",
      "sagemaker.config INFO - Not applying SDK defaults from location: /root/.config/sagemaker/config.yaml\n",
      ".sagemaker.config INFO - Not applying SDK defaults from location: /etc/xdg/sagemaker/config.yaml\n",
      "sagemaker.config INFO - Not applying SDK defaults from location: /root/.config/sagemaker/config.yaml\n",
      "sagemaker.config INFO - Not applying SDK defaults from location: /etc/xdg/sagemaker/config.yaml\n",
      "sagemaker.config INFO - Not applying SDK defaults from location: /root/.config/sagemaker/config.yaml\n",
      ".sagemaker.config INFO - Not applying SDK defaults from location: /etc/xdg/sagemaker/config.yaml\n",
      "sagemaker.config INFO - Not applying SDK defaults from location: /root/.config/sagemaker/config.yaml\n",
      "sagemaker.config INFO - Not applying SDK defaults from location: /etc/xdg/sagemaker/config.yaml\n",
      "sagemaker.config INFO - Not applying SDK defaults from location: /root/.config/sagemaker/config.yaml\n",
      ".sagemaker.config INFO - Not applying SDK defaults from location: /etc/xdg/sagemaker/config.yaml\n",
      "sagemaker.config INFO - Not applying SDK defaults from location: /root/.config/sagemaker/config.yaml\n",
      "sagemaker.config INFO - Not applying SDK defaults from location: /etc/xdg/sagemaker/config.yaml\n",
      "sagemaker.config INFO - Not applying SDK defaults from location: /root/.config/sagemaker/config.yaml\n",
      "\n",
      "Found Capture Files:\n",
      "s3://sagemaker-us-east-1-075039479415/churn-prediction-xgboost/datacapture/final-project-xgboost-v1-wquality-monitor-2024-02-17-0829/AllTraffic/2024/02/17/08/32-39-366-a3954cf9-de2c-4d1a-8c5d-c1d61d0ff34f.jsonl\n",
      " s3://sagemaker-us-east-1-075039479415/churn-prediction-xgboost/datacapture/final-project-xgboost-v1-wquality-monitor-2024-02-17-0829/AllTraffic/2024/02/17/08/33-39-874-a8c578c7-7b5b-4b19-8c5b-6cbba840ced1.jsonl\n",
      " s3://sagemaker-us-east-1-075039479415/churn-prediction-xgboost/datacapture/final-project-xgboost-v1-wquality-monitor-2024-02-17-0829/AllTraffic/2024/02/17/08/40-31-582-0e51e044-d9c3-4e7e-bd05-c9fdef7a38e6.jsonl\n"
     ]
    }
   ],
   "source": [
    "print(\"Waiting for captures to show up\", end=\"\")\n",
    "for _ in range(120):\n",
    "    capture_files = sorted(S3Downloader.list(f\"{s3_capture_upload_path}/{endpoint_name}\"))\n",
    "    if capture_files:\n",
    "        capture_file = S3Downloader.read_file(capture_files[-1]).split(\"\\n\")\n",
    "        capture_record = json.loads(capture_file[0])\n",
    "        if \"inferenceId\" in capture_record[\"eventMetadata\"]:\n",
    "            break\n",
    "    print(\".\", end=\"\", flush=True)\n",
    "    sleep(1)\n",
    "print()\n",
    "print(\"Found Capture Files:\")\n",
    "print(\"\\n \".join(capture_files[-3:]))"
   ]
  },
  {
   "cell_type": "markdown",
   "id": "d2c172c5-b27f-473b-abd2-332510805c9e",
   "metadata": {},
   "source": [
    "Let's observe one of the lines"
   ]
  },
  {
   "cell_type": "code",
   "execution_count": 31,
   "id": "677b00fd-f89e-4b33-9374-ea73f7d025ad",
   "metadata": {},
   "outputs": [
    {
     "name": "stdout",
     "output_type": "stream",
     "text": [
      "{\n",
      "  \"captureData\": {\n",
      "    \"endpointInput\": {\n",
      "      \"observedContentType\": \"text/csv\",\n",
      "      \"mode\": \"INPUT\",\n",
      "      \"data\": \"683,39,2,100062.16,2,1,0,109201.43,0,1,0,1\",\n",
      "      \"encoding\": \"CSV\"\n",
      "    },\n",
      "    \"endpointOutput\": {\n",
      "      \"observedContentType\": \"text/csv; charset=utf-8\",\n",
      "      \"mode\": \"OUTPUT\",\n",
      "      \"data\": \"0.16393506526947021\\n\",\n",
      "      \"encoding\": \"CSV\"\n",
      "    }\n",
      "  },\n",
      "  \"eventMetadata\": {\n",
      "    \"eventId\": \"7140aa63-9686-4236-ad19-cf487bd2d8b7\",\n",
      "    \"inferenceId\": \"0\",\n",
      "    \"inferenceTime\": \"2024-02-17T08:40:31Z\"\n",
      "  },\n",
      "  \"eventVersion\": \"0\"\n",
      "}\n"
     ]
    }
   ],
   "source": [
    "print(json.dumps(capture_record, indent=2))"
   ]
  },
  {
   "cell_type": "markdown",
   "id": "18bc2b93-2d85-4ea2-a2e0-fb0f66e9a55b",
   "metadata": {},
   "source": [
    "#### 4.3 Generate synthetic ground truth"
   ]
  },
  {
   "cell_type": "code",
   "execution_count": 32,
   "id": "76077ebb-c57b-4d0f-a48c-20eae3d43275",
   "metadata": {
    "tags": []
   },
   "outputs": [],
   "source": [
    "def ground_truth_with_id(inference_id):\n",
    "    random.seed(inference_id)  # to get consistent results\n",
    "    rand = random.random()\n",
    "    return {\n",
    "        \"groundTruthData\": {\n",
    "            \"data\": \"1\" if rand < 0.7 else \"0\",  # randomly generate positive labels 70% of the time\n",
    "            \"encoding\": \"CSV\",\n",
    "        },\n",
    "        \"eventMetadata\": {\n",
    "            \"eventId\": str(inference_id),\n",
    "        },\n",
    "        \"eventVersion\": \"0\",\n",
    "    }\n",
    "\n",
    "\n",
    "def upload_ground_truth(records, upload_time):\n",
    "    fake_records = [json.dumps(r) for r in records]\n",
    "    data_to_upload = \"\\n\".join(fake_records)\n",
    "    target_s3_uri = f\"{ground_truth_upload_path}/{upload_time:%Y/%m/%d/%H/%M%S}.jsonl\"\n",
    "    print(f\"Uploading {len(fake_records)} records to\", target_s3_uri)\n",
    "    S3Uploader.upload_string_as_file_body(data_to_upload, target_s3_uri)"
   ]
  },
  {
   "cell_type": "code",
   "execution_count": 33,
   "id": "3a15f7b1-4b7b-4ffa-b9f4-7100811c5eb5",
   "metadata": {
    "tags": []
   },
   "outputs": [
    {
     "name": "stdout",
     "output_type": "stream",
     "text": [
      "Uploading 1000 records to s3://sagemaker-us-east-1-075039479415/churn-prediction-xgboost/ground_truth_data/2024-02-17-08-17-47/2024/02/17/08/4142.jsonl\n",
      "sagemaker.config INFO - Not applying SDK defaults from location: /etc/xdg/sagemaker/config.yaml\n",
      "sagemaker.config INFO - Not applying SDK defaults from location: /root/.config/sagemaker/config.yaml\n"
     ]
    }
   ],
   "source": [
    "NUM_GROUND_TRUTH_RECORDS = len(X_test)  # the number of rows in data we're sending for inference\n",
    "\n",
    "\n",
    "def generate_fake_ground_truth_forever():\n",
    "    j = 0\n",
    "    while True:\n",
    "        fake_records = [ground_truth_with_id(i) for i in range(NUM_GROUND_TRUTH_RECORDS)]\n",
    "        upload_ground_truth(fake_records, datetime.utcnow())\n",
    "        j = (j + 1) % 5\n",
    "        sleep(60 * 60)  # do this once an hour\n",
    "\n",
    "\n",
    "gt_thread = Thread(target=generate_fake_ground_truth_forever)\n",
    "gt_thread.start()"
   ]
  },
  {
   "cell_type": "markdown",
   "id": "19ff9794-413c-447b-9ee3-8e29a2050597",
   "metadata": {},
   "source": [
    "#### Create a monitoring schedule"
   ]
  },
  {
   "cell_type": "code",
   "execution_count": 34,
   "id": "d190cd1f-5f4d-4701-8a8c-8636f5ada5fd",
   "metadata": {
    "tags": []
   },
   "outputs": [],
   "source": [
    "##Monitoring schedule name\n",
    "churn_monitor_schedule_name = (\n",
    "    f\"final-project-xgb-monitoring-schedule-{datetime.utcnow():%Y-%m-%d-%H%M}\"\n",
    ")"
   ]
  },
  {
   "cell_type": "code",
   "execution_count": 35,
   "id": "1f4d671e-edec-4047-8120-361a24789aa3",
   "metadata": {
    "tags": []
   },
   "outputs": [
    {
     "name": "stderr",
     "output_type": "stream",
     "text": [
      "INFO:sagemaker.model_monitor.model_monitoring:Creating Monitoring Schedule with name: final-project-xgb-monitoring-schedule-2024-02-17-0841\n"
     ]
    }
   ],
   "source": [
    "# Create an enpointInput\n",
    "endpointInput = EndpointInput(\n",
    "    endpoint_name=predictor.endpoint_name,\n",
    "    probability_attribute=\"0\",\n",
    "    probability_threshold_attribute=0.5,\n",
    "    destination=\"/opt/ml/processing/input_data\",\n",
    ")\n",
    "\n",
    "# Create the monitoring schedule to execute every hour.\n",
    "response = churn_model_quality_monitor.create_monitoring_schedule(\n",
    "    monitor_schedule_name=churn_monitor_schedule_name,\n",
    "    endpoint_input=endpointInput,\n",
    "    output_s3_uri=baseline_results_uri,\n",
    "    problem_type=\"BinaryClassification\",\n",
    "    ground_truth_input=ground_truth_upload_path,\n",
    "    constraints=baseline_job.suggested_constraints(),\n",
    "    schedule_cron_expression=CronExpressionGenerator.hourly(),\n",
    "    enable_cloudwatch_metrics=True,\n",
    ")"
   ]
  },
  {
   "cell_type": "code",
   "execution_count": 36,
   "id": "aa75c6de-6d6e-4143-a52e-c0df3ecf2b78",
   "metadata": {
    "tags": []
   },
   "outputs": [
    {
     "data": {
      "text/plain": [
       "{'MonitoringScheduleArn': 'arn:aws:sagemaker:us-east-1:075039479415:monitoring-schedule/final-project-xgb-monitoring-schedule-2024-02-17-0841',\n",
       " 'MonitoringScheduleName': 'final-project-xgb-monitoring-schedule-2024-02-17-0841',\n",
       " 'MonitoringScheduleStatus': 'Pending',\n",
       " 'MonitoringType': 'ModelQuality',\n",
       " 'CreationTime': datetime.datetime(2024, 2, 17, 8, 41, 42, 866000, tzinfo=tzlocal()),\n",
       " 'LastModifiedTime': datetime.datetime(2024, 2, 17, 8, 41, 42, 945000, tzinfo=tzlocal()),\n",
       " 'MonitoringScheduleConfig': {'ScheduleConfig': {'ScheduleExpression': 'cron(0 * ? * * *)'},\n",
       "  'MonitoringJobDefinitionName': 'model-quality-job-definition-2024-02-17-08-41-42-435',\n",
       "  'MonitoringType': 'ModelQuality'},\n",
       " 'EndpointName': 'final-project-xgboost-v1-wquality-monitor-2024-02-17-0829',\n",
       " 'ResponseMetadata': {'RequestId': '73a52182-1d36-489c-8fea-b9a199147eee',\n",
       "  'HTTPStatusCode': 200,\n",
       "  'HTTPHeaders': {'x-amzn-requestid': '73a52182-1d36-489c-8fea-b9a199147eee',\n",
       "   'content-type': 'application/x-amz-json-1.1',\n",
       "   'content-length': '641',\n",
       "   'date': 'Sat, 17 Feb 2024 08:41:42 GMT'},\n",
       "  'RetryAttempts': 0}}"
      ]
     },
     "execution_count": 36,
     "metadata": {},
     "output_type": "execute_result"
    }
   ],
   "source": [
    "# notice that the status of the schedule below is scheduled\n",
    "churn_model_quality_monitor.describe_schedule()"
   ]
  },
  {
   "cell_type": "code",
   "execution_count": 37,
   "id": "a1101bca-4cb0-49d4-8c21-598e2f9e94c8",
   "metadata": {
    "tags": []
   },
   "outputs": [
    {
     "name": "stdout",
     "output_type": "stream",
     "text": [
      "No executions found for schedule. monitoring_schedule_name: final-project-xgb-monitoring-schedule-2024-02-17-0841\n"
     ]
    },
    {
     "data": {
      "text/plain": [
       "[]"
      ]
     },
     "execution_count": 37,
     "metadata": {},
     "output_type": "execute_result"
    }
   ],
   "source": [
    "# Initially there will be no executions since the first execution happens at the top of the hour\n",
    "# Note that it is common for the execution to luanch upto 20 min after the hour.\n",
    "executions = churn_model_quality_monitor.list_executions()\n",
    "executions"
   ]
  },
  {
   "cell_type": "code",
   "execution_count": 38,
   "id": "0009527b-c654-4c3e-ae25-7405f99773bf",
   "metadata": {
    "tags": []
   },
   "outputs": [
    {
     "name": "stdout",
     "output_type": "stream",
     "text": [
      "Waiting for first execution.......................................................................................................................................................\n",
      "Execution found!\n"
     ]
    }
   ],
   "source": [
    "# Wait for the first execution of the monitoring_schedule\n",
    "print(\"Waiting for first execution\", end=\"\")\n",
    "while True:\n",
    "    execution = churn_model_quality_monitor.describe_schedule().get(\n",
    "        \"LastMonitoringExecutionSummary\"\n",
    "    )\n",
    "    if execution:\n",
    "        break\n",
    "    print(\".\", end=\"\", flush=True)\n",
    "    sleep(10)\n",
    "print()\n",
    "print(\"Execution found!\")"
   ]
  },
  {
   "cell_type": "code",
   "execution_count": 39,
   "id": "f4577bb8-66df-47fa-bccc-af0f45e248bd",
   "metadata": {
    "tags": []
   },
   "outputs": [
    {
     "name": "stdout",
     "output_type": "stream",
     "text": [
      ".........................................."
     ]
    },
    {
     "data": {
      "text/plain": [
       "{'ProcessingInputs': [{'InputName': 'groundtruth_input_1',\n",
       "   'AppManaged': False,\n",
       "   'S3Input': {'S3Uri': 's3://sagemaker-us-east-1-075039479415/churn-prediction-xgboost/ground_truth_data/2024-02-17-08-17-47/2024/02/17/08',\n",
       "    'LocalPath': '/opt/ml/processing/groundtruth/2024/02/17/08',\n",
       "    'S3DataType': 'S3Prefix',\n",
       "    'S3InputMode': 'File',\n",
       "    'S3DataDistributionType': 'FullyReplicated',\n",
       "    'S3CompressionType': 'None'}},\n",
       "  {'InputName': 'endpoint_input_1',\n",
       "   'AppManaged': False,\n",
       "   'S3Input': {'S3Uri': 's3://sagemaker-us-east-1-075039479415/churn-prediction-xgboost/datacapture/final-project-xgboost-v1-wquality-monitor-2024-02-17-0829/AllTraffic/2024/02/17/08',\n",
       "    'LocalPath': '/opt/ml/processing/input_data/final-project-xgboost-v1-wquality-monitor-2024-02-17-0829/AllTraffic/2024/02/17/08',\n",
       "    'S3DataType': 'S3Prefix',\n",
       "    'S3InputMode': 'File',\n",
       "    'S3DataDistributionType': 'FullyReplicated',\n",
       "    'S3CompressionType': 'None'}}],\n",
       " 'ProcessingOutputConfig': {'Outputs': [{'OutputName': 'result',\n",
       "    'S3Output': {'S3Uri': 's3://sagemaker-us-east-1-075039479415/churn-prediction-xgboost/baselining/results/merge',\n",
       "     'LocalPath': '/opt/ml/processing/output',\n",
       "     'S3UploadMode': 'EndOfJob'},\n",
       "    'AppManaged': False}]},\n",
       " 'ProcessingJobName': 'groundtruth-merge-202402170900-df58ae511ba25670bb488ed4',\n",
       " 'ProcessingResources': {'ClusterConfig': {'InstanceCount': 1,\n",
       "   'InstanceType': 'ml.m5.xlarge',\n",
       "   'VolumeSizeInGB': 20}},\n",
       " 'StoppingCondition': {'MaxRuntimeInSeconds': 1800},\n",
       " 'AppSpecification': {'ImageUri': '156813124566.dkr.ecr.us-east-1.amazonaws.com/sagemaker-model-monitor-groundtruth-merger'},\n",
       " 'Environment': {'dataset_format': '{\"sagemakerCaptureJson\":{\"captureIndexNames\":null}}',\n",
       "  'dataset_source': '/opt/ml/processing/input_data',\n",
       "  'end_time': '2024-02-17T09:00:00Z',\n",
       "  'ground_truth_source': '/opt/ml/processing/groundtruth',\n",
       "  'monitoring_input_type': 'ENDPOINT_INPUT',\n",
       "  'output_path': '/opt/ml/processing/output',\n",
       "  'start_time': '2024-02-17T08:00:00Z'},\n",
       " 'RoleArn': 'arn:aws:iam::075039479415:role/LabRole',\n",
       " 'ProcessingJobArn': 'arn:aws:sagemaker:us-east-1:075039479415:processing-job/groundtruth-merge-202402170900-df58ae511ba25670bb488ed4',\n",
       " 'ProcessingJobStatus': 'InProgress',\n",
       " 'LastModifiedTime': datetime.datetime(2024, 2, 17, 9, 13, 47, 132000, tzinfo=tzlocal()),\n",
       " 'CreationTime': datetime.datetime(2024, 2, 17, 9, 13, 46, 768000, tzinfo=tzlocal()),\n",
       " 'MonitoringScheduleArn': 'arn:aws:sagemaker:us-east-1:075039479415:monitoring-schedule/final-project-xgb-monitoring-schedule-2024-02-17-0841',\n",
       " 'ResponseMetadata': {'RequestId': 'ad00626b-7ca3-479a-b1e8-7a061e0ba8d7',\n",
       "  'HTTPStatusCode': 200,\n",
       "  'HTTPHeaders': {'x-amzn-requestid': 'ad00626b-7ca3-479a-b1e8-7a061e0ba8d7',\n",
       "   'content-type': 'application/x-amz-json-1.1',\n",
       "   'content-length': '2256',\n",
       "   'date': 'Sat, 17 Feb 2024 09:14:06 GMT'},\n",
       "  'RetryAttempts': 0}}"
      ]
     },
     "execution_count": 39,
     "metadata": {},
     "output_type": "execute_result"
    }
   ],
   "source": [
    "while not executions:\n",
    "    executions = churn_model_quality_monitor.list_executions()\n",
    "    print(\".\", end=\"\", flush=True)\n",
    "    sleep(10)\n",
    "latest_execution = executions[-1]\n",
    "latest_execution.describe()"
   ]
  },
  {
   "cell_type": "markdown",
   "id": "c938da1e-bf8a-4c63-8570-065b4561b09c",
   "metadata": {},
   "source": [
    "##### Inspect a specific execution (latest execution)\n",
    "In the previous cell, you picked up the latest completed or failed scheduled execution. Here are the possible terminal states and what each of them mean: \n",
    "* Completed - This means the monitoring execution completed and no issues were found in the violations report.\n",
    "* CompletedWithViolations - This means the execution completed, but constraint violations were detected.\n",
    "* Failed - The monitoring execution failed, maybe due to client error (perhaps incorrect role permissions) or infrastructure issues. Further examination of FailureReason and ExitMessage is necessary to identify what exactly happened.\n",
    "* Stopped - job exceeded max runtime or was manually stopped."
   ]
  },
  {
   "cell_type": "code",
   "execution_count": 40,
   "id": "f95f0d3a-7774-4899-a8d3-d697af77d6f8",
   "metadata": {
    "tags": []
   },
   "outputs": [
    {
     "name": "stdout",
     "output_type": "stream",
     "text": [
      "Waiting for execution to finish................................................................!\n",
      "groundtruth-merge-202402170900-df58ae511ba25670bb488ed4 job status: Completed\n",
      "groundtruth-merge-202402170900-df58ae511ba25670bb488ed4 job exit message, if any: None\n",
      "groundtruth-merge-202402170900-df58ae511ba25670bb488ed4 job failure reason, if any: None\n",
      "Waiting for execution to finish....................................................................!\n",
      "model-quality-monitoring-202402170900-df58ae511ba25670bb488ed4 job status: Completed\n",
      "model-quality-monitoring-202402170900-df58ae511ba25670bb488ed4 job exit message, if any: CompletedWithViolations: Job completed successfully with 10 violations.\n",
      "model-quality-monitoring-202402170900-df58ae511ba25670bb488ed4 job failure reason, if any: None\n",
      "Execution status is: CompletedWithViolations\n",
      "{'MonitoringScheduleName': 'final-project-xgb-monitoring-schedule-2024-02-17-0841', 'ScheduledTime': datetime.datetime(2024, 2, 17, 9, 0, tzinfo=tzlocal()), 'CreationTime': datetime.datetime(2024, 2, 17, 9, 6, 57, 184000, tzinfo=tzlocal()), 'LastModifiedTime': datetime.datetime(2024, 2, 17, 9, 25, 56, 428000, tzinfo=tzlocal()), 'MonitoringExecutionStatus': 'CompletedWithViolations', 'ProcessingJobArn': 'arn:aws:sagemaker:us-east-1:075039479415:processing-job/model-quality-monitoring-202402170900-df58ae511ba25670bb488ed4', 'EndpointName': 'final-project-xgboost-v1-wquality-monitor-2024-02-17-0829'}\n",
      "====STOP==== \n",
      " No completed executions to inspect further. Please wait till an execution completes or investigate previously reported failures.\n"
     ]
    }
   ],
   "source": [
    "status = execution[\"MonitoringExecutionStatus\"]\n",
    "\n",
    "while status in [\"Pending\", \"InProgress\"]:\n",
    "    print(\"Waiting for execution to finish\", end=\"\")\n",
    "    latest_execution.wait(logs=False)\n",
    "    latest_job = latest_execution.describe()\n",
    "    print()\n",
    "    print(f\"{latest_job['ProcessingJobName']} job status:\", latest_job[\"ProcessingJobStatus\"])\n",
    "    print(\n",
    "        f\"{latest_job['ProcessingJobName']} job exit message, if any:\",\n",
    "        latest_job.get(\"ExitMessage\"),\n",
    "    )\n",
    "    print(\n",
    "        f\"{latest_job['ProcessingJobName']} job failure reason, if any:\",\n",
    "        latest_job.get(\"FailureReason\"),\n",
    "    )\n",
    "    sleep(\n",
    "        30\n",
    "    )  # model quality executions consist of two Processing jobs, wait for second job to start\n",
    "    latest_execution = churn_model_quality_monitor.list_executions()[-1]\n",
    "    execution = churn_model_quality_monitor.describe_schedule()[\"LastMonitoringExecutionSummary\"]\n",
    "    status = execution[\"MonitoringExecutionStatus\"]\n",
    "\n",
    "print(\"Execution status is:\", status)\n",
    "\n",
    "if status != \"Completed\":\n",
    "    print(execution)\n",
    "    print(\n",
    "        \"====STOP==== \\n No completed executions to inspect further. Please wait till an execution completes or investigate previously reported failures.\"\n",
    "    )"
   ]
  },
  {
   "cell_type": "markdown",
   "id": "4d039cf7-31c9-497d-9df3-0ae4782e8226",
   "metadata": {},
   "source": [
    "We can see that we did encounter violations in the monitoring job."
   ]
  },
  {
   "cell_type": "code",
   "execution_count": 41,
   "id": "893a446d-b580-430a-bc41-b64a8915a28a",
   "metadata": {
    "tags": []
   },
   "outputs": [
    {
     "name": "stdout",
     "output_type": "stream",
     "text": [
      "Report Uri: s3://sagemaker-us-east-1-075039479415/churn-prediction-xgboost/baselining/results/final-project-xgboost-v1-wquality-monitor-2024-02-17-0829/final-project-xgb-monitoring-schedule-2024-02-17-0841/2024/02/17/09\n"
     ]
    }
   ],
   "source": [
    "latest_execution = churn_model_quality_monitor.list_executions()[-1]\n",
    "report_uri = latest_execution.describe()[\"ProcessingOutputConfig\"][\"Outputs\"][0][\"S3Output\"][\n",
    "    \"S3Uri\"\n",
    "]\n",
    "print(\"Report Uri:\", report_uri)"
   ]
  },
  {
   "cell_type": "markdown",
   "id": "4d1b5270-10aa-463e-ba37-367ebbd336cc",
   "metadata": {},
   "source": [
    "The report can be found in S3 in the path above. Let's examine the violations."
   ]
  },
  {
   "cell_type": "code",
   "execution_count": 42,
   "id": "576c8bf1-8d8d-4408-b841-b559ad45e22f",
   "metadata": {
    "tags": []
   },
   "outputs": [
    {
     "data": {
      "text/html": [
       "<div>\n",
       "<style scoped>\n",
       "    .dataframe tbody tr th:only-of-type {\n",
       "        vertical-align: middle;\n",
       "    }\n",
       "\n",
       "    .dataframe tbody tr th {\n",
       "        vertical-align: top;\n",
       "    }\n",
       "\n",
       "    .dataframe thead th {\n",
       "        text-align: right;\n",
       "    }\n",
       "</style>\n",
       "<table border=\"1\" class=\"dataframe\">\n",
       "  <thead>\n",
       "    <tr style=\"text-align: right;\">\n",
       "      <th></th>\n",
       "      <th>metric_name</th>\n",
       "      <th>description</th>\n",
       "      <th>constraint_check_type</th>\n",
       "    </tr>\n",
       "  </thead>\n",
       "  <tbody>\n",
       "    <tr>\n",
       "      <th>0</th>\n",
       "      <td>auc</td>\n",
       "      <td>Metric auc with 0.5042701863354034 +/- 0.012741885074601611 was LessThanThreshold '0.8914483367677364'</td>\n",
       "      <td>LessThanThreshold</td>\n",
       "    </tr>\n",
       "    <tr>\n",
       "      <th>1</th>\n",
       "      <td>precision</td>\n",
       "      <td>Metric precision with 0.7586206896551724 +/- 0.013407989046041218 was LessThanThreshold '0.8'</td>\n",
       "      <td>LessThanThreshold</td>\n",
       "    </tr>\n",
       "    <tr>\n",
       "      <th>2</th>\n",
       "      <td>truePositiveRate</td>\n",
       "      <td>Metric truePositiveRate with 0.10576923076923077 +/- 0.005725060598856189 was LessThanThreshold '0.37209302325581395'</td>\n",
       "      <td>LessThanThreshold</td>\n",
       "    </tr>\n",
       "    <tr>\n",
       "      <th>3</th>\n",
       "      <td>f1</td>\n",
       "      <td>Metric f1 with 0.18565400843881857 +/- 0.009218588294192169 was LessThanThreshold '0.5079365079365079'</td>\n",
       "      <td>LessThanThreshold</td>\n",
       "    </tr>\n",
       "    <tr>\n",
       "      <th>4</th>\n",
       "      <td>accuracy</td>\n",
       "      <td>Metric accuracy with 0.3310225303292894 +/- 0.008237775574677848 was LessThanThreshold '0.845771144278607'</td>\n",
       "      <td>LessThanThreshold</td>\n",
       "    </tr>\n",
       "    <tr>\n",
       "      <th>5</th>\n",
       "      <td>falsePositiveRate</td>\n",
       "      <td>Metric falsePositiveRate with 0.08695652173913043 +/- 0.005288278402495031 was GreaterThanThreshold '0.02531645569620253'</td>\n",
       "      <td>GreaterThanThreshold</td>\n",
       "    </tr>\n",
       "    <tr>\n",
       "      <th>6</th>\n",
       "      <td>trueNegativeRate</td>\n",
       "      <td>Metric trueNegativeRate with 0.9130434782608696 +/- 0.0052882784024950195 was LessThanThreshold '0.9746835443037974'</td>\n",
       "      <td>LessThanThreshold</td>\n",
       "    </tr>\n",
       "    <tr>\n",
       "      <th>7</th>\n",
       "      <td>falseNegativeRate</td>\n",
       "      <td>Metric falseNegativeRate with 0.8942307692307693 +/- 0.005725060598856189 was GreaterThanThreshold '0.627906976744186'</td>\n",
       "      <td>GreaterThanThreshold</td>\n",
       "    </tr>\n",
       "    <tr>\n",
       "      <th>8</th>\n",
       "      <td>recall</td>\n",
       "      <td>Metric recall with 0.10576923076923077 +/- 0.005725060598856189 was LessThanThreshold '0.37209302325581395'</td>\n",
       "      <td>LessThanThreshold</td>\n",
       "    </tr>\n",
       "    <tr>\n",
       "      <th>9</th>\n",
       "      <td>f2</td>\n",
       "      <td>Metric f2 with 0.12775842044134728 +/- 0.00675828913653901 was LessThanThreshold '0.4166666666666667'</td>\n",
       "      <td>LessThanThreshold</td>\n",
       "    </tr>\n",
       "  </tbody>\n",
       "</table>\n",
       "</div>"
      ],
      "text/plain": [
       "         metric_name  \\\n",
       "0                auc   \n",
       "1          precision   \n",
       "2   truePositiveRate   \n",
       "3                 f1   \n",
       "4           accuracy   \n",
       "5  falsePositiveRate   \n",
       "6   trueNegativeRate   \n",
       "7  falseNegativeRate   \n",
       "8             recall   \n",
       "9                 f2   \n",
       "\n",
       "                                                                                                                 description  \\\n",
       "0                     Metric auc with 0.5042701863354034 +/- 0.012741885074601611 was LessThanThreshold '0.8914483367677364'   \n",
       "1                              Metric precision with 0.7586206896551724 +/- 0.013407989046041218 was LessThanThreshold '0.8'   \n",
       "2      Metric truePositiveRate with 0.10576923076923077 +/- 0.005725060598856189 was LessThanThreshold '0.37209302325581395'   \n",
       "3                     Metric f1 with 0.18565400843881857 +/- 0.009218588294192169 was LessThanThreshold '0.5079365079365079'   \n",
       "4                 Metric accuracy with 0.3310225303292894 +/- 0.008237775574677848 was LessThanThreshold '0.845771144278607'   \n",
       "5  Metric falsePositiveRate with 0.08695652173913043 +/- 0.005288278402495031 was GreaterThanThreshold '0.02531645569620253'   \n",
       "6       Metric trueNegativeRate with 0.9130434782608696 +/- 0.0052882784024950195 was LessThanThreshold '0.9746835443037974'   \n",
       "7     Metric falseNegativeRate with 0.8942307692307693 +/- 0.005725060598856189 was GreaterThanThreshold '0.627906976744186'   \n",
       "8                Metric recall with 0.10576923076923077 +/- 0.005725060598856189 was LessThanThreshold '0.37209302325581395'   \n",
       "9                      Metric f2 with 0.12775842044134728 +/- 0.00675828913653901 was LessThanThreshold '0.4166666666666667'   \n",
       "\n",
       "  constraint_check_type  \n",
       "0     LessThanThreshold  \n",
       "1     LessThanThreshold  \n",
       "2     LessThanThreshold  \n",
       "3     LessThanThreshold  \n",
       "4     LessThanThreshold  \n",
       "5  GreaterThanThreshold  \n",
       "6     LessThanThreshold  \n",
       "7  GreaterThanThreshold  \n",
       "8     LessThanThreshold  \n",
       "9     LessThanThreshold  "
      ]
     },
     "execution_count": 42,
     "metadata": {},
     "output_type": "execute_result"
    }
   ],
   "source": [
    "pd.options.display.max_colwidth = None\n",
    "violations = latest_execution.constraint_violations().body_dict[\"violations\"]\n",
    "violations_df = pd.json_normalize(violations)\n",
    "violations_df.head(10).iloc[:, ::-1]"
   ]
  },
  {
   "cell_type": "markdown",
   "id": "f43bfec0-baeb-4185-a78a-e86fbdc4210e",
   "metadata": {},
   "source": [
    "We can tell that the performance violated several metrics like accuracy, recall, f1 score, etc."
   ]
  },
  {
   "cell_type": "markdown",
   "id": "eba34ee2-2d02-4332-9fe2-1fde5312bcbf",
   "metadata": {},
   "source": [
    "## Analyze model quality CloudWatch metrics <a id='analyze-cloudwatch-metrics'></a> "
   ]
  },
  {
   "cell_type": "code",
   "execution_count": 43,
   "id": "66f2ec6c-c656-441c-bf9b-1d58bb9a9ec9",
   "metadata": {
    "tags": []
   },
   "outputs": [],
   "source": [
    "# Create CloudWatch client\n",
    "cw_client = boto3.Session().client(\"cloudwatch\")\n",
    "\n",
    "namespace = \"aws/sagemaker/Endpoints/model-metrics\"\n",
    "\n",
    "cw_dimensions = [\n",
    "    {\"Name\": \"Endpoint\", \"Value\": endpoint_name},\n",
    "    {\"Name\": \"MonitoringSchedule\", \"Value\": churn_monitor_schedule_name},\n",
    "]"
   ]
  },
  {
   "cell_type": "code",
   "execution_count": 44,
   "id": "e9dd7cf6-ee71-49ca-99d5-c734513ba241",
   "metadata": {
    "tags": []
   },
   "outputs": [
    {
     "name": "stdout",
     "output_type": "stream",
     "text": [
      "true_positive_rate\n",
      "accuracy_best_constant_classifier\n",
      "auc\n",
      "precision\n",
      "f2_best_constant_classifier\n",
      "false_negative_rate\n",
      "recall\n",
      "f2\n",
      "total_number_of_violations\n",
      "au_prc\n",
      "recall_best_constant_classifier\n",
      "precision_best_constant_classifier\n",
      "f1\n",
      "f0_5\n",
      "false_positive_rate\n",
      "accuracy\n",
      "true_negative_rate\n",
      "f0_5_best_constant_classifier\n",
      "f1_best_constant_classifier\n"
     ]
    }
   ],
   "source": [
    "# List metrics through the pagination interface\n",
    "paginator = cw_client.get_paginator(\"list_metrics\")\n",
    "\n",
    "for response in paginator.paginate(Dimensions=cw_dimensions, Namespace=namespace):\n",
    "    model_quality_metrics = response[\"Metrics\"]\n",
    "    for metric in model_quality_metrics:\n",
    "        print(metric[\"MetricName\"])"
   ]
  },
  {
   "cell_type": "markdown",
   "id": "029bc70b-c161-4df7-9ffb-96f48f8d1ee6",
   "metadata": {},
   "source": [
    "Let's create an alarm for when the monitoring job sees a dip bellow accepted f1 score"
   ]
  },
  {
   "cell_type": "code",
   "execution_count": 45,
   "id": "3397594e-e9f7-4e31-835f-b53f86e8a66c",
   "metadata": {
    "tags": []
   },
   "outputs": [
    {
     "data": {
      "text/plain": [
       "{'ResponseMetadata': {'RequestId': 'eac4866f-90d4-4a0d-ab33-3ce74af1d200',\n",
       "  'HTTPStatusCode': 200,\n",
       "  'HTTPHeaders': {'x-amzn-requestid': 'eac4866f-90d4-4a0d-ab33-3ce74af1d200',\n",
       "   'content-type': 'text/xml',\n",
       "   'content-length': '214',\n",
       "   'date': 'Sat, 17 Feb 2024 09:26:23 GMT'},\n",
       "  'RetryAttempts': 0}}"
      ]
     },
     "execution_count": 45,
     "metadata": {},
     "output_type": "execute_result"
    }
   ],
   "source": [
    "alarm_name = \"MODEL_QUALITY_F1_SCORE\"\n",
    "alarm_desc = (\n",
    "    \"Trigger an CloudWatch alarm when the f1 score drifts away from the baseline constraints\"\n",
    ")\n",
    "mdoel_quality_f1_drift_threshold = (\n",
    "    0.9 # set high to trigger the alarm easily\n",
    ")\n",
    "metric_name = \"f1\"\n",
    "namespace = \"aws/sagemaker/Endpoints/model-metrics\"\n",
    "\n",
    "cw_client.put_metric_alarm(\n",
    "    AlarmName=alarm_name,\n",
    "    AlarmDescription=alarm_desc,\n",
    "    ActionsEnabled=True,\n",
    "    MetricName=metric_name,\n",
    "    Namespace=namespace,\n",
    "    Statistic=\"Average\",\n",
    "    Dimensions=[\n",
    "        {\"Name\": \"Endpoint\", \"Value\": endpoint_name},\n",
    "        {\"Name\": \"MonitoringSchedule\", \"Value\": churn_monitor_schedule_name},\n",
    "    ],\n",
    "    Period=600,\n",
    "    EvaluationPeriods=1,\n",
    "    DatapointsToAlarm=1,\n",
    "    Threshold=mdoel_quality_f1_drift_threshold,\n",
    "    ComparisonOperator=\"LessThanOrEqualToThreshold\",\n",
    "    TreatMissingData=\"breaching\",\n",
    ")"
   ]
  },
  {
   "cell_type": "markdown",
   "id": "469e6a09-d79c-49ab-8dc3-c10056dba832",
   "metadata": {},
   "source": [
    "<img src=\"./pictures/violated cloudwatch alarm.png\" style=\"height:300px\" />"
   ]
  },
  {
   "cell_type": "markdown",
   "id": "df8ab5d0-8fb6-4969-ad37-24acec946edf",
   "metadata": {},
   "source": [
    "To shut down all resources and clean up:"
   ]
  },
  {
   "cell_type": "code",
   "execution_count": 46,
   "id": "fd64f74c-6bb6-47cb-8996-de64281dcc78",
   "metadata": {
    "tags": []
   },
   "outputs": [],
   "source": [
    "# churn_model_quality_monitor.delete_monitoring_schedule()\n",
    "# sleep(60)  # actually wait for the deletion\n",
    "\n",
    "# predictor.delete_model()\n",
    "# predictor.delete_endpoint()"
   ]
  },
  {
   "cell_type": "code",
   "execution_count": null,
   "id": "46f03dee-a636-4dd1-a5d1-ed97d7ff9d23",
   "metadata": {},
   "outputs": [],
   "source": []
  }
 ],
 "metadata": {
  "availableInstances": [
   {
    "_defaultOrder": 0,
    "_isFastLaunch": true,
    "category": "General purpose",
    "gpuNum": 0,
    "hideHardwareSpecs": false,
    "memoryGiB": 4,
    "name": "ml.t3.medium",
    "vcpuNum": 2
   },
   {
    "_defaultOrder": 1,
    "_isFastLaunch": false,
    "category": "General purpose",
    "gpuNum": 0,
    "hideHardwareSpecs": false,
    "memoryGiB": 8,
    "name": "ml.t3.large",
    "vcpuNum": 2
   },
   {
    "_defaultOrder": 2,
    "_isFastLaunch": false,
    "category": "General purpose",
    "gpuNum": 0,
    "hideHardwareSpecs": false,
    "memoryGiB": 16,
    "name": "ml.t3.xlarge",
    "vcpuNum": 4
   },
   {
    "_defaultOrder": 3,
    "_isFastLaunch": false,
    "category": "General purpose",
    "gpuNum": 0,
    "hideHardwareSpecs": false,
    "memoryGiB": 32,
    "name": "ml.t3.2xlarge",
    "vcpuNum": 8
   },
   {
    "_defaultOrder": 4,
    "_isFastLaunch": true,
    "category": "General purpose",
    "gpuNum": 0,
    "hideHardwareSpecs": false,
    "memoryGiB": 8,
    "name": "ml.m5.large",
    "vcpuNum": 2
   },
   {
    "_defaultOrder": 5,
    "_isFastLaunch": false,
    "category": "General purpose",
    "gpuNum": 0,
    "hideHardwareSpecs": false,
    "memoryGiB": 16,
    "name": "ml.m5.xlarge",
    "vcpuNum": 4
   },
   {
    "_defaultOrder": 6,
    "_isFastLaunch": false,
    "category": "General purpose",
    "gpuNum": 0,
    "hideHardwareSpecs": false,
    "memoryGiB": 32,
    "name": "ml.m5.2xlarge",
    "vcpuNum": 8
   },
   {
    "_defaultOrder": 7,
    "_isFastLaunch": false,
    "category": "General purpose",
    "gpuNum": 0,
    "hideHardwareSpecs": false,
    "memoryGiB": 64,
    "name": "ml.m5.4xlarge",
    "vcpuNum": 16
   },
   {
    "_defaultOrder": 8,
    "_isFastLaunch": false,
    "category": "General purpose",
    "gpuNum": 0,
    "hideHardwareSpecs": false,
    "memoryGiB": 128,
    "name": "ml.m5.8xlarge",
    "vcpuNum": 32
   },
   {
    "_defaultOrder": 9,
    "_isFastLaunch": false,
    "category": "General purpose",
    "gpuNum": 0,
    "hideHardwareSpecs": false,
    "memoryGiB": 192,
    "name": "ml.m5.12xlarge",
    "vcpuNum": 48
   },
   {
    "_defaultOrder": 10,
    "_isFastLaunch": false,
    "category": "General purpose",
    "gpuNum": 0,
    "hideHardwareSpecs": false,
    "memoryGiB": 256,
    "name": "ml.m5.16xlarge",
    "vcpuNum": 64
   },
   {
    "_defaultOrder": 11,
    "_isFastLaunch": false,
    "category": "General purpose",
    "gpuNum": 0,
    "hideHardwareSpecs": false,
    "memoryGiB": 384,
    "name": "ml.m5.24xlarge",
    "vcpuNum": 96
   },
   {
    "_defaultOrder": 12,
    "_isFastLaunch": false,
    "category": "General purpose",
    "gpuNum": 0,
    "hideHardwareSpecs": false,
    "memoryGiB": 8,
    "name": "ml.m5d.large",
    "vcpuNum": 2
   },
   {
    "_defaultOrder": 13,
    "_isFastLaunch": false,
    "category": "General purpose",
    "gpuNum": 0,
    "hideHardwareSpecs": false,
    "memoryGiB": 16,
    "name": "ml.m5d.xlarge",
    "vcpuNum": 4
   },
   {
    "_defaultOrder": 14,
    "_isFastLaunch": false,
    "category": "General purpose",
    "gpuNum": 0,
    "hideHardwareSpecs": false,
    "memoryGiB": 32,
    "name": "ml.m5d.2xlarge",
    "vcpuNum": 8
   },
   {
    "_defaultOrder": 15,
    "_isFastLaunch": false,
    "category": "General purpose",
    "gpuNum": 0,
    "hideHardwareSpecs": false,
    "memoryGiB": 64,
    "name": "ml.m5d.4xlarge",
    "vcpuNum": 16
   },
   {
    "_defaultOrder": 16,
    "_isFastLaunch": false,
    "category": "General purpose",
    "gpuNum": 0,
    "hideHardwareSpecs": false,
    "memoryGiB": 128,
    "name": "ml.m5d.8xlarge",
    "vcpuNum": 32
   },
   {
    "_defaultOrder": 17,
    "_isFastLaunch": false,
    "category": "General purpose",
    "gpuNum": 0,
    "hideHardwareSpecs": false,
    "memoryGiB": 192,
    "name": "ml.m5d.12xlarge",
    "vcpuNum": 48
   },
   {
    "_defaultOrder": 18,
    "_isFastLaunch": false,
    "category": "General purpose",
    "gpuNum": 0,
    "hideHardwareSpecs": false,
    "memoryGiB": 256,
    "name": "ml.m5d.16xlarge",
    "vcpuNum": 64
   },
   {
    "_defaultOrder": 19,
    "_isFastLaunch": false,
    "category": "General purpose",
    "gpuNum": 0,
    "hideHardwareSpecs": false,
    "memoryGiB": 384,
    "name": "ml.m5d.24xlarge",
    "vcpuNum": 96
   },
   {
    "_defaultOrder": 20,
    "_isFastLaunch": false,
    "category": "General purpose",
    "gpuNum": 0,
    "hideHardwareSpecs": true,
    "memoryGiB": 0,
    "name": "ml.geospatial.interactive",
    "supportedImageNames": [
     "sagemaker-geospatial-v1-0"
    ],
    "vcpuNum": 0
   },
   {
    "_defaultOrder": 21,
    "_isFastLaunch": true,
    "category": "Compute optimized",
    "gpuNum": 0,
    "hideHardwareSpecs": false,
    "memoryGiB": 4,
    "name": "ml.c5.large",
    "vcpuNum": 2
   },
   {
    "_defaultOrder": 22,
    "_isFastLaunch": false,
    "category": "Compute optimized",
    "gpuNum": 0,
    "hideHardwareSpecs": false,
    "memoryGiB": 8,
    "name": "ml.c5.xlarge",
    "vcpuNum": 4
   },
   {
    "_defaultOrder": 23,
    "_isFastLaunch": false,
    "category": "Compute optimized",
    "gpuNum": 0,
    "hideHardwareSpecs": false,
    "memoryGiB": 16,
    "name": "ml.c5.2xlarge",
    "vcpuNum": 8
   },
   {
    "_defaultOrder": 24,
    "_isFastLaunch": false,
    "category": "Compute optimized",
    "gpuNum": 0,
    "hideHardwareSpecs": false,
    "memoryGiB": 32,
    "name": "ml.c5.4xlarge",
    "vcpuNum": 16
   },
   {
    "_defaultOrder": 25,
    "_isFastLaunch": false,
    "category": "Compute optimized",
    "gpuNum": 0,
    "hideHardwareSpecs": false,
    "memoryGiB": 72,
    "name": "ml.c5.9xlarge",
    "vcpuNum": 36
   },
   {
    "_defaultOrder": 26,
    "_isFastLaunch": false,
    "category": "Compute optimized",
    "gpuNum": 0,
    "hideHardwareSpecs": false,
    "memoryGiB": 96,
    "name": "ml.c5.12xlarge",
    "vcpuNum": 48
   },
   {
    "_defaultOrder": 27,
    "_isFastLaunch": false,
    "category": "Compute optimized",
    "gpuNum": 0,
    "hideHardwareSpecs": false,
    "memoryGiB": 144,
    "name": "ml.c5.18xlarge",
    "vcpuNum": 72
   },
   {
    "_defaultOrder": 28,
    "_isFastLaunch": false,
    "category": "Compute optimized",
    "gpuNum": 0,
    "hideHardwareSpecs": false,
    "memoryGiB": 192,
    "name": "ml.c5.24xlarge",
    "vcpuNum": 96
   },
   {
    "_defaultOrder": 29,
    "_isFastLaunch": true,
    "category": "Accelerated computing",
    "gpuNum": 1,
    "hideHardwareSpecs": false,
    "memoryGiB": 16,
    "name": "ml.g4dn.xlarge",
    "vcpuNum": 4
   },
   {
    "_defaultOrder": 30,
    "_isFastLaunch": false,
    "category": "Accelerated computing",
    "gpuNum": 1,
    "hideHardwareSpecs": false,
    "memoryGiB": 32,
    "name": "ml.g4dn.2xlarge",
    "vcpuNum": 8
   },
   {
    "_defaultOrder": 31,
    "_isFastLaunch": false,
    "category": "Accelerated computing",
    "gpuNum": 1,
    "hideHardwareSpecs": false,
    "memoryGiB": 64,
    "name": "ml.g4dn.4xlarge",
    "vcpuNum": 16
   },
   {
    "_defaultOrder": 32,
    "_isFastLaunch": false,
    "category": "Accelerated computing",
    "gpuNum": 1,
    "hideHardwareSpecs": false,
    "memoryGiB": 128,
    "name": "ml.g4dn.8xlarge",
    "vcpuNum": 32
   },
   {
    "_defaultOrder": 33,
    "_isFastLaunch": false,
    "category": "Accelerated computing",
    "gpuNum": 4,
    "hideHardwareSpecs": false,
    "memoryGiB": 192,
    "name": "ml.g4dn.12xlarge",
    "vcpuNum": 48
   },
   {
    "_defaultOrder": 34,
    "_isFastLaunch": false,
    "category": "Accelerated computing",
    "gpuNum": 1,
    "hideHardwareSpecs": false,
    "memoryGiB": 256,
    "name": "ml.g4dn.16xlarge",
    "vcpuNum": 64
   },
   {
    "_defaultOrder": 35,
    "_isFastLaunch": false,
    "category": "Accelerated computing",
    "gpuNum": 1,
    "hideHardwareSpecs": false,
    "memoryGiB": 61,
    "name": "ml.p3.2xlarge",
    "vcpuNum": 8
   },
   {
    "_defaultOrder": 36,
    "_isFastLaunch": false,
    "category": "Accelerated computing",
    "gpuNum": 4,
    "hideHardwareSpecs": false,
    "memoryGiB": 244,
    "name": "ml.p3.8xlarge",
    "vcpuNum": 32
   },
   {
    "_defaultOrder": 37,
    "_isFastLaunch": false,
    "category": "Accelerated computing",
    "gpuNum": 8,
    "hideHardwareSpecs": false,
    "memoryGiB": 488,
    "name": "ml.p3.16xlarge",
    "vcpuNum": 64
   },
   {
    "_defaultOrder": 38,
    "_isFastLaunch": false,
    "category": "Accelerated computing",
    "gpuNum": 8,
    "hideHardwareSpecs": false,
    "memoryGiB": 768,
    "name": "ml.p3dn.24xlarge",
    "vcpuNum": 96
   },
   {
    "_defaultOrder": 39,
    "_isFastLaunch": false,
    "category": "Memory Optimized",
    "gpuNum": 0,
    "hideHardwareSpecs": false,
    "memoryGiB": 16,
    "name": "ml.r5.large",
    "vcpuNum": 2
   },
   {
    "_defaultOrder": 40,
    "_isFastLaunch": false,
    "category": "Memory Optimized",
    "gpuNum": 0,
    "hideHardwareSpecs": false,
    "memoryGiB": 32,
    "name": "ml.r5.xlarge",
    "vcpuNum": 4
   },
   {
    "_defaultOrder": 41,
    "_isFastLaunch": false,
    "category": "Memory Optimized",
    "gpuNum": 0,
    "hideHardwareSpecs": false,
    "memoryGiB": 64,
    "name": "ml.r5.2xlarge",
    "vcpuNum": 8
   },
   {
    "_defaultOrder": 42,
    "_isFastLaunch": false,
    "category": "Memory Optimized",
    "gpuNum": 0,
    "hideHardwareSpecs": false,
    "memoryGiB": 128,
    "name": "ml.r5.4xlarge",
    "vcpuNum": 16
   },
   {
    "_defaultOrder": 43,
    "_isFastLaunch": false,
    "category": "Memory Optimized",
    "gpuNum": 0,
    "hideHardwareSpecs": false,
    "memoryGiB": 256,
    "name": "ml.r5.8xlarge",
    "vcpuNum": 32
   },
   {
    "_defaultOrder": 44,
    "_isFastLaunch": false,
    "category": "Memory Optimized",
    "gpuNum": 0,
    "hideHardwareSpecs": false,
    "memoryGiB": 384,
    "name": "ml.r5.12xlarge",
    "vcpuNum": 48
   },
   {
    "_defaultOrder": 45,
    "_isFastLaunch": false,
    "category": "Memory Optimized",
    "gpuNum": 0,
    "hideHardwareSpecs": false,
    "memoryGiB": 512,
    "name": "ml.r5.16xlarge",
    "vcpuNum": 64
   },
   {
    "_defaultOrder": 46,
    "_isFastLaunch": false,
    "category": "Memory Optimized",
    "gpuNum": 0,
    "hideHardwareSpecs": false,
    "memoryGiB": 768,
    "name": "ml.r5.24xlarge",
    "vcpuNum": 96
   },
   {
    "_defaultOrder": 47,
    "_isFastLaunch": false,
    "category": "Accelerated computing",
    "gpuNum": 1,
    "hideHardwareSpecs": false,
    "memoryGiB": 16,
    "name": "ml.g5.xlarge",
    "vcpuNum": 4
   },
   {
    "_defaultOrder": 48,
    "_isFastLaunch": false,
    "category": "Accelerated computing",
    "gpuNum": 1,
    "hideHardwareSpecs": false,
    "memoryGiB": 32,
    "name": "ml.g5.2xlarge",
    "vcpuNum": 8
   },
   {
    "_defaultOrder": 49,
    "_isFastLaunch": false,
    "category": "Accelerated computing",
    "gpuNum": 1,
    "hideHardwareSpecs": false,
    "memoryGiB": 64,
    "name": "ml.g5.4xlarge",
    "vcpuNum": 16
   },
   {
    "_defaultOrder": 50,
    "_isFastLaunch": false,
    "category": "Accelerated computing",
    "gpuNum": 1,
    "hideHardwareSpecs": false,
    "memoryGiB": 128,
    "name": "ml.g5.8xlarge",
    "vcpuNum": 32
   },
   {
    "_defaultOrder": 51,
    "_isFastLaunch": false,
    "category": "Accelerated computing",
    "gpuNum": 1,
    "hideHardwareSpecs": false,
    "memoryGiB": 256,
    "name": "ml.g5.16xlarge",
    "vcpuNum": 64
   },
   {
    "_defaultOrder": 52,
    "_isFastLaunch": false,
    "category": "Accelerated computing",
    "gpuNum": 4,
    "hideHardwareSpecs": false,
    "memoryGiB": 192,
    "name": "ml.g5.12xlarge",
    "vcpuNum": 48
   },
   {
    "_defaultOrder": 53,
    "_isFastLaunch": false,
    "category": "Accelerated computing",
    "gpuNum": 4,
    "hideHardwareSpecs": false,
    "memoryGiB": 384,
    "name": "ml.g5.24xlarge",
    "vcpuNum": 96
   },
   {
    "_defaultOrder": 54,
    "_isFastLaunch": false,
    "category": "Accelerated computing",
    "gpuNum": 8,
    "hideHardwareSpecs": false,
    "memoryGiB": 768,
    "name": "ml.g5.48xlarge",
    "vcpuNum": 192
   },
   {
    "_defaultOrder": 55,
    "_isFastLaunch": false,
    "category": "Accelerated computing",
    "gpuNum": 8,
    "hideHardwareSpecs": false,
    "memoryGiB": 1152,
    "name": "ml.p4d.24xlarge",
    "vcpuNum": 96
   },
   {
    "_defaultOrder": 56,
    "_isFastLaunch": false,
    "category": "Accelerated computing",
    "gpuNum": 8,
    "hideHardwareSpecs": false,
    "memoryGiB": 1152,
    "name": "ml.p4de.24xlarge",
    "vcpuNum": 96
   },
   {
    "_defaultOrder": 57,
    "_isFastLaunch": false,
    "category": "Accelerated computing",
    "gpuNum": 0,
    "hideHardwareSpecs": false,
    "memoryGiB": 32,
    "name": "ml.trn1.2xlarge",
    "vcpuNum": 8
   },
   {
    "_defaultOrder": 58,
    "_isFastLaunch": false,
    "category": "Accelerated computing",
    "gpuNum": 0,
    "hideHardwareSpecs": false,
    "memoryGiB": 512,
    "name": "ml.trn1.32xlarge",
    "vcpuNum": 128
   },
   {
    "_defaultOrder": 59,
    "_isFastLaunch": false,
    "category": "Accelerated computing",
    "gpuNum": 0,
    "hideHardwareSpecs": false,
    "memoryGiB": 512,
    "name": "ml.trn1n.32xlarge",
    "vcpuNum": 128
   }
  ],
  "instance_type": "ml.t3.medium",
  "kernelspec": {
   "display_name": "Python 3 (Data Science 3.0)",
   "language": "python",
   "name": "python3__SAGEMAKER_INTERNAL__arn:aws:sagemaker:us-east-1:081325390199:image/sagemaker-data-science-310-v1"
  },
  "language_info": {
   "codemirror_mode": {
    "name": "ipython",
    "version": 3
   },
   "file_extension": ".py",
   "mimetype": "text/x-python",
   "name": "python",
   "nbconvert_exporter": "python",
   "pygments_lexer": "ipython3",
   "version": "3.10.6"
  }
 },
 "nbformat": 4,
 "nbformat_minor": 5
}
