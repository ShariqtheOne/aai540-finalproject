{
 "cells": [
  {
   "cell_type": "code",
   "execution_count": 2,
   "id": "21ee9af6-831e-4fae-974f-86ae3845743a",
   "metadata": {
    "tags": []
   },
   "outputs": [
    {
     "name": "stdout",
     "output_type": "stream",
     "text": [
      "\u001b[33mWARNING: Running pip as the 'root' user can result in broken permissions and conflicting behaviour with the system package manager. It is recommended to use a virtual environment instead: https://pip.pypa.io/warnings/venv\u001b[0m\u001b[33m\n",
      "\u001b[0m"
     ]
    }
   ],
   "source": [
    "!pip -q install xgboost"
   ]
  },
  {
   "cell_type": "code",
   "execution_count": 3,
   "id": "03174be9-454c-4d21-aeed-9307ecfc1ec0",
   "metadata": {
    "tags": []
   },
   "outputs": [
    {
     "name": "stdout",
     "output_type": "stream",
     "text": [
      "sagemaker.config INFO - Not applying SDK defaults from location: /etc/xdg/sagemaker/config.yaml\n",
      "sagemaker.config INFO - Not applying SDK defaults from location: /root/.config/sagemaker/config.yaml\n",
      "sagemaker.config INFO - Not applying SDK defaults from location: /etc/xdg/sagemaker/config.yaml\n",
      "sagemaker.config INFO - Not applying SDK defaults from location: /root/.config/sagemaker/config.yaml\n",
      "sagemaker.config INFO - Not applying SDK defaults from location: /etc/xdg/sagemaker/config.yaml\n",
      "sagemaker.config INFO - Not applying SDK defaults from location: /root/.config/sagemaker/config.yaml\n",
      "CPU times: user 2.18 s, sys: 345 ms, total: 2.52 s\n",
      "Wall time: 4.27 s\n"
     ]
    }
   ],
   "source": [
    "\n",
    "%%time\n",
    "\n",
    "from time import gmtime, strftime\n",
    "import re\n",
    "from datetime import datetime, timedelta, timezone\n",
    "import json\n",
    "import os\n",
    "import re\n",
    "import boto3\n",
    "from time import sleep\n",
    "from threading import Thread\n",
    "\n",
    "import numpy as np\n",
    "import pandas as pd\n",
    "import xgboost as xgb\n",
    "from sklearn.model_selection import train_test_split\n",
    "from sklearn.preprocessing import LabelEncoder\n",
    "from sklearn.preprocessing import OneHotEncoder\n",
    "from sklearn.compose import make_column_transformer\n",
    "from sklearn.preprocessing import StandardScaler\n",
    "\n",
    "from sagemaker import get_execution_role, session, Session, image_uris\n",
    "from sagemaker.s3 import S3Downloader, S3Uploader\n",
    "from sagemaker.processing import ProcessingJob\n",
    "from sagemaker.serializers import CSVSerializer\n",
    "\n",
    "from sagemaker.model import Model\n",
    "from sagemaker.model_monitor import DataCaptureConfig\n",
    "\n",
    "import os\n",
    "import boto3\n",
    "import sagemaker\n",
    "\n",
    "role = sagemaker.get_execution_role()\n",
    "sess = sagemaker.Session()\n",
    "region = sess.boto_region_name\n",
    "\n",
    "s3 = boto3.client(\"s3\")\n",
    "bucket = sess.default_bucket()\n",
    "prefix = \"churn-prediction-xgboost\""
   ]
  },
  {
   "cell_type": "code",
   "execution_count": 4,
   "id": "40f5b8fe-17b3-4404-9efb-284774c8e4f1",
   "metadata": {
    "tags": []
   },
   "outputs": [
    {
     "name": "stdout",
     "output_type": "stream",
     "text": [
      "sagemaker.config INFO - Not applying SDK defaults from location: /etc/xdg/sagemaker/config.yaml\n",
      "sagemaker.config INFO - Not applying SDK defaults from location: /root/.config/sagemaker/config.yaml\n",
      "RoleArn: arn:aws:iam::994366592132:role/LabRole\n",
      "Region: us-east-1\n"
     ]
    }
   ],
   "source": [
    "# Get Execution role\n",
    "role = get_execution_role()\n",
    "print(\"RoleArn:\", role)\n",
    "\n",
    "region = sess.boto_region_name\n",
    "print(\"Region:\", region)"
   ]
  },
  {
   "cell_type": "code",
   "execution_count": 5,
   "id": "d935288a-9a50-4e1f-8a35-6b54ae41c9e1",
   "metadata": {
    "tags": []
   },
   "outputs": [
    {
     "name": "stdout",
     "output_type": "stream",
     "text": [
      "Demo Bucket: sagemaker-us-east-1-994366592132\n",
      "Image URI: 156813124566.dkr.ecr.us-east-1.amazonaws.com/sagemaker-model-monitor-analyzer\n",
      "Capture path: s3://sagemaker-us-east-1-994366592132/sagemaker/Churn-ModelQualityMonitor-20201201/datacapture\n",
      "Ground truth path: s3://sagemaker-us-east-1-994366592132/sagemaker/Churn-ModelQualityMonitor-20201201/ground_truth_data/2024-02-12-02-10-59\n",
      "Report path: s3://sagemaker-us-east-1-994366592132/sagemaker/Churn-ModelQualityMonitor-20201201/reports\n"
     ]
    }
   ],
   "source": [
    "# Setup S3 bucket\n",
    "# You can use a different bucket, but make sure the role you chose for this notebook\n",
    "# has the s3:PutObject permissions. This is the bucket into which the data is captured\n",
    "bucket = sess.default_bucket()\n",
    "print(\"Demo Bucket:\", bucket)\n",
    "prefix = \"sagemaker/Churn-ModelQualityMonitor-20201201\"\n",
    "\n",
    "##S3 prefixes\n",
    "data_capture_prefix = f\"{prefix}/datacapture\"\n",
    "s3_capture_upload_path = f\"s3://{bucket}/{data_capture_prefix}\"\n",
    "\n",
    "ground_truth_upload_path = (\n",
    "    f\"s3://{bucket}/{prefix}/ground_truth_data/{datetime.now():%Y-%m-%d-%H-%M-%S}\"\n",
    ")\n",
    "\n",
    "reports_prefix = f\"{prefix}/reports\"\n",
    "s3_report_path = f\"s3://{bucket}/{reports_prefix}\"\n",
    "\n",
    "##Get the model monitor image\n",
    "monitor_image_uri = image_uris.retrieve(framework=\"model-monitor\", region=region)\n",
    "\n",
    "print(\"Image URI:\", monitor_image_uri)\n",
    "print(f\"Capture path: {s3_capture_upload_path}\")\n",
    "print(f\"Ground truth path: {ground_truth_upload_path}\")\n",
    "print(f\"Report path: {s3_report_path}\")"
   ]
  },
  {
   "cell_type": "markdown",
   "id": "5ae37436-1cf3-479e-8f01-c47dc0911f7a",
   "metadata": {},
   "source": [
    "Prepare dataset"
   ]
  },
  {
   "cell_type": "code",
   "execution_count": 6,
   "id": "097bdedc-ac59-4ef2-adb9-4ab96535018d",
   "metadata": {
    "tags": []
   },
   "outputs": [],
   "source": [
    "# Load the original data\n",
    "df  = pd.read_csv('/root/aai540/finalproject/Churn_Modelling.xls')\n",
    "\n",
    "# Rename columns for clarity, \n",
    "df.columns = ['RowNumber', 'CustomerID', 'Surname', 'CreditScore', 'Geography', 'Gender', 'Age', 'Tenure',\n",
    "                          'Balance', 'NumOfProducts', 'HasCrCard', 'IsActiveMember', 'EstimatedSalary', 'Exited']\n"
   ]
  },
  {
   "cell_type": "code",
   "execution_count": 7,
   "id": "8f052500-cd60-46c8-8912-b6917650c831",
   "metadata": {
    "tags": []
   },
   "outputs": [
    {
     "data": {
      "text/html": [
       "<div>\n",
       "<style scoped>\n",
       "    .dataframe tbody tr th:only-of-type {\n",
       "        vertical-align: middle;\n",
       "    }\n",
       "\n",
       "    .dataframe tbody tr th {\n",
       "        vertical-align: top;\n",
       "    }\n",
       "\n",
       "    .dataframe thead th {\n",
       "        text-align: right;\n",
       "    }\n",
       "</style>\n",
       "<table border=\"1\" class=\"dataframe\">\n",
       "  <thead>\n",
       "    <tr style=\"text-align: right;\">\n",
       "      <th></th>\n",
       "      <th>CustomerID</th>\n",
       "      <th>CreditScore</th>\n",
       "      <th>Age</th>\n",
       "      <th>Tenure</th>\n",
       "      <th>Balance</th>\n",
       "      <th>NumOfProducts</th>\n",
       "      <th>HasCrCard</th>\n",
       "      <th>IsActiveMember</th>\n",
       "      <th>EstimatedSalary</th>\n",
       "      <th>Exited</th>\n",
       "      <th>Geography_France</th>\n",
       "      <th>Geography_Germany</th>\n",
       "      <th>Geography_Spain</th>\n",
       "      <th>Gender_Female</th>\n",
       "    </tr>\n",
       "  </thead>\n",
       "  <tbody>\n",
       "    <tr>\n",
       "      <th>0</th>\n",
       "      <td>15634602</td>\n",
       "      <td>619</td>\n",
       "      <td>42</td>\n",
       "      <td>2</td>\n",
       "      <td>0.00</td>\n",
       "      <td>1</td>\n",
       "      <td>1</td>\n",
       "      <td>1</td>\n",
       "      <td>101348.88</td>\n",
       "      <td>1</td>\n",
       "      <td>1</td>\n",
       "      <td>0</td>\n",
       "      <td>0</td>\n",
       "      <td>1</td>\n",
       "    </tr>\n",
       "    <tr>\n",
       "      <th>1</th>\n",
       "      <td>15647311</td>\n",
       "      <td>608</td>\n",
       "      <td>41</td>\n",
       "      <td>1</td>\n",
       "      <td>83807.86</td>\n",
       "      <td>1</td>\n",
       "      <td>0</td>\n",
       "      <td>1</td>\n",
       "      <td>112542.58</td>\n",
       "      <td>0</td>\n",
       "      <td>0</td>\n",
       "      <td>0</td>\n",
       "      <td>1</td>\n",
       "      <td>1</td>\n",
       "    </tr>\n",
       "    <tr>\n",
       "      <th>2</th>\n",
       "      <td>15619304</td>\n",
       "      <td>502</td>\n",
       "      <td>42</td>\n",
       "      <td>8</td>\n",
       "      <td>159660.80</td>\n",
       "      <td>3</td>\n",
       "      <td>1</td>\n",
       "      <td>0</td>\n",
       "      <td>113931.57</td>\n",
       "      <td>1</td>\n",
       "      <td>1</td>\n",
       "      <td>0</td>\n",
       "      <td>0</td>\n",
       "      <td>1</td>\n",
       "    </tr>\n",
       "    <tr>\n",
       "      <th>3</th>\n",
       "      <td>15701354</td>\n",
       "      <td>699</td>\n",
       "      <td>39</td>\n",
       "      <td>1</td>\n",
       "      <td>0.00</td>\n",
       "      <td>2</td>\n",
       "      <td>0</td>\n",
       "      <td>0</td>\n",
       "      <td>93826.63</td>\n",
       "      <td>0</td>\n",
       "      <td>1</td>\n",
       "      <td>0</td>\n",
       "      <td>0</td>\n",
       "      <td>1</td>\n",
       "    </tr>\n",
       "    <tr>\n",
       "      <th>4</th>\n",
       "      <td>15737888</td>\n",
       "      <td>850</td>\n",
       "      <td>43</td>\n",
       "      <td>2</td>\n",
       "      <td>125510.82</td>\n",
       "      <td>1</td>\n",
       "      <td>1</td>\n",
       "      <td>1</td>\n",
       "      <td>79084.10</td>\n",
       "      <td>0</td>\n",
       "      <td>0</td>\n",
       "      <td>0</td>\n",
       "      <td>1</td>\n",
       "      <td>1</td>\n",
       "    </tr>\n",
       "    <tr>\n",
       "      <th>...</th>\n",
       "      <td>...</td>\n",
       "      <td>...</td>\n",
       "      <td>...</td>\n",
       "      <td>...</td>\n",
       "      <td>...</td>\n",
       "      <td>...</td>\n",
       "      <td>...</td>\n",
       "      <td>...</td>\n",
       "      <td>...</td>\n",
       "      <td>...</td>\n",
       "      <td>...</td>\n",
       "      <td>...</td>\n",
       "      <td>...</td>\n",
       "      <td>...</td>\n",
       "    </tr>\n",
       "    <tr>\n",
       "      <th>9995</th>\n",
       "      <td>15606229</td>\n",
       "      <td>771</td>\n",
       "      <td>39</td>\n",
       "      <td>5</td>\n",
       "      <td>0.00</td>\n",
       "      <td>2</td>\n",
       "      <td>1</td>\n",
       "      <td>0</td>\n",
       "      <td>96270.64</td>\n",
       "      <td>0</td>\n",
       "      <td>1</td>\n",
       "      <td>0</td>\n",
       "      <td>0</td>\n",
       "      <td>0</td>\n",
       "    </tr>\n",
       "    <tr>\n",
       "      <th>9996</th>\n",
       "      <td>15569892</td>\n",
       "      <td>516</td>\n",
       "      <td>35</td>\n",
       "      <td>10</td>\n",
       "      <td>57369.61</td>\n",
       "      <td>1</td>\n",
       "      <td>1</td>\n",
       "      <td>1</td>\n",
       "      <td>101699.77</td>\n",
       "      <td>0</td>\n",
       "      <td>1</td>\n",
       "      <td>0</td>\n",
       "      <td>0</td>\n",
       "      <td>0</td>\n",
       "    </tr>\n",
       "    <tr>\n",
       "      <th>9997</th>\n",
       "      <td>15584532</td>\n",
       "      <td>709</td>\n",
       "      <td>36</td>\n",
       "      <td>7</td>\n",
       "      <td>0.00</td>\n",
       "      <td>1</td>\n",
       "      <td>0</td>\n",
       "      <td>1</td>\n",
       "      <td>42085.58</td>\n",
       "      <td>1</td>\n",
       "      <td>1</td>\n",
       "      <td>0</td>\n",
       "      <td>0</td>\n",
       "      <td>1</td>\n",
       "    </tr>\n",
       "    <tr>\n",
       "      <th>9998</th>\n",
       "      <td>15682355</td>\n",
       "      <td>772</td>\n",
       "      <td>42</td>\n",
       "      <td>3</td>\n",
       "      <td>75075.31</td>\n",
       "      <td>2</td>\n",
       "      <td>1</td>\n",
       "      <td>0</td>\n",
       "      <td>92888.52</td>\n",
       "      <td>1</td>\n",
       "      <td>0</td>\n",
       "      <td>1</td>\n",
       "      <td>0</td>\n",
       "      <td>0</td>\n",
       "    </tr>\n",
       "    <tr>\n",
       "      <th>9999</th>\n",
       "      <td>15628319</td>\n",
       "      <td>792</td>\n",
       "      <td>28</td>\n",
       "      <td>4</td>\n",
       "      <td>130142.79</td>\n",
       "      <td>1</td>\n",
       "      <td>1</td>\n",
       "      <td>0</td>\n",
       "      <td>38190.78</td>\n",
       "      <td>0</td>\n",
       "      <td>1</td>\n",
       "      <td>0</td>\n",
       "      <td>0</td>\n",
       "      <td>1</td>\n",
       "    </tr>\n",
       "  </tbody>\n",
       "</table>\n",
       "<p>10000 rows × 14 columns</p>\n",
       "</div>"
      ],
      "text/plain": [
       "      CustomerID  CreditScore  Age  Tenure    Balance  NumOfProducts  \\\n",
       "0       15634602          619   42       2       0.00              1   \n",
       "1       15647311          608   41       1   83807.86              1   \n",
       "2       15619304          502   42       8  159660.80              3   \n",
       "3       15701354          699   39       1       0.00              2   \n",
       "4       15737888          850   43       2  125510.82              1   \n",
       "...          ...          ...  ...     ...        ...            ...   \n",
       "9995    15606229          771   39       5       0.00              2   \n",
       "9996    15569892          516   35      10   57369.61              1   \n",
       "9997    15584532          709   36       7       0.00              1   \n",
       "9998    15682355          772   42       3   75075.31              2   \n",
       "9999    15628319          792   28       4  130142.79              1   \n",
       "\n",
       "      HasCrCard  IsActiveMember  EstimatedSalary  Exited  Geography_France  \\\n",
       "0             1               1        101348.88       1                 1   \n",
       "1             0               1        112542.58       0                 0   \n",
       "2             1               0        113931.57       1                 1   \n",
       "3             0               0         93826.63       0                 1   \n",
       "4             1               1         79084.10       0                 0   \n",
       "...         ...             ...              ...     ...               ...   \n",
       "9995          1               0         96270.64       0                 1   \n",
       "9996          1               1        101699.77       0                 1   \n",
       "9997          0               1         42085.58       1                 1   \n",
       "9998          1               0         92888.52       1                 0   \n",
       "9999          1               0         38190.78       0                 1   \n",
       "\n",
       "      Geography_Germany  Geography_Spain  Gender_Female  \n",
       "0                     0                0              1  \n",
       "1                     0                1              1  \n",
       "2                     0                0              1  \n",
       "3                     0                0              1  \n",
       "4                     0                1              1  \n",
       "...                 ...              ...            ...  \n",
       "9995                  0                0              0  \n",
       "9996                  0                0              0  \n",
       "9997                  0                0              1  \n",
       "9998                  1                0              0  \n",
       "9999                  0                0              1  \n",
       "\n",
       "[10000 rows x 14 columns]"
      ]
     },
     "execution_count": 7,
     "metadata": {},
     "output_type": "execute_result"
    }
   ],
   "source": [
    "df.drop(columns=[\"RowNumber\", \"Surname\"], inplace=True)\n",
    "df = pd.get_dummies(df)\n",
    "df.drop(columns=\"Gender_Male\", inplace=True)\n",
    "df"
   ]
  },
  {
   "cell_type": "code",
   "execution_count": 8,
   "id": "032d2b80-9244-416f-911c-736404e8d09f",
   "metadata": {
    "tags": []
   },
   "outputs": [],
   "source": [
    "X = df.drop(columns=\"Exited\")\n",
    "y = df[\"Exited\"]\n",
    "\n",
    "X_train, X_test, y_train, y_test = train_test_split(\n",
    " X, y,\n",
    " test_size=0.2, random_state=1)\n",
    "\n",
    "X_test, X_val, y_test, y_val = train_test_split(\n",
    " X_test, y_test,\n",
    " test_size=0.5, random_state=1)\n",
    "\n",
    "\n",
    "X_train.drop(columns=\"CustomerID\", inplace=True)\n",
    "X_val.drop(columns=\"CustomerID\", inplace=True)"
   ]
  },
  {
   "cell_type": "markdown",
   "id": "254edc61-08b5-415b-bba1-a1da60a24328",
   "metadata": {
    "tags": []
   },
   "source": [
    "Upload to S3"
   ]
  },
  {
   "cell_type": "code",
   "execution_count": 9,
   "id": "ec66888b-f747-44ec-abee-b907f9ba68d3",
   "metadata": {
    "tags": []
   },
   "outputs": [
    {
     "data": {
      "text/plain": [
       "'s3://sagemaker-us-east-1-994366592132/sagemaker/Churn-ModelQualityMonitor-20201201/batch/batch_data.csv'"
      ]
     },
     "execution_count": 9,
     "metadata": {},
     "output_type": "execute_result"
    }
   ],
   "source": [
    "train_file = \"data/train_data.csv\"\n",
    "pd.concat([y_train, X_train], axis=1).to_csv(train_file, index=False, header=False)\n",
    "sess.upload_data(train_file, key_prefix=\"{}/train\".format(prefix))\n",
    "\n",
    "validation_file = \"data/validation_data.csv\"\n",
    "pd.concat([y_val, X_val], axis=1).to_csv(validation_file, index=False, header=False)\n",
    "sess.upload_data(validation_file, key_prefix=\"{}/validation\".format(prefix))\n",
    "\n",
    "batch_file = \"data/batch_data.csv\"\n",
    "X_test.to_csv(batch_file, index=False, header=False)\n",
    "sess.upload_data(batch_file, key_prefix=\"{}/batch\".format(prefix))"
   ]
  },
  {
   "cell_type": "markdown",
   "id": "f5cf3565-4cb0-4e11-aa4c-78e2a5a8ca0f",
   "metadata": {},
   "source": [
    "## Training job and model creation"
   ]
  },
  {
   "cell_type": "markdown",
   "id": "d4672a8b-cd23-4873-af09-6309a7af9c8f",
   "metadata": {},
   "source": [
    "Set values for hyperparameters  \n",
    "Note that we got these values from the experimentation notebook"
   ]
  },
  {
   "cell_type": "code",
   "execution_count": 10,
   "id": "f4964695-fc46-4a10-af9f-ff3cb004f1ab",
   "metadata": {
    "tags": []
   },
   "outputs": [],
   "source": [
    "val_cnts = y_train.value_counts()\n",
    "scale_pos_weight = val_cnts[0] / val_cnts[1]\n",
    "\n",
    "learning_rate = 0.07\n",
    "max_depth = 3"
   ]
  },
  {
   "cell_type": "code",
   "execution_count": 11,
   "id": "4cdf777e-b391-4561-9982-70420f2c1a32",
   "metadata": {
    "tags": []
   },
   "outputs": [
    {
     "name": "stderr",
     "output_type": "stream",
     "text": [
      "INFO:sagemaker:Creating training-job with name: xgb-2024-02-12-02-11-00\n"
     ]
    },
    {
     "name": "stdout",
     "output_type": "stream",
     "text": [
      "2024-02-12 02:11:00 Starting - Starting the training job...\n",
      "2024-02-12 02:11:15 Starting - Preparing the instances for training......\n",
      "2024-02-12 02:12:23 Downloading - Downloading input data...\n",
      "2024-02-12 02:12:53 Downloading - Downloading the training image......\n",
      "2024-02-12 02:13:49 Training - Training image download completed. Training in progress..\u001b[34m[2024-02-12 02:13:57.844 ip-10-0-194-204.ec2.internal:7 INFO utils.py:28] RULE_JOB_STOP_SIGNAL_FILENAME: None\u001b[0m\n",
      "\u001b[34m[2024-02-12 02:13:57.867 ip-10-0-194-204.ec2.internal:7 INFO profiler_config_parser.py:111] User has disabled profiler.\u001b[0m\n",
      "\u001b[34m[2024-02-12:02:13:58:INFO] Imported framework sagemaker_xgboost_container.training\u001b[0m\n",
      "\u001b[34m[2024-02-12:02:13:58:INFO] Failed to parse hyperparameter objective value binary:logistic to Json.\u001b[0m\n",
      "\u001b[34mReturning the value itself\u001b[0m\n",
      "\u001b[34m[2024-02-12:02:13:58:INFO] No GPUs detected (normal if no gpus installed)\u001b[0m\n",
      "\u001b[34m[2024-02-12:02:13:58:INFO] Running XGBoost Sagemaker in algorithm mode\u001b[0m\n",
      "\u001b[34m[2024-02-12:02:13:58:INFO] Determined 0 GPU(s) available on the instance.\u001b[0m\n",
      "\u001b[34m[2024-02-12:02:13:58:INFO] Determined delimiter of CSV input is ','\u001b[0m\n",
      "\u001b[34m[2024-02-12:02:13:58:INFO] Determined delimiter of CSV input is ','\u001b[0m\n",
      "\u001b[34m[2024-02-12:02:13:58:INFO] Determined delimiter of CSV input is ','\u001b[0m\n",
      "\u001b[34m[2024-02-12:02:13:58:INFO] File path /opt/ml/input/data/train of input files\u001b[0m\n",
      "\u001b[34m[2024-02-12:02:13:58:INFO] Making smlinks from folder /opt/ml/input/data/train to folder /tmp/sagemaker_xgboost_input_data\u001b[0m\n",
      "\u001b[34m[2024-02-12:02:13:58:INFO] creating symlink between Path /opt/ml/input/data/train/train_data.csv and destination /tmp/sagemaker_xgboost_input_data/train_data.csv-4902301598967904711\u001b[0m\n",
      "\u001b[34m[2024-02-12:02:13:58:INFO] files path: /tmp/sagemaker_xgboost_input_data\u001b[0m\n",
      "\u001b[34m[2024-02-12:02:13:58:INFO] Determined delimiter of CSV input is ','\u001b[0m\n",
      "\u001b[34m[2024-02-12:02:13:58:INFO] File path /opt/ml/input/data/validation of input files\u001b[0m\n",
      "\u001b[34m[2024-02-12:02:13:58:INFO] Making smlinks from folder /opt/ml/input/data/validation to folder /tmp/sagemaker_xgboost_input_data\u001b[0m\n",
      "\u001b[34m[2024-02-12:02:13:58:INFO] creating symlink between Path /opt/ml/input/data/validation/validation_with_predictions.csv and destination /tmp/sagemaker_xgboost_input_data/validation_with_predictions.csv710079680816201278\u001b[0m\n",
      "\u001b[34m[2024-02-12:02:13:58:INFO] creating symlink between Path /opt/ml/input/data/validation/validation_data.csv and destination /tmp/sagemaker_xgboost_input_data/validation_data.csv5492365842097786386\u001b[0m\n",
      "\u001b[34m[2024-02-12:02:13:58:INFO] files path: /tmp/sagemaker_xgboost_input_data\u001b[0m\n",
      "\u001b[34m[2024-02-12:02:13:58:INFO] Determined delimiter of CSV input is ','\u001b[0m\n",
      "\u001b[34m[2024-02-12:02:13:58:INFO] Single node training.\u001b[0m\n",
      "\u001b[34m[2024-02-12:02:13:58:INFO] Train matrix has 8000 rows and 12 columns\u001b[0m\n",
      "\u001b[34m[2024-02-12:02:13:58:INFO] Validation matrix has 2001 rows\u001b[0m\n",
      "\u001b[34m[2024-02-12 02:13:58.333 ip-10-0-194-204.ec2.internal:7 INFO json_config.py:92] Creating hook from json_config at /opt/ml/input/config/debughookconfig.json.\u001b[0m\n",
      "\u001b[34m[2024-02-12 02:13:58.334 ip-10-0-194-204.ec2.internal:7 INFO hook.py:206] tensorboard_dir has not been set for the hook. SMDebug will not be exporting tensorboard summaries.\u001b[0m\n",
      "\u001b[34m[2024-02-12 02:13:58.334 ip-10-0-194-204.ec2.internal:7 INFO hook.py:259] Saving to /opt/ml/output/tensors\u001b[0m\n",
      "\u001b[34m[2024-02-12 02:13:58.335 ip-10-0-194-204.ec2.internal:7 INFO state_store.py:77] The checkpoint config file /opt/ml/input/config/checkpointconfig.json does not exist.\u001b[0m\n",
      "\u001b[34m[2024-02-12:02:13:58:INFO] Debug hook created from config\u001b[0m\n",
      "\u001b[34m[2024-02-12 02:13:58.387 ip-10-0-194-204.ec2.internal:7 INFO hook.py:427] Monitoring the collections: metrics\u001b[0m\n",
      "\u001b[34m[2024-02-12 02:13:58.390 ip-10-0-194-204.ec2.internal:7 INFO hook.py:491] Hook is writing from the hook with pid: 7\u001b[0m\n",
      "\u001b[34m[0]#011train-logloss:0.67433#011validation-logloss:0.68260\u001b[0m\n",
      "\u001b[34m[1]#011train-logloss:0.65789#011validation-logloss:0.67345\u001b[0m\n",
      "\u001b[34m[2]#011train-logloss:0.64380#011validation-logloss:0.66523\u001b[0m\n",
      "\u001b[34m[3]#011train-logloss:0.63091#011validation-logloss:0.65799\u001b[0m\n",
      "\u001b[34m[4]#011train-logloss:0.61776#011validation-logloss:0.65023\u001b[0m\n",
      "\u001b[34m[5]#011train-logloss:0.60697#011validation-logloss:0.64428\u001b[0m\n",
      "\u001b[34m[6]#011train-logloss:0.59741#011validation-logloss:0.63893\u001b[0m\n",
      "\u001b[34m[7]#011train-logloss:0.58738#011validation-logloss:0.63220\u001b[0m\n",
      "\u001b[34m[8]#011train-logloss:0.57947#011validation-logloss:0.62791\u001b[0m\n",
      "\u001b[34m[9]#011train-logloss:0.57103#011validation-logloss:0.62255\u001b[0m\n",
      "\u001b[34m[10]#011train-logloss:0.56385#011validation-logloss:0.61885\u001b[0m\n",
      "\u001b[34m[11]#011train-logloss:0.55794#011validation-logloss:0.61502\u001b[0m\n",
      "\u001b[34m[12]#011train-logloss:0.55196#011validation-logloss:0.61188\u001b[0m\n",
      "\u001b[34m[13]#011train-logloss:0.54574#011validation-logloss:0.60834\u001b[0m\n",
      "\u001b[34m[14]#011train-logloss:0.54116#011validation-logloss:0.60609\u001b[0m\n",
      "\u001b[34m[15]#011train-logloss:0.53644#011validation-logloss:0.60370\u001b[0m\n",
      "\u001b[34m[16]#011train-logloss:0.53247#011validation-logloss:0.60130\u001b[0m\n",
      "\u001b[34m[17]#011train-logloss:0.52826#011validation-logloss:0.59918\u001b[0m\n",
      "\u001b[34m[18]#011train-logloss:0.52443#011validation-logloss:0.59723\u001b[0m\n",
      "\u001b[34m[19]#011train-logloss:0.52105#011validation-logloss:0.59561\u001b[0m\n",
      "\u001b[34m[20]#011train-logloss:0.51770#011validation-logloss:0.59397\u001b[0m\n",
      "\u001b[34m[21]#011train-logloss:0.51494#011validation-logloss:0.59241\u001b[0m\n",
      "\u001b[34m[22]#011train-logloss:0.51069#011validation-logloss:0.59035\u001b[0m\n",
      "\u001b[34m[23]#011train-logloss:0.50690#011validation-logloss:0.58849\u001b[0m\n",
      "\u001b[34m[24]#011train-logloss:0.50426#011validation-logloss:0.58705\u001b[0m\n",
      "\u001b[34m[25]#011train-logloss:0.50200#011validation-logloss:0.58607\u001b[0m\n",
      "\u001b[34m[26]#011train-logloss:0.49883#011validation-logloss:0.58458\u001b[0m\n",
      "\u001b[34m[27]#011train-logloss:0.49645#011validation-logloss:0.58348\u001b[0m\n",
      "\u001b[34m[28]#011train-logloss:0.49368#011validation-logloss:0.58241\u001b[0m\n",
      "\u001b[34m[29]#011train-logloss:0.49176#011validation-logloss:0.58123\u001b[0m\n",
      "\u001b[34m[30]#011train-logloss:0.48948#011validation-logloss:0.58009\u001b[0m\n",
      "\u001b[34m[31]#011train-logloss:0.48702#011validation-logloss:0.57892\u001b[0m\n",
      "\u001b[34m[32]#011train-logloss:0.48523#011validation-logloss:0.57804\u001b[0m\n",
      "\u001b[34m[33]#011train-logloss:0.48341#011validation-logloss:0.57701\u001b[0m\n",
      "\u001b[34m[34]#011train-logloss:0.48207#011validation-logloss:0.57642\u001b[0m\n",
      "\u001b[34m[35]#011train-logloss:0.48003#011validation-logloss:0.57541\u001b[0m\n",
      "\u001b[34m[36]#011train-logloss:0.47836#011validation-logloss:0.57468\u001b[0m\n",
      "\u001b[34m[37]#011train-logloss:0.47715#011validation-logloss:0.57478\u001b[0m\n",
      "\u001b[34m[38]#011train-logloss:0.47536#011validation-logloss:0.57465\u001b[0m\n",
      "\u001b[34m[39]#011train-logloss:0.47398#011validation-logloss:0.57406\u001b[0m\n",
      "\u001b[34m[40]#011train-logloss:0.47232#011validation-logloss:0.57320\u001b[0m\n",
      "\u001b[34m[41]#011train-logloss:0.47117#011validation-logloss:0.57218\u001b[0m\n",
      "\u001b[34m[42]#011train-logloss:0.47009#011validation-logloss:0.57435\u001b[0m\n",
      "\u001b[34m[43]#011train-logloss:0.46861#011validation-logloss:0.57491\u001b[0m\n",
      "\u001b[34m[44]#011train-logloss:0.46751#011validation-logloss:0.57455\u001b[0m\n",
      "\u001b[34m[45]#011train-logloss:0.46664#011validation-logloss:0.57904\u001b[0m\n",
      "\u001b[34m[46]#011train-logloss:0.46534#011validation-logloss:0.58029\u001b[0m\n",
      "\u001b[34m[47]#011train-logloss:0.46441#011validation-logloss:0.58070\u001b[0m\n",
      "\u001b[34m[48]#011train-logloss:0.46349#011validation-logloss:0.57980\u001b[0m\n",
      "\u001b[34m[49]#011train-logloss:0.46225#011validation-logloss:0.57892\u001b[0m\n",
      "\u001b[34m[50]#011train-logloss:0.46150#011validation-logloss:0.57723\u001b[0m\n",
      "\u001b[34m[51]#011train-logloss:0.46084#011validation-logloss:0.58337\u001b[0m\n",
      "\u001b[34m[52]#011train-logloss:0.46005#011validation-logloss:0.58374\u001b[0m\n",
      "\u001b[34m[53]#011train-logloss:0.45938#011validation-logloss:0.59144\u001b[0m\n",
      "\u001b[34m[54]#011train-logloss:0.45834#011validation-logloss:0.59369\u001b[0m\n",
      "\u001b[34m[55]#011train-logloss:0.45788#011validation-logloss:0.60224\u001b[0m\n",
      "\u001b[34m[56]#011train-logloss:0.45715#011validation-logloss:0.60311\u001b[0m\n",
      "\u001b[34m[57]#011train-logloss:0.45614#011validation-logloss:0.60213\u001b[0m\n",
      "\u001b[34m[58]#011train-logloss:0.45560#011validation-logloss:0.61163\u001b[0m\n",
      "\u001b[34m[59]#011train-logloss:0.45497#011validation-logloss:0.62035\u001b[0m\n",
      "\u001b[34m[60]#011train-logloss:0.45407#011validation-logloss:0.62372\u001b[0m\n",
      "\u001b[34m[61]#011train-logloss:0.45361#011validation-logloss:0.63488\u001b[0m\n",
      "\u001b[34m[62]#011train-logloss:0.45275#011validation-logloss:0.63376\u001b[0m\n",
      "\u001b[34m[63]#011train-logloss:0.45234#011validation-logloss:0.64641\u001b[0m\n",
      "\u001b[34m[64]#011train-logloss:0.45179#011validation-logloss:0.64674\u001b[0m\n",
      "\u001b[34m[65]#011train-logloss:0.45129#011validation-logloss:0.65973\u001b[0m\n",
      "\u001b[34m[66]#011train-logloss:0.45078#011validation-logloss:0.66008\u001b[0m\n",
      "\u001b[34m[67]#011train-logloss:0.45003#011validation-logloss:0.66434\u001b[0m\n",
      "\u001b[34m[68]#011train-logloss:0.44966#011validation-logloss:0.66807\u001b[0m\n",
      "\u001b[34m[69]#011train-logloss:0.44921#011validation-logloss:0.66841\u001b[0m\n",
      "\u001b[34m[70]#011train-logloss:0.44872#011validation-logloss:0.67301\u001b[0m\n",
      "\u001b[34m[71]#011train-logloss:0.44764#011validation-logloss:0.67135\u001b[0m\n",
      "\u001b[34m[72]#011train-logloss:0.44681#011validation-logloss:0.67236\u001b[0m\n",
      "\u001b[34m[73]#011train-logloss:0.44649#011validation-logloss:0.67615\u001b[0m\n",
      "\u001b[34m[74]#011train-logloss:0.44581#011validation-logloss:0.67497\u001b[0m\n",
      "\u001b[34m[75]#011train-logloss:0.44528#011validation-logloss:0.67968\u001b[0m\n",
      "\u001b[34m[76]#011train-logloss:0.44475#011validation-logloss:0.70131\u001b[0m\n",
      "\u001b[34m[77]#011train-logloss:0.44447#011validation-logloss:0.70539\u001b[0m\n",
      "\u001b[34m[78]#011train-logloss:0.44409#011validation-logloss:0.71078\u001b[0m\n",
      "\u001b[34m[79]#011train-logloss:0.44372#011validation-logloss:0.73281\u001b[0m\n",
      "\u001b[34m[80]#011train-logloss:0.44287#011validation-logloss:0.76992\u001b[0m\n",
      "\u001b[34m[81]#011train-logloss:0.44231#011validation-logloss:0.77522\u001b[0m\n",
      "\u001b[34m[82]#011train-logloss:0.44187#011validation-logloss:0.77572\u001b[0m\n",
      "\u001b[34m[83]#011train-logloss:0.44168#011validation-logloss:0.79350\u001b[0m\n",
      "\u001b[34m[84]#011train-logloss:0.44111#011validation-logloss:0.79214\u001b[0m\n",
      "\u001b[34m[85]#011train-logloss:0.44092#011validation-logloss:0.79854\u001b[0m\n",
      "\u001b[34m[86]#011train-logloss:0.44063#011validation-logloss:0.79909\u001b[0m\n",
      "\u001b[34m[87]#011train-logloss:0.44028#011validation-logloss:0.80479\u001b[0m\n",
      "\u001b[34m[88]#011train-logloss:0.43999#011validation-logloss:0.81046\u001b[0m\n",
      "\u001b[34m[89]#011train-logloss:0.43932#011validation-logloss:0.81013\u001b[0m\n",
      "\u001b[34m[90]#011train-logloss:0.43913#011validation-logloss:0.81640\u001b[0m\n",
      "\u001b[34m[91]#011train-logloss:0.43872#011validation-logloss:0.82187\u001b[0m\n",
      "\u001b[34m[92]#011train-logloss:0.43838#011validation-logloss:0.82232\u001b[0m\n",
      "\u001b[34m[93]#011train-logloss:0.43821#011validation-logloss:0.82846\u001b[0m\n",
      "\u001b[34m[94]#011train-logloss:0.43778#011validation-logloss:0.83051\u001b[0m\n",
      "\u001b[34m[95]#011train-logloss:0.43744#011validation-logloss:0.85629\u001b[0m\n",
      "\u001b[34m[96]#011train-logloss:0.43705#011validation-logloss:0.85542\u001b[0m\n",
      "\u001b[34m[97]#011train-logloss:0.43656#011validation-logloss:0.85406\u001b[0m\n",
      "\u001b[34m[98]#011train-logloss:0.43638#011validation-logloss:0.83984\u001b[0m\n",
      "\u001b[34m[99]#011train-logloss:0.43618#011validation-logloss:0.83933\u001b[0m\n",
      "\n",
      "2024-02-12 02:14:15 Uploading - Uploading generated training model\n",
      "2024-02-12 02:14:15 Completed - Training job completed\n",
      "Training seconds: 112\n",
      "Billable seconds: 112\n",
      "CPU times: user 706 ms, sys: 32.6 ms, total: 739 ms\n",
      "Wall time: 3min 43s\n"
     ]
    }
   ],
   "source": [
    "%%time\n",
    "\n",
    "job_name = \"xgb-\" + strftime(\"%Y-%m-%d-%H-%M-%S\", gmtime())\n",
    "output_location = \"s3://{}/{}/output/{}\".format(bucket, prefix, job_name)\n",
    "image = sagemaker.image_uris.retrieve(\n",
    "    framework=\"xgboost\", region=region, version=\"1.7-1\" # latest version\n",
    ")\n",
    "\n",
    "sm_estimator = sagemaker.estimator.Estimator(\n",
    "    image,\n",
    "    role,\n",
    "    instance_count=1,\n",
    "    instance_type=\"ml.m5.xlarge\",\n",
    "    volume_size=50,\n",
    "    input_mode=\"File\",\n",
    "    output_path=output_location,\n",
    "    sagemaker_session=sess,\n",
    ")\n",
    "\n",
    "sm_estimator.set_hyperparameters(\n",
    "    objective=\"binary:logistic\",\n",
    "    max_depth=3,\n",
    "    eta=0.07,\n",
    "    verbosity=0,\n",
    "    num_round=100,\n",
    "    scale_pos_weight=scale_pos_weight\n",
    ")\n",
    "\n",
    "train_data = sagemaker.inputs.TrainingInput(\n",
    "    \"s3://{}/{}/train\".format(bucket, prefix),\n",
    "    distribution=\"FullyReplicated\",\n",
    "    content_type=\"text/csv\",\n",
    "    s3_data_type=\"S3Prefix\",\n",
    ")\n",
    "validation_data = sagemaker.inputs.TrainingInput(\n",
    "    \"s3://{}/{}/validation\".format(bucket, prefix),\n",
    "    distribution=\"FullyReplicated\",\n",
    "    content_type=\"text/csv\",\n",
    "    s3_data_type=\"S3Prefix\",\n",
    ")\n",
    "data_channels = {\"train\": train_data, \"validation\": validation_data}\n",
    "\n",
    "# Start training by calling the fit method in the estimator\n",
    "sm_estimator.fit(inputs=data_channels, job_name=job_name, logs=True)\n",
    "\n",
    "# After training, create a Model object from the estimator's model data\n",
    "model = sm_estimator.create_model()"
   ]
  },
  {
   "cell_type": "markdown",
   "id": "8a91f555-2b0a-4ac9-93cc-15641fb0b10f",
   "metadata": {},
   "source": [
    "## Use batch transform on our test data. Since the ID column is present, we will update the output filter to keep only ID and prediction"
   ]
  },
  {
   "cell_type": "markdown",
   "id": "197a732c-3f3e-4c8f-b0a7-d47ac2929952",
   "metadata": {},
   "source": [
    "Let's change __output_filter__ to \"$[0,-1]\", indicating that when presenting the output, we only want to keep column 0 (the 'ID') and the last column (the inference result i.e. the probability of a given tumor to be malignant)"
   ]
  },
  {
   "cell_type": "code",
   "execution_count": 12,
   "id": "6f744564-8d93-49f9-9e00-74aee82f4e52",
   "metadata": {
    "tags": []
   },
   "outputs": [],
   "source": [
    "model_data = sm_estimator.model_data"
   ]
  },
  {
   "cell_type": "code",
   "execution_count": 13,
   "id": "854792e5-36c1-4f7d-8700-485763dd9b0b",
   "metadata": {
    "tags": []
   },
   "outputs": [
    {
     "name": "stderr",
     "output_type": "stream",
     "text": [
      "INFO:sagemaker:Creating model with name: sagemaker-xgboost-2024-02-12-02-14-43-304\n",
      "INFO:sagemaker:Creating transform job with name: sagemaker-xgboost-2024-02-12-02-14-43-940\n"
     ]
    },
    {
     "name": "stdout",
     "output_type": "stream",
     "text": [
      ".........................................\u001b[34m[2024-02-12:02:21:30:INFO] No GPUs detected (normal if no gpus installed)\u001b[0m\n",
      "\u001b[35m[2024-02-12:02:21:30:INFO] No GPUs detected (normal if no gpus installed)\u001b[0m\n",
      "\u001b[34m[2024-02-12:02:21:30:INFO] No GPUs detected (normal if no gpus installed)\u001b[0m\n",
      "\u001b[34m[2024-02-12:02:21:30:INFO] nginx config: \u001b[0m\n",
      "\u001b[34mworker_processes auto;\u001b[0m\n",
      "\u001b[34mdaemon off;\u001b[0m\n",
      "\u001b[34mpid /tmp/nginx.pid;\u001b[0m\n",
      "\u001b[34merror_log  /dev/stderr;\u001b[0m\n",
      "\u001b[34mworker_rlimit_nofile 4096;\u001b[0m\n",
      "\u001b[34mevents {\n",
      "  worker_connections 2048;\u001b[0m\n",
      "\u001b[34m}\u001b[0m\n",
      "\u001b[35m[2024-02-12:02:21:30:INFO] No GPUs detected (normal if no gpus installed)\u001b[0m\n",
      "\u001b[35m[2024-02-12:02:21:30:INFO] nginx config: \u001b[0m\n",
      "\u001b[35mworker_processes auto;\u001b[0m\n",
      "\u001b[35mdaemon off;\u001b[0m\n",
      "\u001b[35mpid /tmp/nginx.pid;\u001b[0m\n",
      "\u001b[35merror_log  /dev/stderr;\u001b[0m\n",
      "\u001b[35mworker_rlimit_nofile 4096;\u001b[0m\n",
      "\u001b[35mevents {\n",
      "  worker_connections 2048;\u001b[0m\n",
      "\u001b[35m}\u001b[0m\n",
      "\u001b[34mhttp {\n",
      "  include /etc/nginx/mime.types;\n",
      "  default_type application/octet-stream;\n",
      "  access_log /dev/stdout combined;\n",
      "  upstream gunicorn {\n",
      "    server unix:/tmp/gunicorn.sock;\n",
      "  }\n",
      "  server {\n",
      "    listen 8080 deferred;\n",
      "    client_max_body_size 0;\n",
      "    keepalive_timeout 3;\n",
      "    location ~ ^/(ping|invocations|execution-parameters) {\n",
      "      proxy_set_header X-Forwarded-For $proxy_add_x_forwarded_for;\n",
      "      proxy_set_header Host $http_host;\n",
      "      proxy_redirect off;\n",
      "      proxy_read_timeout 60s;\n",
      "      proxy_pass http://gunicorn;\n",
      "    }\n",
      "    location / {\n",
      "      return 404 \"{}\";\n",
      "    }\n",
      "  }\u001b[0m\n",
      "\u001b[34m}\u001b[0m\n",
      "\u001b[34m[2024-02-12 02:21:31 +0000] [19] [INFO] Starting gunicorn 19.10.0\u001b[0m\n",
      "\u001b[34m[2024-02-12 02:21:31 +0000] [19] [INFO] Listening at: unix:/tmp/gunicorn.sock (19)\u001b[0m\n",
      "\u001b[34m[2024-02-12 02:21:31 +0000] [19] [INFO] Using worker: gevent\u001b[0m\n",
      "\u001b[34m/miniconda3/lib/python3.8/os.py:1023: RuntimeWarning: line buffering (buffering=1) isn't supported in binary mode, the default buffer size will be used\n",
      "  return io.open(fd, *args, **kwargs)\u001b[0m\n",
      "\u001b[34m[2024-02-12 02:21:31 +0000] [25] [INFO] Booting worker with pid: 25\u001b[0m\n",
      "\u001b[34m[2024-02-12 02:21:31 +0000] [26] [INFO] Booting worker with pid: 26\u001b[0m\n",
      "\u001b[34m[2024-02-12 02:21:31 +0000] [27] [INFO] Booting worker with pid: 27\u001b[0m\n",
      "\u001b[34m[2024-02-12 02:21:31 +0000] [28] [INFO] Booting worker with pid: 28\u001b[0m\n",
      "\u001b[34m[2024-02-12:02:21:33:INFO] No GPUs detected (normal if no gpus installed)\u001b[0m\n",
      "\u001b[34m[2024-02-12:02:21:33:INFO] Loading the model from /opt/ml/model/xgboost-model\u001b[0m\n",
      "\u001b[34m[2024-02-12:02:21:33:INFO] Model objective : binary:logistic\u001b[0m\n",
      "\u001b[34m[2024-02-12:02:21:33:INFO] No GPUs detected (normal if no gpus installed)\u001b[0m\n",
      "\u001b[34m[2024-02-12:02:21:33:INFO] Loading the model from /opt/ml/model/xgboost-model\u001b[0m\n",
      "\u001b[34m[2024-02-12:02:21:33:INFO] Model objective : binary:logistic\u001b[0m\n",
      "\u001b[35mhttp {\n",
      "  include /etc/nginx/mime.types;\n",
      "  default_type application/octet-stream;\n",
      "  access_log /dev/stdout combined;\n",
      "  upstream gunicorn {\n",
      "    server unix:/tmp/gunicorn.sock;\n",
      "  }\n",
      "  server {\n",
      "    listen 8080 deferred;\n",
      "    client_max_body_size 0;\n",
      "    keepalive_timeout 3;\n",
      "    location ~ ^/(ping|invocations|execution-parameters) {\n",
      "      proxy_set_header X-Forwarded-For $proxy_add_x_forwarded_for;\n",
      "      proxy_set_header Host $http_host;\n",
      "      proxy_redirect off;\n",
      "      proxy_read_timeout 60s;\n",
      "      proxy_pass http://gunicorn;\n",
      "    }\n",
      "    location / {\n",
      "      return 404 \"{}\";\n",
      "    }\n",
      "  }\u001b[0m\n",
      "\u001b[35m}\u001b[0m\n",
      "\u001b[35m[2024-02-12 02:21:31 +0000] [19] [INFO] Starting gunicorn 19.10.0\u001b[0m\n",
      "\u001b[35m[2024-02-12 02:21:31 +0000] [19] [INFO] Listening at: unix:/tmp/gunicorn.sock (19)\u001b[0m\n",
      "\u001b[35m[2024-02-12 02:21:31 +0000] [19] [INFO] Using worker: gevent\u001b[0m\n",
      "\u001b[35m/miniconda3/lib/python3.8/os.py:1023: RuntimeWarning: line buffering (buffering=1) isn't supported in binary mode, the default buffer size will be used\n",
      "  return io.open(fd, *args, **kwargs)\u001b[0m\n",
      "\u001b[35m[2024-02-12 02:21:31 +0000] [25] [INFO] Booting worker with pid: 25\u001b[0m\n",
      "\u001b[35m[2024-02-12 02:21:31 +0000] [26] [INFO] Booting worker with pid: 26\u001b[0m\n",
      "\u001b[35m[2024-02-12 02:21:31 +0000] [27] [INFO] Booting worker with pid: 27\u001b[0m\n",
      "\u001b[35m[2024-02-12 02:21:31 +0000] [28] [INFO] Booting worker with pid: 28\u001b[0m\n",
      "\u001b[35m[2024-02-12:02:21:33:INFO] No GPUs detected (normal if no gpus installed)\u001b[0m\n",
      "\u001b[35m[2024-02-12:02:21:33:INFO] Loading the model from /opt/ml/model/xgboost-model\u001b[0m\n",
      "\u001b[35m[2024-02-12:02:21:33:INFO] Model objective : binary:logistic\u001b[0m\n",
      "\u001b[35m[2024-02-12:02:21:33:INFO] No GPUs detected (normal if no gpus installed)\u001b[0m\n",
      "\u001b[35m[2024-02-12:02:21:33:INFO] Loading the model from /opt/ml/model/xgboost-model\u001b[0m\n",
      "\u001b[35m[2024-02-12:02:21:33:INFO] Model objective : binary:logistic\u001b[0m\n",
      "\u001b[34m[2024-02-12:02:21:33:INFO] No GPUs detected (normal if no gpus installed)\u001b[0m\n",
      "\u001b[34m[2024-02-12:02:21:33:INFO] Loading the model from /opt/ml/model/xgboost-model\u001b[0m\n",
      "\u001b[34m[2024-02-12:02:21:33:INFO] Model objective : binary:logistic\u001b[0m\n",
      "\u001b[34m[2024-02-12:02:21:33:INFO] No GPUs detected (normal if no gpus installed)\u001b[0m\n",
      "\u001b[34m[2024-02-12:02:21:33:INFO] Loading the model from /opt/ml/model/xgboost-model\u001b[0m\n",
      "\u001b[34m[2024-02-12:02:21:33:INFO] Model objective : binary:logistic\u001b[0m\n",
      "\u001b[35m[2024-02-12:02:21:33:INFO] No GPUs detected (normal if no gpus installed)\u001b[0m\n",
      "\u001b[35m[2024-02-12:02:21:33:INFO] Loading the model from /opt/ml/model/xgboost-model\u001b[0m\n",
      "\u001b[35m[2024-02-12:02:21:33:INFO] Model objective : binary:logistic\u001b[0m\n",
      "\u001b[35m[2024-02-12:02:21:33:INFO] No GPUs detected (normal if no gpus installed)\u001b[0m\n",
      "\u001b[35m[2024-02-12:02:21:33:INFO] Loading the model from /opt/ml/model/xgboost-model\u001b[0m\n",
      "\u001b[35m[2024-02-12:02:21:33:INFO] Model objective : binary:logistic\u001b[0m\n",
      "\u001b[34m[2024-02-12:02:21:37:INFO] No GPUs detected (normal if no gpus installed)\u001b[0m\n",
      "\u001b[34m169.254.255.130 - - [12/Feb/2024:02:21:37 +0000] \"GET /ping HTTP/1.1\" 200 0 \"-\" \"Go-http-client/1.1\"\u001b[0m\n",
      "\u001b[34m[2024-02-12:02:21:37:INFO] No GPUs detected (normal if no gpus installed)\u001b[0m\n",
      "\u001b[34m169.254.255.130 - - [12/Feb/2024:02:21:37 +0000] \"GET /execution-parameters HTTP/1.1\" 200 84 \"-\" \"Go-http-client/1.1\"\u001b[0m\n",
      "\u001b[35m[2024-02-12:02:21:37:INFO] No GPUs detected (normal if no gpus installed)\u001b[0m\n",
      "\u001b[35m169.254.255.130 - - [12/Feb/2024:02:21:37 +0000] \"GET /ping HTTP/1.1\" 200 0 \"-\" \"Go-http-client/1.1\"\u001b[0m\n",
      "\u001b[35m[2024-02-12:02:21:37:INFO] No GPUs detected (normal if no gpus installed)\u001b[0m\n",
      "\u001b[35m169.254.255.130 - - [12/Feb/2024:02:21:37 +0000] \"GET /execution-parameters HTTP/1.1\" 200 84 \"-\" \"Go-http-client/1.1\"\u001b[0m\n",
      "\u001b[34m[2024-02-12:02:21:37:INFO] No GPUs detected (normal if no gpus installed)\u001b[0m\n",
      "\u001b[34m[2024-02-12:02:21:37:INFO] Determined delimiter of CSV input is ','\u001b[0m\n",
      "\u001b[34m/miniconda3/lib/python3.8/site-packages/xgboost/core.py:122: UserWarning: ntree_limit is deprecated, use `iteration_range` or model slicing instead.\n",
      "  warnings.warn(\u001b[0m\n",
      "\u001b[34m169.254.255.130 - - [12/Feb/2024:02:21:37 +0000] \"POST /invocations HTTP/1.1\" 200 19408 \"-\" \"Go-http-client/1.1\"\u001b[0m\n",
      "\u001b[35m[2024-02-12:02:21:37:INFO] No GPUs detected (normal if no gpus installed)\u001b[0m\n",
      "\u001b[35m[2024-02-12:02:21:37:INFO] Determined delimiter of CSV input is ','\u001b[0m\n",
      "\u001b[35m/miniconda3/lib/python3.8/site-packages/xgboost/core.py:122: UserWarning: ntree_limit is deprecated, use `iteration_range` or model slicing instead.\n",
      "  warnings.warn(\u001b[0m\n",
      "\u001b[35m169.254.255.130 - - [12/Feb/2024:02:21:37 +0000] \"POST /invocations HTTP/1.1\" 200 19408 \"-\" \"Go-http-client/1.1\"\u001b[0m\n",
      "\u001b[32m2024-02-12T02:21:37.810:[sagemaker logs]: MaxConcurrentTransforms=4, MaxPayloadInMB=6, BatchStrategy=MULTI_RECORD\u001b[0m\n",
      "\n",
      "\u001b[34m[2024-02-12:02:21:30:INFO] No GPUs detected (normal if no gpus installed)\u001b[0m\n",
      "\u001b[35m[2024-02-12:02:21:30:INFO] No GPUs detected (normal if no gpus installed)\u001b[0m\n",
      "\u001b[34m[2024-02-12:02:21:30:INFO] No GPUs detected (normal if no gpus installed)\u001b[0m\n",
      "\u001b[34m[2024-02-12:02:21:30:INFO] nginx config: \u001b[0m\n",
      "\u001b[34mworker_processes auto;\u001b[0m\n",
      "\u001b[34mdaemon off;\u001b[0m\n",
      "\u001b[34mpid /tmp/nginx.pid;\u001b[0m\n",
      "\u001b[34merror_log  /dev/stderr;\u001b[0m\n",
      "\u001b[34mworker_rlimit_nofile 4096;\u001b[0m\n",
      "\u001b[34mevents {\n",
      "  worker_connections 2048;\u001b[0m\n",
      "\u001b[34m}\u001b[0m\n",
      "\u001b[35m[2024-02-12:02:21:30:INFO] No GPUs detected (normal if no gpus installed)\u001b[0m\n",
      "\u001b[35m[2024-02-12:02:21:30:INFO] nginx config: \u001b[0m\n",
      "\u001b[35mworker_processes auto;\u001b[0m\n",
      "\u001b[35mdaemon off;\u001b[0m\n",
      "\u001b[35mpid /tmp/nginx.pid;\u001b[0m\n",
      "\u001b[35merror_log  /dev/stderr;\u001b[0m\n",
      "\u001b[35mworker_rlimit_nofile 4096;\u001b[0m\n",
      "\u001b[35mevents {\n",
      "  worker_connections 2048;\u001b[0m\n",
      "\u001b[35m}\u001b[0m\n",
      "\u001b[34mhttp {\n",
      "  include /etc/nginx/mime.types;\n",
      "  default_type application/octet-stream;\n",
      "  access_log /dev/stdout combined;\n",
      "  upstream gunicorn {\n",
      "    server unix:/tmp/gunicorn.sock;\n",
      "  }\n",
      "  server {\n",
      "    listen 8080 deferred;\n",
      "    client_max_body_size 0;\n",
      "    keepalive_timeout 3;\n",
      "    location ~ ^/(ping|invocations|execution-parameters) {\n",
      "      proxy_set_header X-Forwarded-For $proxy_add_x_forwarded_for;\n",
      "      proxy_set_header Host $http_host;\n",
      "      proxy_redirect off;\n",
      "      proxy_read_timeout 60s;\n",
      "      proxy_pass http://gunicorn;\n",
      "    }\n",
      "    location / {\n",
      "      return 404 \"{}\";\n",
      "    }\n",
      "  }\u001b[0m\n",
      "\u001b[34m}\u001b[0m\n",
      "\u001b[34m[2024-02-12 02:21:31 +0000] [19] [INFO] Starting gunicorn 19.10.0\u001b[0m\n",
      "\u001b[34m[2024-02-12 02:21:31 +0000] [19] [INFO] Listening at: unix:/tmp/gunicorn.sock (19)\u001b[0m\n",
      "\u001b[34m[2024-02-12 02:21:31 +0000] [19] [INFO] Using worker: gevent\u001b[0m\n",
      "\u001b[34m/miniconda3/lib/python3.8/os.py:1023: RuntimeWarning: line buffering (buffering=1) isn't supported in binary mode, the default buffer size will be used\n",
      "  return io.open(fd, *args, **kwargs)\u001b[0m\n",
      "\u001b[34m[2024-02-12 02:21:31 +0000] [25] [INFO] Booting worker with pid: 25\u001b[0m\n",
      "\u001b[34m[2024-02-12 02:21:31 +0000] [26] [INFO] Booting worker with pid: 26\u001b[0m\n",
      "\u001b[34m[2024-02-12 02:21:31 +0000] [27] [INFO] Booting worker with pid: 27\u001b[0m\n",
      "\u001b[34m[2024-02-12 02:21:31 +0000] [28] [INFO] Booting worker with pid: 28\u001b[0m\n",
      "\u001b[34m[2024-02-12:02:21:33:INFO] No GPUs detected (normal if no gpus installed)\u001b[0m\n",
      "\u001b[34m[2024-02-12:02:21:33:INFO] Loading the model from /opt/ml/model/xgboost-model\u001b[0m\n",
      "\u001b[34m[2024-02-12:02:21:33:INFO] Model objective : binary:logistic\u001b[0m\n",
      "\u001b[34m[2024-02-12:02:21:33:INFO] No GPUs detected (normal if no gpus installed)\u001b[0m\n",
      "\u001b[34m[2024-02-12:02:21:33:INFO] Loading the model from /opt/ml/model/xgboost-model\u001b[0m\n",
      "\u001b[34m[2024-02-12:02:21:33:INFO] Model objective : binary:logistic\u001b[0m\n",
      "\u001b[35mhttp {\n",
      "  include /etc/nginx/mime.types;\n",
      "  default_type application/octet-stream;\n",
      "  access_log /dev/stdout combined;\n",
      "  upstream gunicorn {\n",
      "    server unix:/tmp/gunicorn.sock;\n",
      "  }\n",
      "  server {\n",
      "    listen 8080 deferred;\n",
      "    client_max_body_size 0;\n",
      "    keepalive_timeout 3;\n",
      "    location ~ ^/(ping|invocations|execution-parameters) {\n",
      "      proxy_set_header X-Forwarded-For $proxy_add_x_forwarded_for;\n",
      "      proxy_set_header Host $http_host;\n",
      "      proxy_redirect off;\n",
      "      proxy_read_timeout 60s;\n",
      "      proxy_pass http://gunicorn;\n",
      "    }\n",
      "    location / {\n",
      "      return 404 \"{}\";\n",
      "    }\n",
      "  }\u001b[0m\n",
      "\u001b[35m}\u001b[0m\n",
      "\u001b[35m[2024-02-12 02:21:31 +0000] [19] [INFO] Starting gunicorn 19.10.0\u001b[0m\n",
      "\u001b[35m[2024-02-12 02:21:31 +0000] [19] [INFO] Listening at: unix:/tmp/gunicorn.sock (19)\u001b[0m\n",
      "\u001b[35m[2024-02-12 02:21:31 +0000] [19] [INFO] Using worker: gevent\u001b[0m\n",
      "\u001b[35m/miniconda3/lib/python3.8/os.py:1023: RuntimeWarning: line buffering (buffering=1) isn't supported in binary mode, the default buffer size will be used\n",
      "  return io.open(fd, *args, **kwargs)\u001b[0m\n",
      "\u001b[35m[2024-02-12 02:21:31 +0000] [25] [INFO] Booting worker with pid: 25\u001b[0m\n",
      "\u001b[35m[2024-02-12 02:21:31 +0000] [26] [INFO] Booting worker with pid: 26\u001b[0m\n",
      "\u001b[35m[2024-02-12 02:21:31 +0000] [27] [INFO] Booting worker with pid: 27\u001b[0m\n",
      "\u001b[35m[2024-02-12 02:21:31 +0000] [28] [INFO] Booting worker with pid: 28\u001b[0m\n",
      "\u001b[35m[2024-02-12:02:21:33:INFO] No GPUs detected (normal if no gpus installed)\u001b[0m\n",
      "\u001b[35m[2024-02-12:02:21:33:INFO] Loading the model from /opt/ml/model/xgboost-model\u001b[0m\n",
      "\u001b[35m[2024-02-12:02:21:33:INFO] Model objective : binary:logistic\u001b[0m\n",
      "\u001b[35m[2024-02-12:02:21:33:INFO] No GPUs detected (normal if no gpus installed)\u001b[0m\n",
      "\u001b[35m[2024-02-12:02:21:33:INFO] Loading the model from /opt/ml/model/xgboost-model\u001b[0m\n",
      "\u001b[35m[2024-02-12:02:21:33:INFO] Model objective : binary:logistic\u001b[0m\n",
      "\u001b[34m[2024-02-12:02:21:33:INFO] No GPUs detected (normal if no gpus installed)\u001b[0m\n",
      "\u001b[34m[2024-02-12:02:21:33:INFO] Loading the model from /opt/ml/model/xgboost-model\u001b[0m\n",
      "\u001b[34m[2024-02-12:02:21:33:INFO] Model objective : binary:logistic\u001b[0m\n",
      "\u001b[34m[2024-02-12:02:21:33:INFO] No GPUs detected (normal if no gpus installed)\u001b[0m\n",
      "\u001b[34m[2024-02-12:02:21:33:INFO] Loading the model from /opt/ml/model/xgboost-model\u001b[0m\n",
      "\u001b[34m[2024-02-12:02:21:33:INFO] Model objective : binary:logistic\u001b[0m\n",
      "\u001b[35m[2024-02-12:02:21:33:INFO] No GPUs detected (normal if no gpus installed)\u001b[0m\n",
      "\u001b[35m[2024-02-12:02:21:33:INFO] Loading the model from /opt/ml/model/xgboost-model\u001b[0m\n",
      "\u001b[35m[2024-02-12:02:21:33:INFO] Model objective : binary:logistic\u001b[0m\n",
      "\u001b[35m[2024-02-12:02:21:33:INFO] No GPUs detected (normal if no gpus installed)\u001b[0m\n",
      "\u001b[35m[2024-02-12:02:21:33:INFO] Loading the model from /opt/ml/model/xgboost-model\u001b[0m\n",
      "\u001b[35m[2024-02-12:02:21:33:INFO] Model objective : binary:logistic\u001b[0m\n",
      "\u001b[34m[2024-02-12:02:21:37:INFO] No GPUs detected (normal if no gpus installed)\u001b[0m\n",
      "\u001b[34m169.254.255.130 - - [12/Feb/2024:02:21:37 +0000] \"GET /ping HTTP/1.1\" 200 0 \"-\" \"Go-http-client/1.1\"\u001b[0m\n",
      "\u001b[34m[2024-02-12:02:21:37:INFO] No GPUs detected (normal if no gpus installed)\u001b[0m\n",
      "\u001b[34m169.254.255.130 - - [12/Feb/2024:02:21:37 +0000] \"GET /execution-parameters HTTP/1.1\" 200 84 \"-\" \"Go-http-client/1.1\"\u001b[0m\n",
      "\u001b[35m[2024-02-12:02:21:37:INFO] No GPUs detected (normal if no gpus installed)\u001b[0m\n",
      "\u001b[35m169.254.255.130 - - [12/Feb/2024:02:21:37 +0000] \"GET /ping HTTP/1.1\" 200 0 \"-\" \"Go-http-client/1.1\"\u001b[0m\n",
      "\u001b[35m[2024-02-12:02:21:37:INFO] No GPUs detected (normal if no gpus installed)\u001b[0m\n",
      "\u001b[35m169.254.255.130 - - [12/Feb/2024:02:21:37 +0000] \"GET /execution-parameters HTTP/1.1\" 200 84 \"-\" \"Go-http-client/1.1\"\u001b[0m\n",
      "\u001b[34m[2024-02-12:02:21:37:INFO] No GPUs detected (normal if no gpus installed)\u001b[0m\n",
      "\u001b[34m[2024-02-12:02:21:37:INFO] Determined delimiter of CSV input is ','\u001b[0m\n",
      "\u001b[34m/miniconda3/lib/python3.8/site-packages/xgboost/core.py:122: UserWarning: ntree_limit is deprecated, use `iteration_range` or model slicing instead.\n",
      "  warnings.warn(\u001b[0m\n",
      "\u001b[34m169.254.255.130 - - [12/Feb/2024:02:21:37 +0000] \"POST /invocations HTTP/1.1\" 200 19408 \"-\" \"Go-http-client/1.1\"\u001b[0m\n",
      "\u001b[35m[2024-02-12:02:21:37:INFO] No GPUs detected (normal if no gpus installed)\u001b[0m\n",
      "\u001b[35m[2024-02-12:02:21:37:INFO] Determined delimiter of CSV input is ','\u001b[0m\n",
      "\u001b[35m/miniconda3/lib/python3.8/site-packages/xgboost/core.py:122: UserWarning: ntree_limit is deprecated, use `iteration_range` or model slicing instead.\n",
      "  warnings.warn(\u001b[0m\n",
      "\u001b[35m169.254.255.130 - - [12/Feb/2024:02:21:37 +0000] \"POST /invocations HTTP/1.1\" 200 19408 \"-\" \"Go-http-client/1.1\"\u001b[0m\n",
      "\u001b[32m2024-02-12T02:21:37.810:[sagemaker logs]: MaxConcurrentTransforms=4, MaxPayloadInMB=6, BatchStrategy=MULTI_RECORD\u001b[0m\n"
     ]
    }
   ],
   "source": [
    "sm_transformer = sm_estimator.transformer(1, \"ml.m4.xlarge\")\n",
    "\n",
    "sm_transformer.assemble_with = \"Line\"\n",
    "sm_transformer.accept = \"text/csv\"\n",
    "\n",
    "batch_file = \"batch_data.csv\"\n",
    "# start a transform job\n",
    "input_location = \"s3://{}/{}/batch/{}\".format(\n",
    "    bucket, prefix, batch_file\n",
    ")\n",
    "\n",
    "sm_transformer.transform(\n",
    "    input_location,\n",
    "    split_type=\"Line\",\n",
    "    content_type=\"text/csv\",\n",
    "    input_filter=\"$[1:]\", # input_filter will filter out CustomerId\n",
    "    join_source=\"Input\",\n",
    "    output_filter=\"$[0,-1]\",\n",
    ")\n",
    "sm_transformer.wait()"
   ]
  },
  {
   "cell_type": "code",
   "execution_count": 14,
   "id": "7f0eaeb8-60a7-4db8-a524-c092e465f24b",
   "metadata": {
    "tags": []
   },
   "outputs": [
    {
     "data": {
      "text/html": [
       "<div>\n",
       "<style scoped>\n",
       "    .dataframe tbody tr th:only-of-type {\n",
       "        vertical-align: middle;\n",
       "    }\n",
       "\n",
       "    .dataframe tbody tr th {\n",
       "        vertical-align: top;\n",
       "    }\n",
       "\n",
       "    .dataframe thead th {\n",
       "        text-align: right;\n",
       "    }\n",
       "</style>\n",
       "<table border=\"1\" class=\"dataframe\">\n",
       "  <thead>\n",
       "    <tr style=\"text-align: right;\">\n",
       "      <th></th>\n",
       "      <th>0</th>\n",
       "      <th>1</th>\n",
       "    </tr>\n",
       "  </thead>\n",
       "  <tbody>\n",
       "    <tr>\n",
       "      <th>0</th>\n",
       "      <td>15731026</td>\n",
       "      <td>0.384791</td>\n",
       "    </tr>\n",
       "    <tr>\n",
       "      <th>1</th>\n",
       "      <td>15792565</td>\n",
       "      <td>0.315646</td>\n",
       "    </tr>\n",
       "    <tr>\n",
       "      <th>2</th>\n",
       "      <td>15710316</td>\n",
       "      <td>0.671300</td>\n",
       "    </tr>\n",
       "    <tr>\n",
       "      <th>3</th>\n",
       "      <td>15781347</td>\n",
       "      <td>0.138538</td>\n",
       "    </tr>\n",
       "    <tr>\n",
       "      <th>4</th>\n",
       "      <td>15694859</td>\n",
       "      <td>0.239430</td>\n",
       "    </tr>\n",
       "    <tr>\n",
       "      <th>5</th>\n",
       "      <td>15739194</td>\n",
       "      <td>0.278520</td>\n",
       "    </tr>\n",
       "    <tr>\n",
       "      <th>6</th>\n",
       "      <td>15723894</td>\n",
       "      <td>0.695615</td>\n",
       "    </tr>\n",
       "    <tr>\n",
       "      <th>7</th>\n",
       "      <td>15652527</td>\n",
       "      <td>0.433185</td>\n",
       "    </tr>\n",
       "  </tbody>\n",
       "</table>\n",
       "</div>"
      ],
      "text/plain": [
       "          0         1\n",
       "0  15731026  0.384791\n",
       "1  15792565  0.315646\n",
       "2  15710316  0.671300\n",
       "3  15781347  0.138538\n",
       "4  15694859  0.239430\n",
       "5  15739194  0.278520\n",
       "6  15723894  0.695615\n",
       "7  15652527  0.433185"
      ]
     },
     "execution_count": 14,
     "metadata": {},
     "output_type": "execute_result"
    }
   ],
   "source": [
    "def get_csv_output_from_s3(s3uri, batch_file):\n",
    "    file_name = \"{}.out\".format(batch_file)\n",
    "    match = re.match(\"s3://([^/]+)/(.*)\", \"{}/{}\".format(s3uri, file_name))\n",
    "    output_bucket, output_prefix = match.group(1), match.group(2)\n",
    "    s3.download_file(output_bucket, output_prefix, file_name)\n",
    "    return pd.read_csv(file_name, sep=\",\", header=None)\n",
    "\n",
    "output_df = get_csv_output_from_s3(sm_transformer.output_path, batch_file)\n",
    "output_df.head(8)"
   ]
  },
  {
   "cell_type": "code",
   "execution_count": 15,
   "id": "f1ac71c4-6e2f-4c69-985e-fc01662924d0",
   "metadata": {
    "tags": []
   },
   "outputs": [
    {
     "name": "stdout",
     "output_type": "stream",
     "text": [
      "sagemaker.config INFO - Not applying SDK defaults from location: /etc/xdg/sagemaker/config.yaml\n",
      "sagemaker.config INFO - Not applying SDK defaults from location: /root/.config/sagemaker/config.yaml\n"
     ]
    }
   ],
   "source": [
    "from sagemaker.model_monitor import DataCaptureConfig, ModelQualityMonitor\n",
    "\n",
    "data_capture_config = DataCaptureConfig(\n",
    "    enable_capture=True, sampling_percentage=100, destination_s3_uri=s3_capture_upload_path\n",
    ")\n"
   ]
  },
  {
   "cell_type": "code",
   "execution_count": 16,
   "id": "2e4ac268-978d-476a-8004-085e14ba0fc2",
   "metadata": {
    "tags": []
   },
   "outputs": [
    {
     "name": "stderr",
     "output_type": "stream",
     "text": [
      "INFO:sagemaker:Creating model with name: sagemaker-xgboost-2024-02-12-02-22-18-678\n"
     ]
    },
    {
     "name": "stdout",
     "output_type": "stream",
     "text": [
      "EndpointName = DEMO-xgb-churn-model-quality-monitor-2024-02-12-0222\n"
     ]
    },
    {
     "name": "stderr",
     "output_type": "stream",
     "text": [
      "INFO:sagemaker:Creating endpoint-config with name DEMO-xgb-churn-model-quality-monitor-2024-02-12-0222\n",
      "INFO:sagemaker:Creating endpoint with name DEMO-xgb-churn-model-quality-monitor-2024-02-12-0222\n"
     ]
    },
    {
     "name": "stdout",
     "output_type": "stream",
     "text": [
      "-------!"
     ]
    }
   ],
   "source": [
    "# Deploy the model with data capture enabled\n",
    "endpoint_name = f\"DEMO-xgb-churn-model-quality-monitor-{strftime('%Y-%m-%d-%H%M', gmtime())}\"\n",
    "print(\"EndpointName =\", endpoint_name)\n",
    "\n",
    "predictor = sm_estimator.deploy(\n",
    "    initial_instance_count=1,\n",
    "    instance_type=\"ml.m4.xlarge\",\n",
    "    endpoint_name=endpoint_name,\n",
    "    data_capture_config=data_capture_config,\n",
    ")"
   ]
  },
  {
   "cell_type": "code",
   "execution_count": 17,
   "id": "86921eca-1ba6-474e-a2d7-c88bbe670ef2",
   "metadata": {
    "tags": []
   },
   "outputs": [],
   "source": [
    "churn_cutoff = 0.8\n",
    "validate_dataset = \"data/validation_with_predictions.csv\""
   ]
  },
  {
   "cell_type": "code",
   "execution_count": 19,
   "id": "4eb53610-c132-4c29-9dcc-0c8500d9a671",
   "metadata": {
    "tags": []
   },
   "outputs": [],
   "source": [
    "from sagemaker.predictor import Predictor\n",
    "# Create a new predictor with CSV serialization\n",
    "predictor = Predictor(endpoint_name=endpoint_name, sagemaker_session=sess, serializer=CSVSerializer())\n",
    "\n",
    "# Get predictions for the validation dataset\n",
    "validation_predictions = predictor.predict(X_val.values).decode('utf-8').splitlines()\n",
    "validation_predictions = [float(pred) for pred in validation_predictions]\n",
    "\n",
    "# Define churn cutoff\n",
    "churn_cutoff = 0.5\n",
    "\n",
    "# Convert probabilities to predictions\n",
    "predictions = [\"1\" if prob > churn_cutoff else \"0\" for prob in validation_predictions]\n",
    "\n",
    "# Create DataFrame with probabilities, predictions, and labels\n",
    "validation_with_predictions = pd.DataFrame({\n",
    "    'Probability': validation_predictions,\n",
    "    'Prediction': predictions,\n",
    "    'Label': y_val.values\n",
    "})\n",
    "\n",
    "# Save the combined dataset as a CSV file\n",
    "validation_with_predictions.to_csv('data/validation_with_predictions.csv', index=False)\n",
    "\n",
    "# Upload the CSV file to S3\n",
    "s3.upload_file('data/validation_with_predictions.csv', bucket, f'{prefix}/validation_with_predictions.csv')\n"
   ]
  },
  {
   "cell_type": "code",
   "execution_count": 20,
   "id": "2d2e475d-ad48-4e0c-a447-3e8123ff1fd5",
   "metadata": {
    "tags": []
   },
   "outputs": [
    {
     "name": "stdout",
     "output_type": "stream",
     "text": [
      "Probability,Prediction,Label\n",
      "0.15247513353824615,0,0\n",
      "0.43318507075309753,0,0\n",
      "0.20321618020534515,0,0\n",
      "0.4795875549316406,0,1\n",
      "0.06598174571990967,0,0\n",
      "0.7391445636749268,1,1\n",
      "0.23541228473186493,0,0\n",
      "0.5962241291999817,1,1\n",
      "0.44513195753097534,0,1\n"
     ]
    }
   ],
   "source": [
    "!head data/validation_with_predictions.csv"
   ]
  },
  {
   "cell_type": "code",
   "execution_count": 21,
   "id": "760c9160-25be-4a42-8ad4-0a1bc35ada87",
   "metadata": {
    "tags": []
   },
   "outputs": [
    {
     "name": "stdout",
     "output_type": "stream",
     "text": [
      "Baseline data uri: s3://sagemaker-us-east-1-994366592132/sagemaker/Churn-ModelQualityMonitor-20201201/baselining/data\n",
      "Baseline results uri: s3://sagemaker-us-east-1-994366592132/sagemaker/Churn-ModelQualityMonitor-20201201/baselining/results\n"
     ]
    }
   ],
   "source": [
    "baseline_prefix = prefix + \"/baselining\"\n",
    "baseline_data_prefix = baseline_prefix + \"/data\"\n",
    "baseline_results_prefix = baseline_prefix + \"/results\"\n",
    "\n",
    "baseline_data_uri = f\"s3://{bucket}/{baseline_data_prefix}\"\n",
    "baseline_results_uri = f\"s3://{bucket}/{baseline_results_prefix}\"\n",
    "print(f\"Baseline data uri: {baseline_data_uri}\")\n",
    "print(f\"Baseline results uri: {baseline_results_uri}\")"
   ]
  },
  {
   "cell_type": "code",
   "execution_count": 22,
   "id": "7323f85c-7bc5-485e-b6a5-ea135c0dc952",
   "metadata": {
    "tags": []
   },
   "outputs": [
    {
     "name": "stdout",
     "output_type": "stream",
     "text": [
      "sagemaker.config INFO - Not applying SDK defaults from location: /etc/xdg/sagemaker/config.yaml\n",
      "sagemaker.config INFO - Not applying SDK defaults from location: /root/.config/sagemaker/config.yaml\n"
     ]
    },
    {
     "data": {
      "text/plain": [
       "'s3://sagemaker-us-east-1-994366592132/sagemaker/Churn-ModelQualityMonitor-20201201/baselining/data/validation_with_predictions.csv'"
      ]
     },
     "execution_count": 22,
     "metadata": {},
     "output_type": "execute_result"
    }
   ],
   "source": [
    "baseline_dataset_uri = S3Uploader.upload(f\"{validate_dataset}\", baseline_data_uri)\n",
    "baseline_dataset_uri"
   ]
  },
  {
   "cell_type": "code",
   "execution_count": 23,
   "id": "0fa56d28-1f92-4233-af16-e010d349d992",
   "metadata": {
    "tags": []
   },
   "outputs": [],
   "source": [
    "from sagemaker.model_monitor import ModelQualityMonitor\n",
    "from sagemaker.model_monitor import EndpointInput\n",
    "from sagemaker.model_monitor.dataset_format import DatasetFormat"
   ]
  },
  {
   "cell_type": "code",
   "execution_count": 24,
   "id": "1784823b-7302-447d-afeb-0e2820838081",
   "metadata": {},
   "outputs": [
    {
     "name": "stderr",
     "output_type": "stream",
     "text": [
      "INFO:sagemaker.image_uris:Defaulting to the only supported framework/algorithm version: .\n",
      "INFO:sagemaker.image_uris:Ignoring unnecessary instance type: None.\n"
     ]
    }
   ],
   "source": [
    "# Create the model quality monitoring object\n",
    "churn_model_quality_monitor = ModelQualityMonitor(\n",
    "    role=role,\n",
    "    instance_count=1,\n",
    "    instance_type=\"ml.m5.xlarge\",\n",
    "    volume_size_in_gb=20,\n",
    "    max_runtime_in_seconds=1800,\n",
    "    sagemaker_session=sess,\n",
    ")"
   ]
  },
  {
   "cell_type": "code",
   "execution_count": 25,
   "id": "6cd21ff2-5795-424a-a344-f4ba4d10aa6c",
   "metadata": {},
   "outputs": [],
   "source": [
    "# Name of the model quality baseline job\n",
    "baseline_job_name = f\"DEMO-xgb-churn-model-baseline-job-{datetime.utcnow():%Y-%m-%d-%H%M}\""
   ]
  },
  {
   "cell_type": "code",
   "execution_count": 26,
   "id": "991bf77f-c359-46b7-ac5c-b0027247ba69",
   "metadata": {
    "tags": []
   },
   "outputs": [
    {
     "name": "stderr",
     "output_type": "stream",
     "text": [
      "INFO:sagemaker:Creating processing-job with name DEMO-xgb-churn-model-baseline-job-2024-02-12-0229\n"
     ]
    },
    {
     "name": "stdout",
     "output_type": "stream",
     "text": [
      ".......................................................................!"
     ]
    }
   ],
   "source": [
    "# Execute the baseline suggestion job.\n",
    "# You will specify problem type, in this case Binary Classification, and provide other required attributes.\n",
    "job = churn_model_quality_monitor.suggest_baseline(\n",
    "    job_name=baseline_job_name,\n",
    "    baseline_dataset=baseline_dataset_uri,\n",
    "    dataset_format=DatasetFormat.csv(header=True),\n",
    "    output_s3_uri=baseline_results_uri,\n",
    "    problem_type=\"BinaryClassification\",\n",
    "    inference_attribute=\"prediction\",\n",
    "    probability_attribute=\"probability\",\n",
    "    ground_truth_attribute=\"label\",\n",
    ")\n",
    "job.wait(logs=False)"
   ]
  },
  {
   "cell_type": "code",
   "execution_count": 27,
   "id": "6d1af356-d4ac-49c9-9e75-eb0b44fc9f6a",
   "metadata": {
    "tags": []
   },
   "outputs": [],
   "source": [
    "baseline_job = churn_model_quality_monitor.latest_baselining_job"
   ]
  },
  {
   "cell_type": "code",
   "execution_count": 28,
   "id": "5df2e90b-025b-420c-8f06-2caace689ef9",
   "metadata": {
    "tags": []
   },
   "outputs": [
    {
     "data": {
      "text/html": [
       "<div>\n",
       "<style scoped>\n",
       "    .dataframe tbody tr th:only-of-type {\n",
       "        vertical-align: middle;\n",
       "    }\n",
       "\n",
       "    .dataframe tbody tr th {\n",
       "        vertical-align: top;\n",
       "    }\n",
       "\n",
       "    .dataframe thead th {\n",
       "        text-align: right;\n",
       "    }\n",
       "</style>\n",
       "<table border=\"1\" class=\"dataframe\">\n",
       "  <thead>\n",
       "    <tr style=\"text-align: right;\">\n",
       "      <th></th>\n",
       "      <th>0</th>\n",
       "    </tr>\n",
       "  </thead>\n",
       "  <tbody>\n",
       "    <tr>\n",
       "      <th>confusion_matrix.0.0</th>\n",
       "      <td>634</td>\n",
       "    </tr>\n",
       "    <tr>\n",
       "      <th>confusion_matrix.0.1</th>\n",
       "      <td>130</td>\n",
       "    </tr>\n",
       "    <tr>\n",
       "      <th>confusion_matrix.1.0</th>\n",
       "      <td>61</td>\n",
       "    </tr>\n",
       "    <tr>\n",
       "      <th>confusion_matrix.1.1</th>\n",
       "      <td>175</td>\n",
       "    </tr>\n",
       "    <tr>\n",
       "      <th>recall.value</th>\n",
       "      <td>0.741525</td>\n",
       "    </tr>\n",
       "    <tr>\n",
       "      <th>recall.standard_deviation</th>\n",
       "      <td>0.007398</td>\n",
       "    </tr>\n",
       "    <tr>\n",
       "      <th>precision.value</th>\n",
       "      <td>0.57377</td>\n",
       "    </tr>\n",
       "    <tr>\n",
       "      <th>precision.standard_deviation</th>\n",
       "      <td>0.007252</td>\n",
       "    </tr>\n",
       "    <tr>\n",
       "      <th>accuracy.value</th>\n",
       "      <td>0.809</td>\n",
       "    </tr>\n",
       "    <tr>\n",
       "      <th>accuracy.standard_deviation</th>\n",
       "      <td>0.003123</td>\n",
       "    </tr>\n",
       "    <tr>\n",
       "      <th>recall_best_constant_classifier.value</th>\n",
       "      <td>0.0</td>\n",
       "    </tr>\n",
       "    <tr>\n",
       "      <th>recall_best_constant_classifier.standard_deviation</th>\n",
       "      <td>0.0</td>\n",
       "    </tr>\n",
       "    <tr>\n",
       "      <th>precision_best_constant_classifier.value</th>\n",
       "      <td>0.0</td>\n",
       "    </tr>\n",
       "    <tr>\n",
       "      <th>precision_best_constant_classifier.standard_deviation</th>\n",
       "      <td>0.0</td>\n",
       "    </tr>\n",
       "    <tr>\n",
       "      <th>accuracy_best_constant_classifier.value</th>\n",
       "      <td>0.764</td>\n",
       "    </tr>\n",
       "    <tr>\n",
       "      <th>accuracy_best_constant_classifier.standard_deviation</th>\n",
       "      <td>0.00495</td>\n",
       "    </tr>\n",
       "    <tr>\n",
       "      <th>true_positive_rate.value</th>\n",
       "      <td>0.741525</td>\n",
       "    </tr>\n",
       "    <tr>\n",
       "      <th>true_positive_rate.standard_deviation</th>\n",
       "      <td>0.007398</td>\n",
       "    </tr>\n",
       "    <tr>\n",
       "      <th>true_negative_rate.value</th>\n",
       "      <td>0.829843</td>\n",
       "    </tr>\n",
       "    <tr>\n",
       "      <th>true_negative_rate.standard_deviation</th>\n",
       "      <td>0.003183</td>\n",
       "    </tr>\n",
       "    <tr>\n",
       "      <th>false_positive_rate.value</th>\n",
       "      <td>0.170157</td>\n",
       "    </tr>\n",
       "    <tr>\n",
       "      <th>false_positive_rate.standard_deviation</th>\n",
       "      <td>0.003183</td>\n",
       "    </tr>\n",
       "    <tr>\n",
       "      <th>false_negative_rate.value</th>\n",
       "      <td>0.258475</td>\n",
       "    </tr>\n",
       "    <tr>\n",
       "      <th>false_negative_rate.standard_deviation</th>\n",
       "      <td>0.007398</td>\n",
       "    </tr>\n",
       "    <tr>\n",
       "      <th>receiver_operating_characteristic_curve.false_positive_rates</th>\n",
       "      <td>[0.0, 0.0, 0.0, 0.0, 0.0, 0.0, 0.0, 0.0, 0.0, ...</td>\n",
       "    </tr>\n",
       "    <tr>\n",
       "      <th>receiver_operating_characteristic_curve.true_positive_rates</th>\n",
       "      <td>[0.0, 0.00423728813559322, 0.00847457627118644...</td>\n",
       "    </tr>\n",
       "    <tr>\n",
       "      <th>precision_recall_curve.precisions</th>\n",
       "      <td>[1.0, 1.0, 1.0, 1.0, 1.0, 1.0, 1.0, 1.0, 1.0, ...</td>\n",
       "    </tr>\n",
       "    <tr>\n",
       "      <th>precision_recall_curve.recalls</th>\n",
       "      <td>[0.0, 0.00423728813559322, 0.00847457627118644...</td>\n",
       "    </tr>\n",
       "    <tr>\n",
       "      <th>auc.value</th>\n",
       "      <td>0.873073</td>\n",
       "    </tr>\n",
       "    <tr>\n",
       "      <th>auc.standard_deviation</th>\n",
       "      <td>0.002679</td>\n",
       "    </tr>\n",
       "    <tr>\n",
       "      <th>au_prc.value</th>\n",
       "      <td>0.71868</td>\n",
       "    </tr>\n",
       "    <tr>\n",
       "      <th>au_prc.standard_deviation</th>\n",
       "      <td>0.009668</td>\n",
       "    </tr>\n",
       "    <tr>\n",
       "      <th>f0_5.value</th>\n",
       "      <td>0.600962</td>\n",
       "    </tr>\n",
       "    <tr>\n",
       "      <th>f0_5.standard_deviation</th>\n",
       "      <td>0.006554</td>\n",
       "    </tr>\n",
       "    <tr>\n",
       "      <th>f1.value</th>\n",
       "      <td>0.64695</td>\n",
       "    </tr>\n",
       "    <tr>\n",
       "      <th>f1.standard_deviation</th>\n",
       "      <td>0.005682</td>\n",
       "    </tr>\n",
       "    <tr>\n",
       "      <th>f2.value</th>\n",
       "      <td>0.70056</td>\n",
       "    </tr>\n",
       "    <tr>\n",
       "      <th>f2.standard_deviation</th>\n",
       "      <td>0.005936</td>\n",
       "    </tr>\n",
       "    <tr>\n",
       "      <th>f0_5_best_constant_classifier.value</th>\n",
       "      <td>0.0</td>\n",
       "    </tr>\n",
       "    <tr>\n",
       "      <th>f0_5_best_constant_classifier.standard_deviation</th>\n",
       "      <td>0.0</td>\n",
       "    </tr>\n",
       "    <tr>\n",
       "      <th>f1_best_constant_classifier.value</th>\n",
       "      <td>0.0</td>\n",
       "    </tr>\n",
       "    <tr>\n",
       "      <th>f1_best_constant_classifier.standard_deviation</th>\n",
       "      <td>0.0</td>\n",
       "    </tr>\n",
       "    <tr>\n",
       "      <th>f2_best_constant_classifier.value</th>\n",
       "      <td>0.0</td>\n",
       "    </tr>\n",
       "    <tr>\n",
       "      <th>f2_best_constant_classifier.standard_deviation</th>\n",
       "      <td>0.0</td>\n",
       "    </tr>\n",
       "  </tbody>\n",
       "</table>\n",
       "</div>"
      ],
      "text/plain": [
       "                                                                                                    0\n",
       "confusion_matrix.0.0                                                                              634\n",
       "confusion_matrix.0.1                                                                              130\n",
       "confusion_matrix.1.0                                                                               61\n",
       "confusion_matrix.1.1                                                                              175\n",
       "recall.value                                                                                 0.741525\n",
       "recall.standard_deviation                                                                    0.007398\n",
       "precision.value                                                                               0.57377\n",
       "precision.standard_deviation                                                                 0.007252\n",
       "accuracy.value                                                                                  0.809\n",
       "accuracy.standard_deviation                                                                  0.003123\n",
       "recall_best_constant_classifier.value                                                             0.0\n",
       "recall_best_constant_classifier.standard_deviation                                                0.0\n",
       "precision_best_constant_classifier.value                                                          0.0\n",
       "precision_best_constant_classifier.standard_dev...                                                0.0\n",
       "accuracy_best_constant_classifier.value                                                         0.764\n",
       "accuracy_best_constant_classifier.standard_devi...                                            0.00495\n",
       "true_positive_rate.value                                                                     0.741525\n",
       "true_positive_rate.standard_deviation                                                        0.007398\n",
       "true_negative_rate.value                                                                     0.829843\n",
       "true_negative_rate.standard_deviation                                                        0.003183\n",
       "false_positive_rate.value                                                                    0.170157\n",
       "false_positive_rate.standard_deviation                                                       0.003183\n",
       "false_negative_rate.value                                                                    0.258475\n",
       "false_negative_rate.standard_deviation                                                       0.007398\n",
       "receiver_operating_characteristic_curve.false_p...  [0.0, 0.0, 0.0, 0.0, 0.0, 0.0, 0.0, 0.0, 0.0, ...\n",
       "receiver_operating_characteristic_curve.true_po...  [0.0, 0.00423728813559322, 0.00847457627118644...\n",
       "precision_recall_curve.precisions                   [1.0, 1.0, 1.0, 1.0, 1.0, 1.0, 1.0, 1.0, 1.0, ...\n",
       "precision_recall_curve.recalls                      [0.0, 0.00423728813559322, 0.00847457627118644...\n",
       "auc.value                                                                                    0.873073\n",
       "auc.standard_deviation                                                                       0.002679\n",
       "au_prc.value                                                                                  0.71868\n",
       "au_prc.standard_deviation                                                                    0.009668\n",
       "f0_5.value                                                                                   0.600962\n",
       "f0_5.standard_deviation                                                                      0.006554\n",
       "f1.value                                                                                      0.64695\n",
       "f1.standard_deviation                                                                        0.005682\n",
       "f2.value                                                                                      0.70056\n",
       "f2.standard_deviation                                                                        0.005936\n",
       "f0_5_best_constant_classifier.value                                                               0.0\n",
       "f0_5_best_constant_classifier.standard_deviation                                                  0.0\n",
       "f1_best_constant_classifier.value                                                                 0.0\n",
       "f1_best_constant_classifier.standard_deviation                                                    0.0\n",
       "f2_best_constant_classifier.value                                                                 0.0\n",
       "f2_best_constant_classifier.standard_deviation                                                    0.0"
      ]
     },
     "execution_count": 28,
     "metadata": {},
     "output_type": "execute_result"
    }
   ],
   "source": [
    "binary_metrics = baseline_job.baseline_statistics().body_dict[\"binary_classification_metrics\"]\n",
    "pd.json_normalize(binary_metrics).T"
   ]
  },
  {
   "cell_type": "code",
   "execution_count": 29,
   "id": "3f6f1af6-b007-451c-8cc3-e8a17d48d530",
   "metadata": {
    "tags": []
   },
   "outputs": [
    {
     "data": {
      "text/html": [
       "<div>\n",
       "<style scoped>\n",
       "    .dataframe tbody tr th:only-of-type {\n",
       "        vertical-align: middle;\n",
       "    }\n",
       "\n",
       "    .dataframe tbody tr th {\n",
       "        vertical-align: top;\n",
       "    }\n",
       "\n",
       "    .dataframe thead th {\n",
       "        text-align: right;\n",
       "    }\n",
       "</style>\n",
       "<table border=\"1\" class=\"dataframe\">\n",
       "  <thead>\n",
       "    <tr style=\"text-align: right;\">\n",
       "      <th></th>\n",
       "      <th>threshold</th>\n",
       "      <th>comparison_operator</th>\n",
       "    </tr>\n",
       "  </thead>\n",
       "  <tbody>\n",
       "    <tr>\n",
       "      <th>recall</th>\n",
       "      <td>0.741525</td>\n",
       "      <td>LessThanThreshold</td>\n",
       "    </tr>\n",
       "    <tr>\n",
       "      <th>precision</th>\n",
       "      <td>0.57377</td>\n",
       "      <td>LessThanThreshold</td>\n",
       "    </tr>\n",
       "    <tr>\n",
       "      <th>accuracy</th>\n",
       "      <td>0.809</td>\n",
       "      <td>LessThanThreshold</td>\n",
       "    </tr>\n",
       "    <tr>\n",
       "      <th>true_positive_rate</th>\n",
       "      <td>0.741525</td>\n",
       "      <td>LessThanThreshold</td>\n",
       "    </tr>\n",
       "    <tr>\n",
       "      <th>true_negative_rate</th>\n",
       "      <td>0.829843</td>\n",
       "      <td>LessThanThreshold</td>\n",
       "    </tr>\n",
       "    <tr>\n",
       "      <th>false_positive_rate</th>\n",
       "      <td>0.170157</td>\n",
       "      <td>GreaterThanThreshold</td>\n",
       "    </tr>\n",
       "    <tr>\n",
       "      <th>false_negative_rate</th>\n",
       "      <td>0.258475</td>\n",
       "      <td>GreaterThanThreshold</td>\n",
       "    </tr>\n",
       "    <tr>\n",
       "      <th>auc</th>\n",
       "      <td>0.873073</td>\n",
       "      <td>LessThanThreshold</td>\n",
       "    </tr>\n",
       "    <tr>\n",
       "      <th>f0_5</th>\n",
       "      <td>0.600962</td>\n",
       "      <td>LessThanThreshold</td>\n",
       "    </tr>\n",
       "    <tr>\n",
       "      <th>f1</th>\n",
       "      <td>0.64695</td>\n",
       "      <td>LessThanThreshold</td>\n",
       "    </tr>\n",
       "    <tr>\n",
       "      <th>f2</th>\n",
       "      <td>0.70056</td>\n",
       "      <td>LessThanThreshold</td>\n",
       "    </tr>\n",
       "  </tbody>\n",
       "</table>\n",
       "</div>"
      ],
      "text/plain": [
       "                    threshold   comparison_operator\n",
       "recall               0.741525     LessThanThreshold\n",
       "precision             0.57377     LessThanThreshold\n",
       "accuracy                0.809     LessThanThreshold\n",
       "true_positive_rate   0.741525     LessThanThreshold\n",
       "true_negative_rate   0.829843     LessThanThreshold\n",
       "false_positive_rate  0.170157  GreaterThanThreshold\n",
       "false_negative_rate  0.258475  GreaterThanThreshold\n",
       "auc                  0.873073     LessThanThreshold\n",
       "f0_5                 0.600962     LessThanThreshold\n",
       "f1                    0.64695     LessThanThreshold\n",
       "f2                    0.70056     LessThanThreshold"
      ]
     },
     "execution_count": 29,
     "metadata": {},
     "output_type": "execute_result"
    }
   ],
   "source": [
    "pd.DataFrame(baseline_job.suggested_constraints().body_dict[\"binary_classification_constraints\"]).T"
   ]
  },
  {
   "cell_type": "markdown",
   "id": "a6f68a85-fbbe-4fc6-a94a-defe51334fe7",
   "metadata": {},
   "source": [
    "#### 4.1 Generate prediction data for Model Quality  Monitoring\n",
    "\n",
    "Start generating some artificial traffic.  The cell below starts a thread to send some traffic to the endpoint. Note that you need to stop the kernel to terminate this thread. If there is no traffic, the monitoring jobs are marked as `Failed` since there is no data to process."
   ]
  },
  {
   "cell_type": "code",
   "execution_count": 30,
   "id": "236f14ed-2ba7-4997-a195-2573a82ee113",
   "metadata": {
    "tags": []
   },
   "outputs": [
    {
     "name": "stdout",
     "output_type": "stream",
     "text": [
      "15731026,683,39,2,100062.16,2,1,0,109201.43,0,1,0,1\n",
      "15792565,745,46,7,0.0,2,1,1,67769.94,1,0,0,1\n",
      "15710316,454,48,5,144837.79,1,1,1,93151.77,0,0,1,1\n",
      "15781347,600,41,1,0.0,2,1,1,91193.65,1,0,0,1\n",
      "15694859,751,28,10,132932.14,2,1,1,46630.47,0,1,0,1\n",
      "15739194,548,38,0,178056.54,2,1,0,38434.73,0,0,1,0\n",
      "15723894,625,45,7,137555.44,1,0,0,124607.7,1,0,0,0\n",
      "15652527,680,44,7,108724.98,1,0,1,72330.46,1,0,0,0\n",
      "15683483,812,38,3,127117.8,2,1,1,174822.74,0,0,1,0\n",
      "15605333,529,31,6,0.0,1,1,0,10625.91,0,0,1,0\n"
     ]
    }
   ],
   "source": [
    "!head data/batch_data.csv"
   ]
  },
  {
   "cell_type": "code",
   "execution_count": 31,
   "id": "354fc418-1c0a-4444-84b5-1bd96c91df2c",
   "metadata": {
    "tags": []
   },
   "outputs": [
    {
     "name": "stdout",
     "output_type": "stream",
     "text": [
      "0,543,36,3,0.0,2,0,0,26019.59,1,0,0,1\n",
      "0,668,43,10,113034.31,1,1,1,100423.88,0,0,1,0\n",
      "0,523,36,8,158351.02,2,1,0,155304.53,1,0,0,0\n",
      "1,650,30,6,0.0,1,0,0,67997.13,0,0,1,1\n",
      "0,662,32,9,0.0,2,0,0,65089.38,1,0,0,0\n",
      "1,767,45,7,132746.2,2,1,0,26628.88,0,1,0,1\n",
      "0,741,44,7,0.0,2,1,1,190534.76,1,0,0,1\n",
      "1,742,28,2,191864.51,1,1,0,108457.99,1,0,0,1\n",
      "1,658,40,7,140596.95,1,0,1,135459.02,1,0,0,1\n",
      "1,640,63,2,68432.45,2,1,1,112503.24,1,0,0,0\n"
     ]
    }
   ],
   "source": [
    "!head data/validation_data.csv"
   ]
  },
  {
   "cell_type": "code",
   "execution_count": 32,
   "id": "b275158f-204a-4d91-aaa3-fd222b071772",
   "metadata": {
    "tags": []
   },
   "outputs": [
    {
     "name": "stdout",
     "output_type": "stream",
     "text": [
      "0,628,29,3,113146.98,2,0,1,124749.08,0,1,0,0\n",
      "0,626,29,4,105767.28,2,0,0,41104.82,1,0,0,1\n",
      "1,612,47,6,130024.87,1,1,1,45750.21,0,1,0,1\n",
      "0,646,52,6,111739.4,2,0,1,68367.18,0,1,0,1\n",
      "0,714,33,8,122017.19,1,0,0,162515.17,0,0,1,0\n",
      "0,696,40,3,153639.11,1,1,1,138351.68,0,0,1,0\n",
      "0,772,36,3,112029.83,1,1,1,186948.35,0,0,1,0\n",
      "0,691,38,9,163965.69,2,0,1,103511.26,0,1,0,0\n",
      "1,707,35,3,56674.48,1,1,0,17987.4,0,0,1,1\n",
      "0,679,39,7,91187.9,1,0,1,6075.36,0,0,1,1\n"
     ]
    }
   ],
   "source": [
    "!head data/train_data.csv"
   ]
  },
  {
   "cell_type": "code",
   "execution_count": 33,
   "id": "e4d2fc35-a9e8-4930-9a5f-92829763dcdc",
   "metadata": {
    "tags": []
   },
   "outputs": [],
   "source": [
    "def invoke_endpoint(ep_name, file_name):\n",
    "    with open(file_name, \"r\") as f:\n",
    "        i = 0\n",
    "        for row in f:\n",
    "            # Skip the first column and get the rest of the row\n",
    "            payload = \",\".join(row.rstrip(\"\\n\").split(\",\")[1:])\n",
    "            response = sess.sagemaker_runtime_client.invoke_endpoint(\n",
    "                EndpointName=endpoint_name,\n",
    "                ContentType=\"text/csv\",\n",
    "                Body=payload,\n",
    "                InferenceId=str(i),  # unique ID per row\n",
    "            )[\"Body\"].read()\n",
    "            i += 1\n",
    "            sleep(1)\n",
    "\n",
    "\n",
    "def invoke_endpoint_forever():\n",
    "    while True:\n",
    "        try:\n",
    "            invoke_endpoint(endpoint_name, \"data/batch_data.csv\")\n",
    "        except sess.sagemaker_runtime_client.exceptions.ValidationError:\n",
    "            pass\n",
    "\n",
    "\n",
    "thread = Thread(target=invoke_endpoint_forever)\n",
    "thread.start()\n"
   ]
  },
  {
   "cell_type": "code",
   "execution_count": 34,
   "id": "b55289e1-f2cd-4510-bec6-e55ffa08f311",
   "metadata": {
    "tags": []
   },
   "outputs": [
    {
     "name": "stdout",
     "output_type": "stream",
     "text": [
      "Waiting for captures to show upsagemaker.config INFO - Not applying SDK defaults from location: /etc/xdg/sagemaker/config.yaml\n",
      "sagemaker.config INFO - Not applying SDK defaults from location: /root/.config/sagemaker/config.yaml\n",
      "sagemaker.config INFO - Not applying SDK defaults from location: /etc/xdg/sagemaker/config.yaml\n",
      "sagemaker.config INFO - Not applying SDK defaults from location: /root/.config/sagemaker/config.yaml\n",
      ".sagemaker.config INFO - Not applying SDK defaults from location: /etc/xdg/sagemaker/config.yaml\n",
      "sagemaker.config INFO - Not applying SDK defaults from location: /root/.config/sagemaker/config.yaml\n",
      "sagemaker.config INFO - Not applying SDK defaults from location: /etc/xdg/sagemaker/config.yaml\n",
      "sagemaker.config INFO - Not applying SDK defaults from location: /root/.config/sagemaker/config.yaml\n",
      ".sagemaker.config INFO - Not applying SDK defaults from location: /etc/xdg/sagemaker/config.yaml\n",
      "sagemaker.config INFO - Not applying SDK defaults from location: /root/.config/sagemaker/config.yaml\n",
      "sagemaker.config INFO - Not applying SDK defaults from location: /etc/xdg/sagemaker/config.yaml\n",
      "sagemaker.config INFO - Not applying SDK defaults from location: /root/.config/sagemaker/config.yaml\n",
      ".sagemaker.config INFO - Not applying SDK defaults from location: /etc/xdg/sagemaker/config.yaml\n",
      "sagemaker.config INFO - Not applying SDK defaults from location: /root/.config/sagemaker/config.yaml\n",
      "sagemaker.config INFO - Not applying SDK defaults from location: /etc/xdg/sagemaker/config.yaml\n",
      "sagemaker.config INFO - Not applying SDK defaults from location: /root/.config/sagemaker/config.yaml\n",
      ".sagemaker.config INFO - Not applying SDK defaults from location: /etc/xdg/sagemaker/config.yaml\n",
      "sagemaker.config INFO - Not applying SDK defaults from location: /root/.config/sagemaker/config.yaml\n",
      "sagemaker.config INFO - Not applying SDK defaults from location: /etc/xdg/sagemaker/config.yaml\n",
      "sagemaker.config INFO - Not applying SDK defaults from location: /root/.config/sagemaker/config.yaml\n",
      ".sagemaker.config INFO - Not applying SDK defaults from location: /etc/xdg/sagemaker/config.yaml\n",
      "sagemaker.config INFO - Not applying SDK defaults from location: /root/.config/sagemaker/config.yaml\n",
      "sagemaker.config INFO - Not applying SDK defaults from location: /etc/xdg/sagemaker/config.yaml\n",
      "sagemaker.config INFO - Not applying SDK defaults from location: /root/.config/sagemaker/config.yaml\n",
      ".sagemaker.config INFO - Not applying SDK defaults from location: /etc/xdg/sagemaker/config.yaml\n",
      "sagemaker.config INFO - Not applying SDK defaults from location: /root/.config/sagemaker/config.yaml\n",
      "sagemaker.config INFO - Not applying SDK defaults from location: /etc/xdg/sagemaker/config.yaml\n",
      "sagemaker.config INFO - Not applying SDK defaults from location: /root/.config/sagemaker/config.yaml\n",
      ".sagemaker.config INFO - Not applying SDK defaults from location: /etc/xdg/sagemaker/config.yaml\n",
      "sagemaker.config INFO - Not applying SDK defaults from location: /root/.config/sagemaker/config.yaml\n",
      "sagemaker.config INFO - Not applying SDK defaults from location: /etc/xdg/sagemaker/config.yaml\n",
      "sagemaker.config INFO - Not applying SDK defaults from location: /root/.config/sagemaker/config.yaml\n",
      ".sagemaker.config INFO - Not applying SDK defaults from location: /etc/xdg/sagemaker/config.yaml\n",
      "sagemaker.config INFO - Not applying SDK defaults from location: /root/.config/sagemaker/config.yaml\n",
      "sagemaker.config INFO - Not applying SDK defaults from location: /etc/xdg/sagemaker/config.yaml\n",
      "sagemaker.config INFO - Not applying SDK defaults from location: /root/.config/sagemaker/config.yaml\n",
      ".sagemaker.config INFO - Not applying SDK defaults from location: /etc/xdg/sagemaker/config.yaml\n",
      "sagemaker.config INFO - Not applying SDK defaults from location: /root/.config/sagemaker/config.yaml\n",
      "sagemaker.config INFO - Not applying SDK defaults from location: /etc/xdg/sagemaker/config.yaml\n",
      "sagemaker.config INFO - Not applying SDK defaults from location: /root/.config/sagemaker/config.yaml\n",
      ".sagemaker.config INFO - Not applying SDK defaults from location: /etc/xdg/sagemaker/config.yaml\n",
      "sagemaker.config INFO - Not applying SDK defaults from location: /root/.config/sagemaker/config.yaml\n",
      "sagemaker.config INFO - Not applying SDK defaults from location: /etc/xdg/sagemaker/config.yaml\n",
      "sagemaker.config INFO - Not applying SDK defaults from location: /root/.config/sagemaker/config.yaml\n",
      ".sagemaker.config INFO - Not applying SDK defaults from location: /etc/xdg/sagemaker/config.yaml\n",
      "sagemaker.config INFO - Not applying SDK defaults from location: /root/.config/sagemaker/config.yaml\n",
      "sagemaker.config INFO - Not applying SDK defaults from location: /etc/xdg/sagemaker/config.yaml\n",
      "sagemaker.config INFO - Not applying SDK defaults from location: /root/.config/sagemaker/config.yaml\n",
      ".sagemaker.config INFO - Not applying SDK defaults from location: /etc/xdg/sagemaker/config.yaml\n",
      "sagemaker.config INFO - Not applying SDK defaults from location: /root/.config/sagemaker/config.yaml\n",
      "sagemaker.config INFO - Not applying SDK defaults from location: /etc/xdg/sagemaker/config.yaml\n",
      "sagemaker.config INFO - Not applying SDK defaults from location: /root/.config/sagemaker/config.yaml\n",
      ".sagemaker.config INFO - Not applying SDK defaults from location: /etc/xdg/sagemaker/config.yaml\n",
      "sagemaker.config INFO - Not applying SDK defaults from location: /root/.config/sagemaker/config.yaml\n",
      "sagemaker.config INFO - Not applying SDK defaults from location: /etc/xdg/sagemaker/config.yaml\n",
      "sagemaker.config INFO - Not applying SDK defaults from location: /root/.config/sagemaker/config.yaml\n",
      ".sagemaker.config INFO - Not applying SDK defaults from location: /etc/xdg/sagemaker/config.yaml\n",
      "sagemaker.config INFO - Not applying SDK defaults from location: /root/.config/sagemaker/config.yaml\n",
      "sagemaker.config INFO - Not applying SDK defaults from location: /etc/xdg/sagemaker/config.yaml\n",
      "sagemaker.config INFO - Not applying SDK defaults from location: /root/.config/sagemaker/config.yaml\n",
      ".sagemaker.config INFO - Not applying SDK defaults from location: /etc/xdg/sagemaker/config.yaml\n",
      "sagemaker.config INFO - Not applying SDK defaults from location: /root/.config/sagemaker/config.yaml\n",
      "sagemaker.config INFO - Not applying SDK defaults from location: /etc/xdg/sagemaker/config.yaml\n",
      "sagemaker.config INFO - Not applying SDK defaults from location: /root/.config/sagemaker/config.yaml\n",
      ".sagemaker.config INFO - Not applying SDK defaults from location: /etc/xdg/sagemaker/config.yaml\n",
      "sagemaker.config INFO - Not applying SDK defaults from location: /root/.config/sagemaker/config.yaml\n",
      "sagemaker.config INFO - Not applying SDK defaults from location: /etc/xdg/sagemaker/config.yaml\n",
      "sagemaker.config INFO - Not applying SDK defaults from location: /root/.config/sagemaker/config.yaml\n",
      ".sagemaker.config INFO - Not applying SDK defaults from location: /etc/xdg/sagemaker/config.yaml\n",
      "sagemaker.config INFO - Not applying SDK defaults from location: /root/.config/sagemaker/config.yaml\n",
      "sagemaker.config INFO - Not applying SDK defaults from location: /etc/xdg/sagemaker/config.yaml\n",
      "sagemaker.config INFO - Not applying SDK defaults from location: /root/.config/sagemaker/config.yaml\n",
      ".sagemaker.config INFO - Not applying SDK defaults from location: /etc/xdg/sagemaker/config.yaml\n",
      "sagemaker.config INFO - Not applying SDK defaults from location: /root/.config/sagemaker/config.yaml\n",
      "sagemaker.config INFO - Not applying SDK defaults from location: /etc/xdg/sagemaker/config.yaml\n",
      "sagemaker.config INFO - Not applying SDK defaults from location: /root/.config/sagemaker/config.yaml\n",
      ".sagemaker.config INFO - Not applying SDK defaults from location: /etc/xdg/sagemaker/config.yaml\n",
      "sagemaker.config INFO - Not applying SDK defaults from location: /root/.config/sagemaker/config.yaml\n",
      "sagemaker.config INFO - Not applying SDK defaults from location: /etc/xdg/sagemaker/config.yaml\n",
      "sagemaker.config INFO - Not applying SDK defaults from location: /root/.config/sagemaker/config.yaml\n",
      ".sagemaker.config INFO - Not applying SDK defaults from location: /etc/xdg/sagemaker/config.yaml\n",
      "sagemaker.config INFO - Not applying SDK defaults from location: /root/.config/sagemaker/config.yaml\n",
      "sagemaker.config INFO - Not applying SDK defaults from location: /etc/xdg/sagemaker/config.yaml\n",
      "sagemaker.config INFO - Not applying SDK defaults from location: /root/.config/sagemaker/config.yaml\n",
      ".sagemaker.config INFO - Not applying SDK defaults from location: /etc/xdg/sagemaker/config.yaml\n",
      "sagemaker.config INFO - Not applying SDK defaults from location: /root/.config/sagemaker/config.yaml\n",
      "sagemaker.config INFO - Not applying SDK defaults from location: /etc/xdg/sagemaker/config.yaml\n",
      "sagemaker.config INFO - Not applying SDK defaults from location: /root/.config/sagemaker/config.yaml\n",
      ".sagemaker.config INFO - Not applying SDK defaults from location: /etc/xdg/sagemaker/config.yaml\n",
      "sagemaker.config INFO - Not applying SDK defaults from location: /root/.config/sagemaker/config.yaml\n",
      "sagemaker.config INFO - Not applying SDK defaults from location: /etc/xdg/sagemaker/config.yaml\n",
      "sagemaker.config INFO - Not applying SDK defaults from location: /root/.config/sagemaker/config.yaml\n",
      ".sagemaker.config INFO - Not applying SDK defaults from location: /etc/xdg/sagemaker/config.yaml\n",
      "sagemaker.config INFO - Not applying SDK defaults from location: /root/.config/sagemaker/config.yaml\n",
      "sagemaker.config INFO - Not applying SDK defaults from location: /etc/xdg/sagemaker/config.yaml\n",
      "sagemaker.config INFO - Not applying SDK defaults from location: /root/.config/sagemaker/config.yaml\n",
      ".sagemaker.config INFO - Not applying SDK defaults from location: /etc/xdg/sagemaker/config.yaml\n",
      "sagemaker.config INFO - Not applying SDK defaults from location: /root/.config/sagemaker/config.yaml\n",
      "sagemaker.config INFO - Not applying SDK defaults from location: /etc/xdg/sagemaker/config.yaml\n",
      "sagemaker.config INFO - Not applying SDK defaults from location: /root/.config/sagemaker/config.yaml\n",
      ".sagemaker.config INFO - Not applying SDK defaults from location: /etc/xdg/sagemaker/config.yaml\n",
      "sagemaker.config INFO - Not applying SDK defaults from location: /root/.config/sagemaker/config.yaml\n",
      "sagemaker.config INFO - Not applying SDK defaults from location: /etc/xdg/sagemaker/config.yaml\n",
      "sagemaker.config INFO - Not applying SDK defaults from location: /root/.config/sagemaker/config.yaml\n",
      ".sagemaker.config INFO - Not applying SDK defaults from location: /etc/xdg/sagemaker/config.yaml\n",
      "sagemaker.config INFO - Not applying SDK defaults from location: /root/.config/sagemaker/config.yaml\n",
      "sagemaker.config INFO - Not applying SDK defaults from location: /etc/xdg/sagemaker/config.yaml\n",
      "sagemaker.config INFO - Not applying SDK defaults from location: /root/.config/sagemaker/config.yaml\n",
      ".sagemaker.config INFO - Not applying SDK defaults from location: /etc/xdg/sagemaker/config.yaml\n",
      "sagemaker.config INFO - Not applying SDK defaults from location: /root/.config/sagemaker/config.yaml\n",
      "sagemaker.config INFO - Not applying SDK defaults from location: /etc/xdg/sagemaker/config.yaml\n",
      "sagemaker.config INFO - Not applying SDK defaults from location: /root/.config/sagemaker/config.yaml\n",
      ".sagemaker.config INFO - Not applying SDK defaults from location: /etc/xdg/sagemaker/config.yaml\n",
      "sagemaker.config INFO - Not applying SDK defaults from location: /root/.config/sagemaker/config.yaml\n",
      "sagemaker.config INFO - Not applying SDK defaults from location: /etc/xdg/sagemaker/config.yaml\n",
      "sagemaker.config INFO - Not applying SDK defaults from location: /root/.config/sagemaker/config.yaml\n",
      ".sagemaker.config INFO - Not applying SDK defaults from location: /etc/xdg/sagemaker/config.yaml\n",
      "sagemaker.config INFO - Not applying SDK defaults from location: /root/.config/sagemaker/config.yaml\n",
      "sagemaker.config INFO - Not applying SDK defaults from location: /etc/xdg/sagemaker/config.yaml\n",
      "sagemaker.config INFO - Not applying SDK defaults from location: /root/.config/sagemaker/config.yaml\n",
      ".sagemaker.config INFO - Not applying SDK defaults from location: /etc/xdg/sagemaker/config.yaml\n",
      "sagemaker.config INFO - Not applying SDK defaults from location: /root/.config/sagemaker/config.yaml\n",
      "sagemaker.config INFO - Not applying SDK defaults from location: /etc/xdg/sagemaker/config.yaml\n",
      "sagemaker.config INFO - Not applying SDK defaults from location: /root/.config/sagemaker/config.yaml\n",
      ".sagemaker.config INFO - Not applying SDK defaults from location: /etc/xdg/sagemaker/config.yaml\n",
      "sagemaker.config INFO - Not applying SDK defaults from location: /root/.config/sagemaker/config.yaml\n",
      "sagemaker.config INFO - Not applying SDK defaults from location: /etc/xdg/sagemaker/config.yaml\n",
      "sagemaker.config INFO - Not applying SDK defaults from location: /root/.config/sagemaker/config.yaml\n",
      ".sagemaker.config INFO - Not applying SDK defaults from location: /etc/xdg/sagemaker/config.yaml\n",
      "sagemaker.config INFO - Not applying SDK defaults from location: /root/.config/sagemaker/config.yaml\n",
      "sagemaker.config INFO - Not applying SDK defaults from location: /etc/xdg/sagemaker/config.yaml\n",
      "sagemaker.config INFO - Not applying SDK defaults from location: /root/.config/sagemaker/config.yaml\n",
      ".sagemaker.config INFO - Not applying SDK defaults from location: /etc/xdg/sagemaker/config.yaml\n",
      "sagemaker.config INFO - Not applying SDK defaults from location: /root/.config/sagemaker/config.yaml\n",
      "sagemaker.config INFO - Not applying SDK defaults from location: /etc/xdg/sagemaker/config.yaml\n",
      "sagemaker.config INFO - Not applying SDK defaults from location: /root/.config/sagemaker/config.yaml\n",
      ".sagemaker.config INFO - Not applying SDK defaults from location: /etc/xdg/sagemaker/config.yaml\n",
      "sagemaker.config INFO - Not applying SDK defaults from location: /root/.config/sagemaker/config.yaml\n",
      "sagemaker.config INFO - Not applying SDK defaults from location: /etc/xdg/sagemaker/config.yaml\n",
      "sagemaker.config INFO - Not applying SDK defaults from location: /root/.config/sagemaker/config.yaml\n",
      ".sagemaker.config INFO - Not applying SDK defaults from location: /etc/xdg/sagemaker/config.yaml\n",
      "sagemaker.config INFO - Not applying SDK defaults from location: /root/.config/sagemaker/config.yaml\n",
      "sagemaker.config INFO - Not applying SDK defaults from location: /etc/xdg/sagemaker/config.yaml\n",
      "sagemaker.config INFO - Not applying SDK defaults from location: /root/.config/sagemaker/config.yaml\n",
      ".sagemaker.config INFO - Not applying SDK defaults from location: /etc/xdg/sagemaker/config.yaml\n",
      "sagemaker.config INFO - Not applying SDK defaults from location: /root/.config/sagemaker/config.yaml\n",
      "sagemaker.config INFO - Not applying SDK defaults from location: /etc/xdg/sagemaker/config.yaml\n",
      "sagemaker.config INFO - Not applying SDK defaults from location: /root/.config/sagemaker/config.yaml\n",
      ".sagemaker.config INFO - Not applying SDK defaults from location: /etc/xdg/sagemaker/config.yaml\n",
      "sagemaker.config INFO - Not applying SDK defaults from location: /root/.config/sagemaker/config.yaml\n",
      "sagemaker.config INFO - Not applying SDK defaults from location: /etc/xdg/sagemaker/config.yaml\n",
      "sagemaker.config INFO - Not applying SDK defaults from location: /root/.config/sagemaker/config.yaml\n",
      ".sagemaker.config INFO - Not applying SDK defaults from location: /etc/xdg/sagemaker/config.yaml\n",
      "sagemaker.config INFO - Not applying SDK defaults from location: /root/.config/sagemaker/config.yaml\n",
      "sagemaker.config INFO - Not applying SDK defaults from location: /etc/xdg/sagemaker/config.yaml\n",
      "sagemaker.config INFO - Not applying SDK defaults from location: /root/.config/sagemaker/config.yaml\n",
      ".sagemaker.config INFO - Not applying SDK defaults from location: /etc/xdg/sagemaker/config.yaml\n",
      "sagemaker.config INFO - Not applying SDK defaults from location: /root/.config/sagemaker/config.yaml\n",
      "sagemaker.config INFO - Not applying SDK defaults from location: /etc/xdg/sagemaker/config.yaml\n",
      "sagemaker.config INFO - Not applying SDK defaults from location: /root/.config/sagemaker/config.yaml\n",
      ".sagemaker.config INFO - Not applying SDK defaults from location: /etc/xdg/sagemaker/config.yaml\n",
      "sagemaker.config INFO - Not applying SDK defaults from location: /root/.config/sagemaker/config.yaml\n",
      "sagemaker.config INFO - Not applying SDK defaults from location: /etc/xdg/sagemaker/config.yaml\n",
      "sagemaker.config INFO - Not applying SDK defaults from location: /root/.config/sagemaker/config.yaml\n",
      ".sagemaker.config INFO - Not applying SDK defaults from location: /etc/xdg/sagemaker/config.yaml\n",
      "sagemaker.config INFO - Not applying SDK defaults from location: /root/.config/sagemaker/config.yaml\n",
      "sagemaker.config INFO - Not applying SDK defaults from location: /etc/xdg/sagemaker/config.yaml\n",
      "sagemaker.config INFO - Not applying SDK defaults from location: /root/.config/sagemaker/config.yaml\n",
      ".sagemaker.config INFO - Not applying SDK defaults from location: /etc/xdg/sagemaker/config.yaml\n",
      "sagemaker.config INFO - Not applying SDK defaults from location: /root/.config/sagemaker/config.yaml\n",
      "sagemaker.config INFO - Not applying SDK defaults from location: /etc/xdg/sagemaker/config.yaml\n",
      "sagemaker.config INFO - Not applying SDK defaults from location: /root/.config/sagemaker/config.yaml\n",
      ".sagemaker.config INFO - Not applying SDK defaults from location: /etc/xdg/sagemaker/config.yaml\n",
      "sagemaker.config INFO - Not applying SDK defaults from location: /root/.config/sagemaker/config.yaml\n",
      "sagemaker.config INFO - Not applying SDK defaults from location: /etc/xdg/sagemaker/config.yaml\n",
      "sagemaker.config INFO - Not applying SDK defaults from location: /root/.config/sagemaker/config.yaml\n",
      ".sagemaker.config INFO - Not applying SDK defaults from location: /etc/xdg/sagemaker/config.yaml\n",
      "sagemaker.config INFO - Not applying SDK defaults from location: /root/.config/sagemaker/config.yaml\n",
      "sagemaker.config INFO - Not applying SDK defaults from location: /etc/xdg/sagemaker/config.yaml\n",
      "sagemaker.config INFO - Not applying SDK defaults from location: /root/.config/sagemaker/config.yaml\n",
      ".sagemaker.config INFO - Not applying SDK defaults from location: /etc/xdg/sagemaker/config.yaml\n",
      "sagemaker.config INFO - Not applying SDK defaults from location: /root/.config/sagemaker/config.yaml\n",
      "sagemaker.config INFO - Not applying SDK defaults from location: /etc/xdg/sagemaker/config.yaml\n",
      "sagemaker.config INFO - Not applying SDK defaults from location: /root/.config/sagemaker/config.yaml\n",
      ".sagemaker.config INFO - Not applying SDK defaults from location: /etc/xdg/sagemaker/config.yaml\n",
      "sagemaker.config INFO - Not applying SDK defaults from location: /root/.config/sagemaker/config.yaml\n",
      "sagemaker.config INFO - Not applying SDK defaults from location: /etc/xdg/sagemaker/config.yaml\n",
      "sagemaker.config INFO - Not applying SDK defaults from location: /root/.config/sagemaker/config.yaml\n",
      ".sagemaker.config INFO - Not applying SDK defaults from location: /etc/xdg/sagemaker/config.yaml\n",
      "sagemaker.config INFO - Not applying SDK defaults from location: /root/.config/sagemaker/config.yaml\n",
      "sagemaker.config INFO - Not applying SDK defaults from location: /etc/xdg/sagemaker/config.yaml\n",
      "sagemaker.config INFO - Not applying SDK defaults from location: /root/.config/sagemaker/config.yaml\n",
      "\n",
      "Found Capture Files:\n",
      "s3://sagemaker-us-east-1-994366592132/sagemaker/Churn-ModelQualityMonitor-20201201/datacapture/DEMO-xgb-churn-model-quality-monitor-2024-02-12-0222/AllTraffic/2024/02/12/02/29-22-005-97796882-f271-4004-abd5-ba878b988ee0.jsonl\n",
      " s3://sagemaker-us-east-1-994366592132/sagemaker/Churn-ModelQualityMonitor-20201201/datacapture/DEMO-xgb-churn-model-quality-monitor-2024-02-12-0222/AllTraffic/2024/02/12/02/35-34-628-3661fac9-8e57-4a96-b364-2bf726ae2ff9.jsonl\n"
     ]
    }
   ],
   "source": [
    "print(\"Waiting for captures to show up\", end=\"\")\n",
    "for _ in range(120):\n",
    "    capture_files = sorted(S3Downloader.list(f\"{s3_capture_upload_path}/{endpoint_name}\"))\n",
    "    if capture_files:\n",
    "        capture_file = S3Downloader.read_file(capture_files[-1]).split(\"\\n\")\n",
    "        capture_record = json.loads(capture_file[0])\n",
    "        if \"inferenceId\" in capture_record[\"eventMetadata\"]:\n",
    "            break\n",
    "    print(\".\", end=\"\", flush=True)\n",
    "    sleep(1)\n",
    "print()\n",
    "print(\"Found Capture Files:\")\n",
    "print(\"\\n \".join(capture_files[-3:]))"
   ]
  },
  {
   "cell_type": "code",
   "execution_count": 35,
   "id": "f75160c7-cb85-48ca-b3dc-8c06292cb122",
   "metadata": {
    "tags": []
   },
   "outputs": [
    {
     "name": "stdout",
     "output_type": "stream",
     "text": [
      "{\"captureData\":{\"endpointInput\":{\"observedContentType\":\"text/csv\",\"mode\":\"INPUT\",\"data\":\"617,39,5,83348.89,3,1,0,7953.62,0,1,0,1\",\"encoding\":\"CSV\"},\"endpointOutput\":{\"observedContentType\":\"text/csv; charset=utf-8\",\"mode\":\"OUTPUT\",\"data\":\"0.9705581665039062\\n\",\"encoding\":\"CSV\"}},\"eventMetadata\":{\"eventId\":\"990e77db-f708-450a-baa1-ee1d2beb6ee6\",\"inferenceId\":\"57\",\"inferenceTime\":\"2024-02-12T02:36:32Z\"},\"eventVersion\":\"0\"}\n",
      "{\"captureData\":{\"endpointInput\":{\"observedContentType\":\"text/csv\",\"mode\":\"INPUT\",\"data\":\"493,33,8,90791.69,1,1,1,59659.53,1,0,0,1\",\"encoding\":\"CSV\"},\"endpointOutput\":{\"observedContentType\":\"text/csv; charset=utf-8\",\"mode\":\"OUTPUT\",\"data\":\"0.2643938660621643\\n\",\"encoding\":\"CSV\"}},\"eventMetadata\":{\"eventId\":\"2a8c4488-1f7f-403c-a29d-7dc8ccdb2e9b\",\"inferenceId\":\"58\",\"inferenceTime\":\"2024-02-12T02:36:33Z\"},\"eventVersion\":\"0\"}\n"
     ]
    }
   ],
   "source": [
    "print(\"\\n\".join(capture_file[-3:-1]))"
   ]
  },
  {
   "cell_type": "code",
   "execution_count": 36,
   "id": "4e585e6b-aaec-4dad-ad57-414fc13b3844",
   "metadata": {
    "tags": []
   },
   "outputs": [
    {
     "name": "stdout",
     "output_type": "stream",
     "text": [
      "{\n",
      "  \"captureData\": {\n",
      "    \"endpointInput\": {\n",
      "      \"observedContentType\": \"text/csv\",\n",
      "      \"mode\": \"INPUT\",\n",
      "      \"data\": \"683,39,2,100062.16,2,1,0,109201.43,0,1,0,1\",\n",
      "      \"encoding\": \"CSV\"\n",
      "    },\n",
      "    \"endpointOutput\": {\n",
      "      \"observedContentType\": \"text/csv; charset=utf-8\",\n",
      "      \"mode\": \"OUTPUT\",\n",
      "      \"data\": \"0.38479098677635193\\n\",\n",
      "      \"encoding\": \"CSV\"\n",
      "    }\n",
      "  },\n",
      "  \"eventMetadata\": {\n",
      "    \"eventId\": \"1e84ff1e-f393-4ea1-9f47-8fad4e2046ae\",\n",
      "    \"inferenceId\": \"0\",\n",
      "    \"inferenceTime\": \"2024-02-12T02:35:34Z\"\n",
      "  },\n",
      "  \"eventVersion\": \"0\"\n",
      "}\n"
     ]
    }
   ],
   "source": [
    "print(json.dumps(capture_record, indent=2))"
   ]
  },
  {
   "cell_type": "markdown",
   "id": "e6dd45b3-cb1d-49bf-92d6-a6237f4fe9c7",
   "metadata": {},
   "source": [
    "#### 4.3 Generate synthetic ground truth\n",
    "\n",
    "Next, start generating ground truth data. The model quality job will fail if there's no ground truth data to merge."
   ]
  },
  {
   "cell_type": "code",
   "execution_count": 37,
   "id": "19128333-2afa-46f3-9e10-32a9d7a126e3",
   "metadata": {
    "tags": []
   },
   "outputs": [],
   "source": [
    "import random\n",
    "\n",
    "\n",
    "def ground_truth_with_id(inference_id):\n",
    "    random.seed(inference_id)  # to get consistent results\n",
    "    rand = random.random()\n",
    "    return {\n",
    "        \"groundTruthData\": {\n",
    "            \"data\": \"1\" if rand < 0.7 else \"0\",  # randomly generate positive labels 70% of the time\n",
    "            \"encoding\": \"CSV\",\n",
    "        },\n",
    "        \"eventMetadata\": {\n",
    "            \"eventId\": str(inference_id),\n",
    "        },\n",
    "        \"eventVersion\": \"0\",\n",
    "    }\n",
    "\n",
    "\n",
    "def upload_ground_truth(records, upload_time):\n",
    "    fake_records = [json.dumps(r) for r in records]\n",
    "    data_to_upload = \"\\n\".join(fake_records)\n",
    "    target_s3_uri = f\"{ground_truth_upload_path}/{upload_time:%Y/%m/%d/%H/%M%S}.jsonl\"\n",
    "    print(f\"Uploading {len(fake_records)} records to\", target_s3_uri)\n",
    "    S3Uploader.upload_string_as_file_body(data_to_upload, target_s3_uri)"
   ]
  },
  {
   "cell_type": "code",
   "execution_count": 38,
   "id": "e1b23f10-4726-4a08-806b-67eb23787575",
   "metadata": {
    "tags": []
   },
   "outputs": [
    {
     "name": "stdout",
     "output_type": "stream",
     "text": [
      "Uploading 334 records to s3://sagemaker-us-east-1-994366592132/sagemaker/Churn-ModelQualityMonitor-20201201/ground_truth_data/2024-02-12-02-10-59/2024/02/12/02/3636.jsonl\n",
      "sagemaker.config INFO - Not applying SDK defaults from location: /etc/xdg/sagemaker/config.yaml\n",
      "sagemaker.config INFO - Not applying SDK defaults from location: /root/.config/sagemaker/config.yaml\n"
     ]
    }
   ],
   "source": [
    "NUM_GROUND_TRUTH_RECORDS = 334  # 334 are the number of rows in data we're sending for inference\n",
    "\n",
    "\n",
    "def generate_fake_ground_truth_forever():\n",
    "    j = 0\n",
    "    while True:\n",
    "        fake_records = [ground_truth_with_id(i) for i in range(NUM_GROUND_TRUTH_RECORDS)]\n",
    "        upload_ground_truth(fake_records, datetime.utcnow())\n",
    "        j = (j + 1) % 5\n",
    "        sleep(60 * 60)  # do this once an hour\n",
    "\n",
    "\n",
    "gt_thread = Thread(target=generate_fake_ground_truth_forever)\n",
    "gt_thread.start()"
   ]
  },
  {
   "cell_type": "markdown",
   "id": "6c7b2939-9635-4af5-9a65-1a215624758a",
   "metadata": {},
   "source": [
    "#### 4.4 Create a monitoring schedule\n",
    "\n",
    "Now that you have the baseline information and ground truth labels, create a monitoring schedule to run model quality monitoring job."
   ]
  },
  {
   "cell_type": "code",
   "execution_count": 39,
   "id": "d731a94b-c151-4e8a-8c6b-da6cc6f9de7d",
   "metadata": {
    "tags": []
   },
   "outputs": [],
   "source": [
    "##Monitoring schedule name\n",
    "churn_monitor_schedule_name = (\n",
    "    f\"DEMO-xgb-churn-monitoring-schedule-{datetime.utcnow():%Y-%m-%d-%H%M}\"\n",
    ")"
   ]
  },
  {
   "cell_type": "code",
   "execution_count": 40,
   "id": "17cc4acc-df4a-4e92-bf51-bfb5e3b7572a",
   "metadata": {
    "tags": []
   },
   "outputs": [],
   "source": [
    "# Create an enpointInput\n",
    "endpointInput = EndpointInput(\n",
    "    endpoint_name=predictor.endpoint_name,\n",
    "    probability_attribute=\"0\",\n",
    "    probability_threshold_attribute=0.5,\n",
    "    destination=\"/opt/ml/processing/input_data\",\n",
    ")"
   ]
  },
  {
   "cell_type": "code",
   "execution_count": 41,
   "id": "d5b016cf-1d38-4862-bd8c-3f419c83d21c",
   "metadata": {
    "tags": []
   },
   "outputs": [
    {
     "name": "stderr",
     "output_type": "stream",
     "text": [
      "INFO:sagemaker.model_monitor.model_monitoring:Creating Monitoring Schedule with name: DEMO-xgb-churn-monitoring-schedule-2024-02-12-0236\n"
     ]
    }
   ],
   "source": [
    "# Create the monitoring schedule to execute every hour.\n",
    "from sagemaker.model_monitor import CronExpressionGenerator\n",
    "\n",
    "response = churn_model_quality_monitor.create_monitoring_schedule(\n",
    "    monitor_schedule_name=churn_monitor_schedule_name,\n",
    "    endpoint_input=endpointInput,\n",
    "    output_s3_uri=baseline_results_uri,\n",
    "    problem_type=\"BinaryClassification\",\n",
    "    ground_truth_input=ground_truth_upload_path,\n",
    "    constraints=baseline_job.suggested_constraints(),\n",
    "    schedule_cron_expression=CronExpressionGenerator.hourly(),\n",
    "    enable_cloudwatch_metrics=True,\n",
    ")"
   ]
  },
  {
   "cell_type": "code",
   "execution_count": 42,
   "id": "7b3a4f3d-77a1-4244-b603-b108a93d1ddc",
   "metadata": {
    "tags": []
   },
   "outputs": [
    {
     "data": {
      "text/plain": [
       "{'MonitoringScheduleArn': 'arn:aws:sagemaker:us-east-1:994366592132:monitoring-schedule/DEMO-xgb-churn-monitoring-schedule-2024-02-12-0236',\n",
       " 'MonitoringScheduleName': 'DEMO-xgb-churn-monitoring-schedule-2024-02-12-0236',\n",
       " 'MonitoringScheduleStatus': 'Pending',\n",
       " 'MonitoringType': 'ModelQuality',\n",
       " 'CreationTime': datetime.datetime(2024, 2, 12, 2, 36, 38, 8000, tzinfo=tzlocal()),\n",
       " 'LastModifiedTime': datetime.datetime(2024, 2, 12, 2, 36, 38, 98000, tzinfo=tzlocal()),\n",
       " 'MonitoringScheduleConfig': {'ScheduleConfig': {'ScheduleExpression': 'cron(0 * ? * * *)'},\n",
       "  'MonitoringJobDefinitionName': 'model-quality-job-definition-2024-02-12-02-36-37-542',\n",
       "  'MonitoringType': 'ModelQuality'},\n",
       " 'EndpointName': 'DEMO-xgb-churn-model-quality-monitor-2024-02-12-0222',\n",
       " 'ResponseMetadata': {'RequestId': 'a3974e43-e16d-4e78-86d1-644bb10f7abb',\n",
       "  'HTTPStatusCode': 200,\n",
       "  'HTTPHeaders': {'x-amzn-requestid': 'a3974e43-e16d-4e78-86d1-644bb10f7abb',\n",
       "   'content-type': 'application/x-amz-json-1.1',\n",
       "   'content-length': '630',\n",
       "   'date': 'Mon, 12 Feb 2024 02:36:37 GMT'},\n",
       "  'RetryAttempts': 0}}"
      ]
     },
     "execution_count": 42,
     "metadata": {},
     "output_type": "execute_result"
    }
   ],
   "source": [
    "# Create the monitoring schedule\n",
    "# You will see the monitoring schedule in the 'Scheduled' status\n",
    "churn_model_quality_monitor.describe_schedule()"
   ]
  },
  {
   "cell_type": "code",
   "execution_count": 43,
   "id": "d89fad45-fb6a-48e8-8f29-c6433aaf2948",
   "metadata": {
    "tags": []
   },
   "outputs": [
    {
     "data": {
      "text/plain": [
       "{'MonitoringScheduleArn': 'arn:aws:sagemaker:us-east-1:994366592132:monitoring-schedule/DEMO-xgb-churn-monitoring-schedule-2024-02-12-0236',\n",
       " 'MonitoringScheduleName': 'DEMO-xgb-churn-monitoring-schedule-2024-02-12-0236',\n",
       " 'MonitoringScheduleStatus': 'Pending',\n",
       " 'MonitoringType': 'ModelQuality',\n",
       " 'CreationTime': datetime.datetime(2024, 2, 12, 2, 36, 38, 8000, tzinfo=tzlocal()),\n",
       " 'LastModifiedTime': datetime.datetime(2024, 2, 12, 2, 36, 38, 98000, tzinfo=tzlocal()),\n",
       " 'MonitoringScheduleConfig': {'ScheduleConfig': {'ScheduleExpression': 'cron(0 * ? * * *)'},\n",
       "  'MonitoringJobDefinitionName': 'model-quality-job-definition-2024-02-12-02-36-37-542',\n",
       "  'MonitoringType': 'ModelQuality'},\n",
       " 'EndpointName': 'DEMO-xgb-churn-model-quality-monitor-2024-02-12-0222',\n",
       " 'ResponseMetadata': {'RequestId': '0d0c444d-21d2-4ec4-8ace-9303edb7a8fe',\n",
       "  'HTTPStatusCode': 200,\n",
       "  'HTTPHeaders': {'x-amzn-requestid': '0d0c444d-21d2-4ec4-8ace-9303edb7a8fe',\n",
       "   'content-type': 'application/x-amz-json-1.1',\n",
       "   'content-length': '630',\n",
       "   'date': 'Mon, 12 Feb 2024 02:36:37 GMT'},\n",
       "  'RetryAttempts': 0}}"
      ]
     },
     "execution_count": 43,
     "metadata": {},
     "output_type": "execute_result"
    }
   ],
   "source": [
    "# Create the monitoring schedule\n",
    "# You will see the monitoring schedule in the 'Scheduled' status\n",
    "churn_model_quality_monitor.describe_schedule()"
   ]
  },
  {
   "cell_type": "code",
   "execution_count": 44,
   "id": "7ca32388-ee65-4213-84b3-fe8d26433d68",
   "metadata": {
    "tags": []
   },
   "outputs": [
    {
     "name": "stdout",
     "output_type": "stream",
     "text": [
      "Waiting for first execution...................................................................................................................................................\n",
      "Execution found!\n"
     ]
    }
   ],
   "source": [
    "# Wait for the first execution of the monitoring_schedule\n",
    "print(\"Waiting for first execution\", end=\"\")\n",
    "while True:\n",
    "    execution = churn_model_quality_monitor.describe_schedule().get(\n",
    "        \"LastMonitoringExecutionSummary\"\n",
    "    )\n",
    "    if execution:\n",
    "        break\n",
    "    print(\".\", end=\"\", flush=True)\n",
    "    sleep(10)\n",
    "print()\n",
    "print(\"Execution found!\")"
   ]
  },
  {
   "cell_type": "code",
   "execution_count": 47,
   "id": "6f131bbd-3ae0-418d-9d04-a7e2ee00193f",
   "metadata": {
    "tags": []
   },
   "outputs": [
    {
     "data": {
      "text/plain": [
       "[<sagemaker.model_monitor.model_monitoring.MonitoringExecution at 0x7f89b9a56680>]"
      ]
     },
     "execution_count": 47,
     "metadata": {},
     "output_type": "execute_result"
    }
   ],
   "source": [
    "# Initially there will be no executions since the first execution happens at the top of the hour\n",
    "# Note that it is common for the execution to luanch upto 20 min after the hour.\n",
    "executions = churn_model_quality_monitor.list_executions()\n",
    "executions"
   ]
  },
  {
   "cell_type": "code",
   "execution_count": 48,
   "id": "8be3100f-f709-49a5-b21d-f2bb07fdc13b",
   "metadata": {
    "tags": []
   },
   "outputs": [
    {
     "data": {
      "text/plain": [
       "{'ProcessingInputs': [{'InputName': 'groundtruth_input_1',\n",
       "   'AppManaged': False,\n",
       "   'S3Input': {'S3Uri': 's3://sagemaker-us-east-1-994366592132/sagemaker/Churn-ModelQualityMonitor-20201201/ground_truth_data/2024-02-12-02-10-59/2024/02/12/02',\n",
       "    'LocalPath': '/opt/ml/processing/groundtruth/2024/02/12/02',\n",
       "    'S3DataType': 'S3Prefix',\n",
       "    'S3InputMode': 'File',\n",
       "    'S3DataDistributionType': 'FullyReplicated',\n",
       "    'S3CompressionType': 'None'}},\n",
       "  {'InputName': 'endpoint_input_1',\n",
       "   'AppManaged': False,\n",
       "   'S3Input': {'S3Uri': 's3://sagemaker-us-east-1-994366592132/sagemaker/Churn-ModelQualityMonitor-20201201/datacapture/DEMO-xgb-churn-model-quality-monitor-2024-02-12-0222/AllTraffic/2024/02/12/02',\n",
       "    'LocalPath': '/opt/ml/processing/input_data/DEMO-xgb-churn-model-quality-monitor-2024-02-12-0222/AllTraffic/2024/02/12/02',\n",
       "    'S3DataType': 'S3Prefix',\n",
       "    'S3InputMode': 'File',\n",
       "    'S3DataDistributionType': 'FullyReplicated',\n",
       "    'S3CompressionType': 'None'}}],\n",
       " 'ProcessingOutputConfig': {'Outputs': [{'OutputName': 'result',\n",
       "    'S3Output': {'S3Uri': 's3://sagemaker-us-east-1-994366592132/sagemaker/Churn-ModelQualityMonitor-20201201/baselining/results/merge',\n",
       "     'LocalPath': '/opt/ml/processing/output',\n",
       "     'S3UploadMode': 'EndOfJob'},\n",
       "    'AppManaged': False}]},\n",
       " 'ProcessingJobName': 'groundtruth-merge-202402120300-89f8c88789fbe9aef6e768ed',\n",
       " 'ProcessingResources': {'ClusterConfig': {'InstanceCount': 1,\n",
       "   'InstanceType': 'ml.m5.xlarge',\n",
       "   'VolumeSizeInGB': 20}},\n",
       " 'StoppingCondition': {'MaxRuntimeInSeconds': 1800},\n",
       " 'AppSpecification': {'ImageUri': '156813124566.dkr.ecr.us-east-1.amazonaws.com/sagemaker-model-monitor-groundtruth-merger'},\n",
       " 'Environment': {'dataset_format': '{\"sagemakerCaptureJson\":{\"captureIndexNames\":null}}',\n",
       "  'dataset_source': '/opt/ml/processing/input_data',\n",
       "  'end_time': '2024-02-12T03:00:00Z',\n",
       "  'ground_truth_source': '/opt/ml/processing/groundtruth',\n",
       "  'monitoring_input_type': 'ENDPOINT_INPUT',\n",
       "  'output_path': '/opt/ml/processing/output',\n",
       "  'start_time': '2024-02-12T02:00:00Z'},\n",
       " 'RoleArn': 'arn:aws:iam::994366592132:role/LabRole',\n",
       " 'ProcessingJobArn': 'arn:aws:sagemaker:us-east-1:994366592132:processing-job/groundtruth-merge-202402120300-89f8c88789fbe9aef6e768ed',\n",
       " 'ProcessingJobStatus': 'InProgress',\n",
       " 'LastModifiedTime': datetime.datetime(2024, 2, 12, 3, 3, 57, 472000, tzinfo=tzlocal()),\n",
       " 'CreationTime': datetime.datetime(2024, 2, 12, 3, 3, 56, 779000, tzinfo=tzlocal()),\n",
       " 'MonitoringScheduleArn': 'arn:aws:sagemaker:us-east-1:994366592132:monitoring-schedule/DEMO-xgb-churn-monitoring-schedule-2024-02-12-0236',\n",
       " 'ResponseMetadata': {'RequestId': 'f7d61459-33ad-46c0-a918-67b7f7e2318b',\n",
       "  'HTTPStatusCode': 200,\n",
       "  'HTTPHeaders': {'x-amzn-requestid': 'f7d61459-33ad-46c0-a918-67b7f7e2318b',\n",
       "   'content-type': 'application/x-amz-json-1.1',\n",
       "   'content-length': '2303',\n",
       "   'date': 'Mon, 12 Feb 2024 03:07:31 GMT'},\n",
       "  'RetryAttempts': 0}}"
      ]
     },
     "execution_count": 48,
     "metadata": {},
     "output_type": "execute_result"
    }
   ],
   "source": [
    "while not executions:\n",
    "    executions = churn_model_quality_monitor.list_executions()\n",
    "    print(\".\", end=\"\", flush=True)\n",
    "    sleep(10)\n",
    "latest_execution = executions[-1]\n",
    "latest_execution.describe()"
   ]
  },
  {
   "cell_type": "code",
   "execution_count": 49,
   "id": "bc166eeb-4b1f-4884-acd2-f380d9c60f17",
   "metadata": {
    "tags": []
   },
   "outputs": [
    {
     "name": "stdout",
     "output_type": "stream",
     "text": [
      "Waiting for execution to finish.....................!\n",
      "groundtruth-merge-202402120300-89f8c88789fbe9aef6e768ed job status: Completed\n",
      "groundtruth-merge-202402120300-89f8c88789fbe9aef6e768ed job exit message, if any: None\n",
      "groundtruth-merge-202402120300-89f8c88789fbe9aef6e768ed job failure reason, if any: None\n",
      "Waiting for execution to finish...................................................................!\n",
      "model-quality-monitoring-202402120300-89f8c88789fbe9aef6e768ed job status: Completed\n",
      "model-quality-monitoring-202402120300-89f8c88789fbe9aef6e768ed job exit message, if any: CompletedWithViolations: Job completed successfully with 9 violations.\n",
      "model-quality-monitoring-202402120300-89f8c88789fbe9aef6e768ed job failure reason, if any: None\n",
      "Execution status is: CompletedWithViolations\n",
      "{'MonitoringScheduleName': 'DEMO-xgb-churn-monitoring-schedule-2024-02-12-0236', 'ScheduledTime': datetime.datetime(2024, 2, 12, 3, 0, tzinfo=tzlocal()), 'CreationTime': datetime.datetime(2024, 2, 12, 3, 1, 11, 487000, tzinfo=tzlocal()), 'LastModifiedTime': datetime.datetime(2024, 2, 12, 3, 15, 36, 772000, tzinfo=tzlocal()), 'MonitoringExecutionStatus': 'CompletedWithViolations', 'ProcessingJobArn': 'arn:aws:sagemaker:us-east-1:994366592132:processing-job/model-quality-monitoring-202402120300-89f8c88789fbe9aef6e768ed', 'EndpointName': 'DEMO-xgb-churn-model-quality-monitor-2024-02-12-0222'}\n",
      "====STOP==== \n",
      " No completed executions to inspect further. Please wait till an execution completes or investigate previously reported failures.\n"
     ]
    }
   ],
   "source": [
    "status = execution[\"MonitoringExecutionStatus\"]\n",
    "\n",
    "while status in [\"Pending\", \"InProgress\"]:\n",
    "    print(\"Waiting for execution to finish\", end=\"\")\n",
    "    latest_execution.wait(logs=False)\n",
    "    latest_job = latest_execution.describe()\n",
    "    print()\n",
    "    print(f\"{latest_job['ProcessingJobName']} job status:\", latest_job[\"ProcessingJobStatus\"])\n",
    "    print(\n",
    "        f\"{latest_job['ProcessingJobName']} job exit message, if any:\",\n",
    "        latest_job.get(\"ExitMessage\"),\n",
    "    )\n",
    "    print(\n",
    "        f\"{latest_job['ProcessingJobName']} job failure reason, if any:\",\n",
    "        latest_job.get(\"FailureReason\"),\n",
    "    )\n",
    "    sleep(\n",
    "        30\n",
    "    )  # model quality executions consist of two Processing jobs, wait for second job to start\n",
    "    latest_execution = churn_model_quality_monitor.list_executions()[-1]\n",
    "    execution = churn_model_quality_monitor.describe_schedule()[\"LastMonitoringExecutionSummary\"]\n",
    "    status = execution[\"MonitoringExecutionStatus\"]\n",
    "\n",
    "print(\"Execution status is:\", status)\n",
    "\n",
    "if status != \"Completed\":\n",
    "    print(execution)\n",
    "    print(\n",
    "        \"====STOP==== \\n No completed executions to inspect further. Please wait till an execution completes or investigate previously reported failures.\"\n",
    "    )"
   ]
  },
  {
   "cell_type": "code",
   "execution_count": 50,
   "id": "7cd237a0-fde3-4d64-ba4a-993d981c14d8",
   "metadata": {},
   "outputs": [
    {
     "name": "stdout",
     "output_type": "stream",
     "text": [
      "Report Uri: s3://sagemaker-us-east-1-994366592132/sagemaker/Churn-ModelQualityMonitor-20201201/baselining/results/DEMO-xgb-churn-model-quality-monitor-2024-02-12-0222/DEMO-xgb-churn-monitoring-schedule-2024-02-12-0236/2024/02/12/03\n"
     ]
    }
   ],
   "source": [
    "latest_execution = churn_model_quality_monitor.list_executions()[-1]\n",
    "report_uri = latest_execution.describe()[\"ProcessingOutputConfig\"][\"Outputs\"][0][\"S3Output\"][\n",
    "    \"S3Uri\"\n",
    "]\n",
    "print(\"Report Uri:\", report_uri)"
   ]
  },
  {
   "cell_type": "code",
   "execution_count": 51,
   "id": "4934f369-4554-4789-ae26-13f4cb35498a",
   "metadata": {},
   "outputs": [
    {
     "data": {
      "text/html": [
       "<div>\n",
       "<style scoped>\n",
       "    .dataframe tbody tr th:only-of-type {\n",
       "        vertical-align: middle;\n",
       "    }\n",
       "\n",
       "    .dataframe tbody tr th {\n",
       "        vertical-align: top;\n",
       "    }\n",
       "\n",
       "    .dataframe thead th {\n",
       "        text-align: right;\n",
       "    }\n",
       "</style>\n",
       "<table border=\"1\" class=\"dataframe\">\n",
       "  <thead>\n",
       "    <tr style=\"text-align: right;\">\n",
       "      <th></th>\n",
       "      <th>constraint_check_type</th>\n",
       "      <th>description</th>\n",
       "      <th>metric_name</th>\n",
       "    </tr>\n",
       "  </thead>\n",
       "  <tbody>\n",
       "    <tr>\n",
       "      <th>0</th>\n",
       "      <td>LessThanThreshold</td>\n",
       "      <td>Metric auc with 0.45530901904419696 +/- 0.012407941058368408 was LessThanThreshold '0.8730726994409421'</td>\n",
       "      <td>auc</td>\n",
       "    </tr>\n",
       "    <tr>\n",
       "      <th>1</th>\n",
       "      <td>LessThanThreshold</td>\n",
       "      <td>Metric truePositiveRate with 0.2975206611570248 +/- 0.01446650921602515 was LessThanThreshold '0.7415254237288136'</td>\n",
       "      <td>truePositiveRate</td>\n",
       "    </tr>\n",
       "    <tr>\n",
       "      <th>2</th>\n",
       "      <td>LessThanThreshold</td>\n",
       "      <td>Metric f1 with 0.414985590778098 +/- 0.016216138402139087 was LessThanThreshold '0.6469500924214417'</td>\n",
       "      <td>f1</td>\n",
       "    </tr>\n",
       "    <tr>\n",
       "      <th>3</th>\n",
       "      <td>LessThanThreshold</td>\n",
       "      <td>Metric accuracy with 0.39221556886227543 +/- 0.012493487583873697 was LessThanThreshold '0.809'</td>\n",
       "      <td>accuracy</td>\n",
       "    </tr>\n",
       "    <tr>\n",
       "      <th>4</th>\n",
       "      <td>GreaterThanThreshold</td>\n",
       "      <td>Metric falsePositiveRate with 0.358695652173913 +/- 0.009441351577994235 was GreaterThanThreshold '0.17015706806282724'</td>\n",
       "      <td>falsePositiveRate</td>\n",
       "    </tr>\n",
       "    <tr>\n",
       "      <th>5</th>\n",
       "      <td>LessThanThreshold</td>\n",
       "      <td>Metric trueNegativeRate with 0.6413043478260869 +/- 0.009441351577994235 was LessThanThreshold '0.8298429319371727'</td>\n",
       "      <td>trueNegativeRate</td>\n",
       "    </tr>\n",
       "    <tr>\n",
       "      <th>6</th>\n",
       "      <td>GreaterThanThreshold</td>\n",
       "      <td>Metric falseNegativeRate with 0.7024793388429752 +/- 0.014466509216025157 was GreaterThanThreshold '0.2584745762711864'</td>\n",
       "      <td>falseNegativeRate</td>\n",
       "    </tr>\n",
       "    <tr>\n",
       "      <th>7</th>\n",
       "      <td>LessThanThreshold</td>\n",
       "      <td>Metric recall with 0.2975206611570248 +/- 0.01446650921602515 was LessThanThreshold '0.7415254237288136'</td>\n",
       "      <td>recall</td>\n",
       "    </tr>\n",
       "    <tr>\n",
       "      <th>8</th>\n",
       "      <td>LessThanThreshold</td>\n",
       "      <td>Metric f2 with 0.33550792171481825 +/- 0.01523060161085746 was LessThanThreshold '0.7005604483586869'</td>\n",
       "      <td>f2</td>\n",
       "    </tr>\n",
       "  </tbody>\n",
       "</table>\n",
       "</div>"
      ],
      "text/plain": [
       "  constraint_check_type  \\\n",
       "0     LessThanThreshold   \n",
       "1     LessThanThreshold   \n",
       "2     LessThanThreshold   \n",
       "3     LessThanThreshold   \n",
       "4  GreaterThanThreshold   \n",
       "5     LessThanThreshold   \n",
       "6  GreaterThanThreshold   \n",
       "7     LessThanThreshold   \n",
       "8     LessThanThreshold   \n",
       "\n",
       "                                                                                                               description  \\\n",
       "0                  Metric auc with 0.45530901904419696 +/- 0.012407941058368408 was LessThanThreshold '0.8730726994409421'   \n",
       "1       Metric truePositiveRate with 0.2975206611570248 +/- 0.01446650921602515 was LessThanThreshold '0.7415254237288136'   \n",
       "2                     Metric f1 with 0.414985590778098 +/- 0.016216138402139087 was LessThanThreshold '0.6469500924214417'   \n",
       "3                          Metric accuracy with 0.39221556886227543 +/- 0.012493487583873697 was LessThanThreshold '0.809'   \n",
       "4  Metric falsePositiveRate with 0.358695652173913 +/- 0.009441351577994235 was GreaterThanThreshold '0.17015706806282724'   \n",
       "5      Metric trueNegativeRate with 0.6413043478260869 +/- 0.009441351577994235 was LessThanThreshold '0.8298429319371727'   \n",
       "6  Metric falseNegativeRate with 0.7024793388429752 +/- 0.014466509216025157 was GreaterThanThreshold '0.2584745762711864'   \n",
       "7                 Metric recall with 0.2975206611570248 +/- 0.01446650921602515 was LessThanThreshold '0.7415254237288136'   \n",
       "8                    Metric f2 with 0.33550792171481825 +/- 0.01523060161085746 was LessThanThreshold '0.7005604483586869'   \n",
       "\n",
       "         metric_name  \n",
       "0                auc  \n",
       "1   truePositiveRate  \n",
       "2                 f1  \n",
       "3           accuracy  \n",
       "4  falsePositiveRate  \n",
       "5   trueNegativeRate  \n",
       "6  falseNegativeRate  \n",
       "7             recall  \n",
       "8                 f2  "
      ]
     },
     "execution_count": 51,
     "metadata": {},
     "output_type": "execute_result"
    }
   ],
   "source": [
    "pd.options.display.max_colwidth = None\n",
    "violations = latest_execution.constraint_violations().body_dict[\"violations\"]\n",
    "violations_df = pd.json_normalize(violations)\n",
    "violations_df.head(10)"
   ]
  },
  {
   "cell_type": "markdown",
   "id": "d7912a61-e4cb-467a-bf5b-086027d89214",
   "metadata": {},
   "source": [
    "## Section 5 - Analyze model quality CloudWatch metrics <a id='analyze-cloudwatch-metrics'></a> \n",
    "\n",
    "In addition to the violations, the monitoring schedule also emits CloudWatch metrics. In this section, you will view the metrics generated and setup an CloudWatch alarm to be triggered when the model quality drifts from the baseline thresholds. You could use CloudWatch alarms to trigger remedial actions such as retraining your model or updating the training dataset."
   ]
  },
  {
   "cell_type": "code",
   "execution_count": 52,
   "id": "93086306-702d-40ee-9191-09e078c2298e",
   "metadata": {},
   "outputs": [],
   "source": [
    "# Create CloudWatch client\n",
    "cw_client = boto3.Session().client(\"cloudwatch\")\n",
    "\n",
    "namespace = \"aws/sagemaker/Endpoints/model-metrics\"\n",
    "\n",
    "cw_dimensions = [\n",
    "    {\"Name\": \"Endpoint\", \"Value\": endpoint_name},\n",
    "    {\"Name\": \"MonitoringSchedule\", \"Value\": churn_monitor_schedule_name},\n",
    "]"
   ]
  },
  {
   "cell_type": "code",
   "execution_count": 53,
   "id": "9cf2360f-bb8b-4cd7-93fa-72d1852be5d3",
   "metadata": {},
   "outputs": [
    {
     "name": "stdout",
     "output_type": "stream",
     "text": [
      "false_negative_rate\n",
      "f1\n",
      "total_number_of_violations\n",
      "f1_best_constant_classifier\n",
      "f0_5\n",
      "recall_best_constant_classifier\n",
      "au_prc\n",
      "precision_best_constant_classifier\n",
      "auc\n",
      "f0_5_best_constant_classifier\n",
      "f2_best_constant_classifier\n",
      "true_positive_rate\n",
      "recall\n",
      "accuracy\n",
      "accuracy_best_constant_classifier\n",
      "false_positive_rate\n",
      "precision\n",
      "true_negative_rate\n",
      "f2\n"
     ]
    }
   ],
   "source": [
    "# List metrics through the pagination interface\n",
    "paginator = cw_client.get_paginator(\"list_metrics\")\n",
    "\n",
    "for response in paginator.paginate(Dimensions=cw_dimensions, Namespace=namespace):\n",
    "    model_quality_metrics = response[\"Metrics\"]\n",
    "    for metric in model_quality_metrics:\n",
    "        print(metric[\"MetricName\"])"
   ]
  },
  {
   "cell_type": "code",
   "execution_count": 54,
   "id": "ce56e10d-75f2-415f-8265-f1089e74e2ce",
   "metadata": {},
   "outputs": [
    {
     "data": {
      "text/plain": [
       "{'ResponseMetadata': {'RequestId': 'fb5494da-1f0d-45de-b563-1e60d03a311f',\n",
       "  'HTTPStatusCode': 200,\n",
       "  'HTTPHeaders': {'x-amzn-requestid': 'fb5494da-1f0d-45de-b563-1e60d03a311f',\n",
       "   'content-type': 'text/xml',\n",
       "   'content-length': '214',\n",
       "   'date': 'Mon, 12 Feb 2024 03:24:54 GMT'},\n",
       "  'RetryAttempts': 0}}"
      ]
     },
     "execution_count": 54,
     "metadata": {},
     "output_type": "execute_result"
    }
   ],
   "source": [
    "alarm_name = \"MODEL_QUALITY_F2_SCORE\"\n",
    "alarm_desc = (\n",
    "    \"Trigger an CloudWatch alarm when the f2 score drifts away from the baseline constraints\"\n",
    ")\n",
    "mdoel_quality_f2_drift_threshold = (\n",
    "    0.625  ##Setting this threshold purposefully low to see the alarm quickly.\n",
    ")\n",
    "metric_name = \"f2\"\n",
    "namespace = \"aws/sagemaker/Endpoints/model-metrics\"\n",
    "\n",
    "cw_client.put_metric_alarm(\n",
    "    AlarmName=alarm_name,\n",
    "    AlarmDescription=alarm_desc,\n",
    "    ActionsEnabled=True,\n",
    "    MetricName=metric_name,\n",
    "    Namespace=namespace,\n",
    "    Statistic=\"Average\",\n",
    "    Dimensions=[\n",
    "        {\"Name\": \"Endpoint\", \"Value\": endpoint_name},\n",
    "        {\"Name\": \"MonitoringSchedule\", \"Value\": churn_monitor_schedule_name},\n",
    "    ],\n",
    "    Period=600,\n",
    "    EvaluationPeriods=1,\n",
    "    DatapointsToAlarm=1,\n",
    "    Threshold=mdoel_quality_f2_drift_threshold,\n",
    "    ComparisonOperator=\"LessThanOrEqualToThreshold\",\n",
    "    TreatMissingData=\"breaching\",\n",
    ")"
   ]
  },
  {
   "cell_type": "code",
   "execution_count": null,
   "id": "4db94b34-3269-4b71-aa7b-f1df4586fd4b",
   "metadata": {},
   "outputs": [],
   "source": []
  },
  {
   "cell_type": "markdown",
   "id": "aaafe246-6b47-4ab4-ae77-2f65f69fdcb8",
   "metadata": {},
   "source": [
    "# Delete Endpoint"
   ]
  },
  {
   "cell_type": "code",
   "execution_count": 55,
   "id": "08b6d201-c592-4b79-868c-e25b983dd447",
   "metadata": {
    "tags": []
   },
   "outputs": [
    {
     "name": "stdout",
     "output_type": "stream",
     "text": [
      "\n",
      "Deleting Monitoring Schedule with name: DEMO-xgb-churn-monitoring-schedule-2024-02-12-0236\n"
     ]
    },
    {
     "name": "stderr",
     "output_type": "stream",
     "text": [
      "INFO:sagemaker.model_monitor.model_monitoring:Deleting Model Quality Job Definition with name: model-quality-job-definition-2024-02-12-02-36-37-542\n"
     ]
    }
   ],
   "source": [
    "churn_model_quality_monitor.delete_monitoring_schedule()\n",
    "sleep(60)  # actually wait for the deletion"
   ]
  },
  {
   "cell_type": "code",
   "execution_count": 56,
   "id": "e644562d-54d7-48db-9933-d94869c1f234",
   "metadata": {
    "tags": []
   },
   "outputs": [
    {
     "name": "stderr",
     "output_type": "stream",
     "text": [
      "INFO:sagemaker:Deleting model with name: sagemaker-xgboost-2024-02-12-02-22-18-678\n",
      "INFO:sagemaker:Deleting endpoint configuration with name: DEMO-xgb-churn-model-quality-monitor-2024-02-12-0222\n",
      "INFO:sagemaker:Deleting endpoint with name: DEMO-xgb-churn-model-quality-monitor-2024-02-12-0222\n"
     ]
    }
   ],
   "source": [
    "\n",
    "# Delete the predictor endpoint to avoid incurring costs\n",
    "predictor.delete_model()\n",
    "predictor.delete_endpoint()\n",
    "\n"
   ]
  },
  {
   "cell_type": "code",
   "execution_count": null,
   "id": "620ec1e9-4af4-49b7-9217-ffd95636ef91",
   "metadata": {},
   "outputs": [],
   "source": []
  }
 ],
 "metadata": {
  "availableInstances": [
   {
    "_defaultOrder": 0,
    "_isFastLaunch": true,
    "category": "General purpose",
    "gpuNum": 0,
    "hideHardwareSpecs": false,
    "memoryGiB": 4,
    "name": "ml.t3.medium",
    "vcpuNum": 2
   },
   {
    "_defaultOrder": 1,
    "_isFastLaunch": false,
    "category": "General purpose",
    "gpuNum": 0,
    "hideHardwareSpecs": false,
    "memoryGiB": 8,
    "name": "ml.t3.large",
    "vcpuNum": 2
   },
   {
    "_defaultOrder": 2,
    "_isFastLaunch": false,
    "category": "General purpose",
    "gpuNum": 0,
    "hideHardwareSpecs": false,
    "memoryGiB": 16,
    "name": "ml.t3.xlarge",
    "vcpuNum": 4
   },
   {
    "_defaultOrder": 3,
    "_isFastLaunch": false,
    "category": "General purpose",
    "gpuNum": 0,
    "hideHardwareSpecs": false,
    "memoryGiB": 32,
    "name": "ml.t3.2xlarge",
    "vcpuNum": 8
   },
   {
    "_defaultOrder": 4,
    "_isFastLaunch": true,
    "category": "General purpose",
    "gpuNum": 0,
    "hideHardwareSpecs": false,
    "memoryGiB": 8,
    "name": "ml.m5.large",
    "vcpuNum": 2
   },
   {
    "_defaultOrder": 5,
    "_isFastLaunch": false,
    "category": "General purpose",
    "gpuNum": 0,
    "hideHardwareSpecs": false,
    "memoryGiB": 16,
    "name": "ml.m5.xlarge",
    "vcpuNum": 4
   },
   {
    "_defaultOrder": 6,
    "_isFastLaunch": false,
    "category": "General purpose",
    "gpuNum": 0,
    "hideHardwareSpecs": false,
    "memoryGiB": 32,
    "name": "ml.m5.2xlarge",
    "vcpuNum": 8
   },
   {
    "_defaultOrder": 7,
    "_isFastLaunch": false,
    "category": "General purpose",
    "gpuNum": 0,
    "hideHardwareSpecs": false,
    "memoryGiB": 64,
    "name": "ml.m5.4xlarge",
    "vcpuNum": 16
   },
   {
    "_defaultOrder": 8,
    "_isFastLaunch": false,
    "category": "General purpose",
    "gpuNum": 0,
    "hideHardwareSpecs": false,
    "memoryGiB": 128,
    "name": "ml.m5.8xlarge",
    "vcpuNum": 32
   },
   {
    "_defaultOrder": 9,
    "_isFastLaunch": false,
    "category": "General purpose",
    "gpuNum": 0,
    "hideHardwareSpecs": false,
    "memoryGiB": 192,
    "name": "ml.m5.12xlarge",
    "vcpuNum": 48
   },
   {
    "_defaultOrder": 10,
    "_isFastLaunch": false,
    "category": "General purpose",
    "gpuNum": 0,
    "hideHardwareSpecs": false,
    "memoryGiB": 256,
    "name": "ml.m5.16xlarge",
    "vcpuNum": 64
   },
   {
    "_defaultOrder": 11,
    "_isFastLaunch": false,
    "category": "General purpose",
    "gpuNum": 0,
    "hideHardwareSpecs": false,
    "memoryGiB": 384,
    "name": "ml.m5.24xlarge",
    "vcpuNum": 96
   },
   {
    "_defaultOrder": 12,
    "_isFastLaunch": false,
    "category": "General purpose",
    "gpuNum": 0,
    "hideHardwareSpecs": false,
    "memoryGiB": 8,
    "name": "ml.m5d.large",
    "vcpuNum": 2
   },
   {
    "_defaultOrder": 13,
    "_isFastLaunch": false,
    "category": "General purpose",
    "gpuNum": 0,
    "hideHardwareSpecs": false,
    "memoryGiB": 16,
    "name": "ml.m5d.xlarge",
    "vcpuNum": 4
   },
   {
    "_defaultOrder": 14,
    "_isFastLaunch": false,
    "category": "General purpose",
    "gpuNum": 0,
    "hideHardwareSpecs": false,
    "memoryGiB": 32,
    "name": "ml.m5d.2xlarge",
    "vcpuNum": 8
   },
   {
    "_defaultOrder": 15,
    "_isFastLaunch": false,
    "category": "General purpose",
    "gpuNum": 0,
    "hideHardwareSpecs": false,
    "memoryGiB": 64,
    "name": "ml.m5d.4xlarge",
    "vcpuNum": 16
   },
   {
    "_defaultOrder": 16,
    "_isFastLaunch": false,
    "category": "General purpose",
    "gpuNum": 0,
    "hideHardwareSpecs": false,
    "memoryGiB": 128,
    "name": "ml.m5d.8xlarge",
    "vcpuNum": 32
   },
   {
    "_defaultOrder": 17,
    "_isFastLaunch": false,
    "category": "General purpose",
    "gpuNum": 0,
    "hideHardwareSpecs": false,
    "memoryGiB": 192,
    "name": "ml.m5d.12xlarge",
    "vcpuNum": 48
   },
   {
    "_defaultOrder": 18,
    "_isFastLaunch": false,
    "category": "General purpose",
    "gpuNum": 0,
    "hideHardwareSpecs": false,
    "memoryGiB": 256,
    "name": "ml.m5d.16xlarge",
    "vcpuNum": 64
   },
   {
    "_defaultOrder": 19,
    "_isFastLaunch": false,
    "category": "General purpose",
    "gpuNum": 0,
    "hideHardwareSpecs": false,
    "memoryGiB": 384,
    "name": "ml.m5d.24xlarge",
    "vcpuNum": 96
   },
   {
    "_defaultOrder": 20,
    "_isFastLaunch": false,
    "category": "General purpose",
    "gpuNum": 0,
    "hideHardwareSpecs": true,
    "memoryGiB": 0,
    "name": "ml.geospatial.interactive",
    "supportedImageNames": [
     "sagemaker-geospatial-v1-0"
    ],
    "vcpuNum": 0
   },
   {
    "_defaultOrder": 21,
    "_isFastLaunch": true,
    "category": "Compute optimized",
    "gpuNum": 0,
    "hideHardwareSpecs": false,
    "memoryGiB": 4,
    "name": "ml.c5.large",
    "vcpuNum": 2
   },
   {
    "_defaultOrder": 22,
    "_isFastLaunch": false,
    "category": "Compute optimized",
    "gpuNum": 0,
    "hideHardwareSpecs": false,
    "memoryGiB": 8,
    "name": "ml.c5.xlarge",
    "vcpuNum": 4
   },
   {
    "_defaultOrder": 23,
    "_isFastLaunch": false,
    "category": "Compute optimized",
    "gpuNum": 0,
    "hideHardwareSpecs": false,
    "memoryGiB": 16,
    "name": "ml.c5.2xlarge",
    "vcpuNum": 8
   },
   {
    "_defaultOrder": 24,
    "_isFastLaunch": false,
    "category": "Compute optimized",
    "gpuNum": 0,
    "hideHardwareSpecs": false,
    "memoryGiB": 32,
    "name": "ml.c5.4xlarge",
    "vcpuNum": 16
   },
   {
    "_defaultOrder": 25,
    "_isFastLaunch": false,
    "category": "Compute optimized",
    "gpuNum": 0,
    "hideHardwareSpecs": false,
    "memoryGiB": 72,
    "name": "ml.c5.9xlarge",
    "vcpuNum": 36
   },
   {
    "_defaultOrder": 26,
    "_isFastLaunch": false,
    "category": "Compute optimized",
    "gpuNum": 0,
    "hideHardwareSpecs": false,
    "memoryGiB": 96,
    "name": "ml.c5.12xlarge",
    "vcpuNum": 48
   },
   {
    "_defaultOrder": 27,
    "_isFastLaunch": false,
    "category": "Compute optimized",
    "gpuNum": 0,
    "hideHardwareSpecs": false,
    "memoryGiB": 144,
    "name": "ml.c5.18xlarge",
    "vcpuNum": 72
   },
   {
    "_defaultOrder": 28,
    "_isFastLaunch": false,
    "category": "Compute optimized",
    "gpuNum": 0,
    "hideHardwareSpecs": false,
    "memoryGiB": 192,
    "name": "ml.c5.24xlarge",
    "vcpuNum": 96
   },
   {
    "_defaultOrder": 29,
    "_isFastLaunch": true,
    "category": "Accelerated computing",
    "gpuNum": 1,
    "hideHardwareSpecs": false,
    "memoryGiB": 16,
    "name": "ml.g4dn.xlarge",
    "vcpuNum": 4
   },
   {
    "_defaultOrder": 30,
    "_isFastLaunch": false,
    "category": "Accelerated computing",
    "gpuNum": 1,
    "hideHardwareSpecs": false,
    "memoryGiB": 32,
    "name": "ml.g4dn.2xlarge",
    "vcpuNum": 8
   },
   {
    "_defaultOrder": 31,
    "_isFastLaunch": false,
    "category": "Accelerated computing",
    "gpuNum": 1,
    "hideHardwareSpecs": false,
    "memoryGiB": 64,
    "name": "ml.g4dn.4xlarge",
    "vcpuNum": 16
   },
   {
    "_defaultOrder": 32,
    "_isFastLaunch": false,
    "category": "Accelerated computing",
    "gpuNum": 1,
    "hideHardwareSpecs": false,
    "memoryGiB": 128,
    "name": "ml.g4dn.8xlarge",
    "vcpuNum": 32
   },
   {
    "_defaultOrder": 33,
    "_isFastLaunch": false,
    "category": "Accelerated computing",
    "gpuNum": 4,
    "hideHardwareSpecs": false,
    "memoryGiB": 192,
    "name": "ml.g4dn.12xlarge",
    "vcpuNum": 48
   },
   {
    "_defaultOrder": 34,
    "_isFastLaunch": false,
    "category": "Accelerated computing",
    "gpuNum": 1,
    "hideHardwareSpecs": false,
    "memoryGiB": 256,
    "name": "ml.g4dn.16xlarge",
    "vcpuNum": 64
   },
   {
    "_defaultOrder": 35,
    "_isFastLaunch": false,
    "category": "Accelerated computing",
    "gpuNum": 1,
    "hideHardwareSpecs": false,
    "memoryGiB": 61,
    "name": "ml.p3.2xlarge",
    "vcpuNum": 8
   },
   {
    "_defaultOrder": 36,
    "_isFastLaunch": false,
    "category": "Accelerated computing",
    "gpuNum": 4,
    "hideHardwareSpecs": false,
    "memoryGiB": 244,
    "name": "ml.p3.8xlarge",
    "vcpuNum": 32
   },
   {
    "_defaultOrder": 37,
    "_isFastLaunch": false,
    "category": "Accelerated computing",
    "gpuNum": 8,
    "hideHardwareSpecs": false,
    "memoryGiB": 488,
    "name": "ml.p3.16xlarge",
    "vcpuNum": 64
   },
   {
    "_defaultOrder": 38,
    "_isFastLaunch": false,
    "category": "Accelerated computing",
    "gpuNum": 8,
    "hideHardwareSpecs": false,
    "memoryGiB": 768,
    "name": "ml.p3dn.24xlarge",
    "vcpuNum": 96
   },
   {
    "_defaultOrder": 39,
    "_isFastLaunch": false,
    "category": "Memory Optimized",
    "gpuNum": 0,
    "hideHardwareSpecs": false,
    "memoryGiB": 16,
    "name": "ml.r5.large",
    "vcpuNum": 2
   },
   {
    "_defaultOrder": 40,
    "_isFastLaunch": false,
    "category": "Memory Optimized",
    "gpuNum": 0,
    "hideHardwareSpecs": false,
    "memoryGiB": 32,
    "name": "ml.r5.xlarge",
    "vcpuNum": 4
   },
   {
    "_defaultOrder": 41,
    "_isFastLaunch": false,
    "category": "Memory Optimized",
    "gpuNum": 0,
    "hideHardwareSpecs": false,
    "memoryGiB": 64,
    "name": "ml.r5.2xlarge",
    "vcpuNum": 8
   },
   {
    "_defaultOrder": 42,
    "_isFastLaunch": false,
    "category": "Memory Optimized",
    "gpuNum": 0,
    "hideHardwareSpecs": false,
    "memoryGiB": 128,
    "name": "ml.r5.4xlarge",
    "vcpuNum": 16
   },
   {
    "_defaultOrder": 43,
    "_isFastLaunch": false,
    "category": "Memory Optimized",
    "gpuNum": 0,
    "hideHardwareSpecs": false,
    "memoryGiB": 256,
    "name": "ml.r5.8xlarge",
    "vcpuNum": 32
   },
   {
    "_defaultOrder": 44,
    "_isFastLaunch": false,
    "category": "Memory Optimized",
    "gpuNum": 0,
    "hideHardwareSpecs": false,
    "memoryGiB": 384,
    "name": "ml.r5.12xlarge",
    "vcpuNum": 48
   },
   {
    "_defaultOrder": 45,
    "_isFastLaunch": false,
    "category": "Memory Optimized",
    "gpuNum": 0,
    "hideHardwareSpecs": false,
    "memoryGiB": 512,
    "name": "ml.r5.16xlarge",
    "vcpuNum": 64
   },
   {
    "_defaultOrder": 46,
    "_isFastLaunch": false,
    "category": "Memory Optimized",
    "gpuNum": 0,
    "hideHardwareSpecs": false,
    "memoryGiB": 768,
    "name": "ml.r5.24xlarge",
    "vcpuNum": 96
   },
   {
    "_defaultOrder": 47,
    "_isFastLaunch": false,
    "category": "Accelerated computing",
    "gpuNum": 1,
    "hideHardwareSpecs": false,
    "memoryGiB": 16,
    "name": "ml.g5.xlarge",
    "vcpuNum": 4
   },
   {
    "_defaultOrder": 48,
    "_isFastLaunch": false,
    "category": "Accelerated computing",
    "gpuNum": 1,
    "hideHardwareSpecs": false,
    "memoryGiB": 32,
    "name": "ml.g5.2xlarge",
    "vcpuNum": 8
   },
   {
    "_defaultOrder": 49,
    "_isFastLaunch": false,
    "category": "Accelerated computing",
    "gpuNum": 1,
    "hideHardwareSpecs": false,
    "memoryGiB": 64,
    "name": "ml.g5.4xlarge",
    "vcpuNum": 16
   },
   {
    "_defaultOrder": 50,
    "_isFastLaunch": false,
    "category": "Accelerated computing",
    "gpuNum": 1,
    "hideHardwareSpecs": false,
    "memoryGiB": 128,
    "name": "ml.g5.8xlarge",
    "vcpuNum": 32
   },
   {
    "_defaultOrder": 51,
    "_isFastLaunch": false,
    "category": "Accelerated computing",
    "gpuNum": 1,
    "hideHardwareSpecs": false,
    "memoryGiB": 256,
    "name": "ml.g5.16xlarge",
    "vcpuNum": 64
   },
   {
    "_defaultOrder": 52,
    "_isFastLaunch": false,
    "category": "Accelerated computing",
    "gpuNum": 4,
    "hideHardwareSpecs": false,
    "memoryGiB": 192,
    "name": "ml.g5.12xlarge",
    "vcpuNum": 48
   },
   {
    "_defaultOrder": 53,
    "_isFastLaunch": false,
    "category": "Accelerated computing",
    "gpuNum": 4,
    "hideHardwareSpecs": false,
    "memoryGiB": 384,
    "name": "ml.g5.24xlarge",
    "vcpuNum": 96
   },
   {
    "_defaultOrder": 54,
    "_isFastLaunch": false,
    "category": "Accelerated computing",
    "gpuNum": 8,
    "hideHardwareSpecs": false,
    "memoryGiB": 768,
    "name": "ml.g5.48xlarge",
    "vcpuNum": 192
   },
   {
    "_defaultOrder": 55,
    "_isFastLaunch": false,
    "category": "Accelerated computing",
    "gpuNum": 8,
    "hideHardwareSpecs": false,
    "memoryGiB": 1152,
    "name": "ml.p4d.24xlarge",
    "vcpuNum": 96
   },
   {
    "_defaultOrder": 56,
    "_isFastLaunch": false,
    "category": "Accelerated computing",
    "gpuNum": 8,
    "hideHardwareSpecs": false,
    "memoryGiB": 1152,
    "name": "ml.p4de.24xlarge",
    "vcpuNum": 96
   },
   {
    "_defaultOrder": 57,
    "_isFastLaunch": false,
    "category": "Accelerated computing",
    "gpuNum": 0,
    "hideHardwareSpecs": false,
    "memoryGiB": 32,
    "name": "ml.trn1.2xlarge",
    "vcpuNum": 8
   },
   {
    "_defaultOrder": 58,
    "_isFastLaunch": false,
    "category": "Accelerated computing",
    "gpuNum": 0,
    "hideHardwareSpecs": false,
    "memoryGiB": 512,
    "name": "ml.trn1.32xlarge",
    "vcpuNum": 128
   },
   {
    "_defaultOrder": 59,
    "_isFastLaunch": false,
    "category": "Accelerated computing",
    "gpuNum": 0,
    "hideHardwareSpecs": false,
    "memoryGiB": 512,
    "name": "ml.trn1n.32xlarge",
    "vcpuNum": 128
   }
  ],
  "instance_type": "ml.t3.medium",
  "kernelspec": {
   "display_name": "Python 3 (Data Science 3.0)",
   "language": "python",
   "name": "python3__SAGEMAKER_INTERNAL__arn:aws:sagemaker:us-east-1:081325390199:image/sagemaker-data-science-310-v1"
  },
  "language_info": {
   "codemirror_mode": {
    "name": "ipython",
    "version": 3
   },
   "file_extension": ".py",
   "mimetype": "text/x-python",
   "name": "python",
   "nbconvert_exporter": "python",
   "pygments_lexer": "ipython3",
   "version": "3.10.6"
  }
 },
 "nbformat": 4,
 "nbformat_minor": 5
}
